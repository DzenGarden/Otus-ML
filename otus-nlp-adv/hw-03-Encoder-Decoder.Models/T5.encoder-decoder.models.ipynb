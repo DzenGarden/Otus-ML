{
 "cells": [
  {
   "cell_type": "markdown",
   "id": "05de521d",
   "metadata": {},
   "source": [
    "# Домашнее задание\n",
    "Дообучение энкодер-декодерных моделей\n",
    "\n",
    "**Цель:**\n",
    "\n",
    "В данном домашнем задании мы продолжаем работать с датасетами отзывов о ресторанах, но теперь вам предстоит сравнить различные энкодер-декодерные модели.\n",
    "\n",
    "**Описание / пошаговая инструкция выполнения домашнего задания:**\n",
    "\n",
    "\n",
    "1. **Разделение данных на train/val/test:**\n",
    "\n",
    "- В дополнительных материалах к уроку найдите датасет с отзывами о ресторанах (restaurants_reviews.jsonl).\n",
    "- Разбейте данные на train/val/test, отложив по 15% в test и val. Не забудьте зафиксировать random_state.\n",
    "- В качестве целевой переменной возьмите общий отзыв из колонки general.\n",
    "- Оставьте только отзывы с рейтингом general равным 1, 3 и 5. Для удобства перекодируйте лейблы 1, 3 и 5 в метки 0, 1, 2.\n",
    "\n",
    "2. **Дообучение энкодер-декодерных моделей:**\n",
    "- Возьмите модели:\n",
    "    - https://huggingface.co/ai-forever/ruT5-base или https://huggingface.co/ai-forever/ruT5-large\n",
    "    - https://huggingface.co/google/mt5-small или https://huggingface.co/google/mt5-base или https://huggingface.co/google/mt5-large\n",
    "- Каждую дообучите на train части данных. Обучение продолжайте до выхода модели на плато на валидации.\n",
    "- Возьмите итоговый чекпоинт (версию, с минимальным loss на валидации) и замерьте качество на test (в качестве метрики используйте accuracy).\n",
    "  \n",
    "3. **Анализ результатов:**\n",
    "\n",
    "- Составьте таблицу с результатами моделей, количеством эпох, которое обучается модель до достижения минимум на валидации, время, затрачиваемое на итерацию, и общее время дообучения.\n",
    "- Проведите анализ полученных результатов, опишите выводы в MarkDown.\n",
    "\n"
   ]
  },
  {
   "cell_type": "code",
   "execution_count": 3,
   "id": "663a8b13",
   "metadata": {},
   "outputs": [],
   "source": [
    "import gc, time\n",
    "import pandas as pd\n",
    "pd.options.display.max_colwidth = 300\n",
    "\n",
    "import numpy as np\n",
    "import torch\n",
    "from tqdm.auto import tqdm, trange\n",
    "\n",
    "from transformers import AutoTokenizer, AutoModelForSequenceClassification\n",
    "from transformers import DataCollatorWithPadding\n",
    "from torch.optim import Adam\n",
    "from torch.utils.data import DataLoader\n",
    "from datasets import Dataset, DatasetDict\n",
    "\n",
    "from sklearn.model_selection import train_test_split\n",
    "from sklearn.metrics import accuracy_score, confusion_matrix\n",
    "\n",
    "import matplotlib.pyplot as plt\n",
    "\n",
    "import warnings\n",
    "warnings.filterwarnings(\"ignore\")"
   ]
  },
  {
   "cell_type": "markdown",
   "id": "c9d0341a",
   "metadata": {},
   "source": [
    "## 1. Обработка данных\n",
    "\n",
    "В дополнительных материалах к уроку найдите датасет с отзывами о ресторанах (restaurants_reviews.jsonl)"
   ]
  },
  {
   "cell_type": "code",
   "execution_count": 5,
   "id": "8173dad5",
   "metadata": {},
   "outputs": [
    {
     "data": {
      "text/html": [
       "<div>\n",
       "<style scoped>\n",
       "    .dataframe tbody tr th:only-of-type {\n",
       "        vertical-align: middle;\n",
       "    }\n",
       "\n",
       "    .dataframe tbody tr th {\n",
       "        vertical-align: top;\n",
       "    }\n",
       "\n",
       "    .dataframe thead th {\n",
       "        text-align: right;\n",
       "    }\n",
       "</style>\n",
       "<table border=\"1\" class=\"dataframe\">\n",
       "  <thead>\n",
       "    <tr style=\"text-align: right;\">\n",
       "      <th></th>\n",
       "      <th>review_id</th>\n",
       "      <th>general</th>\n",
       "      <th>food</th>\n",
       "      <th>interior</th>\n",
       "      <th>service</th>\n",
       "      <th>text</th>\n",
       "    </tr>\n",
       "  </thead>\n",
       "  <tbody>\n",
       "    <tr>\n",
       "      <th>0</th>\n",
       "      <td>0</td>\n",
       "      <td>0</td>\n",
       "      <td>10</td>\n",
       "      <td>10</td>\n",
       "      <td>10</td>\n",
       "      <td>Вытянули меня сегодня в город и раз уж была в районе Садовой , решила заехать на тартар в Винсент .  Теперь могу спокойно жить дальше - отпустило )) Практически в дверях встречают улыбчивые девушки , интересуются наличием вредных привычек и провожают к столику .  Ну , сразу скажу , что мне очень...</td>\n",
       "    </tr>\n",
       "    <tr>\n",
       "      <th>1</th>\n",
       "      <td>1</td>\n",
       "      <td>0</td>\n",
       "      <td>9</td>\n",
       "      <td>10</td>\n",
       "      <td>9</td>\n",
       "      <td>проводили корпоратив на 60 чел. в этот - уже третий раз все было здорово , возможно организаторы объективно восприняли критику от 26.09.2011 ( читайте мой отзыв ) , а возможно и сами поняли что работать надо с душой , лицом к клиенту и поменялись ..... не знаю что произошло , но изменения в лучш...</td>\n",
       "    </tr>\n",
       "    <tr>\n",
       "      <th>2</th>\n",
       "      <td>2</td>\n",
       "      <td>0</td>\n",
       "      <td>9</td>\n",
       "      <td>10</td>\n",
       "      <td>10</td>\n",
       "      <td>Был в Гостях с женой один раз и еще раз с женой и другом .  Очень прикольный интерьер .  Официанты очень хорошо обслуживают .  Я бы даже сказал виртуозно , обслуживал нас молодой человек ( к сожалению не запомнил как его зовут ) , который буквально порхал с подносом и предугадывал наши вопросы и...</td>\n",
       "    </tr>\n",
       "    <tr>\n",
       "      <th>3</th>\n",
       "      <td>3</td>\n",
       "      <td>0</td>\n",
       "      <td>-</td>\n",
       "      <td>5</td>\n",
       "      <td>10</td>\n",
       "      <td>Бар понравился на первый взгляд .  Интерьер к достоинствам бара я не отнесу , но коктейли интересные , обслуживание доброжелательное , быстрое .  Цены средние : практически любой коктейль - 350р , набор из 4х шотов на основе джина ( например ) - 600р .  Есть безалкогольные напитки - домашние лим...</td>\n",
       "    </tr>\n",
       "    <tr>\n",
       "      <th>4</th>\n",
       "      <td>4</td>\n",
       "      <td>0</td>\n",
       "      <td>7</td>\n",
       "      <td>10</td>\n",
       "      <td>10</td>\n",
       "      <td>В « Bel Canto » мы отмечали юбилей моего отца .  К сожалению , я опоздал и не застал начало мероприятия .  Встретили очень хорошо вежливо и с улыбкой .  Сев за стол был приятно удивлен оформлением стола .  Официанты молодые люди ( парни ) , что бывает довольно редко .  Их было не видно и ни кто ...</td>\n",
       "    </tr>\n",
       "    <tr>\n",
       "      <th>...</th>\n",
       "      <td>...</td>\n",
       "      <td>...</td>\n",
       "      <td>...</td>\n",
       "      <td>...</td>\n",
       "      <td>...</td>\n",
       "      <td>...</td>\n",
       "    </tr>\n",
       "    <tr>\n",
       "      <th>47134</th>\n",
       "      <td>47134</td>\n",
       "      <td>0</td>\n",
       "      <td>0</td>\n",
       "      <td>0</td>\n",
       "      <td>0</td>\n",
       "      <td>Большое спасибо Ирине - за организацию , официантам - за оперативность , аккуратность и улыбчивость и поварам - за мастерство ( все гости отметили вкусно приготовленные блюда - начиная от канапе и заканчивая горячим ) .  Все было на высшем уровне .  Зал был оформлен очень красиво , отдельное спа...</td>\n",
       "    </tr>\n",
       "    <tr>\n",
       "      <th>47135</th>\n",
       "      <td>47135</td>\n",
       "      <td>0</td>\n",
       "      <td>0</td>\n",
       "      <td>0</td>\n",
       "      <td>0</td>\n",
       "      <td>В данном заведении мы частые гости и всегда советуем его своим знакомым и друзьям , т. к. в Райском дворике действительно красиво , уютно , а готовят ну просто великолепно . 11 мая 2012г . в 17-00 мы с мужем пришли отметить вдвоем его день рождения в данное заведение Райский дворик .  Обслуживал...</td>\n",
       "    </tr>\n",
       "    <tr>\n",
       "      <th>47136</th>\n",
       "      <td>47136</td>\n",
       "      <td>0</td>\n",
       "      <td>0</td>\n",
       "      <td>0</td>\n",
       "      <td>0</td>\n",
       "      <td>07/05/2012 Отмечали здесь свадьбу и остались очень довольны .  Нареканий нет ни к кухне , ни к персоналу , ни к интерьеру .  Огромное спасибо управляющей Нине Георгиевне , всему персоналу за организацию нашего праздника .  Помогли и советом ( при выборе меню , при рассадке гостей ) и делом , как...</td>\n",
       "    </tr>\n",
       "    <tr>\n",
       "      <th>47137</th>\n",
       "      <td>47137</td>\n",
       "      <td>0</td>\n",
       "      <td>0</td>\n",
       "      <td>0</td>\n",
       "      <td>0</td>\n",
       "      <td>Были проездом в Москве , заглянули с коллегой в Колбасофф на Павелецкой .  Заказали нефильтрованного темного и подкопченные мюнхенские колбаски .  От последних аппетитно пахло живым костром .  Короче , нам понравилось !</td>\n",
       "    </tr>\n",
       "    <tr>\n",
       "      <th>47138</th>\n",
       "      <td>47138</td>\n",
       "      <td>0</td>\n",
       "      <td>0</td>\n",
       "      <td>0</td>\n",
       "      <td>0</td>\n",
       "      <td>Приходили в Кампус всей семьей на семейный ужин - живем в этом же районе .  Очень остались довольны обслуживанием , ужином - кухня просто пальчики оближешь , атмосферой - настроение задавали танцующие девочки .  Теперь мы там частые гости .  Советую !</td>\n",
       "    </tr>\n",
       "  </tbody>\n",
       "</table>\n",
       "<p>47139 rows × 6 columns</p>\n",
       "</div>"
      ],
      "text/plain": [
       "       review_id  general food interior service  \\\n",
       "0              0        0   10       10      10   \n",
       "1              1        0    9       10       9   \n",
       "2              2        0    9       10      10   \n",
       "3              3        0    -        5      10   \n",
       "4              4        0    7       10      10   \n",
       "...          ...      ...  ...      ...     ...   \n",
       "47134      47134        0    0        0       0   \n",
       "47135      47135        0    0        0       0   \n",
       "47136      47136        0    0        0       0   \n",
       "47137      47137        0    0        0       0   \n",
       "47138      47138        0    0        0       0   \n",
       "\n",
       "                                                                                                                                                                                                                                                                                                              text  \n",
       "0      Вытянули меня сегодня в город и раз уж была в районе Садовой , решила заехать на тартар в Винсент .  Теперь могу спокойно жить дальше - отпустило )) Практически в дверях встречают улыбчивые девушки , интересуются наличием вредных привычек и провожают к столику .  Ну , сразу скажу , что мне очень...  \n",
       "1      проводили корпоратив на 60 чел. в этот - уже третий раз все было здорово , возможно организаторы объективно восприняли критику от 26.09.2011 ( читайте мой отзыв ) , а возможно и сами поняли что работать надо с душой , лицом к клиенту и поменялись ..... не знаю что произошло , но изменения в лучш...  \n",
       "2      Был в Гостях с женой один раз и еще раз с женой и другом .  Очень прикольный интерьер .  Официанты очень хорошо обслуживают .  Я бы даже сказал виртуозно , обслуживал нас молодой человек ( к сожалению не запомнил как его зовут ) , который буквально порхал с подносом и предугадывал наши вопросы и...  \n",
       "3      Бар понравился на первый взгляд .  Интерьер к достоинствам бара я не отнесу , но коктейли интересные , обслуживание доброжелательное , быстрое .  Цены средние : практически любой коктейль - 350р , набор из 4х шотов на основе джина ( например ) - 600р .  Есть безалкогольные напитки - домашние лим...  \n",
       "4      В « Bel Canto » мы отмечали юбилей моего отца .  К сожалению , я опоздал и не застал начало мероприятия .  Встретили очень хорошо вежливо и с улыбкой .  Сев за стол был приятно удивлен оформлением стола .  Официанты молодые люди ( парни ) , что бывает довольно редко .  Их было не видно и ни кто ...  \n",
       "...                                                                                                                                                                                                                                                                                                            ...  \n",
       "47134  Большое спасибо Ирине - за организацию , официантам - за оперативность , аккуратность и улыбчивость и поварам - за мастерство ( все гости отметили вкусно приготовленные блюда - начиная от канапе и заканчивая горячим ) .  Все было на высшем уровне .  Зал был оформлен очень красиво , отдельное спа...  \n",
       "47135  В данном заведении мы частые гости и всегда советуем его своим знакомым и друзьям , т. к. в Райском дворике действительно красиво , уютно , а готовят ну просто великолепно . 11 мая 2012г . в 17-00 мы с мужем пришли отметить вдвоем его день рождения в данное заведение Райский дворик .  Обслуживал...  \n",
       "47136  07/05/2012 Отмечали здесь свадьбу и остались очень довольны .  Нареканий нет ни к кухне , ни к персоналу , ни к интерьеру .  Огромное спасибо управляющей Нине Георгиевне , всему персоналу за организацию нашего праздника .  Помогли и советом ( при выборе меню , при рассадке гостей ) и делом , как...  \n",
       "47137                                                                                Были проездом в Москве , заглянули с коллегой в Колбасофф на Павелецкой .  Заказали нефильтрованного темного и подкопченные мюнхенские колбаски .  От последних аппетитно пахло живым костром .  Короче , нам понравилось !    \n",
       "47138                                                Приходили в Кампус всей семьей на семейный ужин - живем в этом же районе .  Очень остались довольны обслуживанием , ужином - кухня просто пальчики оближешь , атмосферой - настроение задавали танцующие девочки .  Теперь мы там частые гости .  Советую !    \n",
       "\n",
       "[47139 rows x 6 columns]"
      ]
     },
     "execution_count": 5,
     "metadata": {},
     "output_type": "execute_result"
    }
   ],
   "source": [
    "df = pd.read_json('./data/restaurants_reviews.jsonl', lines=True)\n",
    "df"
   ]
  },
  {
   "cell_type": "markdown",
   "id": "ef3783ab",
   "metadata": {},
   "source": [
    "Оставьте только отзывы с рейтингом general равным 1, 3 и 5."
   ]
  },
  {
   "cell_type": "code",
   "execution_count": 7,
   "id": "9f2e13e7",
   "metadata": {},
   "outputs": [
    {
     "data": {
      "text/plain": [
       "general\n",
       "5    2164\n",
       "1     462\n",
       "3     150\n",
       "Name: count, dtype: int64"
      ]
     },
     "execution_count": 7,
     "metadata": {},
     "output_type": "execute_result"
    }
   ],
   "source": [
    "df[df['general'].isin([1,3,5])]['general'].value_counts()"
   ]
  },
  {
   "cell_type": "code",
   "execution_count": 8,
   "id": "bf4d0e3c",
   "metadata": {},
   "outputs": [
    {
     "data": {
      "text/plain": [
       "2776"
      ]
     },
     "execution_count": 8,
     "metadata": {},
     "output_type": "execute_result"
    }
   ],
   "source": [
    "df[df['general'].isin([1,3,5])]['general'].value_counts().sum()"
   ]
  },
  {
   "cell_type": "code",
   "execution_count": 9,
   "id": "e733fac2",
   "metadata": {},
   "outputs": [
    {
     "data": {
      "text/plain": [
       "general\n",
       "5    2164\n",
       "1     462\n",
       "3     150\n",
       "Name: count, dtype: int64"
      ]
     },
     "execution_count": 9,
     "metadata": {},
     "output_type": "execute_result"
    }
   ],
   "source": [
    "df = df[df['general'].isin([1,3,5])]\n",
    "df['general'].value_counts()"
   ]
  },
  {
   "cell_type": "markdown",
   "id": "11ed904e",
   "metadata": {},
   "source": [
    "Для удобства перекодируйте лейблы 1, 3 и 5 в метки 0, 1, 2."
   ]
  },
  {
   "cell_type": "code",
   "execution_count": 11,
   "id": "31c79b53",
   "metadata": {},
   "outputs": [],
   "source": [
    "dict_map = {1:0, 3:1, 5:2}\n",
    "df['general'] = df['general'].map(dict_map)"
   ]
  },
  {
   "cell_type": "code",
   "execution_count": 12,
   "id": "bdd410ed",
   "metadata": {},
   "outputs": [
    {
     "data": {
      "text/plain": [
       "general\n",
       "2    2164\n",
       "0     462\n",
       "1     150\n",
       "Name: count, dtype: int64"
      ]
     },
     "execution_count": 12,
     "metadata": {},
     "output_type": "execute_result"
    }
   ],
   "source": [
    "df['general'].value_counts()"
   ]
  },
  {
   "cell_type": "code",
   "execution_count": 13,
   "id": "c6207ff1",
   "metadata": {},
   "outputs": [
    {
     "data": {
      "text/plain": [
       "2776"
      ]
     },
     "execution_count": 13,
     "metadata": {},
     "output_type": "execute_result"
    }
   ],
   "source": [
    "df['general'].value_counts().sum()"
   ]
  },
  {
   "cell_type": "markdown",
   "id": "f38f57d4",
   "metadata": {},
   "source": [
    "Разбейте данные на train/val/test, отложив по 15% в test и val. Не забудьте зафиксировать random_state. В качестве целевой переменной возьмите общий отзыв из колонки general."
   ]
  },
  {
   "cell_type": "code",
   "execution_count": 15,
   "id": "9c6e366e",
   "metadata": {},
   "outputs": [
    {
     "data": {
      "text/plain": [
       "Dataset({\n",
       "    features: ['text', 'label'],\n",
       "    num_rows: 2776\n",
       "})"
      ]
     },
     "execution_count": 15,
     "metadata": {},
     "output_type": "execute_result"
    }
   ],
   "source": [
    "dataset_full = Dataset.from_dict({'text': df.text, 'label': df.general})\n",
    "dataset_full"
   ]
  },
  {
   "cell_type": "code",
   "execution_count": 16,
   "id": "27672b02",
   "metadata": {},
   "outputs": [],
   "source": [
    "# Split dataset into train and test\n",
    "train_test_split = dataset_full.train_test_split(test_size=0.15)  ## 15% for test dataset\n",
    "train_split = train_test_split[\"train\"]\n",
    "test_dataset = train_test_split[\"test\"]"
   ]
  },
  {
   "cell_type": "code",
   "execution_count": 17,
   "id": "4cf04605",
   "metadata": {},
   "outputs": [],
   "source": [
    "# Split the training dataset further into train and validation\n",
    "train_val_split = train_split.train_test_split(test_size=0.176) # val/(1-test) ~ 0.176 of the train_dataset is 0.15 of the original dataset\n",
    "train_dataset = train_val_split[\"train\"]\n",
    "val_dataset = train_val_split[\"test\"]"
   ]
  },
  {
   "cell_type": "code",
   "execution_count": 18,
   "id": "ee3cca5b",
   "metadata": {},
   "outputs": [
    {
     "data": {
      "text/plain": [
       "(Dataset({\n",
       "     features: ['text', 'label'],\n",
       "     num_rows: 1943\n",
       " }),\n",
       " Dataset({\n",
       "     features: ['text', 'label'],\n",
       "     num_rows: 416\n",
       " }),\n",
       " Dataset({\n",
       "     features: ['text', 'label'],\n",
       "     num_rows: 417\n",
       " }))"
      ]
     },
     "execution_count": 18,
     "metadata": {},
     "output_type": "execute_result"
    }
   ],
   "source": [
    "# Now we've splitted dataset into train/val/test parts in 70/15/15 proportion from the original one\n",
    "train_dataset, val_dataset, test_dataset"
   ]
  },
  {
   "cell_type": "code",
   "execution_count": 19,
   "id": "d363eb22",
   "metadata": {},
   "outputs": [
    {
     "data": {
      "text/plain": [
       "DatasetDict({\n",
       "    train: Dataset({\n",
       "        features: ['text', 'label'],\n",
       "        num_rows: 1943\n",
       "    })\n",
       "    validation: Dataset({\n",
       "        features: ['text', 'label'],\n",
       "        num_rows: 416\n",
       "    })\n",
       "    test: Dataset({\n",
       "        features: ['text', 'label'],\n",
       "        num_rows: 417\n",
       "    })\n",
       "})"
      ]
     },
     "execution_count": 19,
     "metadata": {},
     "output_type": "execute_result"
    }
   ],
   "source": [
    "# Create a single DatasetDict for easy access\n",
    "data = DatasetDict({\n",
    "    \"train\": train_dataset,\n",
    "    \"validation\": val_dataset,\n",
    "    \"test\": test_dataset,\n",
    "})\n",
    "\n",
    "data"
   ]
  },
  {
   "cell_type": "code",
   "execution_count": 20,
   "id": "7dfc28ef",
   "metadata": {},
   "outputs": [],
   "source": [
    "## Clearing memory from temporary datasets\n",
    "del dataset_full, train_test_split, train_split, train_val_split, train_dataset, val_dataset, test_dataset"
   ]
  },
  {
   "cell_type": "code",
   "execution_count": 21,
   "id": "9773bf64",
   "metadata": {},
   "outputs": [
    {
     "data": {
      "text/plain": [
       "{'text': 'безумно вкусная кухня , лучший том-ям где я пробовал !!! спасибо огромное за приятную атмосферу и полный желудок ))  ',\n",
       " 'label': 2}"
      ]
     },
     "execution_count": 21,
     "metadata": {},
     "output_type": "execute_result"
    }
   ],
   "source": [
    "data['train'][8]"
   ]
  },
  {
   "cell_type": "markdown",
   "id": "b4c05f87",
   "metadata": {},
   "source": [
    "## 2. Дообучение энкодер-декодерных моделей\n",
    "- Возьмите модели:\n",
    "    - https://huggingface.co/ai-forever/ruT5-base или https://huggingface.co/ai-forever/ruT5-large\n",
    "    - https://huggingface.co/google/mt5-small или https://huggingface.co/google/mt5-base ил https://huggingface.co/google/mt5-large"
   ]
  },
  {
   "cell_type": "markdown",
   "id": "27706f81",
   "metadata": {},
   "source": [
    "## 2.1 ruT5-base"
   ]
  },
  {
   "cell_type": "code",
   "execution_count": 24,
   "id": "45352532",
   "metadata": {},
   "outputs": [],
   "source": [
    "base_model = 'ai-forever/ruT5-base'"
   ]
  },
  {
   "cell_type": "code",
   "execution_count": 25,
   "id": "6d71609a",
   "metadata": {
    "scrolled": true
   },
   "outputs": [
    {
     "name": "stderr",
     "output_type": "stream",
     "text": [
      "You are using the default legacy behaviour of the <class 'transformers.models.t5.tokenization_t5.T5Tokenizer'>. This is expected, and simply means that the `legacy` (previous) behavior will be used so nothing changes for you. If you want to use the new behaviour, set `legacy=False`. This should only be set if you understand what it means, and thoroughly read the reason why this was added as explained in https://github.com/huggingface/transformers/pull/24565\n"
     ]
    },
    {
     "data": {
      "text/plain": [
       "T5TokenizerFast(name_or_path='ai-forever/ruT5-base', vocab_size=32100, model_max_length=1000000000000000019884624838656, is_fast=True, padding_side='right', truncation_side='right', special_tokens={'eos_token': '</s>', 'unk_token': '<unk>', 'pad_token': '<pad>', 'additional_special_tokens': ['<extra_id_0>', '<extra_id_1>', '<extra_id_2>', '<extra_id_3>', '<extra_id_4>', '<extra_id_5>', '<extra_id_6>', '<extra_id_7>', '<extra_id_8>', '<extra_id_9>', '<extra_id_10>', '<extra_id_11>', '<extra_id_12>', '<extra_id_13>', '<extra_id_14>', '<extra_id_15>', '<extra_id_16>', '<extra_id_17>', '<extra_id_18>', '<extra_id_19>', '<extra_id_20>', '<extra_id_21>', '<extra_id_22>', '<extra_id_23>', '<extra_id_24>', '<extra_id_25>', '<extra_id_26>', '<extra_id_27>', '<extra_id_28>', '<extra_id_29>', '<extra_id_30>', '<extra_id_31>', '<extra_id_32>', '<extra_id_33>', '<extra_id_34>', '<extra_id_35>', '<extra_id_36>', '<extra_id_37>', '<extra_id_38>', '<extra_id_39>', '<extra_id_40>', '<extra_id_41>', '<extra_id_42>', '<extra_id_43>', '<extra_id_44>', '<extra_id_45>', '<extra_id_46>', '<extra_id_47>', '<extra_id_48>', '<extra_id_49>', '<extra_id_50>', '<extra_id_51>', '<extra_id_52>', '<extra_id_53>', '<extra_id_54>', '<extra_id_55>', '<extra_id_56>', '<extra_id_57>', '<extra_id_58>', '<extra_id_59>', '<extra_id_60>', '<extra_id_61>', '<extra_id_62>', '<extra_id_63>', '<extra_id_64>', '<extra_id_65>', '<extra_id_66>', '<extra_id_67>', '<extra_id_68>', '<extra_id_69>', '<extra_id_70>', '<extra_id_71>', '<extra_id_72>', '<extra_id_73>', '<extra_id_74>', '<extra_id_75>', '<extra_id_76>', '<extra_id_77>', '<extra_id_78>', '<extra_id_79>', '<extra_id_80>', '<extra_id_81>', '<extra_id_82>', '<extra_id_83>', '<extra_id_84>', '<extra_id_85>', '<extra_id_86>', '<extra_id_87>', '<extra_id_88>', '<extra_id_89>', '<extra_id_90>', '<extra_id_91>', '<extra_id_92>', '<extra_id_93>', '<extra_id_94>', '<extra_id_95>', '<extra_id_96>', '<extra_id_97>', '<extra_id_98>', '<extra_id_99>']}, clean_up_tokenization_spaces=False, added_tokens_decoder={\n",
       "\t0: AddedToken(\"<pad>\", rstrip=False, lstrip=False, single_word=False, normalized=False, special=True),\n",
       "\t1: AddedToken(\"<unk>\", rstrip=False, lstrip=False, single_word=False, normalized=False, special=True),\n",
       "\t2: AddedToken(\"</s>\", rstrip=False, lstrip=False, single_word=False, normalized=False, special=True),\n",
       "\t32000: AddedToken(\"<extra_id_99>\", rstrip=True, lstrip=True, single_word=True, normalized=False, special=True),\n",
       "\t32001: AddedToken(\"<extra_id_98>\", rstrip=True, lstrip=True, single_word=True, normalized=False, special=True),\n",
       "\t32002: AddedToken(\"<extra_id_97>\", rstrip=True, lstrip=True, single_word=True, normalized=False, special=True),\n",
       "\t32003: AddedToken(\"<extra_id_96>\", rstrip=True, lstrip=True, single_word=True, normalized=False, special=True),\n",
       "\t32004: AddedToken(\"<extra_id_95>\", rstrip=True, lstrip=True, single_word=True, normalized=False, special=True),\n",
       "\t32005: AddedToken(\"<extra_id_94>\", rstrip=True, lstrip=True, single_word=True, normalized=False, special=True),\n",
       "\t32006: AddedToken(\"<extra_id_93>\", rstrip=True, lstrip=True, single_word=True, normalized=False, special=True),\n",
       "\t32007: AddedToken(\"<extra_id_92>\", rstrip=True, lstrip=True, single_word=True, normalized=False, special=True),\n",
       "\t32008: AddedToken(\"<extra_id_91>\", rstrip=True, lstrip=True, single_word=True, normalized=False, special=True),\n",
       "\t32009: AddedToken(\"<extra_id_90>\", rstrip=True, lstrip=True, single_word=True, normalized=False, special=True),\n",
       "\t32010: AddedToken(\"<extra_id_89>\", rstrip=True, lstrip=True, single_word=True, normalized=False, special=True),\n",
       "\t32011: AddedToken(\"<extra_id_88>\", rstrip=True, lstrip=True, single_word=True, normalized=False, special=True),\n",
       "\t32012: AddedToken(\"<extra_id_87>\", rstrip=True, lstrip=True, single_word=True, normalized=False, special=True),\n",
       "\t32013: AddedToken(\"<extra_id_86>\", rstrip=True, lstrip=True, single_word=True, normalized=False, special=True),\n",
       "\t32014: AddedToken(\"<extra_id_85>\", rstrip=True, lstrip=True, single_word=True, normalized=False, special=True),\n",
       "\t32015: AddedToken(\"<extra_id_84>\", rstrip=True, lstrip=True, single_word=True, normalized=False, special=True),\n",
       "\t32016: AddedToken(\"<extra_id_83>\", rstrip=True, lstrip=True, single_word=True, normalized=False, special=True),\n",
       "\t32017: AddedToken(\"<extra_id_82>\", rstrip=True, lstrip=True, single_word=True, normalized=False, special=True),\n",
       "\t32018: AddedToken(\"<extra_id_81>\", rstrip=True, lstrip=True, single_word=True, normalized=False, special=True),\n",
       "\t32019: AddedToken(\"<extra_id_80>\", rstrip=True, lstrip=True, single_word=True, normalized=False, special=True),\n",
       "\t32020: AddedToken(\"<extra_id_79>\", rstrip=True, lstrip=True, single_word=True, normalized=False, special=True),\n",
       "\t32021: AddedToken(\"<extra_id_78>\", rstrip=True, lstrip=True, single_word=True, normalized=False, special=True),\n",
       "\t32022: AddedToken(\"<extra_id_77>\", rstrip=True, lstrip=True, single_word=True, normalized=False, special=True),\n",
       "\t32023: AddedToken(\"<extra_id_76>\", rstrip=True, lstrip=True, single_word=True, normalized=False, special=True),\n",
       "\t32024: AddedToken(\"<extra_id_75>\", rstrip=True, lstrip=True, single_word=True, normalized=False, special=True),\n",
       "\t32025: AddedToken(\"<extra_id_74>\", rstrip=True, lstrip=True, single_word=True, normalized=False, special=True),\n",
       "\t32026: AddedToken(\"<extra_id_73>\", rstrip=True, lstrip=True, single_word=True, normalized=False, special=True),\n",
       "\t32027: AddedToken(\"<extra_id_72>\", rstrip=True, lstrip=True, single_word=True, normalized=False, special=True),\n",
       "\t32028: AddedToken(\"<extra_id_71>\", rstrip=True, lstrip=True, single_word=True, normalized=False, special=True),\n",
       "\t32029: AddedToken(\"<extra_id_70>\", rstrip=True, lstrip=True, single_word=True, normalized=False, special=True),\n",
       "\t32030: AddedToken(\"<extra_id_69>\", rstrip=True, lstrip=True, single_word=True, normalized=False, special=True),\n",
       "\t32031: AddedToken(\"<extra_id_68>\", rstrip=True, lstrip=True, single_word=True, normalized=False, special=True),\n",
       "\t32032: AddedToken(\"<extra_id_67>\", rstrip=True, lstrip=True, single_word=True, normalized=False, special=True),\n",
       "\t32033: AddedToken(\"<extra_id_66>\", rstrip=True, lstrip=True, single_word=True, normalized=False, special=True),\n",
       "\t32034: AddedToken(\"<extra_id_65>\", rstrip=True, lstrip=True, single_word=True, normalized=False, special=True),\n",
       "\t32035: AddedToken(\"<extra_id_64>\", rstrip=True, lstrip=True, single_word=True, normalized=False, special=True),\n",
       "\t32036: AddedToken(\"<extra_id_63>\", rstrip=True, lstrip=True, single_word=True, normalized=False, special=True),\n",
       "\t32037: AddedToken(\"<extra_id_62>\", rstrip=True, lstrip=True, single_word=True, normalized=False, special=True),\n",
       "\t32038: AddedToken(\"<extra_id_61>\", rstrip=True, lstrip=True, single_word=True, normalized=False, special=True),\n",
       "\t32039: AddedToken(\"<extra_id_60>\", rstrip=True, lstrip=True, single_word=True, normalized=False, special=True),\n",
       "\t32040: AddedToken(\"<extra_id_59>\", rstrip=True, lstrip=True, single_word=True, normalized=False, special=True),\n",
       "\t32041: AddedToken(\"<extra_id_58>\", rstrip=True, lstrip=True, single_word=True, normalized=False, special=True),\n",
       "\t32042: AddedToken(\"<extra_id_57>\", rstrip=True, lstrip=True, single_word=True, normalized=False, special=True),\n",
       "\t32043: AddedToken(\"<extra_id_56>\", rstrip=True, lstrip=True, single_word=True, normalized=False, special=True),\n",
       "\t32044: AddedToken(\"<extra_id_55>\", rstrip=True, lstrip=True, single_word=True, normalized=False, special=True),\n",
       "\t32045: AddedToken(\"<extra_id_54>\", rstrip=True, lstrip=True, single_word=True, normalized=False, special=True),\n",
       "\t32046: AddedToken(\"<extra_id_53>\", rstrip=True, lstrip=True, single_word=True, normalized=False, special=True),\n",
       "\t32047: AddedToken(\"<extra_id_52>\", rstrip=True, lstrip=True, single_word=True, normalized=False, special=True),\n",
       "\t32048: AddedToken(\"<extra_id_51>\", rstrip=True, lstrip=True, single_word=True, normalized=False, special=True),\n",
       "\t32049: AddedToken(\"<extra_id_50>\", rstrip=True, lstrip=True, single_word=True, normalized=False, special=True),\n",
       "\t32050: AddedToken(\"<extra_id_49>\", rstrip=True, lstrip=True, single_word=True, normalized=False, special=True),\n",
       "\t32051: AddedToken(\"<extra_id_48>\", rstrip=True, lstrip=True, single_word=True, normalized=False, special=True),\n",
       "\t32052: AddedToken(\"<extra_id_47>\", rstrip=True, lstrip=True, single_word=True, normalized=False, special=True),\n",
       "\t32053: AddedToken(\"<extra_id_46>\", rstrip=True, lstrip=True, single_word=True, normalized=False, special=True),\n",
       "\t32054: AddedToken(\"<extra_id_45>\", rstrip=True, lstrip=True, single_word=True, normalized=False, special=True),\n",
       "\t32055: AddedToken(\"<extra_id_44>\", rstrip=True, lstrip=True, single_word=True, normalized=False, special=True),\n",
       "\t32056: AddedToken(\"<extra_id_43>\", rstrip=True, lstrip=True, single_word=True, normalized=False, special=True),\n",
       "\t32057: AddedToken(\"<extra_id_42>\", rstrip=True, lstrip=True, single_word=True, normalized=False, special=True),\n",
       "\t32058: AddedToken(\"<extra_id_41>\", rstrip=True, lstrip=True, single_word=True, normalized=False, special=True),\n",
       "\t32059: AddedToken(\"<extra_id_40>\", rstrip=True, lstrip=True, single_word=True, normalized=False, special=True),\n",
       "\t32060: AddedToken(\"<extra_id_39>\", rstrip=True, lstrip=True, single_word=True, normalized=False, special=True),\n",
       "\t32061: AddedToken(\"<extra_id_38>\", rstrip=True, lstrip=True, single_word=True, normalized=False, special=True),\n",
       "\t32062: AddedToken(\"<extra_id_37>\", rstrip=True, lstrip=True, single_word=True, normalized=False, special=True),\n",
       "\t32063: AddedToken(\"<extra_id_36>\", rstrip=True, lstrip=True, single_word=True, normalized=False, special=True),\n",
       "\t32064: AddedToken(\"<extra_id_35>\", rstrip=True, lstrip=True, single_word=True, normalized=False, special=True),\n",
       "\t32065: AddedToken(\"<extra_id_34>\", rstrip=True, lstrip=True, single_word=True, normalized=False, special=True),\n",
       "\t32066: AddedToken(\"<extra_id_33>\", rstrip=True, lstrip=True, single_word=True, normalized=False, special=True),\n",
       "\t32067: AddedToken(\"<extra_id_32>\", rstrip=True, lstrip=True, single_word=True, normalized=False, special=True),\n",
       "\t32068: AddedToken(\"<extra_id_31>\", rstrip=True, lstrip=True, single_word=True, normalized=False, special=True),\n",
       "\t32069: AddedToken(\"<extra_id_30>\", rstrip=True, lstrip=True, single_word=True, normalized=False, special=True),\n",
       "\t32070: AddedToken(\"<extra_id_29>\", rstrip=True, lstrip=True, single_word=True, normalized=False, special=True),\n",
       "\t32071: AddedToken(\"<extra_id_28>\", rstrip=True, lstrip=True, single_word=True, normalized=False, special=True),\n",
       "\t32072: AddedToken(\"<extra_id_27>\", rstrip=True, lstrip=True, single_word=True, normalized=False, special=True),\n",
       "\t32073: AddedToken(\"<extra_id_26>\", rstrip=True, lstrip=True, single_word=True, normalized=False, special=True),\n",
       "\t32074: AddedToken(\"<extra_id_25>\", rstrip=True, lstrip=True, single_word=True, normalized=False, special=True),\n",
       "\t32075: AddedToken(\"<extra_id_24>\", rstrip=True, lstrip=True, single_word=True, normalized=False, special=True),\n",
       "\t32076: AddedToken(\"<extra_id_23>\", rstrip=True, lstrip=True, single_word=True, normalized=False, special=True),\n",
       "\t32077: AddedToken(\"<extra_id_22>\", rstrip=True, lstrip=True, single_word=True, normalized=False, special=True),\n",
       "\t32078: AddedToken(\"<extra_id_21>\", rstrip=True, lstrip=True, single_word=True, normalized=False, special=True),\n",
       "\t32079: AddedToken(\"<extra_id_20>\", rstrip=True, lstrip=True, single_word=True, normalized=False, special=True),\n",
       "\t32080: AddedToken(\"<extra_id_19>\", rstrip=True, lstrip=True, single_word=True, normalized=False, special=True),\n",
       "\t32081: AddedToken(\"<extra_id_18>\", rstrip=True, lstrip=True, single_word=True, normalized=False, special=True),\n",
       "\t32082: AddedToken(\"<extra_id_17>\", rstrip=True, lstrip=True, single_word=True, normalized=False, special=True),\n",
       "\t32083: AddedToken(\"<extra_id_16>\", rstrip=True, lstrip=True, single_word=True, normalized=False, special=True),\n",
       "\t32084: AddedToken(\"<extra_id_15>\", rstrip=True, lstrip=True, single_word=True, normalized=False, special=True),\n",
       "\t32085: AddedToken(\"<extra_id_14>\", rstrip=True, lstrip=True, single_word=True, normalized=False, special=True),\n",
       "\t32086: AddedToken(\"<extra_id_13>\", rstrip=True, lstrip=True, single_word=True, normalized=False, special=True),\n",
       "\t32087: AddedToken(\"<extra_id_12>\", rstrip=True, lstrip=True, single_word=True, normalized=False, special=True),\n",
       "\t32088: AddedToken(\"<extra_id_11>\", rstrip=True, lstrip=True, single_word=True, normalized=False, special=True),\n",
       "\t32089: AddedToken(\"<extra_id_10>\", rstrip=True, lstrip=True, single_word=True, normalized=False, special=True),\n",
       "\t32090: AddedToken(\"<extra_id_9>\", rstrip=True, lstrip=True, single_word=True, normalized=False, special=True),\n",
       "\t32091: AddedToken(\"<extra_id_8>\", rstrip=True, lstrip=True, single_word=True, normalized=False, special=True),\n",
       "\t32092: AddedToken(\"<extra_id_7>\", rstrip=True, lstrip=True, single_word=True, normalized=False, special=True),\n",
       "\t32093: AddedToken(\"<extra_id_6>\", rstrip=True, lstrip=True, single_word=True, normalized=False, special=True),\n",
       "\t32094: AddedToken(\"<extra_id_5>\", rstrip=True, lstrip=True, single_word=True, normalized=False, special=True),\n",
       "\t32095: AddedToken(\"<extra_id_4>\", rstrip=True, lstrip=True, single_word=True, normalized=False, special=True),\n",
       "\t32096: AddedToken(\"<extra_id_3>\", rstrip=True, lstrip=True, single_word=True, normalized=False, special=True),\n",
       "\t32097: AddedToken(\"<extra_id_2>\", rstrip=True, lstrip=True, single_word=True, normalized=False, special=True),\n",
       "\t32098: AddedToken(\"<extra_id_1>\", rstrip=True, lstrip=True, single_word=True, normalized=False, special=True),\n",
       "\t32099: AddedToken(\"<extra_id_0>\", rstrip=True, lstrip=True, single_word=True, normalized=False, special=True),\n",
       "}\n",
       ")"
      ]
     },
     "execution_count": 25,
     "metadata": {},
     "output_type": "execute_result"
    }
   ],
   "source": [
    "tokenizer = AutoTokenizer.from_pretrained(base_model)\n",
    "tokenizer"
   ]
  },
  {
   "cell_type": "code",
   "execution_count": 26,
   "id": "ab54cdc2",
   "metadata": {},
   "outputs": [
    {
     "data": {
      "application/vnd.jupyter.widget-view+json": {
       "model_id": "1d0824437e584218acf871170aa4d7ea",
       "version_major": 2,
       "version_minor": 0
      },
      "text/plain": [
       "Map:   0%|          | 0/1943 [00:00<?, ? examples/s]"
      ]
     },
     "metadata": {},
     "output_type": "display_data"
    },
    {
     "data": {
      "application/vnd.jupyter.widget-view+json": {
       "model_id": "70a780eafd8647c688f8c42874d3f325",
       "version_major": 2,
       "version_minor": 0
      },
      "text/plain": [
       "Map:   0%|          | 0/416 [00:00<?, ? examples/s]"
      ]
     },
     "metadata": {},
     "output_type": "display_data"
    },
    {
     "data": {
      "application/vnd.jupyter.widget-view+json": {
       "model_id": "24fe16163ddd40a59a366bd8554b46da",
       "version_major": 2,
       "version_minor": 0
      },
      "text/plain": [
       "Map:   0%|          | 0/417 [00:00<?, ? examples/s]"
      ]
     },
     "metadata": {},
     "output_type": "display_data"
    },
    {
     "data": {
      "text/plain": [
       "DatasetDict({\n",
       "    train: Dataset({\n",
       "        features: ['label', 'input_ids', 'attention_mask'],\n",
       "        num_rows: 1943\n",
       "    })\n",
       "    validation: Dataset({\n",
       "        features: ['label', 'input_ids', 'attention_mask'],\n",
       "        num_rows: 416\n",
       "    })\n",
       "    test: Dataset({\n",
       "        features: ['label', 'input_ids', 'attention_mask'],\n",
       "        num_rows: 417\n",
       "    })\n",
       "})"
      ]
     },
     "execution_count": 26,
     "metadata": {},
     "output_type": "execute_result"
    }
   ],
   "source": [
    "data_tokenized = data.map(lambda x: tokenizer(x['text'], truncation=True, max_length=512), batched=True, remove_columns=['text'])\n",
    "data_tokenized"
   ]
  },
  {
   "cell_type": "code",
   "execution_count": 27,
   "id": "79806fba",
   "metadata": {},
   "outputs": [
    {
     "name": "stdout",
     "output_type": "stream",
     "text": [
      "{'label': 2, 'input_ids': [2014, 1927, 108, 23215, 6, 554, 9418, 21, 15755, 1620, 8, 4, 1794, 8, 4, 939, 1313, 987, 2228, 6, 3074, 21, 612, 6, 2352, 21, 1639, 8, 4, 1458, 4782, 52, 2122, 13, 6, 184, 597, 94, 38, 6915, 5, 13516, 1961, 8, 4, 32, 15755, 317, 10273, 11, 22794, 46, 4011, 60, 152, 158, 4589, 8, 3, 322, 465, 1890, 224, 2540, 101, 94, 9, 1324, 443, 5, 12057, 302, 8, 3, 2352, 13, 378, 44, 12440, 5, 44, 362, 149, 3367, 355, 19125, 6673, 70, 18120, 493, 4113, 6708, 15201, 486, 3444, 271, 17201, 4848, 13, 8, 4, 5711, 117, 5920, 8, 3, 4653, 9549, 802, 1640, 8, 3, 7971, 58, 16488, 5, 878, 27, 33, 49, 63, 21377, 49, 8, 3, 1534, 4055, 10, 127, 8, 4, 16118, 80, 4029, 12092, 49, 7751, 2042, 49, 17, 7175, 77, 8, 4, 2312, 6222, 106, 89, 145, 17754, 5, 6, 2848, 11813, 6, 7175, 1052, 8, 3, 16, 145, 1169, 8, 4, 228, 59, 172, 748, 7918, 8, 3, 51, 1359, 14999, 5, 306, 10424, 18, 11, 6705, 60, 150, 15937, 19, 6, 2272, 7848, 34, 8, 4, 217, 29176, 6022, 8, 4, 96, 1845, 5778, 13, 11364, 15, 347, 1381, 28052, 8, 3, 5, 61, 59, 10, 20587, 130, 8101, 14, 224, 1009, 36, 95, 9882, 176, 6, 805, 8, 3, 153, 8936, 10452, 15, 7606, 144, 26547, 18, 17, 1701, 282, 2635, 2974, 8, 3, 4370, 58, 3261, 9802, 13960, 8, 4, 104, 1009, 158, 38, 3111, 10147, 17141, 2529, 8, 4, 16118, 80, 105, 6054, 194, 668, 8722, 18, 8, 3, 6, 2136, 7588, 133, 18569, 11093, 8, 3, 5484, 10225, 5, 10, 23328, 13, 18189, 8, 3, 51, 26066, 66, 6418, 6, 19038, 5346, 150, 3966, 19, 18343, 6, 184, 9, 432, 10424, 7, 5, 21818, 8, 3, 3490, 18288, 4400, 8, 4, 228, 59, 133, 5, 808, 18569, 5137, 102, 22794, 46, 5, 3074, 46, 4766, 46, 41, 16, 7654, 13304, 5, 27821, 8, 65, 11, 182, 1919, 10822, 46, 112, 1929, 233, 8, 4, 96, 3878, 6374, 7549, 9166, 19, 5, 1791, 108, 30035, 8, 3, 61, 59, 7549, 9870, 12615, 1408, 29, 331, 128, 1718, 4824, 1966, 670, 5137, 8, 4, 24685, 13, 3644, 15444, 158, 9426, 13, 5, 2951, 18, 22, 17784, 13, 2659, 24, 7117, 5778, 18, 8, 3, 93, 196, 6, 20345, 26, 147, 27, 51, 3425, 8, 4, 15104, 6, 15755, 567, 44, 26, 2925, 74, 11677, 8, 4, 41, 1048, 10, 569, 4782, 480, 126, 26369, 8, 65, 8, 4, 228, 59, 12482, 6481, 1619, 5068, 614, 302, 14999, 623, 9581, 4944, 8, 3, 47, 5, 256, 51, 69, 31, 19635, 28, 5, 11, 5431, 92, 8, 3, 151, 4865, 7, 28429, 117, 1308, 322, 7839, 6, 145, 3074, 18021, 2582, 8, 3, 132, 649, 10, 82, 575, 221, 5, 6, 244, 120, 226, 236, 531, 5576, 13066, 2360, 11257, 5, 205, 132, 195, 10, 2442, 16056, 7, 8, 4, 228, 59, 4782, 15873, 306, 11, 4661, 6578, 6125, 9, 19741, 17005, 16216, 186, 950, 6, 6, 2], 'attention_mask': [1, 1, 1, 1, 1, 1, 1, 1, 1, 1, 1, 1, 1, 1, 1, 1, 1, 1, 1, 1, 1, 1, 1, 1, 1, 1, 1, 1, 1, 1, 1, 1, 1, 1, 1, 1, 1, 1, 1, 1, 1, 1, 1, 1, 1, 1, 1, 1, 1, 1, 1, 1, 1, 1, 1, 1, 1, 1, 1, 1, 1, 1, 1, 1, 1, 1, 1, 1, 1, 1, 1, 1, 1, 1, 1, 1, 1, 1, 1, 1, 1, 1, 1, 1, 1, 1, 1, 1, 1, 1, 1, 1, 1, 1, 1, 1, 1, 1, 1, 1, 1, 1, 1, 1, 1, 1, 1, 1, 1, 1, 1, 1, 1, 1, 1, 1, 1, 1, 1, 1, 1, 1, 1, 1, 1, 1, 1, 1, 1, 1, 1, 1, 1, 1, 1, 1, 1, 1, 1, 1, 1, 1, 1, 1, 1, 1, 1, 1, 1, 1, 1, 1, 1, 1, 1, 1, 1, 1, 1, 1, 1, 1, 1, 1, 1, 1, 1, 1, 1, 1, 1, 1, 1, 1, 1, 1, 1, 1, 1, 1, 1, 1, 1, 1, 1, 1, 1, 1, 1, 1, 1, 1, 1, 1, 1, 1, 1, 1, 1, 1, 1, 1, 1, 1, 1, 1, 1, 1, 1, 1, 1, 1, 1, 1, 1, 1, 1, 1, 1, 1, 1, 1, 1, 1, 1, 1, 1, 1, 1, 1, 1, 1, 1, 1, 1, 1, 1, 1, 1, 1, 1, 1, 1, 1, 1, 1, 1, 1, 1, 1, 1, 1, 1, 1, 1, 1, 1, 1, 1, 1, 1, 1, 1, 1, 1, 1, 1, 1, 1, 1, 1, 1, 1, 1, 1, 1, 1, 1, 1, 1, 1, 1, 1, 1, 1, 1, 1, 1, 1, 1, 1, 1, 1, 1, 1, 1, 1, 1, 1, 1, 1, 1, 1, 1, 1, 1, 1, 1, 1, 1, 1, 1, 1, 1, 1, 1, 1, 1, 1, 1, 1, 1, 1, 1, 1, 1, 1, 1, 1, 1, 1, 1, 1, 1, 1, 1, 1, 1, 1, 1, 1, 1, 1, 1, 1, 1, 1, 1, 1, 1, 1, 1, 1, 1, 1, 1, 1, 1, 1, 1, 1, 1, 1, 1, 1, 1, 1, 1, 1, 1, 1, 1, 1, 1, 1, 1, 1, 1, 1, 1, 1, 1, 1, 1, 1, 1, 1, 1, 1, 1, 1, 1, 1, 1, 1, 1, 1, 1, 1, 1, 1, 1, 1, 1, 1, 1, 1, 1, 1, 1, 1, 1, 1, 1, 1, 1, 1, 1, 1, 1, 1, 1, 1, 1, 1, 1, 1, 1, 1, 1, 1, 1, 1, 1, 1, 1, 1, 1, 1, 1, 1, 1, 1, 1, 1, 1, 1, 1, 1, 1, 1, 1, 1, 1, 1, 1, 1, 1, 1, 1, 1, 1, 1, 1, 1, 1, 1, 1, 1, 1, 1, 1, 1, 1, 1, 1, 1, 1, 1, 1, 1, 1, 1, 1, 1, 1, 1, 1, 1, 1, 1, 1, 1, 1, 1, 1, 1, 1, 1, 1, 1, 1, 1, 1, 1, 1, 1, 1, 1, 1, 1, 1]}\n"
     ]
    }
   ],
   "source": [
    "print(data_tokenized['train'][0])"
   ]
  },
  {
   "cell_type": "code",
   "execution_count": 28,
   "id": "f479ec0c",
   "metadata": {},
   "outputs": [],
   "source": [
    "collator = DataCollatorWithPadding(tokenizer=tokenizer)"
   ]
  },
  {
   "cell_type": "code",
   "execution_count": 29,
   "id": "e672c6e6",
   "metadata": {},
   "outputs": [],
   "source": [
    "train_dataloader = DataLoader(data_tokenized['train'], shuffle=True, batch_size=8, collate_fn=collator)\n",
    "val_dataloader = DataLoader(data_tokenized['validation'], shuffle=False, batch_size=8, collate_fn=collator)\n",
    "test_dataloader = DataLoader(data_tokenized['test'], shuffle=False, batch_size=8, collate_fn=collator)"
   ]
  },
  {
   "cell_type": "code",
   "execution_count": 30,
   "id": "3d1c32f5",
   "metadata": {
    "scrolled": true
   },
   "outputs": [
    {
     "name": "stderr",
     "output_type": "stream",
     "text": [
      "Some weights of T5ForSequenceClassification were not initialized from the model checkpoint at ai-forever/ruT5-base and are newly initialized: ['classification_head.dense.bias', 'classification_head.dense.weight', 'classification_head.out_proj.bias', 'classification_head.out_proj.weight']\n",
      "You should probably TRAIN this model on a down-stream task to be able to use it for predictions and inference.\n"
     ]
    },
    {
     "data": {
      "text/plain": [
       "T5ForSequenceClassification(\n",
       "  (transformer): T5Model(\n",
       "    (shared): Embedding(32128, 768)\n",
       "    (encoder): T5Stack(\n",
       "      (embed_tokens): Embedding(32128, 768)\n",
       "      (block): ModuleList(\n",
       "        (0): T5Block(\n",
       "          (layer): ModuleList(\n",
       "            (0): T5LayerSelfAttention(\n",
       "              (SelfAttention): T5Attention(\n",
       "                (q): Linear(in_features=768, out_features=768, bias=False)\n",
       "                (k): Linear(in_features=768, out_features=768, bias=False)\n",
       "                (v): Linear(in_features=768, out_features=768, bias=False)\n",
       "                (o): Linear(in_features=768, out_features=768, bias=False)\n",
       "                (relative_attention_bias): Embedding(32, 12)\n",
       "              )\n",
       "              (layer_norm): T5LayerNorm()\n",
       "              (dropout): Dropout(p=0.1, inplace=False)\n",
       "            )\n",
       "            (1): T5LayerFF(\n",
       "              (DenseReluDense): T5DenseActDense(\n",
       "                (wi): Linear(in_features=768, out_features=3072, bias=False)\n",
       "                (wo): Linear(in_features=3072, out_features=768, bias=False)\n",
       "                (dropout): Dropout(p=0.1, inplace=False)\n",
       "                (act): ReLU()\n",
       "              )\n",
       "              (layer_norm): T5LayerNorm()\n",
       "              (dropout): Dropout(p=0.1, inplace=False)\n",
       "            )\n",
       "          )\n",
       "        )\n",
       "        (1-11): 11 x T5Block(\n",
       "          (layer): ModuleList(\n",
       "            (0): T5LayerSelfAttention(\n",
       "              (SelfAttention): T5Attention(\n",
       "                (q): Linear(in_features=768, out_features=768, bias=False)\n",
       "                (k): Linear(in_features=768, out_features=768, bias=False)\n",
       "                (v): Linear(in_features=768, out_features=768, bias=False)\n",
       "                (o): Linear(in_features=768, out_features=768, bias=False)\n",
       "              )\n",
       "              (layer_norm): T5LayerNorm()\n",
       "              (dropout): Dropout(p=0.1, inplace=False)\n",
       "            )\n",
       "            (1): T5LayerFF(\n",
       "              (DenseReluDense): T5DenseActDense(\n",
       "                (wi): Linear(in_features=768, out_features=3072, bias=False)\n",
       "                (wo): Linear(in_features=3072, out_features=768, bias=False)\n",
       "                (dropout): Dropout(p=0.1, inplace=False)\n",
       "                (act): ReLU()\n",
       "              )\n",
       "              (layer_norm): T5LayerNorm()\n",
       "              (dropout): Dropout(p=0.1, inplace=False)\n",
       "            )\n",
       "          )\n",
       "        )\n",
       "      )\n",
       "      (final_layer_norm): T5LayerNorm()\n",
       "      (dropout): Dropout(p=0.1, inplace=False)\n",
       "    )\n",
       "    (decoder): T5Stack(\n",
       "      (embed_tokens): Embedding(32128, 768)\n",
       "      (block): ModuleList(\n",
       "        (0): T5Block(\n",
       "          (layer): ModuleList(\n",
       "            (0): T5LayerSelfAttention(\n",
       "              (SelfAttention): T5Attention(\n",
       "                (q): Linear(in_features=768, out_features=768, bias=False)\n",
       "                (k): Linear(in_features=768, out_features=768, bias=False)\n",
       "                (v): Linear(in_features=768, out_features=768, bias=False)\n",
       "                (o): Linear(in_features=768, out_features=768, bias=False)\n",
       "                (relative_attention_bias): Embedding(32, 12)\n",
       "              )\n",
       "              (layer_norm): T5LayerNorm()\n",
       "              (dropout): Dropout(p=0.1, inplace=False)\n",
       "            )\n",
       "            (1): T5LayerCrossAttention(\n",
       "              (EncDecAttention): T5Attention(\n",
       "                (q): Linear(in_features=768, out_features=768, bias=False)\n",
       "                (k): Linear(in_features=768, out_features=768, bias=False)\n",
       "                (v): Linear(in_features=768, out_features=768, bias=False)\n",
       "                (o): Linear(in_features=768, out_features=768, bias=False)\n",
       "              )\n",
       "              (layer_norm): T5LayerNorm()\n",
       "              (dropout): Dropout(p=0.1, inplace=False)\n",
       "            )\n",
       "            (2): T5LayerFF(\n",
       "              (DenseReluDense): T5DenseActDense(\n",
       "                (wi): Linear(in_features=768, out_features=3072, bias=False)\n",
       "                (wo): Linear(in_features=3072, out_features=768, bias=False)\n",
       "                (dropout): Dropout(p=0.1, inplace=False)\n",
       "                (act): ReLU()\n",
       "              )\n",
       "              (layer_norm): T5LayerNorm()\n",
       "              (dropout): Dropout(p=0.1, inplace=False)\n",
       "            )\n",
       "          )\n",
       "        )\n",
       "        (1-11): 11 x T5Block(\n",
       "          (layer): ModuleList(\n",
       "            (0): T5LayerSelfAttention(\n",
       "              (SelfAttention): T5Attention(\n",
       "                (q): Linear(in_features=768, out_features=768, bias=False)\n",
       "                (k): Linear(in_features=768, out_features=768, bias=False)\n",
       "                (v): Linear(in_features=768, out_features=768, bias=False)\n",
       "                (o): Linear(in_features=768, out_features=768, bias=False)\n",
       "              )\n",
       "              (layer_norm): T5LayerNorm()\n",
       "              (dropout): Dropout(p=0.1, inplace=False)\n",
       "            )\n",
       "            (1): T5LayerCrossAttention(\n",
       "              (EncDecAttention): T5Attention(\n",
       "                (q): Linear(in_features=768, out_features=768, bias=False)\n",
       "                (k): Linear(in_features=768, out_features=768, bias=False)\n",
       "                (v): Linear(in_features=768, out_features=768, bias=False)\n",
       "                (o): Linear(in_features=768, out_features=768, bias=False)\n",
       "              )\n",
       "              (layer_norm): T5LayerNorm()\n",
       "              (dropout): Dropout(p=0.1, inplace=False)\n",
       "            )\n",
       "            (2): T5LayerFF(\n",
       "              (DenseReluDense): T5DenseActDense(\n",
       "                (wi): Linear(in_features=768, out_features=3072, bias=False)\n",
       "                (wo): Linear(in_features=3072, out_features=768, bias=False)\n",
       "                (dropout): Dropout(p=0.1, inplace=False)\n",
       "                (act): ReLU()\n",
       "              )\n",
       "              (layer_norm): T5LayerNorm()\n",
       "              (dropout): Dropout(p=0.1, inplace=False)\n",
       "            )\n",
       "          )\n",
       "        )\n",
       "      )\n",
       "      (final_layer_norm): T5LayerNorm()\n",
       "      (dropout): Dropout(p=0.1, inplace=False)\n",
       "    )\n",
       "  )\n",
       "  (classification_head): T5ClassificationHead(\n",
       "    (dense): Linear(in_features=768, out_features=768, bias=True)\n",
       "    (dropout): Dropout(p=0.0, inplace=False)\n",
       "    (out_proj): Linear(in_features=768, out_features=3, bias=True)\n",
       "  )\n",
       ")"
      ]
     },
     "execution_count": 30,
     "metadata": {},
     "output_type": "execute_result"
    }
   ],
   "source": [
    "model = AutoModelForSequenceClassification.from_pretrained(base_model, num_labels=3)\n",
    "model"
   ]
  },
  {
   "cell_type": "code",
   "execution_count": 31,
   "id": "1e5d6b26-083a-4c3b-b9c3-32b0c0b261f2",
   "metadata": {},
   "outputs": [
    {
     "data": {
      "text/plain": [
       "device(type='cuda')"
      ]
     },
     "execution_count": 31,
     "metadata": {},
     "output_type": "execute_result"
    }
   ],
   "source": [
    "device = torch.device('cuda' if torch.cuda.is_available() else 'cpu')\n",
    "device"
   ]
  },
  {
   "cell_type": "code",
   "execution_count": 32,
   "id": "cb8f583e-7f75-4f14-982a-be9837485982",
   "metadata": {
    "scrolled": true
   },
   "outputs": [
    {
     "data": {
      "text/plain": [
       "T5ForSequenceClassification(\n",
       "  (transformer): T5Model(\n",
       "    (shared): Embedding(32128, 768)\n",
       "    (encoder): T5Stack(\n",
       "      (embed_tokens): Embedding(32128, 768)\n",
       "      (block): ModuleList(\n",
       "        (0): T5Block(\n",
       "          (layer): ModuleList(\n",
       "            (0): T5LayerSelfAttention(\n",
       "              (SelfAttention): T5Attention(\n",
       "                (q): Linear(in_features=768, out_features=768, bias=False)\n",
       "                (k): Linear(in_features=768, out_features=768, bias=False)\n",
       "                (v): Linear(in_features=768, out_features=768, bias=False)\n",
       "                (o): Linear(in_features=768, out_features=768, bias=False)\n",
       "                (relative_attention_bias): Embedding(32, 12)\n",
       "              )\n",
       "              (layer_norm): T5LayerNorm()\n",
       "              (dropout): Dropout(p=0.1, inplace=False)\n",
       "            )\n",
       "            (1): T5LayerFF(\n",
       "              (DenseReluDense): T5DenseActDense(\n",
       "                (wi): Linear(in_features=768, out_features=3072, bias=False)\n",
       "                (wo): Linear(in_features=3072, out_features=768, bias=False)\n",
       "                (dropout): Dropout(p=0.1, inplace=False)\n",
       "                (act): ReLU()\n",
       "              )\n",
       "              (layer_norm): T5LayerNorm()\n",
       "              (dropout): Dropout(p=0.1, inplace=False)\n",
       "            )\n",
       "          )\n",
       "        )\n",
       "        (1-11): 11 x T5Block(\n",
       "          (layer): ModuleList(\n",
       "            (0): T5LayerSelfAttention(\n",
       "              (SelfAttention): T5Attention(\n",
       "                (q): Linear(in_features=768, out_features=768, bias=False)\n",
       "                (k): Linear(in_features=768, out_features=768, bias=False)\n",
       "                (v): Linear(in_features=768, out_features=768, bias=False)\n",
       "                (o): Linear(in_features=768, out_features=768, bias=False)\n",
       "              )\n",
       "              (layer_norm): T5LayerNorm()\n",
       "              (dropout): Dropout(p=0.1, inplace=False)\n",
       "            )\n",
       "            (1): T5LayerFF(\n",
       "              (DenseReluDense): T5DenseActDense(\n",
       "                (wi): Linear(in_features=768, out_features=3072, bias=False)\n",
       "                (wo): Linear(in_features=3072, out_features=768, bias=False)\n",
       "                (dropout): Dropout(p=0.1, inplace=False)\n",
       "                (act): ReLU()\n",
       "              )\n",
       "              (layer_norm): T5LayerNorm()\n",
       "              (dropout): Dropout(p=0.1, inplace=False)\n",
       "            )\n",
       "          )\n",
       "        )\n",
       "      )\n",
       "      (final_layer_norm): T5LayerNorm()\n",
       "      (dropout): Dropout(p=0.1, inplace=False)\n",
       "    )\n",
       "    (decoder): T5Stack(\n",
       "      (embed_tokens): Embedding(32128, 768)\n",
       "      (block): ModuleList(\n",
       "        (0): T5Block(\n",
       "          (layer): ModuleList(\n",
       "            (0): T5LayerSelfAttention(\n",
       "              (SelfAttention): T5Attention(\n",
       "                (q): Linear(in_features=768, out_features=768, bias=False)\n",
       "                (k): Linear(in_features=768, out_features=768, bias=False)\n",
       "                (v): Linear(in_features=768, out_features=768, bias=False)\n",
       "                (o): Linear(in_features=768, out_features=768, bias=False)\n",
       "                (relative_attention_bias): Embedding(32, 12)\n",
       "              )\n",
       "              (layer_norm): T5LayerNorm()\n",
       "              (dropout): Dropout(p=0.1, inplace=False)\n",
       "            )\n",
       "            (1): T5LayerCrossAttention(\n",
       "              (EncDecAttention): T5Attention(\n",
       "                (q): Linear(in_features=768, out_features=768, bias=False)\n",
       "                (k): Linear(in_features=768, out_features=768, bias=False)\n",
       "                (v): Linear(in_features=768, out_features=768, bias=False)\n",
       "                (o): Linear(in_features=768, out_features=768, bias=False)\n",
       "              )\n",
       "              (layer_norm): T5LayerNorm()\n",
       "              (dropout): Dropout(p=0.1, inplace=False)\n",
       "            )\n",
       "            (2): T5LayerFF(\n",
       "              (DenseReluDense): T5DenseActDense(\n",
       "                (wi): Linear(in_features=768, out_features=3072, bias=False)\n",
       "                (wo): Linear(in_features=3072, out_features=768, bias=False)\n",
       "                (dropout): Dropout(p=0.1, inplace=False)\n",
       "                (act): ReLU()\n",
       "              )\n",
       "              (layer_norm): T5LayerNorm()\n",
       "              (dropout): Dropout(p=0.1, inplace=False)\n",
       "            )\n",
       "          )\n",
       "        )\n",
       "        (1-11): 11 x T5Block(\n",
       "          (layer): ModuleList(\n",
       "            (0): T5LayerSelfAttention(\n",
       "              (SelfAttention): T5Attention(\n",
       "                (q): Linear(in_features=768, out_features=768, bias=False)\n",
       "                (k): Linear(in_features=768, out_features=768, bias=False)\n",
       "                (v): Linear(in_features=768, out_features=768, bias=False)\n",
       "                (o): Linear(in_features=768, out_features=768, bias=False)\n",
       "              )\n",
       "              (layer_norm): T5LayerNorm()\n",
       "              (dropout): Dropout(p=0.1, inplace=False)\n",
       "            )\n",
       "            (1): T5LayerCrossAttention(\n",
       "              (EncDecAttention): T5Attention(\n",
       "                (q): Linear(in_features=768, out_features=768, bias=False)\n",
       "                (k): Linear(in_features=768, out_features=768, bias=False)\n",
       "                (v): Linear(in_features=768, out_features=768, bias=False)\n",
       "                (o): Linear(in_features=768, out_features=768, bias=False)\n",
       "              )\n",
       "              (layer_norm): T5LayerNorm()\n",
       "              (dropout): Dropout(p=0.1, inplace=False)\n",
       "            )\n",
       "            (2): T5LayerFF(\n",
       "              (DenseReluDense): T5DenseActDense(\n",
       "                (wi): Linear(in_features=768, out_features=3072, bias=False)\n",
       "                (wo): Linear(in_features=3072, out_features=768, bias=False)\n",
       "                (dropout): Dropout(p=0.1, inplace=False)\n",
       "                (act): ReLU()\n",
       "              )\n",
       "              (layer_norm): T5LayerNorm()\n",
       "              (dropout): Dropout(p=0.1, inplace=False)\n",
       "            )\n",
       "          )\n",
       "        )\n",
       "      )\n",
       "      (final_layer_norm): T5LayerNorm()\n",
       "      (dropout): Dropout(p=0.1, inplace=False)\n",
       "    )\n",
       "  )\n",
       "  (classification_head): T5ClassificationHead(\n",
       "    (dense): Linear(in_features=768, out_features=768, bias=True)\n",
       "    (dropout): Dropout(p=0.0, inplace=False)\n",
       "    (out_proj): Linear(in_features=768, out_features=3, bias=True)\n",
       "  )\n",
       ")"
      ]
     },
     "execution_count": 32,
     "metadata": {},
     "output_type": "execute_result"
    }
   ],
   "source": [
    "model.to(device)"
   ]
  },
  {
   "cell_type": "code",
   "execution_count": 33,
   "id": "bfa48ad2",
   "metadata": {},
   "outputs": [
    {
     "data": {
      "text/plain": [
       "Adam (\n",
       "Parameter Group 0\n",
       "    amsgrad: False\n",
       "    betas: (0.9, 0.999)\n",
       "    capturable: False\n",
       "    differentiable: False\n",
       "    eps: 1e-08\n",
       "    foreach: None\n",
       "    fused: None\n",
       "    lr: 1e-05\n",
       "    maximize: False\n",
       "    weight_decay: 0\n",
       ")"
      ]
     },
     "execution_count": 33,
     "metadata": {},
     "output_type": "execute_result"
    }
   ],
   "source": [
    "optimizer = Adam(model.parameters(), lr=1e-5)  # LR should be in balance with batch size\n",
    "optimizer"
   ]
  },
  {
   "cell_type": "code",
   "execution_count": 34,
   "id": "7c4bc504-30b0-429c-ac96-b523eb1f84a9",
   "metadata": {},
   "outputs": [],
   "source": [
    "gc.collect()\n",
    "torch.cuda.empty_cache()"
   ]
  },
  {
   "cell_type": "code",
   "execution_count": 35,
   "id": "87cb6470-d561-4928-995e-f054162b146a",
   "metadata": {},
   "outputs": [
    {
     "data": {
      "application/vnd.jupyter.widget-view+json": {
       "model_id": "7ce57cc862264a359187d8d86271a379",
       "version_major": 2,
       "version_minor": 0
      },
      "text/plain": [
       "  0%|          | 0/20 [00:00<?, ?it/s]"
      ]
     },
     "metadata": {},
     "output_type": "display_data"
    },
    {
     "data": {
      "application/vnd.jupyter.widget-view+json": {
       "model_id": "6d0a0846c9804a258606be076f2d6d53",
       "version_major": 2,
       "version_minor": 0
      },
      "text/plain": [
       "  0%|          | 0/243 [00:00<?, ?it/s]"
      ]
     },
     "metadata": {},
     "output_type": "display_data"
    },
    {
     "data": {
      "application/vnd.jupyter.widget-view+json": {
       "model_id": "333bb5197ec34937b4b4d2bd252eecca",
       "version_major": 2,
       "version_minor": 0
      },
      "text/plain": [
       "  0%|          | 0/52 [00:00<?, ?it/s]"
      ]
     },
     "metadata": {},
     "output_type": "display_data"
    },
    {
     "name": "stdout",
     "output_type": "stream",
     "text": [
      "Epoch: 1 Train Loss 0.6441217884421349 Eval Loss 0.6449873355718759 Accuracy 0.7884615384615384 Time: 47.963579416275024\n"
     ]
    },
    {
     "data": {
      "application/vnd.jupyter.widget-view+json": {
       "model_id": "85e880d5045a455c8b2498143a024ad4",
       "version_major": 2,
       "version_minor": 0
      },
      "text/plain": [
       "  0%|          | 0/243 [00:00<?, ?it/s]"
      ]
     },
     "metadata": {},
     "output_type": "display_data"
    },
    {
     "data": {
      "application/vnd.jupyter.widget-view+json": {
       "model_id": "b5cc2fc6717642569cc5e392d122a751",
       "version_major": 2,
       "version_minor": 0
      },
      "text/plain": [
       "  0%|          | 0/52 [00:00<?, ?it/s]"
      ]
     },
     "metadata": {},
     "output_type": "display_data"
    },
    {
     "name": "stdout",
     "output_type": "stream",
     "text": [
      "Epoch: 2 Train Loss 0.537648392394185 Eval Loss 0.3554359817734131 Accuracy 0.8918269230769231 Time: 95.82424807548523\n"
     ]
    },
    {
     "data": {
      "application/vnd.jupyter.widget-view+json": {
       "model_id": "9be4a1e51d494dc4aac261b5dac256a0",
       "version_major": 2,
       "version_minor": 0
      },
      "text/plain": [
       "  0%|          | 0/243 [00:00<?, ?it/s]"
      ]
     },
     "metadata": {},
     "output_type": "display_data"
    },
    {
     "data": {
      "application/vnd.jupyter.widget-view+json": {
       "model_id": "fa0a31ba00b443318519df0959b8a241",
       "version_major": 2,
       "version_minor": 0
      },
      "text/plain": [
       "  0%|          | 0/52 [00:00<?, ?it/s]"
      ]
     },
     "metadata": {},
     "output_type": "display_data"
    },
    {
     "name": "stdout",
     "output_type": "stream",
     "text": [
      "Epoch: 3 Train Loss 0.3862404296174645 Eval Loss 0.3440585415631246 Accuracy 0.8966346153846154 Time: 144.2745053768158\n"
     ]
    },
    {
     "data": {
      "application/vnd.jupyter.widget-view+json": {
       "model_id": "fa596ebc8a1243329c237d93655e6d9b",
       "version_major": 2,
       "version_minor": 0
      },
      "text/plain": [
       "  0%|          | 0/243 [00:00<?, ?it/s]"
      ]
     },
     "metadata": {},
     "output_type": "display_data"
    },
    {
     "data": {
      "application/vnd.jupyter.widget-view+json": {
       "model_id": "d173f6dd84684b188cfe6d459f9e47d1",
       "version_major": 2,
       "version_minor": 0
      },
      "text/plain": [
       "  0%|          | 0/52 [00:00<?, ?it/s]"
      ]
     },
     "metadata": {},
     "output_type": "display_data"
    },
    {
     "name": "stdout",
     "output_type": "stream",
     "text": [
      "Epoch: 4 Train Loss 0.3115124517120421 Eval Loss 0.35140781647239167 Accuracy 0.8966346153846154 Time: 191.70378136634827\n"
     ]
    },
    {
     "data": {
      "application/vnd.jupyter.widget-view+json": {
       "model_id": "47f74da1f2674c43a9a85d23c4fff632",
       "version_major": 2,
       "version_minor": 0
      },
      "text/plain": [
       "  0%|          | 0/243 [00:00<?, ?it/s]"
      ]
     },
     "metadata": {},
     "output_type": "display_data"
    },
    {
     "data": {
      "application/vnd.jupyter.widget-view+json": {
       "model_id": "aa9f83d7ce8a47e9af368eb3ed9c32b4",
       "version_major": 2,
       "version_minor": 0
      },
      "text/plain": [
       "  0%|          | 0/52 [00:00<?, ?it/s]"
      ]
     },
     "metadata": {},
     "output_type": "display_data"
    },
    {
     "name": "stdout",
     "output_type": "stream",
     "text": [
      "Epoch: 5 Train Loss 0.3322610074095428 Eval Loss 0.3185396993246216 Accuracy 0.9014423076923077 Time: 237.9621067047119\n"
     ]
    },
    {
     "data": {
      "application/vnd.jupyter.widget-view+json": {
       "model_id": "95144b200f5c40f19d2ae7e018ffd2d9",
       "version_major": 2,
       "version_minor": 0
      },
      "text/plain": [
       "  0%|          | 0/243 [00:00<?, ?it/s]"
      ]
     },
     "metadata": {},
     "output_type": "display_data"
    },
    {
     "data": {
      "application/vnd.jupyter.widget-view+json": {
       "model_id": "5ec9281935c6402399f4e31dadeac1c6",
       "version_major": 2,
       "version_minor": 0
      },
      "text/plain": [
       "  0%|          | 0/52 [00:00<?, ?it/s]"
      ]
     },
     "metadata": {},
     "output_type": "display_data"
    },
    {
     "name": "stdout",
     "output_type": "stream",
     "text": [
      "Epoch: 6 Train Loss 0.32427305000368506 Eval Loss 0.31432679675232905 Accuracy 0.9014423076923077 Time: 284.83472990989685\n"
     ]
    },
    {
     "data": {
      "application/vnd.jupyter.widget-view+json": {
       "model_id": "41c53675562544939897ecf6998cd978",
       "version_major": 2,
       "version_minor": 0
      },
      "text/plain": [
       "  0%|          | 0/243 [00:00<?, ?it/s]"
      ]
     },
     "metadata": {},
     "output_type": "display_data"
    },
    {
     "data": {
      "application/vnd.jupyter.widget-view+json": {
       "model_id": "525eaa214fc74cf4a7eec82ed73841c3",
       "version_major": 2,
       "version_minor": 0
      },
      "text/plain": [
       "  0%|          | 0/52 [00:00<?, ?it/s]"
      ]
     },
     "metadata": {},
     "output_type": "display_data"
    },
    {
     "name": "stdout",
     "output_type": "stream",
     "text": [
      "Epoch: 7 Train Loss 0.3125083717145026 Eval Loss 0.31688505651142734 Accuracy 0.8966346153846154 Time: 333.0499110221863\n"
     ]
    },
    {
     "data": {
      "application/vnd.jupyter.widget-view+json": {
       "model_id": "dbc5c2a31aab4c459a3608d7c872d0d9",
       "version_major": 2,
       "version_minor": 0
      },
      "text/plain": [
       "  0%|          | 0/243 [00:00<?, ?it/s]"
      ]
     },
     "metadata": {},
     "output_type": "display_data"
    },
    {
     "data": {
      "application/vnd.jupyter.widget-view+json": {
       "model_id": "87da91cca8bd4ce4ba95677741bad3d6",
       "version_major": 2,
       "version_minor": 0
      },
      "text/plain": [
       "  0%|          | 0/52 [00:00<?, ?it/s]"
      ]
     },
     "metadata": {},
     "output_type": "display_data"
    },
    {
     "name": "stdout",
     "output_type": "stream",
     "text": [
      "Epoch: 8 Train Loss 0.2984358103014529 Eval Loss 0.3066698416100385 Accuracy 0.9038461538461539 Time: 379.7783727645874\n"
     ]
    },
    {
     "data": {
      "application/vnd.jupyter.widget-view+json": {
       "model_id": "618c3cd9fd234ed882162f5ac0b4ba81",
       "version_major": 2,
       "version_minor": 0
      },
      "text/plain": [
       "  0%|          | 0/243 [00:00<?, ?it/s]"
      ]
     },
     "metadata": {},
     "output_type": "display_data"
    },
    {
     "data": {
      "application/vnd.jupyter.widget-view+json": {
       "model_id": "dd88d0869d454cafaf2adf386a2be0ba",
       "version_major": 2,
       "version_minor": 0
      },
      "text/plain": [
       "  0%|          | 0/52 [00:00<?, ?it/s]"
      ]
     },
     "metadata": {},
     "output_type": "display_data"
    },
    {
     "name": "stdout",
     "output_type": "stream",
     "text": [
      "Epoch: 9 Train Loss 0.27154462015256287 Eval Loss 0.3049559131748258 Accuracy 0.9038461538461539 Time: 428.15636134147644\n"
     ]
    },
    {
     "data": {
      "application/vnd.jupyter.widget-view+json": {
       "model_id": "d10cb5c113454f8dbd4585b3ea1a6f8d",
       "version_major": 2,
       "version_minor": 0
      },
      "text/plain": [
       "  0%|          | 0/243 [00:00<?, ?it/s]"
      ]
     },
     "metadata": {},
     "output_type": "display_data"
    },
    {
     "data": {
      "application/vnd.jupyter.widget-view+json": {
       "model_id": "5a2e171aa7374639bee3e291b7e97546",
       "version_major": 2,
       "version_minor": 0
      },
      "text/plain": [
       "  0%|          | 0/52 [00:00<?, ?it/s]"
      ]
     },
     "metadata": {},
     "output_type": "display_data"
    },
    {
     "name": "stdout",
     "output_type": "stream",
     "text": [
      "Epoch: 10 Train Loss 0.24263185960240663 Eval Loss 0.29087824806069523 Accuracy 0.9134615384615384 Time: 475.78369307518005\n"
     ]
    },
    {
     "data": {
      "application/vnd.jupyter.widget-view+json": {
       "model_id": "002b3d85a2fd439db18770a5f0ec3af3",
       "version_major": 2,
       "version_minor": 0
      },
      "text/plain": [
       "  0%|          | 0/243 [00:00<?, ?it/s]"
      ]
     },
     "metadata": {},
     "output_type": "display_data"
    },
    {
     "data": {
      "application/vnd.jupyter.widget-view+json": {
       "model_id": "ab36271c53fd46b4a0c056301516b977",
       "version_major": 2,
       "version_minor": 0
      },
      "text/plain": [
       "  0%|          | 0/52 [00:00<?, ?it/s]"
      ]
     },
     "metadata": {},
     "output_type": "display_data"
    },
    {
     "name": "stdout",
     "output_type": "stream",
     "text": [
      "Epoch: 11 Train Loss 0.28505053400062025 Eval Loss 0.27978865422595006 Accuracy 0.9206730769230769 Time: 523.4105961322784\n"
     ]
    },
    {
     "data": {
      "application/vnd.jupyter.widget-view+json": {
       "model_id": "cee74979e60b4d708086a6569c60ee0d",
       "version_major": 2,
       "version_minor": 0
      },
      "text/plain": [
       "  0%|          | 0/243 [00:00<?, ?it/s]"
      ]
     },
     "metadata": {},
     "output_type": "display_data"
    },
    {
     "data": {
      "application/vnd.jupyter.widget-view+json": {
       "model_id": "2dff85dc036745a2a406658a367c3ec0",
       "version_major": 2,
       "version_minor": 0
      },
      "text/plain": [
       "  0%|          | 0/52 [00:00<?, ?it/s]"
      ]
     },
     "metadata": {},
     "output_type": "display_data"
    },
    {
     "name": "stdout",
     "output_type": "stream",
     "text": [
      "Epoch: 12 Train Loss 0.23994958074763417 Eval Loss 0.2837107910935839 Accuracy 0.9158653846153846 Time: 571.8506956100464\n"
     ]
    },
    {
     "data": {
      "application/vnd.jupyter.widget-view+json": {
       "model_id": "5e952f4c796b4485abae9620da869d10",
       "version_major": 2,
       "version_minor": 0
      },
      "text/plain": [
       "  0%|          | 0/243 [00:00<?, ?it/s]"
      ]
     },
     "metadata": {},
     "output_type": "display_data"
    },
    {
     "data": {
      "application/vnd.jupyter.widget-view+json": {
       "model_id": "396478ab59ca40f29f87d10469712fe0",
       "version_major": 2,
       "version_minor": 0
      },
      "text/plain": [
       "  0%|          | 0/52 [00:00<?, ?it/s]"
      ]
     },
     "metadata": {},
     "output_type": "display_data"
    },
    {
     "name": "stdout",
     "output_type": "stream",
     "text": [
      "Epoch: 13 Train Loss 0.2253496841341257 Eval Loss 0.29851307571292496 Accuracy 0.9206730769230769 Time: 619.1392202377319\n"
     ]
    },
    {
     "data": {
      "application/vnd.jupyter.widget-view+json": {
       "model_id": "e122f82d2c1647abbcbe0d6f0169c053",
       "version_major": 2,
       "version_minor": 0
      },
      "text/plain": [
       "  0%|          | 0/243 [00:00<?, ?it/s]"
      ]
     },
     "metadata": {},
     "output_type": "display_data"
    },
    {
     "data": {
      "application/vnd.jupyter.widget-view+json": {
       "model_id": "26ae6e6f6a9f42b09866a34f4ea831d4",
       "version_major": 2,
       "version_minor": 0
      },
      "text/plain": [
       "  0%|          | 0/52 [00:00<?, ?it/s]"
      ]
     },
     "metadata": {},
     "output_type": "display_data"
    },
    {
     "name": "stdout",
     "output_type": "stream",
     "text": [
      "Epoch: 14 Train Loss 0.2405923966690898 Eval Loss 0.2917077440338639 Accuracy 0.9038461538461539 Time: 665.5214788913727\n"
     ]
    },
    {
     "data": {
      "application/vnd.jupyter.widget-view+json": {
       "model_id": "61c9694042274355ab1b57d48c414a39",
       "version_major": 2,
       "version_minor": 0
      },
      "text/plain": [
       "  0%|          | 0/243 [00:00<?, ?it/s]"
      ]
     },
     "metadata": {},
     "output_type": "display_data"
    },
    {
     "data": {
      "application/vnd.jupyter.widget-view+json": {
       "model_id": "5ff1356079a64e9cb80b8ff68e32ba78",
       "version_major": 2,
       "version_minor": 0
      },
      "text/plain": [
       "  0%|          | 0/52 [00:00<?, ?it/s]"
      ]
     },
     "metadata": {},
     "output_type": "display_data"
    },
    {
     "name": "stdout",
     "output_type": "stream",
     "text": [
      "Epoch: 15 Train Loss 0.24435301427729428 Eval Loss 0.3010372360183213 Accuracy 0.9086538461538461 Time: 711.1051735877991\n"
     ]
    },
    {
     "data": {
      "application/vnd.jupyter.widget-view+json": {
       "model_id": "58a74215430c4002a3d43d6fbdfddc13",
       "version_major": 2,
       "version_minor": 0
      },
      "text/plain": [
       "  0%|          | 0/243 [00:00<?, ?it/s]"
      ]
     },
     "metadata": {},
     "output_type": "display_data"
    },
    {
     "data": {
      "application/vnd.jupyter.widget-view+json": {
       "model_id": "0ee341b7ccf24a82aa565a3d74e75196",
       "version_major": 2,
       "version_minor": 0
      },
      "text/plain": [
       "  0%|          | 0/52 [00:00<?, ?it/s]"
      ]
     },
     "metadata": {},
     "output_type": "display_data"
    },
    {
     "name": "stdout",
     "output_type": "stream",
     "text": [
      "Epoch: 16 Train Loss 0.2123005765490234 Eval Loss 0.2837834236695646 Accuracy 0.9206730769230769 Time: 757.596559047699\n"
     ]
    },
    {
     "data": {
      "application/vnd.jupyter.widget-view+json": {
       "model_id": "013c1e794a1c4eaa8dc7fa32082656a2",
       "version_major": 2,
       "version_minor": 0
      },
      "text/plain": [
       "  0%|          | 0/243 [00:00<?, ?it/s]"
      ]
     },
     "metadata": {},
     "output_type": "display_data"
    },
    {
     "data": {
      "application/vnd.jupyter.widget-view+json": {
       "model_id": "8b04bd57cf154cedae6b386bbc5cb5df",
       "version_major": 2,
       "version_minor": 0
      },
      "text/plain": [
       "  0%|          | 0/52 [00:00<?, ?it/s]"
      ]
     },
     "metadata": {},
     "output_type": "display_data"
    },
    {
     "name": "stdout",
     "output_type": "stream",
     "text": [
      "Epoch: 17 Train Loss 0.2441174675244838 Eval Loss 0.2931047700470887 Accuracy 0.9134615384615384 Time: 804.6351797580719\n"
     ]
    },
    {
     "data": {
      "application/vnd.jupyter.widget-view+json": {
       "model_id": "d17c4a7f51b24e1789edc7e197763caa",
       "version_major": 2,
       "version_minor": 0
      },
      "text/plain": [
       "  0%|          | 0/243 [00:00<?, ?it/s]"
      ]
     },
     "metadata": {},
     "output_type": "display_data"
    },
    {
     "data": {
      "application/vnd.jupyter.widget-view+json": {
       "model_id": "090a222b886e4db2a2916dfcb1e9953f",
       "version_major": 2,
       "version_minor": 0
      },
      "text/plain": [
       "  0%|          | 0/52 [00:00<?, ?it/s]"
      ]
     },
     "metadata": {},
     "output_type": "display_data"
    },
    {
     "name": "stdout",
     "output_type": "stream",
     "text": [
      "Epoch: 18 Train Loss 0.19306325452402234 Eval Loss 0.2985032852559995 Accuracy 0.9254807692307693 Time: 850.6478350162506\n"
     ]
    },
    {
     "data": {
      "application/vnd.jupyter.widget-view+json": {
       "model_id": "7aa1f5ec1bd8413d9b9cbfac7b3107e1",
       "version_major": 2,
       "version_minor": 0
      },
      "text/plain": [
       "  0%|          | 0/243 [00:00<?, ?it/s]"
      ]
     },
     "metadata": {},
     "output_type": "display_data"
    },
    {
     "data": {
      "application/vnd.jupyter.widget-view+json": {
       "model_id": "57368a40dc944769932c12343c00e45b",
       "version_major": 2,
       "version_minor": 0
      },
      "text/plain": [
       "  0%|          | 0/52 [00:00<?, ?it/s]"
      ]
     },
     "metadata": {},
     "output_type": "display_data"
    },
    {
     "name": "stdout",
     "output_type": "stream",
     "text": [
      "Epoch: 19 Train Loss 0.22803999439813197 Eval Loss 0.3243197177339775 Accuracy 0.9110576923076923 Time: 896.8246967792511\n"
     ]
    },
    {
     "data": {
      "application/vnd.jupyter.widget-view+json": {
       "model_id": "3835d20a999a4da49de580a14d97ea27",
       "version_major": 2,
       "version_minor": 0
      },
      "text/plain": [
       "  0%|          | 0/243 [00:00<?, ?it/s]"
      ]
     },
     "metadata": {},
     "output_type": "display_data"
    },
    {
     "data": {
      "application/vnd.jupyter.widget-view+json": {
       "model_id": "ad0328791ff8469cb66852efc9f8ab26",
       "version_major": 2,
       "version_minor": 0
      },
      "text/plain": [
       "  0%|          | 0/52 [00:00<?, ?it/s]"
      ]
     },
     "metadata": {},
     "output_type": "display_data"
    },
    {
     "name": "stdout",
     "output_type": "stream",
     "text": [
      "Epoch: 20 Train Loss 0.16582222256809473 Eval Loss 0.32221797151634324 Accuracy 0.9086538461538461 Time: 942.8565256595612\n"
     ]
    }
   ],
   "source": [
    "# seting initial best loss to infinite\n",
    "best_eval_loss = float('inf')\n",
    "\n",
    "losses = []\n",
    "epoch_train_loss = []\n",
    "epoch_eval_loss = []\n",
    "epoch_train_time = []\n",
    "train_time = []\n",
    "start = time.time()\n",
    "for epoch in trange(20):\n",
    "    pbar = tqdm(train_dataloader)\n",
    "    model.train()\n",
    "    for i, batch in enumerate(pbar):\n",
    "        out = model(**batch.to(model.device))\n",
    "        out.loss.backward()\n",
    "        optimizer.step()\n",
    "        optimizer.zero_grad()\n",
    "        losses.append(out.loss.item())\n",
    "        train_time.append(time.time() - start)\n",
    "        pbar.set_description(f'loss: {np.mean(losses[-100:]):2.2f}')\n",
    "    epoch_train_loss.append(np.mean(losses[-100:]))\n",
    "\n",
    "    model.eval()\n",
    "    eval_losses = []\n",
    "    eval_preds = []\n",
    "    eval_targets = []\n",
    "    val_time = []\n",
    "    for batch in tqdm(val_dataloader):\n",
    "        with torch.no_grad():\n",
    "                out = model(**batch.to(model.device))\n",
    "        eval_losses.append(out.loss.item())\n",
    "        eval_preds.extend(out.logits.argmax(1).tolist())\n",
    "        eval_targets.extend(batch['labels'].tolist())\n",
    "        val_time.append(time.time() - start)\n",
    "    epoch_eval_loss.append(np.mean(eval_losses))\n",
    "    epoch_train_time.append(elapsed := time.time() - start)\n",
    "    val_loss = np.mean(eval_losses)\n",
    "    print('Epoch:', epoch+1, 'Train Loss', np.mean(losses[-100:]), 'Eval Loss', val_loss, 'Accuracy', np.mean(np.array(eval_targets) == eval_preds), 'Time:', elapsed)\n",
    "\n",
    "    #save the best model\n",
    "    if val_loss < best_eval_loss:\n",
    "        best_eval_loss = val_loss\n",
    "        torch.save(model.state_dict(), model.name_or_path.split('/')[1]+'.saved.weights.pt')   "
   ]
  },
  {
   "cell_type": "code",
   "execution_count": 36,
   "id": "17c4616c-90ba-4b60-9e05-0300da795021",
   "metadata": {},
   "outputs": [
    {
     "data": {
      "text/plain": [
       "(10, 0.27978865422595006)"
      ]
     },
     "execution_count": 36,
     "metadata": {},
     "output_type": "execute_result"
    }
   ],
   "source": [
    "epoch_eval_loss.index(min(epoch_eval_loss)), min(epoch_eval_loss)"
   ]
  },
  {
   "cell_type": "code",
   "execution_count": 37,
   "id": "ac0022a1-dd6c-4bc9-b1d0-8646ff9d152b",
   "metadata": {},
   "outputs": [
    {
     "data": {
      "text/plain": [
       "523.4105961322784"
      ]
     },
     "execution_count": 37,
     "metadata": {},
     "output_type": "execute_result"
    }
   ],
   "source": [
    "epoch_train_time[epoch_eval_loss.index(min(epoch_eval_loss))]"
   ]
  },
  {
   "cell_type": "code",
   "execution_count": 38,
   "id": "f8ad5ad7-fb8e-475c-b84f-839d4246095e",
   "metadata": {},
   "outputs": [
    {
     "data": {
      "image/png": "[encoded data removed]",
      "text/plain": [
       "<Figure size 1500x500 with 1 Axes>"
      ]
     },
     "metadata": {},
     "output_type": "display_data"
    }
   ],
   "source": [
    "# Plotting training and validation loss\n",
    "plt.figure(figsize=(15, 5))\n",
    "plt.plot(np.arange(1, 21, 1), epoch_train_loss, label='Train Loss')\n",
    "plt.plot(np.arange(1, 21, 1), epoch_eval_loss, label='Eval Loss')\n",
    "plt.xticks(np.arange(1, 21, 1))\n",
    "plt.legend()\n",
    "plt.title('Loss over Epochs')\n",
    "plt.show();"
   ]
  },
  {
   "cell_type": "markdown",
   "id": "772153c4-11b6-471c-8944-be8f0ad838b9",
   "metadata": {},
   "source": [
    "### Загрузим лучшую сохраненную модель"
   ]
  },
  {
   "cell_type": "code",
   "execution_count": 40,
   "id": "041a311e-d32e-410e-a2ab-6040bbd68ee7",
   "metadata": {},
   "outputs": [
    {
     "data": {
      "text/plain": [
       "'ruT5-base.saved.weights.pt'"
      ]
     },
     "execution_count": 40,
     "metadata": {},
     "output_type": "execute_result"
    }
   ],
   "source": [
    "#loading the best saved model\n",
    "path = model.name_or_path.split('/')[1]+'.saved.weights.pt'\n",
    "path"
   ]
  },
  {
   "cell_type": "code",
   "execution_count": 41,
   "id": "e38df4a9-faa2-4bf6-9c00-520e7b0b4ad1",
   "metadata": {},
   "outputs": [
    {
     "data": {
      "text/plain": [
       "<All keys matched successfully>"
      ]
     },
     "execution_count": 41,
     "metadata": {},
     "output_type": "execute_result"
    }
   ],
   "source": [
    "model.load_state_dict(torch.load(path))"
   ]
  },
  {
   "cell_type": "code",
   "execution_count": 42,
   "id": "77269b9e-a994-44f0-adb1-583785488f75",
   "metadata": {
    "scrolled": true
   },
   "outputs": [
    {
     "data": {
      "text/plain": [
       "T5ForSequenceClassification(\n",
       "  (transformer): T5Model(\n",
       "    (shared): Embedding(32128, 768)\n",
       "    (encoder): T5Stack(\n",
       "      (embed_tokens): Embedding(32128, 768)\n",
       "      (block): ModuleList(\n",
       "        (0): T5Block(\n",
       "          (layer): ModuleList(\n",
       "            (0): T5LayerSelfAttention(\n",
       "              (SelfAttention): T5Attention(\n",
       "                (q): Linear(in_features=768, out_features=768, bias=False)\n",
       "                (k): Linear(in_features=768, out_features=768, bias=False)\n",
       "                (v): Linear(in_features=768, out_features=768, bias=False)\n",
       "                (o): Linear(in_features=768, out_features=768, bias=False)\n",
       "                (relative_attention_bias): Embedding(32, 12)\n",
       "              )\n",
       "              (layer_norm): T5LayerNorm()\n",
       "              (dropout): Dropout(p=0.1, inplace=False)\n",
       "            )\n",
       "            (1): T5LayerFF(\n",
       "              (DenseReluDense): T5DenseActDense(\n",
       "                (wi): Linear(in_features=768, out_features=3072, bias=False)\n",
       "                (wo): Linear(in_features=3072, out_features=768, bias=False)\n",
       "                (dropout): Dropout(p=0.1, inplace=False)\n",
       "                (act): ReLU()\n",
       "              )\n",
       "              (layer_norm): T5LayerNorm()\n",
       "              (dropout): Dropout(p=0.1, inplace=False)\n",
       "            )\n",
       "          )\n",
       "        )\n",
       "        (1-11): 11 x T5Block(\n",
       "          (layer): ModuleList(\n",
       "            (0): T5LayerSelfAttention(\n",
       "              (SelfAttention): T5Attention(\n",
       "                (q): Linear(in_features=768, out_features=768, bias=False)\n",
       "                (k): Linear(in_features=768, out_features=768, bias=False)\n",
       "                (v): Linear(in_features=768, out_features=768, bias=False)\n",
       "                (o): Linear(in_features=768, out_features=768, bias=False)\n",
       "              )\n",
       "              (layer_norm): T5LayerNorm()\n",
       "              (dropout): Dropout(p=0.1, inplace=False)\n",
       "            )\n",
       "            (1): T5LayerFF(\n",
       "              (DenseReluDense): T5DenseActDense(\n",
       "                (wi): Linear(in_features=768, out_features=3072, bias=False)\n",
       "                (wo): Linear(in_features=3072, out_features=768, bias=False)\n",
       "                (dropout): Dropout(p=0.1, inplace=False)\n",
       "                (act): ReLU()\n",
       "              )\n",
       "              (layer_norm): T5LayerNorm()\n",
       "              (dropout): Dropout(p=0.1, inplace=False)\n",
       "            )\n",
       "          )\n",
       "        )\n",
       "      )\n",
       "      (final_layer_norm): T5LayerNorm()\n",
       "      (dropout): Dropout(p=0.1, inplace=False)\n",
       "    )\n",
       "    (decoder): T5Stack(\n",
       "      (embed_tokens): Embedding(32128, 768)\n",
       "      (block): ModuleList(\n",
       "        (0): T5Block(\n",
       "          (layer): ModuleList(\n",
       "            (0): T5LayerSelfAttention(\n",
       "              (SelfAttention): T5Attention(\n",
       "                (q): Linear(in_features=768, out_features=768, bias=False)\n",
       "                (k): Linear(in_features=768, out_features=768, bias=False)\n",
       "                (v): Linear(in_features=768, out_features=768, bias=False)\n",
       "                (o): Linear(in_features=768, out_features=768, bias=False)\n",
       "                (relative_attention_bias): Embedding(32, 12)\n",
       "              )\n",
       "              (layer_norm): T5LayerNorm()\n",
       "              (dropout): Dropout(p=0.1, inplace=False)\n",
       "            )\n",
       "            (1): T5LayerCrossAttention(\n",
       "              (EncDecAttention): T5Attention(\n",
       "                (q): Linear(in_features=768, out_features=768, bias=False)\n",
       "                (k): Linear(in_features=768, out_features=768, bias=False)\n",
       "                (v): Linear(in_features=768, out_features=768, bias=False)\n",
       "                (o): Linear(in_features=768, out_features=768, bias=False)\n",
       "              )\n",
       "              (layer_norm): T5LayerNorm()\n",
       "              (dropout): Dropout(p=0.1, inplace=False)\n",
       "            )\n",
       "            (2): T5LayerFF(\n",
       "              (DenseReluDense): T5DenseActDense(\n",
       "                (wi): Linear(in_features=768, out_features=3072, bias=False)\n",
       "                (wo): Linear(in_features=3072, out_features=768, bias=False)\n",
       "                (dropout): Dropout(p=0.1, inplace=False)\n",
       "                (act): ReLU()\n",
       "              )\n",
       "              (layer_norm): T5LayerNorm()\n",
       "              (dropout): Dropout(p=0.1, inplace=False)\n",
       "            )\n",
       "          )\n",
       "        )\n",
       "        (1-11): 11 x T5Block(\n",
       "          (layer): ModuleList(\n",
       "            (0): T5LayerSelfAttention(\n",
       "              (SelfAttention): T5Attention(\n",
       "                (q): Linear(in_features=768, out_features=768, bias=False)\n",
       "                (k): Linear(in_features=768, out_features=768, bias=False)\n",
       "                (v): Linear(in_features=768, out_features=768, bias=False)\n",
       "                (o): Linear(in_features=768, out_features=768, bias=False)\n",
       "              )\n",
       "              (layer_norm): T5LayerNorm()\n",
       "              (dropout): Dropout(p=0.1, inplace=False)\n",
       "            )\n",
       "            (1): T5LayerCrossAttention(\n",
       "              (EncDecAttention): T5Attention(\n",
       "                (q): Linear(in_features=768, out_features=768, bias=False)\n",
       "                (k): Linear(in_features=768, out_features=768, bias=False)\n",
       "                (v): Linear(in_features=768, out_features=768, bias=False)\n",
       "                (o): Linear(in_features=768, out_features=768, bias=False)\n",
       "              )\n",
       "              (layer_norm): T5LayerNorm()\n",
       "              (dropout): Dropout(p=0.1, inplace=False)\n",
       "            )\n",
       "            (2): T5LayerFF(\n",
       "              (DenseReluDense): T5DenseActDense(\n",
       "                (wi): Linear(in_features=768, out_features=3072, bias=False)\n",
       "                (wo): Linear(in_features=3072, out_features=768, bias=False)\n",
       "                (dropout): Dropout(p=0.1, inplace=False)\n",
       "                (act): ReLU()\n",
       "              )\n",
       "              (layer_norm): T5LayerNorm()\n",
       "              (dropout): Dropout(p=0.1, inplace=False)\n",
       "            )\n",
       "          )\n",
       "        )\n",
       "      )\n",
       "      (final_layer_norm): T5LayerNorm()\n",
       "      (dropout): Dropout(p=0.1, inplace=False)\n",
       "    )\n",
       "  )\n",
       "  (classification_head): T5ClassificationHead(\n",
       "    (dense): Linear(in_features=768, out_features=768, bias=True)\n",
       "    (dropout): Dropout(p=0.0, inplace=False)\n",
       "    (out_proj): Linear(in_features=768, out_features=3, bias=True)\n",
       "  )\n",
       ")"
      ]
     },
     "execution_count": 42,
     "metadata": {},
     "output_type": "execute_result"
    }
   ],
   "source": [
    "model.to(device)"
   ]
  },
  {
   "cell_type": "code",
   "execution_count": 43,
   "id": "13f1c71b-9a3b-43a1-a926-53f3eeda9389",
   "metadata": {},
   "outputs": [
    {
     "data": {
      "application/vnd.jupyter.widget-view+json": {
       "model_id": "1c7d8bce0d724e708f49c6aa91c010de",
       "version_major": 2,
       "version_minor": 0
      },
      "text/plain": [
       "  0%|          | 0/53 [00:00<?, ?it/s]"
      ]
     },
     "metadata": {},
     "output_type": "display_data"
    },
    {
     "name": "stdout",
     "output_type": "stream",
     "text": [
      "Eval Loss 0.23466452016969616 Accuracy 0.9304556354916067\n"
     ]
    }
   ],
   "source": [
    "model.eval()\n",
    "test_losses = []\n",
    "test_preds = []\n",
    "test_targets = []\n",
    "\n",
    "for batch in tqdm(test_dataloader):\n",
    "    with torch.no_grad():\n",
    "            out = model(**batch.to(model.device))\n",
    "    test_losses.append(out.loss.item())\n",
    "    test_preds.extend(out.logits.argmax(1).tolist())\n",
    "    test_targets.extend(batch['labels'].tolist())\n",
    "\n",
    "print('Eval Loss', np.mean(test_losses), 'Accuracy', np.mean(np.array(test_targets) == test_preds))"
   ]
  },
  {
   "cell_type": "code",
   "execution_count": 44,
   "id": "0d3b5447-2798-4945-b37c-6a1561d425db",
   "metadata": {},
   "outputs": [
    {
     "data": {
      "text/plain": [
       "0.9304556354916067"
      ]
     },
     "execution_count": 44,
     "metadata": {},
     "output_type": "execute_result"
    }
   ],
   "source": [
    "accuracy_score(test_targets, test_preds)"
   ]
  },
  {
   "cell_type": "code",
   "execution_count": 45,
   "id": "301d2f5b-7ad7-4ad9-ae4b-83c95ba57ae2",
   "metadata": {},
   "outputs": [
    {
     "data": {
      "text/plain": [
       "array([[ 69,   1,   4],\n",
       "       [ 10,   1,   8],\n",
       "       [  6,   0, 318]])"
      ]
     },
     "execution_count": 45,
     "metadata": {},
     "output_type": "execute_result"
    }
   ],
   "source": [
    "confusion_matrix(test_targets, test_preds)"
   ]
  },
  {
   "cell_type": "markdown",
   "id": "56783f26-2a18-474b-a903-d6bd5505a537",
   "metadata": {},
   "source": [
    "### Создадим процедуру для оценки модели"
   ]
  },
  {
   "cell_type": "code",
   "execution_count": 47,
   "id": "dec857f7",
   "metadata": {},
   "outputs": [],
   "source": [
    "results = {}"
   ]
  },
  {
   "cell_type": "code",
   "execution_count": 48,
   "id": "d99518e4-0733-4dfa-a53c-483b9d7c2487",
   "metadata": {},
   "outputs": [],
   "source": [
    "def get_model_results(etime, vloss, dataloader, model):\n",
    "    \"\"\"\n",
    "        etime: List of accumulated train time for each epoch;\n",
    "        vloss: List of validation losses for each epoch;\n",
    "        dataloader: Dataloader for model; \n",
    "        model: Model to test;\n",
    "    \"\"\"\n",
    "    # количество эпох до достижения минимального значения loss на валидационной выборке,\n",
    "    min_epoch_num = vloss.index(min(vloss))\n",
    "    #общее время дообучения\n",
    "    total_train_time = etime[min_epoch_num]\n",
    "    #время, затрачиваемое на одну итерацию обучения\n",
    "    avg_train_step_time = etime[-1]/len(etime)\n",
    "\n",
    "    model.eval()\n",
    "    test_losses = []\n",
    "    test_preds = []\n",
    "    test_targets = []\n",
    "    \n",
    "    for batch in tqdm(test_dataloader):\n",
    "        with torch.no_grad():\n",
    "                out = model(**batch.to(model.device))\n",
    "        test_losses.append(out.loss.item())\n",
    "        test_preds.extend(out.logits.argmax(1).tolist())\n",
    "        test_targets.extend(batch['labels'].tolist())\n",
    "    \n",
    "    accuracy_metric = np.mean(np.array(test_targets) == test_preds)\n",
    "\n",
    "    print(f\"min_epoch: {min_epoch_num+1}, epoch_time: {avg_train_step_time}, total_train_time: {total_train_time}, accuracy: {accuracy_metric}\")\n",
    "    return [min_epoch_num+1, round(avg_train_step_time, 2), round(total_train_time, 2), round(accuracy_metric,4)]    "
   ]
  },
  {
   "cell_type": "code",
   "execution_count": 49,
   "id": "baf72667-039a-48c4-9b2d-fe6e36718bf6",
   "metadata": {},
   "outputs": [
    {
     "data": {
      "application/vnd.jupyter.widget-view+json": {
       "model_id": "4ae1d63b23614affa8a29690e0fe1e37",
       "version_major": 2,
       "version_minor": 0
      },
      "text/plain": [
       "  0%|          | 0/53 [00:00<?, ?it/s]"
      ]
     },
     "metadata": {},
     "output_type": "display_data"
    },
    {
     "name": "stdout",
     "output_type": "stream",
     "text": [
      "min_epoch: 11, epoch_time: 47.142826282978056, total_train_time: 523.4105961322784, accuracy: 0.9304556354916067\n"
     ]
    },
    {
     "data": {
      "text/plain": [
       "[11, 47.14, 523.41, 0.9305]"
      ]
     },
     "execution_count": 49,
     "metadata": {},
     "output_type": "execute_result"
    }
   ],
   "source": [
    "get_model_results(epoch_train_time, epoch_eval_loss, test_dataloader, model)"
   ]
  },
  {
   "cell_type": "markdown",
   "id": "31e62479-a9fe-4264-ab53-e1ac8320b14b",
   "metadata": {},
   "source": [
    "**Сохраним результаты**"
   ]
  },
  {
   "cell_type": "code",
   "execution_count": 51,
   "id": "ac1fd8fb-e11a-4497-b083-83e633fbb4bf",
   "metadata": {},
   "outputs": [
    {
     "data": {
      "application/vnd.jupyter.widget-view+json": {
       "model_id": "3b507dc673e14e8394d9164a43513faf",
       "version_major": 2,
       "version_minor": 0
      },
      "text/plain": [
       "  0%|          | 0/53 [00:00<?, ?it/s]"
      ]
     },
     "metadata": {},
     "output_type": "display_data"
    },
    {
     "name": "stdout",
     "output_type": "stream",
     "text": [
      "min_epoch: 11, epoch_time: 47.142826282978056, total_train_time: 523.4105961322784, accuracy: 0.9304556354916067\n"
     ]
    }
   ],
   "source": [
    "results[model.name_or_path.split('/')[1]] = get_model_results(epoch_train_time, epoch_eval_loss, test_dataloader, model)"
   ]
  },
  {
   "cell_type": "code",
   "execution_count": 52,
   "id": "48d61b20-fff0-4ed3-8db1-ff218777bafb",
   "metadata": {},
   "outputs": [
    {
     "data": {
      "text/html": [
       "<div>\n",
       "<style scoped>\n",
       "    .dataframe tbody tr th:only-of-type {\n",
       "        vertical-align: middle;\n",
       "    }\n",
       "\n",
       "    .dataframe tbody tr th {\n",
       "        vertical-align: top;\n",
       "    }\n",
       "\n",
       "    .dataframe thead th {\n",
       "        text-align: right;\n",
       "    }\n",
       "</style>\n",
       "<table border=\"1\" class=\"dataframe\">\n",
       "  <thead>\n",
       "    <tr style=\"text-align: right;\">\n",
       "      <th></th>\n",
       "      <th>Epoch num</th>\n",
       "      <th>Epoch avg time</th>\n",
       "      <th>Total train time</th>\n",
       "      <th>Accuracy</th>\n",
       "    </tr>\n",
       "  </thead>\n",
       "  <tbody>\n",
       "    <tr>\n",
       "      <th>ruT5-base</th>\n",
       "      <td>11.0</td>\n",
       "      <td>47.14</td>\n",
       "      <td>523.41</td>\n",
       "      <td>0.9305</td>\n",
       "    </tr>\n",
       "  </tbody>\n",
       "</table>\n",
       "</div>"
      ],
      "text/plain": [
       "           Epoch num  Epoch avg time  Total train time  Accuracy\n",
       "ruT5-base       11.0           47.14            523.41    0.9305"
      ]
     },
     "execution_count": 52,
     "metadata": {},
     "output_type": "execute_result"
    }
   ],
   "source": [
    "pd.DataFrame(results, index=['Epoch num','Epoch avg time','Total train time','Accuracy']).T"
   ]
  },
  {
   "cell_type": "markdown",
   "id": "8b5378c9",
   "metadata": {},
   "source": [
    "## 2.2 Google/mT5-base"
   ]
  },
  {
   "cell_type": "code",
   "execution_count": 54,
   "id": "feb2d3d8",
   "metadata": {},
   "outputs": [],
   "source": [
    "base_model = 'google/mt5-base'"
   ]
  },
  {
   "cell_type": "code",
   "execution_count": 55,
   "id": "9b9e1076-d54e-43a1-9b4c-2abfa93f5400",
   "metadata": {
    "scrolled": true
   },
   "outputs": [
    {
     "data": {
      "text/plain": [
       "T5TokenizerFast(name_or_path='google/mt5-base', vocab_size=250100, model_max_length=1000000000000000019884624838656, is_fast=True, padding_side='right', truncation_side='right', special_tokens={'eos_token': '</s>', 'unk_token': '<unk>', 'pad_token': '<pad>'}, clean_up_tokenization_spaces=False, added_tokens_decoder={\n",
       "\t0: AddedToken(\"<pad>\", rstrip=False, lstrip=False, single_word=False, normalized=False, special=True),\n",
       "\t1: AddedToken(\"</s>\", rstrip=False, lstrip=False, single_word=False, normalized=False, special=True),\n",
       "\t2: AddedToken(\"<unk>\", rstrip=False, lstrip=False, single_word=False, normalized=False, special=True),\n",
       "\t250000: AddedToken(\"▁<extra_id_99>\", rstrip=False, lstrip=False, single_word=False, normalized=False, special=False),\n",
       "\t250001: AddedToken(\"▁<extra_id_98>\", rstrip=False, lstrip=False, single_word=False, normalized=False, special=False),\n",
       "\t250002: AddedToken(\"▁<extra_id_97>\", rstrip=False, lstrip=False, single_word=False, normalized=False, special=False),\n",
       "\t250003: AddedToken(\"▁<extra_id_96>\", rstrip=False, lstrip=False, single_word=False, normalized=False, special=False),\n",
       "\t250004: AddedToken(\"▁<extra_id_95>\", rstrip=False, lstrip=False, single_word=False, normalized=False, special=False),\n",
       "\t250005: AddedToken(\"▁<extra_id_94>\", rstrip=False, lstrip=False, single_word=False, normalized=False, special=False),\n",
       "\t250006: AddedToken(\"▁<extra_id_93>\", rstrip=False, lstrip=False, single_word=False, normalized=False, special=False),\n",
       "\t250007: AddedToken(\"▁<extra_id_92>\", rstrip=False, lstrip=False, single_word=False, normalized=False, special=False),\n",
       "\t250008: AddedToken(\"▁<extra_id_91>\", rstrip=False, lstrip=False, single_word=False, normalized=False, special=False),\n",
       "\t250009: AddedToken(\"▁<extra_id_90>\", rstrip=False, lstrip=False, single_word=False, normalized=False, special=False),\n",
       "\t250010: AddedToken(\"▁<extra_id_89>\", rstrip=False, lstrip=False, single_word=False, normalized=False, special=False),\n",
       "\t250011: AddedToken(\"▁<extra_id_88>\", rstrip=False, lstrip=False, single_word=False, normalized=False, special=False),\n",
       "\t250012: AddedToken(\"▁<extra_id_87>\", rstrip=False, lstrip=False, single_word=False, normalized=False, special=False),\n",
       "\t250013: AddedToken(\"▁<extra_id_86>\", rstrip=False, lstrip=False, single_word=False, normalized=False, special=False),\n",
       "\t250014: AddedToken(\"▁<extra_id_85>\", rstrip=False, lstrip=False, single_word=False, normalized=False, special=False),\n",
       "\t250015: AddedToken(\"▁<extra_id_84>\", rstrip=False, lstrip=False, single_word=False, normalized=False, special=False),\n",
       "\t250016: AddedToken(\"▁<extra_id_83>\", rstrip=False, lstrip=False, single_word=False, normalized=False, special=False),\n",
       "\t250017: AddedToken(\"▁<extra_id_82>\", rstrip=False, lstrip=False, single_word=False, normalized=False, special=False),\n",
       "\t250018: AddedToken(\"▁<extra_id_81>\", rstrip=False, lstrip=False, single_word=False, normalized=False, special=False),\n",
       "\t250019: AddedToken(\"▁<extra_id_80>\", rstrip=False, lstrip=False, single_word=False, normalized=False, special=False),\n",
       "\t250020: AddedToken(\"▁<extra_id_79>\", rstrip=False, lstrip=False, single_word=False, normalized=False, special=False),\n",
       "\t250021: AddedToken(\"▁<extra_id_78>\", rstrip=False, lstrip=False, single_word=False, normalized=False, special=False),\n",
       "\t250022: AddedToken(\"▁<extra_id_77>\", rstrip=False, lstrip=False, single_word=False, normalized=False, special=False),\n",
       "\t250023: AddedToken(\"▁<extra_id_76>\", rstrip=False, lstrip=False, single_word=False, normalized=False, special=False),\n",
       "\t250024: AddedToken(\"▁<extra_id_75>\", rstrip=False, lstrip=False, single_word=False, normalized=False, special=False),\n",
       "\t250025: AddedToken(\"▁<extra_id_74>\", rstrip=False, lstrip=False, single_word=False, normalized=False, special=False),\n",
       "\t250026: AddedToken(\"▁<extra_id_73>\", rstrip=False, lstrip=False, single_word=False, normalized=False, special=False),\n",
       "\t250027: AddedToken(\"▁<extra_id_72>\", rstrip=False, lstrip=False, single_word=False, normalized=False, special=False),\n",
       "\t250028: AddedToken(\"▁<extra_id_71>\", rstrip=False, lstrip=False, single_word=False, normalized=False, special=False),\n",
       "\t250029: AddedToken(\"▁<extra_id_70>\", rstrip=False, lstrip=False, single_word=False, normalized=False, special=False),\n",
       "\t250030: AddedToken(\"▁<extra_id_69>\", rstrip=False, lstrip=False, single_word=False, normalized=False, special=False),\n",
       "\t250031: AddedToken(\"▁<extra_id_68>\", rstrip=False, lstrip=False, single_word=False, normalized=False, special=False),\n",
       "\t250032: AddedToken(\"▁<extra_id_67>\", rstrip=False, lstrip=False, single_word=False, normalized=False, special=False),\n",
       "\t250033: AddedToken(\"▁<extra_id_66>\", rstrip=False, lstrip=False, single_word=False, normalized=False, special=False),\n",
       "\t250034: AddedToken(\"▁<extra_id_65>\", rstrip=False, lstrip=False, single_word=False, normalized=False, special=False),\n",
       "\t250035: AddedToken(\"▁<extra_id_64>\", rstrip=False, lstrip=False, single_word=False, normalized=False, special=False),\n",
       "\t250036: AddedToken(\"▁<extra_id_63>\", rstrip=False, lstrip=False, single_word=False, normalized=False, special=False),\n",
       "\t250037: AddedToken(\"▁<extra_id_62>\", rstrip=False, lstrip=False, single_word=False, normalized=False, special=False),\n",
       "\t250038: AddedToken(\"▁<extra_id_61>\", rstrip=False, lstrip=False, single_word=False, normalized=False, special=False),\n",
       "\t250039: AddedToken(\"▁<extra_id_60>\", rstrip=False, lstrip=False, single_word=False, normalized=False, special=False),\n",
       "\t250040: AddedToken(\"▁<extra_id_59>\", rstrip=False, lstrip=False, single_word=False, normalized=False, special=False),\n",
       "\t250041: AddedToken(\"▁<extra_id_58>\", rstrip=False, lstrip=False, single_word=False, normalized=False, special=False),\n",
       "\t250042: AddedToken(\"▁<extra_id_57>\", rstrip=False, lstrip=False, single_word=False, normalized=False, special=False),\n",
       "\t250043: AddedToken(\"▁<extra_id_56>\", rstrip=False, lstrip=False, single_word=False, normalized=False, special=False),\n",
       "\t250044: AddedToken(\"▁<extra_id_55>\", rstrip=False, lstrip=False, single_word=False, normalized=False, special=False),\n",
       "\t250045: AddedToken(\"▁<extra_id_54>\", rstrip=False, lstrip=False, single_word=False, normalized=False, special=False),\n",
       "\t250046: AddedToken(\"▁<extra_id_53>\", rstrip=False, lstrip=False, single_word=False, normalized=False, special=False),\n",
       "\t250047: AddedToken(\"▁<extra_id_52>\", rstrip=False, lstrip=False, single_word=False, normalized=False, special=False),\n",
       "\t250048: AddedToken(\"▁<extra_id_51>\", rstrip=False, lstrip=False, single_word=False, normalized=False, special=False),\n",
       "\t250049: AddedToken(\"▁<extra_id_50>\", rstrip=False, lstrip=False, single_word=False, normalized=False, special=False),\n",
       "\t250050: AddedToken(\"▁<extra_id_49>\", rstrip=False, lstrip=False, single_word=False, normalized=False, special=False),\n",
       "\t250051: AddedToken(\"▁<extra_id_48>\", rstrip=False, lstrip=False, single_word=False, normalized=False, special=False),\n",
       "\t250052: AddedToken(\"▁<extra_id_47>\", rstrip=False, lstrip=False, single_word=False, normalized=False, special=False),\n",
       "\t250053: AddedToken(\"▁<extra_id_46>\", rstrip=False, lstrip=False, single_word=False, normalized=False, special=False),\n",
       "\t250054: AddedToken(\"▁<extra_id_45>\", rstrip=False, lstrip=False, single_word=False, normalized=False, special=False),\n",
       "\t250055: AddedToken(\"▁<extra_id_44>\", rstrip=False, lstrip=False, single_word=False, normalized=False, special=False),\n",
       "\t250056: AddedToken(\"▁<extra_id_43>\", rstrip=False, lstrip=False, single_word=False, normalized=False, special=False),\n",
       "\t250057: AddedToken(\"▁<extra_id_42>\", rstrip=False, lstrip=False, single_word=False, normalized=False, special=False),\n",
       "\t250058: AddedToken(\"▁<extra_id_41>\", rstrip=False, lstrip=False, single_word=False, normalized=False, special=False),\n",
       "\t250059: AddedToken(\"▁<extra_id_40>\", rstrip=False, lstrip=False, single_word=False, normalized=False, special=False),\n",
       "\t250060: AddedToken(\"▁<extra_id_39>\", rstrip=False, lstrip=False, single_word=False, normalized=False, special=False),\n",
       "\t250061: AddedToken(\"▁<extra_id_38>\", rstrip=False, lstrip=False, single_word=False, normalized=False, special=False),\n",
       "\t250062: AddedToken(\"▁<extra_id_37>\", rstrip=False, lstrip=False, single_word=False, normalized=False, special=False),\n",
       "\t250063: AddedToken(\"▁<extra_id_36>\", rstrip=False, lstrip=False, single_word=False, normalized=False, special=False),\n",
       "\t250064: AddedToken(\"▁<extra_id_35>\", rstrip=False, lstrip=False, single_word=False, normalized=False, special=False),\n",
       "\t250065: AddedToken(\"▁<extra_id_34>\", rstrip=False, lstrip=False, single_word=False, normalized=False, special=False),\n",
       "\t250066: AddedToken(\"▁<extra_id_33>\", rstrip=False, lstrip=False, single_word=False, normalized=False, special=False),\n",
       "\t250067: AddedToken(\"▁<extra_id_32>\", rstrip=False, lstrip=False, single_word=False, normalized=False, special=False),\n",
       "\t250068: AddedToken(\"▁<extra_id_31>\", rstrip=False, lstrip=False, single_word=False, normalized=False, special=False),\n",
       "\t250069: AddedToken(\"▁<extra_id_30>\", rstrip=False, lstrip=False, single_word=False, normalized=False, special=False),\n",
       "\t250070: AddedToken(\"▁<extra_id_29>\", rstrip=False, lstrip=False, single_word=False, normalized=False, special=False),\n",
       "\t250071: AddedToken(\"▁<extra_id_28>\", rstrip=False, lstrip=False, single_word=False, normalized=False, special=False),\n",
       "\t250072: AddedToken(\"▁<extra_id_27>\", rstrip=False, lstrip=False, single_word=False, normalized=False, special=False),\n",
       "\t250073: AddedToken(\"▁<extra_id_26>\", rstrip=False, lstrip=False, single_word=False, normalized=False, special=False),\n",
       "\t250074: AddedToken(\"▁<extra_id_25>\", rstrip=False, lstrip=False, single_word=False, normalized=False, special=False),\n",
       "\t250075: AddedToken(\"▁<extra_id_24>\", rstrip=False, lstrip=False, single_word=False, normalized=False, special=False),\n",
       "\t250076: AddedToken(\"▁<extra_id_23>\", rstrip=False, lstrip=False, single_word=False, normalized=False, special=False),\n",
       "\t250077: AddedToken(\"▁<extra_id_22>\", rstrip=False, lstrip=False, single_word=False, normalized=False, special=False),\n",
       "\t250078: AddedToken(\"▁<extra_id_21>\", rstrip=False, lstrip=False, single_word=False, normalized=False, special=False),\n",
       "\t250079: AddedToken(\"▁<extra_id_20>\", rstrip=False, lstrip=False, single_word=False, normalized=False, special=False),\n",
       "\t250080: AddedToken(\"▁<extra_id_19>\", rstrip=False, lstrip=False, single_word=False, normalized=False, special=False),\n",
       "\t250081: AddedToken(\"▁<extra_id_18>\", rstrip=False, lstrip=False, single_word=False, normalized=False, special=False),\n",
       "\t250082: AddedToken(\"▁<extra_id_17>\", rstrip=False, lstrip=False, single_word=False, normalized=False, special=False),\n",
       "\t250083: AddedToken(\"▁<extra_id_16>\", rstrip=False, lstrip=False, single_word=False, normalized=False, special=False),\n",
       "\t250084: AddedToken(\"▁<extra_id_15>\", rstrip=False, lstrip=False, single_word=False, normalized=False, special=False),\n",
       "\t250085: AddedToken(\"▁<extra_id_14>\", rstrip=False, lstrip=False, single_word=False, normalized=False, special=False),\n",
       "\t250086: AddedToken(\"▁<extra_id_13>\", rstrip=False, lstrip=False, single_word=False, normalized=False, special=False),\n",
       "\t250087: AddedToken(\"▁<extra_id_12>\", rstrip=False, lstrip=False, single_word=False, normalized=False, special=False),\n",
       "\t250088: AddedToken(\"▁<extra_id_11>\", rstrip=False, lstrip=False, single_word=False, normalized=False, special=False),\n",
       "\t250089: AddedToken(\"▁<extra_id_10>\", rstrip=False, lstrip=False, single_word=False, normalized=False, special=False),\n",
       "\t250090: AddedToken(\"▁<extra_id_9>\", rstrip=False, lstrip=False, single_word=False, normalized=False, special=False),\n",
       "\t250091: AddedToken(\"▁<extra_id_8>\", rstrip=False, lstrip=False, single_word=False, normalized=False, special=False),\n",
       "\t250092: AddedToken(\"▁<extra_id_7>\", rstrip=False, lstrip=False, single_word=False, normalized=False, special=False),\n",
       "\t250093: AddedToken(\"▁<extra_id_6>\", rstrip=False, lstrip=False, single_word=False, normalized=False, special=False),\n",
       "\t250094: AddedToken(\"▁<extra_id_5>\", rstrip=False, lstrip=False, single_word=False, normalized=False, special=False),\n",
       "\t250095: AddedToken(\"▁<extra_id_4>\", rstrip=False, lstrip=False, single_word=False, normalized=False, special=False),\n",
       "\t250096: AddedToken(\"▁<extra_id_3>\", rstrip=False, lstrip=False, single_word=False, normalized=False, special=False),\n",
       "\t250097: AddedToken(\"▁<extra_id_2>\", rstrip=False, lstrip=False, single_word=False, normalized=False, special=False),\n",
       "\t250098: AddedToken(\"▁<extra_id_1>\", rstrip=False, lstrip=False, single_word=False, normalized=False, special=False),\n",
       "\t250099: AddedToken(\"▁<extra_id_0>\", rstrip=False, lstrip=False, single_word=False, normalized=False, special=False),\n",
       "}\n",
       ")"
      ]
     },
     "execution_count": 55,
     "metadata": {},
     "output_type": "execute_result"
    }
   ],
   "source": [
    "tokenizer = AutoTokenizer.from_pretrained(base_model)\n",
    "tokenizer"
   ]
  },
  {
   "cell_type": "code",
   "execution_count": 56,
   "id": "898d414e-cf76-4412-a50c-7dbdcbc704ba",
   "metadata": {},
   "outputs": [
    {
     "data": {
      "application/vnd.jupyter.widget-view+json": {
       "model_id": "d3e8413f5bec4a89b9e0c293f3bc7afb",
       "version_major": 2,
       "version_minor": 0
      },
      "text/plain": [
       "Map:   0%|          | 0/1943 [00:00<?, ? examples/s]"
      ]
     },
     "metadata": {},
     "output_type": "display_data"
    },
    {
     "data": {
      "application/vnd.jupyter.widget-view+json": {
       "model_id": "fb67c94989ad45c59f56c1f0c2f59028",
       "version_major": 2,
       "version_minor": 0
      },
      "text/plain": [
       "Map:   0%|          | 0/416 [00:00<?, ? examples/s]"
      ]
     },
     "metadata": {},
     "output_type": "display_data"
    },
    {
     "data": {
      "application/vnd.jupyter.widget-view+json": {
       "model_id": "1bc1994ea7d143859c98add528d0f963",
       "version_major": 2,
       "version_minor": 0
      },
      "text/plain": [
       "Map:   0%|          | 0/417 [00:00<?, ? examples/s]"
      ]
     },
     "metadata": {},
     "output_type": "display_data"
    },
    {
     "data": {
      "text/plain": [
       "DatasetDict({\n",
       "    train: Dataset({\n",
       "        features: ['label', 'input_ids', 'attention_mask'],\n",
       "        num_rows: 1943\n",
       "    })\n",
       "    validation: Dataset({\n",
       "        features: ['label', 'input_ids', 'attention_mask'],\n",
       "        num_rows: 416\n",
       "    })\n",
       "    test: Dataset({\n",
       "        features: ['label', 'input_ids', 'attention_mask'],\n",
       "        num_rows: 417\n",
       "    })\n",
       "})"
      ]
     },
     "execution_count": 56,
     "metadata": {},
     "output_type": "execute_result"
    }
   ],
   "source": [
    "data_tokenized = data.map(lambda x: tokenizer(x['text'], truncation=True, max_length=512), batched=True, remove_columns=['text'])\n",
    "data_tokenized"
   ]
  },
  {
   "cell_type": "code",
   "execution_count": 57,
   "id": "0c16d7e8-ef6a-4a31-a38e-f3376a1559d0",
   "metadata": {},
   "outputs": [
    {
     "name": "stdout",
     "output_type": "stream",
     "text": [
      "{'label': 2, 'input_ids': [11378, 66587, 1965, 6682, 86685, 308, 315, 2527, 507, 374, 197306, 507, 38458, 324, 34788, 433, 259, 260, 1213, 259, 260, 259, 173013, 259, 45253, 315, 16859, 2738, 259, 15631, 315, 12643, 2738, 4278, 324, 259, 260, 18819, 38458, 805, 38072, 324, 315, 5107, 26126, 259, 4150, 259, 411, 3752, 507, 259, 279, 259, 279, 220289, 7077, 259, 260, 635, 38458, 324, 5608, 259, 63131, 308, 388, 425, 106923, 84778, 9894, 8050, 259, 42850, 78883, 259, 261, 2021, 1431, 3206, 20253, 30468, 1348, 259, 4150, 310, 37935, 3330, 259, 279, 259, 131924, 5870, 259, 261, 12643, 3053, 11121, 259, 735, 6682, 54310, 259, 279, 259, 735, 13324, 1035, 36916, 1454, 154354, 49995, 688, 62032, 191830, 54896, 140724, 259, 9249, 44616, 324, 1498, 1011, 32550, 817, 446, 2934, 259, 260, 81622, 1431, 60357, 259, 261, 75376, 259, 185407, 9273, 259, 48940, 259, 261, 34298, 1431, 1182, 73939, 259, 279, 778, 24816, 1066, 259, 264, 313, 2553, 24911, 558, 313, 259, 261, 4177, 893, 15541, 308, 401, 259, 4466, 259, 260, 259, 84838, 22927, 1655, 425, 30998, 259, 23765, 3926, 313, 21237, 64948, 313, 425, 158859, 748, 259, 260, 259, 216696, 920, 3933, 259, 5711, 259, 67260, 26060, 259, 279, 259, 158398, 1126, 315, 259, 71145, 279, 259, 261, 892, 259, 5711, 259, 22348, 259, 260, 3540, 3262, 2531, 2385, 893, 259, 71145, 396, 259, 261, 1285, 40043, 279, 29379, 5190, 259, 279, 7388, 77260, 10375, 388, 129302, 15743, 3933, 279, 49744, 44564, 315, 45720, 34651, 637, 259, 260, 259, 15088, 57055, 52464, 259, 110750, 259, 260, 1051, 310, 18569, 24566, 1108, 40458, 37845, 87261, 279, 10884, 7555, 1140, 127091, 543, 259, 261, 259, 279, 922, 3262, 401, 21606, 1044, 10263, 1701, 27547, 3378, 264, 110134, 15836, 917, 7626, 43896, 315, 733, 259, 261, 259, 4690, 259, 107365, 616, 14587, 2223, 805, 111376, 3926, 2748, 138747, 19336, 425, 90959, 1121, 22256, 7378, 324, 259, 261, 14526, 396, 28239, 12269, 18600, 2536, 14587, 989, 259, 260, 121172, 126979, 84437, 60335, 180814, 72443, 259, 260, 259, 84838, 22927, 1655, 259, 6486, 456, 147338, 315, 20558, 55196, 354, 259, 261, 315, 9414, 324, 98171, 5774, 82598, 168005, 40965, 6488, 259, 261, 401, 47304, 22428, 1633, 259, 279, 401, 38789, 944, 16859, 1626, 259, 261, 1285, 19874, 17666, 9894, 433, 315, 259, 23765, 2738, 13593, 324, 3933, 279, 13365, 44564, 57489, 315, 5107, 310, 9227, 77260, 5168, 259, 279, 129302, 24072, 259, 261, 6325, 22200, 31590, 433, 104539, 616, 22428, 411, 259, 260, 3540, 3262, 5774, 259, 279, 12639, 817, 82598, 168005, 259, 63131, 946, 425, 106923, 84778, 259, 279, 16859, 1609, 259, 49584, 183347, 274, 892, 62503, 2223, 118894, 17859, 259, 279, 115338, 47002, 259, 271, 388, 259, 5456, 259, 221081, 1609, 1182, 49914, 4238, 259, 260, 1051, 12639, 637, 18361, 1108, 4338, 11354, 259, 8226, 1366, 259, 279, 1974, 1965, 259, 15743, 679, 259, 261, 922, 3262, 4338, 11354, 22428, 3002, 32600, 17859, 729, 2021, 1827, 259, 3394, 25340, 1296, 217334, 7357, 1633, 259, 63131, 259, 260, 4716, 106948, 324, 259, 75592, 259, 171199, 1344, 99313, 324, 259, 279, 45866, 354, 374, 259, 94835, 324, 1], 'attention_mask': [1, 1, 1, 1, 1, 1, 1, 1, 1, 1, 1, 1, 1, 1, 1, 1, 1, 1, 1, 1, 1, 1, 1, 1, 1, 1, 1, 1, 1, 1, 1, 1, 1, 1, 1, 1, 1, 1, 1, 1, 1, 1, 1, 1, 1, 1, 1, 1, 1, 1, 1, 1, 1, 1, 1, 1, 1, 1, 1, 1, 1, 1, 1, 1, 1, 1, 1, 1, 1, 1, 1, 1, 1, 1, 1, 1, 1, 1, 1, 1, 1, 1, 1, 1, 1, 1, 1, 1, 1, 1, 1, 1, 1, 1, 1, 1, 1, 1, 1, 1, 1, 1, 1, 1, 1, 1, 1, 1, 1, 1, 1, 1, 1, 1, 1, 1, 1, 1, 1, 1, 1, 1, 1, 1, 1, 1, 1, 1, 1, 1, 1, 1, 1, 1, 1, 1, 1, 1, 1, 1, 1, 1, 1, 1, 1, 1, 1, 1, 1, 1, 1, 1, 1, 1, 1, 1, 1, 1, 1, 1, 1, 1, 1, 1, 1, 1, 1, 1, 1, 1, 1, 1, 1, 1, 1, 1, 1, 1, 1, 1, 1, 1, 1, 1, 1, 1, 1, 1, 1, 1, 1, 1, 1, 1, 1, 1, 1, 1, 1, 1, 1, 1, 1, 1, 1, 1, 1, 1, 1, 1, 1, 1, 1, 1, 1, 1, 1, 1, 1, 1, 1, 1, 1, 1, 1, 1, 1, 1, 1, 1, 1, 1, 1, 1, 1, 1, 1, 1, 1, 1, 1, 1, 1, 1, 1, 1, 1, 1, 1, 1, 1, 1, 1, 1, 1, 1, 1, 1, 1, 1, 1, 1, 1, 1, 1, 1, 1, 1, 1, 1, 1, 1, 1, 1, 1, 1, 1, 1, 1, 1, 1, 1, 1, 1, 1, 1, 1, 1, 1, 1, 1, 1, 1, 1, 1, 1, 1, 1, 1, 1, 1, 1, 1, 1, 1, 1, 1, 1, 1, 1, 1, 1, 1, 1, 1, 1, 1, 1, 1, 1, 1, 1, 1, 1, 1, 1, 1, 1, 1, 1, 1, 1, 1, 1, 1, 1, 1, 1, 1, 1, 1, 1, 1, 1, 1, 1, 1, 1, 1, 1, 1, 1, 1, 1, 1, 1, 1, 1, 1, 1, 1, 1, 1, 1, 1, 1, 1, 1, 1, 1, 1, 1, 1, 1, 1, 1, 1, 1, 1, 1, 1, 1, 1, 1, 1, 1, 1, 1, 1, 1, 1, 1, 1, 1, 1, 1, 1, 1, 1, 1, 1, 1, 1, 1, 1, 1, 1, 1, 1, 1, 1, 1, 1, 1, 1, 1, 1, 1, 1, 1, 1, 1, 1, 1, 1, 1, 1, 1, 1, 1, 1, 1, 1, 1, 1, 1, 1, 1, 1, 1, 1, 1, 1, 1, 1, 1, 1, 1, 1, 1, 1, 1, 1, 1, 1, 1, 1, 1, 1, 1, 1, 1, 1, 1, 1, 1, 1, 1, 1, 1, 1, 1, 1, 1, 1, 1, 1, 1, 1, 1, 1, 1, 1, 1, 1, 1, 1, 1, 1, 1, 1, 1, 1, 1, 1, 1, 1, 1, 1, 1, 1, 1, 1, 1, 1, 1, 1, 1, 1, 1, 1, 1]}\n"
     ]
    }
   ],
   "source": [
    "print(data_tokenized['train'][0])"
   ]
  },
  {
   "cell_type": "code",
   "execution_count": 58,
   "id": "44022398-3b56-4116-b0ed-13d65a5a097d",
   "metadata": {},
   "outputs": [],
   "source": [
    "collator = DataCollatorWithPadding(tokenizer=tokenizer)"
   ]
  },
  {
   "cell_type": "code",
   "execution_count": 59,
   "id": "1d9daeb9-dea4-4cdf-a5cc-941ec02b5f9e",
   "metadata": {},
   "outputs": [],
   "source": [
    "train_dataloader = DataLoader(data_tokenized['train'], shuffle=True, batch_size=4, collate_fn=collator)\n",
    "val_dataloader = DataLoader(data_tokenized['validation'], shuffle=False, batch_size=4, collate_fn=collator)\n",
    "test_dataloader = DataLoader(data_tokenized['test'], shuffle=False, batch_size=4, collate_fn=collator)"
   ]
  },
  {
   "cell_type": "code",
   "execution_count": 60,
   "id": "e6f00b4e",
   "metadata": {
    "scrolled": true
   },
   "outputs": [
    {
     "name": "stderr",
     "output_type": "stream",
     "text": [
      "Some weights of MT5ForSequenceClassification were not initialized from the model checkpoint at google/mt5-base and are newly initialized: ['classification_head.dense.bias', 'classification_head.dense.weight', 'classification_head.out_proj.bias', 'classification_head.out_proj.weight']\n",
      "You should probably TRAIN this model on a down-stream task to be able to use it for predictions and inference.\n"
     ]
    },
    {
     "data": {
      "text/plain": [
       "MT5ForSequenceClassification(\n",
       "  (transformer): MT5Model(\n",
       "    (shared): Embedding(250112, 768)\n",
       "    (encoder): MT5Stack(\n",
       "      (embed_tokens): Embedding(250112, 768)\n",
       "      (block): ModuleList(\n",
       "        (0): MT5Block(\n",
       "          (layer): ModuleList(\n",
       "            (0): MT5LayerSelfAttention(\n",
       "              (SelfAttention): MT5Attention(\n",
       "                (q): Linear(in_features=768, out_features=768, bias=False)\n",
       "                (k): Linear(in_features=768, out_features=768, bias=False)\n",
       "                (v): Linear(in_features=768, out_features=768, bias=False)\n",
       "                (o): Linear(in_features=768, out_features=768, bias=False)\n",
       "                (relative_attention_bias): Embedding(32, 12)\n",
       "              )\n",
       "              (layer_norm): MT5LayerNorm()\n",
       "              (dropout): Dropout(p=0.1, inplace=False)\n",
       "            )\n",
       "            (1): MT5LayerFF(\n",
       "              (DenseReluDense): MT5DenseGatedActDense(\n",
       "                (wi_0): Linear(in_features=768, out_features=2048, bias=False)\n",
       "                (wi_1): Linear(in_features=768, out_features=2048, bias=False)\n",
       "                (wo): Linear(in_features=2048, out_features=768, bias=False)\n",
       "                (dropout): Dropout(p=0.1, inplace=False)\n",
       "                (act): NewGELUActivation()\n",
       "              )\n",
       "              (layer_norm): MT5LayerNorm()\n",
       "              (dropout): Dropout(p=0.1, inplace=False)\n",
       "            )\n",
       "          )\n",
       "        )\n",
       "        (1-11): 11 x MT5Block(\n",
       "          (layer): ModuleList(\n",
       "            (0): MT5LayerSelfAttention(\n",
       "              (SelfAttention): MT5Attention(\n",
       "                (q): Linear(in_features=768, out_features=768, bias=False)\n",
       "                (k): Linear(in_features=768, out_features=768, bias=False)\n",
       "                (v): Linear(in_features=768, out_features=768, bias=False)\n",
       "                (o): Linear(in_features=768, out_features=768, bias=False)\n",
       "              )\n",
       "              (layer_norm): MT5LayerNorm()\n",
       "              (dropout): Dropout(p=0.1, inplace=False)\n",
       "            )\n",
       "            (1): MT5LayerFF(\n",
       "              (DenseReluDense): MT5DenseGatedActDense(\n",
       "                (wi_0): Linear(in_features=768, out_features=2048, bias=False)\n",
       "                (wi_1): Linear(in_features=768, out_features=2048, bias=False)\n",
       "                (wo): Linear(in_features=2048, out_features=768, bias=False)\n",
       "                (dropout): Dropout(p=0.1, inplace=False)\n",
       "                (act): NewGELUActivation()\n",
       "              )\n",
       "              (layer_norm): MT5LayerNorm()\n",
       "              (dropout): Dropout(p=0.1, inplace=False)\n",
       "            )\n",
       "          )\n",
       "        )\n",
       "      )\n",
       "      (final_layer_norm): MT5LayerNorm()\n",
       "      (dropout): Dropout(p=0.1, inplace=False)\n",
       "    )\n",
       "    (decoder): MT5Stack(\n",
       "      (embed_tokens): Embedding(250112, 768)\n",
       "      (block): ModuleList(\n",
       "        (0): MT5Block(\n",
       "          (layer): ModuleList(\n",
       "            (0): MT5LayerSelfAttention(\n",
       "              (SelfAttention): MT5Attention(\n",
       "                (q): Linear(in_features=768, out_features=768, bias=False)\n",
       "                (k): Linear(in_features=768, out_features=768, bias=False)\n",
       "                (v): Linear(in_features=768, out_features=768, bias=False)\n",
       "                (o): Linear(in_features=768, out_features=768, bias=False)\n",
       "                (relative_attention_bias): Embedding(32, 12)\n",
       "              )\n",
       "              (layer_norm): MT5LayerNorm()\n",
       "              (dropout): Dropout(p=0.1, inplace=False)\n",
       "            )\n",
       "            (1): MT5LayerCrossAttention(\n",
       "              (EncDecAttention): MT5Attention(\n",
       "                (q): Linear(in_features=768, out_features=768, bias=False)\n",
       "                (k): Linear(in_features=768, out_features=768, bias=False)\n",
       "                (v): Linear(in_features=768, out_features=768, bias=False)\n",
       "                (o): Linear(in_features=768, out_features=768, bias=False)\n",
       "              )\n",
       "              (layer_norm): MT5LayerNorm()\n",
       "              (dropout): Dropout(p=0.1, inplace=False)\n",
       "            )\n",
       "            (2): MT5LayerFF(\n",
       "              (DenseReluDense): MT5DenseGatedActDense(\n",
       "                (wi_0): Linear(in_features=768, out_features=2048, bias=False)\n",
       "                (wi_1): Linear(in_features=768, out_features=2048, bias=False)\n",
       "                (wo): Linear(in_features=2048, out_features=768, bias=False)\n",
       "                (dropout): Dropout(p=0.1, inplace=False)\n",
       "                (act): NewGELUActivation()\n",
       "              )\n",
       "              (layer_norm): MT5LayerNorm()\n",
       "              (dropout): Dropout(p=0.1, inplace=False)\n",
       "            )\n",
       "          )\n",
       "        )\n",
       "        (1-11): 11 x MT5Block(\n",
       "          (layer): ModuleList(\n",
       "            (0): MT5LayerSelfAttention(\n",
       "              (SelfAttention): MT5Attention(\n",
       "                (q): Linear(in_features=768, out_features=768, bias=False)\n",
       "                (k): Linear(in_features=768, out_features=768, bias=False)\n",
       "                (v): Linear(in_features=768, out_features=768, bias=False)\n",
       "                (o): Linear(in_features=768, out_features=768, bias=False)\n",
       "              )\n",
       "              (layer_norm): MT5LayerNorm()\n",
       "              (dropout): Dropout(p=0.1, inplace=False)\n",
       "            )\n",
       "            (1): MT5LayerCrossAttention(\n",
       "              (EncDecAttention): MT5Attention(\n",
       "                (q): Linear(in_features=768, out_features=768, bias=False)\n",
       "                (k): Linear(in_features=768, out_features=768, bias=False)\n",
       "                (v): Linear(in_features=768, out_features=768, bias=False)\n",
       "                (o): Linear(in_features=768, out_features=768, bias=False)\n",
       "              )\n",
       "              (layer_norm): MT5LayerNorm()\n",
       "              (dropout): Dropout(p=0.1, inplace=False)\n",
       "            )\n",
       "            (2): MT5LayerFF(\n",
       "              (DenseReluDense): MT5DenseGatedActDense(\n",
       "                (wi_0): Linear(in_features=768, out_features=2048, bias=False)\n",
       "                (wi_1): Linear(in_features=768, out_features=2048, bias=False)\n",
       "                (wo): Linear(in_features=2048, out_features=768, bias=False)\n",
       "                (dropout): Dropout(p=0.1, inplace=False)\n",
       "                (act): NewGELUActivation()\n",
       "              )\n",
       "              (layer_norm): MT5LayerNorm()\n",
       "              (dropout): Dropout(p=0.1, inplace=False)\n",
       "            )\n",
       "          )\n",
       "        )\n",
       "      )\n",
       "      (final_layer_norm): MT5LayerNorm()\n",
       "      (dropout): Dropout(p=0.1, inplace=False)\n",
       "    )\n",
       "  )\n",
       "  (classification_head): MT5ClassificationHead(\n",
       "    (dense): Linear(in_features=768, out_features=768, bias=True)\n",
       "    (dropout): Dropout(p=0.0, inplace=False)\n",
       "    (out_proj): Linear(in_features=768, out_features=3, bias=True)\n",
       "  )\n",
       ")"
      ]
     },
     "execution_count": 60,
     "metadata": {},
     "output_type": "execute_result"
    }
   ],
   "source": [
    "model = AutoModelForSequenceClassification.from_pretrained(base_model, num_labels=3)\n",
    "model"
   ]
  },
  {
   "cell_type": "code",
   "execution_count": 61,
   "id": "9f02a8be-fa83-48b8-9197-357cc0e10d0d",
   "metadata": {
    "scrolled": true
   },
   "outputs": [
    {
     "data": {
      "text/plain": [
       "MT5ForSequenceClassification(\n",
       "  (transformer): MT5Model(\n",
       "    (shared): Embedding(250112, 768)\n",
       "    (encoder): MT5Stack(\n",
       "      (embed_tokens): Embedding(250112, 768)\n",
       "      (block): ModuleList(\n",
       "        (0): MT5Block(\n",
       "          (layer): ModuleList(\n",
       "            (0): MT5LayerSelfAttention(\n",
       "              (SelfAttention): MT5Attention(\n",
       "                (q): Linear(in_features=768, out_features=768, bias=False)\n",
       "                (k): Linear(in_features=768, out_features=768, bias=False)\n",
       "                (v): Linear(in_features=768, out_features=768, bias=False)\n",
       "                (o): Linear(in_features=768, out_features=768, bias=False)\n",
       "                (relative_attention_bias): Embedding(32, 12)\n",
       "              )\n",
       "              (layer_norm): MT5LayerNorm()\n",
       "              (dropout): Dropout(p=0.1, inplace=False)\n",
       "            )\n",
       "            (1): MT5LayerFF(\n",
       "              (DenseReluDense): MT5DenseGatedActDense(\n",
       "                (wi_0): Linear(in_features=768, out_features=2048, bias=False)\n",
       "                (wi_1): Linear(in_features=768, out_features=2048, bias=False)\n",
       "                (wo): Linear(in_features=2048, out_features=768, bias=False)\n",
       "                (dropout): Dropout(p=0.1, inplace=False)\n",
       "                (act): NewGELUActivation()\n",
       "              )\n",
       "              (layer_norm): MT5LayerNorm()\n",
       "              (dropout): Dropout(p=0.1, inplace=False)\n",
       "            )\n",
       "          )\n",
       "        )\n",
       "        (1-11): 11 x MT5Block(\n",
       "          (layer): ModuleList(\n",
       "            (0): MT5LayerSelfAttention(\n",
       "              (SelfAttention): MT5Attention(\n",
       "                (q): Linear(in_features=768, out_features=768, bias=False)\n",
       "                (k): Linear(in_features=768, out_features=768, bias=False)\n",
       "                (v): Linear(in_features=768, out_features=768, bias=False)\n",
       "                (o): Linear(in_features=768, out_features=768, bias=False)\n",
       "              )\n",
       "              (layer_norm): MT5LayerNorm()\n",
       "              (dropout): Dropout(p=0.1, inplace=False)\n",
       "            )\n",
       "            (1): MT5LayerFF(\n",
       "              (DenseReluDense): MT5DenseGatedActDense(\n",
       "                (wi_0): Linear(in_features=768, out_features=2048, bias=False)\n",
       "                (wi_1): Linear(in_features=768, out_features=2048, bias=False)\n",
       "                (wo): Linear(in_features=2048, out_features=768, bias=False)\n",
       "                (dropout): Dropout(p=0.1, inplace=False)\n",
       "                (act): NewGELUActivation()\n",
       "              )\n",
       "              (layer_norm): MT5LayerNorm()\n",
       "              (dropout): Dropout(p=0.1, inplace=False)\n",
       "            )\n",
       "          )\n",
       "        )\n",
       "      )\n",
       "      (final_layer_norm): MT5LayerNorm()\n",
       "      (dropout): Dropout(p=0.1, inplace=False)\n",
       "    )\n",
       "    (decoder): MT5Stack(\n",
       "      (embed_tokens): Embedding(250112, 768)\n",
       "      (block): ModuleList(\n",
       "        (0): MT5Block(\n",
       "          (layer): ModuleList(\n",
       "            (0): MT5LayerSelfAttention(\n",
       "              (SelfAttention): MT5Attention(\n",
       "                (q): Linear(in_features=768, out_features=768, bias=False)\n",
       "                (k): Linear(in_features=768, out_features=768, bias=False)\n",
       "                (v): Linear(in_features=768, out_features=768, bias=False)\n",
       "                (o): Linear(in_features=768, out_features=768, bias=False)\n",
       "                (relative_attention_bias): Embedding(32, 12)\n",
       "              )\n",
       "              (layer_norm): MT5LayerNorm()\n",
       "              (dropout): Dropout(p=0.1, inplace=False)\n",
       "            )\n",
       "            (1): MT5LayerCrossAttention(\n",
       "              (EncDecAttention): MT5Attention(\n",
       "                (q): Linear(in_features=768, out_features=768, bias=False)\n",
       "                (k): Linear(in_features=768, out_features=768, bias=False)\n",
       "                (v): Linear(in_features=768, out_features=768, bias=False)\n",
       "                (o): Linear(in_features=768, out_features=768, bias=False)\n",
       "              )\n",
       "              (layer_norm): MT5LayerNorm()\n",
       "              (dropout): Dropout(p=0.1, inplace=False)\n",
       "            )\n",
       "            (2): MT5LayerFF(\n",
       "              (DenseReluDense): MT5DenseGatedActDense(\n",
       "                (wi_0): Linear(in_features=768, out_features=2048, bias=False)\n",
       "                (wi_1): Linear(in_features=768, out_features=2048, bias=False)\n",
       "                (wo): Linear(in_features=2048, out_features=768, bias=False)\n",
       "                (dropout): Dropout(p=0.1, inplace=False)\n",
       "                (act): NewGELUActivation()\n",
       "              )\n",
       "              (layer_norm): MT5LayerNorm()\n",
       "              (dropout): Dropout(p=0.1, inplace=False)\n",
       "            )\n",
       "          )\n",
       "        )\n",
       "        (1-11): 11 x MT5Block(\n",
       "          (layer): ModuleList(\n",
       "            (0): MT5LayerSelfAttention(\n",
       "              (SelfAttention): MT5Attention(\n",
       "                (q): Linear(in_features=768, out_features=768, bias=False)\n",
       "                (k): Linear(in_features=768, out_features=768, bias=False)\n",
       "                (v): Linear(in_features=768, out_features=768, bias=False)\n",
       "                (o): Linear(in_features=768, out_features=768, bias=False)\n",
       "              )\n",
       "              (layer_norm): MT5LayerNorm()\n",
       "              (dropout): Dropout(p=0.1, inplace=False)\n",
       "            )\n",
       "            (1): MT5LayerCrossAttention(\n",
       "              (EncDecAttention): MT5Attention(\n",
       "                (q): Linear(in_features=768, out_features=768, bias=False)\n",
       "                (k): Linear(in_features=768, out_features=768, bias=False)\n",
       "                (v): Linear(in_features=768, out_features=768, bias=False)\n",
       "                (o): Linear(in_features=768, out_features=768, bias=False)\n",
       "              )\n",
       "              (layer_norm): MT5LayerNorm()\n",
       "              (dropout): Dropout(p=0.1, inplace=False)\n",
       "            )\n",
       "            (2): MT5LayerFF(\n",
       "              (DenseReluDense): MT5DenseGatedActDense(\n",
       "                (wi_0): Linear(in_features=768, out_features=2048, bias=False)\n",
       "                (wi_1): Linear(in_features=768, out_features=2048, bias=False)\n",
       "                (wo): Linear(in_features=2048, out_features=768, bias=False)\n",
       "                (dropout): Dropout(p=0.1, inplace=False)\n",
       "                (act): NewGELUActivation()\n",
       "              )\n",
       "              (layer_norm): MT5LayerNorm()\n",
       "              (dropout): Dropout(p=0.1, inplace=False)\n",
       "            )\n",
       "          )\n",
       "        )\n",
       "      )\n",
       "      (final_layer_norm): MT5LayerNorm()\n",
       "      (dropout): Dropout(p=0.1, inplace=False)\n",
       "    )\n",
       "  )\n",
       "  (classification_head): MT5ClassificationHead(\n",
       "    (dense): Linear(in_features=768, out_features=768, bias=True)\n",
       "    (dropout): Dropout(p=0.0, inplace=False)\n",
       "    (out_proj): Linear(in_features=768, out_features=3, bias=True)\n",
       "  )\n",
       ")"
      ]
     },
     "execution_count": 61,
     "metadata": {},
     "output_type": "execute_result"
    }
   ],
   "source": [
    "model.to(device)"
   ]
  },
  {
   "cell_type": "code",
   "execution_count": 62,
   "id": "5437e56c-a7d4-4412-949f-10438863e572",
   "metadata": {},
   "outputs": [
    {
     "data": {
      "text/plain": [
       "Adam (\n",
       "Parameter Group 0\n",
       "    amsgrad: False\n",
       "    betas: (0.9, 0.999)\n",
       "    capturable: False\n",
       "    differentiable: False\n",
       "    eps: 1e-08\n",
       "    foreach: None\n",
       "    fused: None\n",
       "    lr: 1e-06\n",
       "    maximize: False\n",
       "    weight_decay: 0\n",
       ")"
      ]
     },
     "execution_count": 62,
     "metadata": {},
     "output_type": "execute_result"
    }
   ],
   "source": [
    "optimizer = Adam(model.parameters(), lr=1e-6)  #LR should be in balance with batch size\n",
    "optimizer"
   ]
  },
  {
   "cell_type": "code",
   "execution_count": 63,
   "id": "9ac1c187-59a3-4f05-ab54-3861c98b1763",
   "metadata": {},
   "outputs": [],
   "source": [
    "gc.collect()\n",
    "torch.cuda.empty_cache()"
   ]
  },
  {
   "cell_type": "code",
   "execution_count": 64,
   "id": "9de4ee42-fdad-4df0-b826-0cfaa8f83d8e",
   "metadata": {},
   "outputs": [
    {
     "data": {
      "application/vnd.jupyter.widget-view+json": {
       "model_id": "7b686ddb08194e889c8c80291d1be17c",
       "version_major": 2,
       "version_minor": 0
      },
      "text/plain": [
       "  0%|          | 0/20 [00:00<?, ?it/s]"
      ]
     },
     "metadata": {},
     "output_type": "display_data"
    },
    {
     "data": {
      "application/vnd.jupyter.widget-view+json": {
       "model_id": "8e28a5113c284a83b14078b3ad44a113",
       "version_major": 2,
       "version_minor": 0
      },
      "text/plain": [
       "  0%|          | 0/486 [00:00<?, ?it/s]"
      ]
     },
     "metadata": {},
     "output_type": "display_data"
    },
    {
     "data": {
      "application/vnd.jupyter.widget-view+json": {
       "model_id": "112319be83ff420aa88722a272d451ef",
       "version_major": 2,
       "version_minor": 0
      },
      "text/plain": [
       "model.safetensors:   0%|          | 0.00/2.33G [00:00<?, ?B/s]"
      ]
     },
     "metadata": {},
     "output_type": "display_data"
    },
    {
     "data": {
      "application/vnd.jupyter.widget-view+json": {
       "model_id": "f046a9493d6d44ce91e7ec241f4d1b39",
       "version_major": 2,
       "version_minor": 0
      },
      "text/plain": [
       "  0%|          | 0/104 [00:00<?, ?it/s]"
      ]
     },
     "metadata": {},
     "output_type": "display_data"
    },
    {
     "name": "stdout",
     "output_type": "stream",
     "text": [
      "Epoch: 1 Train Loss 0.8267175754904748 Eval Loss 0.7509502312884881 Accuracy 0.7740384615384616 Time: 68.43540859222412\n"
     ]
    },
    {
     "data": {
      "application/vnd.jupyter.widget-view+json": {
       "model_id": "692b0db9dcab4e8f82072dfa5cbfb385",
       "version_major": 2,
       "version_minor": 0
      },
      "text/plain": [
       "  0%|          | 0/486 [00:00<?, ?it/s]"
      ]
     },
     "metadata": {},
     "output_type": "display_data"
    },
    {
     "data": {
      "application/vnd.jupyter.widget-view+json": {
       "model_id": "8e4432b6b5d84902bf055766370c457d",
       "version_major": 2,
       "version_minor": 0
      },
      "text/plain": [
       "  0%|          | 0/104 [00:00<?, ?it/s]"
      ]
     },
     "metadata": {},
     "output_type": "display_data"
    },
    {
     "name": "stdout",
     "output_type": "stream",
     "text": [
      "Epoch: 2 Train Loss 0.7485820251703262 Eval Loss 0.6877117606882865 Accuracy 0.7788461538461539 Time: 138.56067776679993\n"
     ]
    },
    {
     "data": {
      "application/vnd.jupyter.widget-view+json": {
       "model_id": "f98914a871504633855ce5b40cb28e90",
       "version_major": 2,
       "version_minor": 0
      },
      "text/plain": [
       "  0%|          | 0/486 [00:00<?, ?it/s]"
      ]
     },
     "metadata": {},
     "output_type": "display_data"
    },
    {
     "data": {
      "application/vnd.jupyter.widget-view+json": {
       "model_id": "a206f69915b0449ab779fa86c4505ac6",
       "version_major": 2,
       "version_minor": 0
      },
      "text/plain": [
       "  0%|          | 0/104 [00:00<?, ?it/s]"
      ]
     },
     "metadata": {},
     "output_type": "display_data"
    },
    {
     "name": "stdout",
     "output_type": "stream",
     "text": [
      "Epoch: 3 Train Loss 0.6759940871596336 Eval Loss 0.6857345300511672 Accuracy 0.7764423076923077 Time: 209.19282293319702\n"
     ]
    },
    {
     "data": {
      "application/vnd.jupyter.widget-view+json": {
       "model_id": "c45fa5615e7742bc9ed1706f29d2615a",
       "version_major": 2,
       "version_minor": 0
      },
      "text/plain": [
       "  0%|          | 0/486 [00:00<?, ?it/s]"
      ]
     },
     "metadata": {},
     "output_type": "display_data"
    },
    {
     "data": {
      "application/vnd.jupyter.widget-view+json": {
       "model_id": "45e724bfae1c4030a653e6b062c4dc7f",
       "version_major": 2,
       "version_minor": 0
      },
      "text/plain": [
       "  0%|          | 0/104 [00:00<?, ?it/s]"
      ]
     },
     "metadata": {},
     "output_type": "display_data"
    },
    {
     "name": "stdout",
     "output_type": "stream",
     "text": [
      "Epoch: 4 Train Loss 0.7079225893318654 Eval Loss 0.6891757118014189 Accuracy 0.7716346153846154 Time: 279.5957565307617\n"
     ]
    },
    {
     "data": {
      "application/vnd.jupyter.widget-view+json": {
       "model_id": "fbbc5224479d43e4b9929e2f97bcbfb0",
       "version_major": 2,
       "version_minor": 0
      },
      "text/plain": [
       "  0%|          | 0/486 [00:00<?, ?it/s]"
      ]
     },
     "metadata": {},
     "output_type": "display_data"
    },
    {
     "data": {
      "application/vnd.jupyter.widget-view+json": {
       "model_id": "a05da26c3e004d29a02c9ca916b827e5",
       "version_major": 2,
       "version_minor": 0
      },
      "text/plain": [
       "  0%|          | 0/104 [00:00<?, ?it/s]"
      ]
     },
     "metadata": {},
     "output_type": "display_data"
    },
    {
     "name": "stdout",
     "output_type": "stream",
     "text": [
      "Epoch: 5 Train Loss 0.6836531242728233 Eval Loss 0.6637890317405646 Accuracy 0.7764423076923077 Time: 348.7015039920807\n"
     ]
    },
    {
     "data": {
      "application/vnd.jupyter.widget-view+json": {
       "model_id": "152b979334a0479fbcb0a3877be48185",
       "version_major": 2,
       "version_minor": 0
      },
      "text/plain": [
       "  0%|          | 0/486 [00:00<?, ?it/s]"
      ]
     },
     "metadata": {},
     "output_type": "display_data"
    },
    {
     "data": {
      "application/vnd.jupyter.widget-view+json": {
       "model_id": "260cafa4780c459caf740c192d26eaea",
       "version_major": 2,
       "version_minor": 0
      },
      "text/plain": [
       "  0%|          | 0/104 [00:00<?, ?it/s]"
      ]
     },
     "metadata": {},
     "output_type": "display_data"
    },
    {
     "name": "stdout",
     "output_type": "stream",
     "text": [
      "Epoch: 6 Train Loss 0.672271479666233 Eval Loss 0.6691864412277937 Accuracy 0.7764423076923077 Time: 421.3232207298279\n"
     ]
    },
    {
     "data": {
      "application/vnd.jupyter.widget-view+json": {
       "model_id": "4bde1bd7f7db4a4e810895a9c33d575e",
       "version_major": 2,
       "version_minor": 0
      },
      "text/plain": [
       "  0%|          | 0/486 [00:00<?, ?it/s]"
      ]
     },
     "metadata": {},
     "output_type": "display_data"
    },
    {
     "data": {
      "application/vnd.jupyter.widget-view+json": {
       "model_id": "5671c1cf2d9d4199af43b4b83abf7817",
       "version_major": 2,
       "version_minor": 0
      },
      "text/plain": [
       "  0%|          | 0/104 [00:00<?, ?it/s]"
      ]
     },
     "metadata": {},
     "output_type": "display_data"
    },
    {
     "name": "stdout",
     "output_type": "stream",
     "text": [
      "Epoch: 7 Train Loss 0.6546607811748981 Eval Loss 0.6639973075630573 Accuracy 0.7764423076923077 Time: 490.2601795196533\n"
     ]
    },
    {
     "data": {
      "application/vnd.jupyter.widget-view+json": {
       "model_id": "c0253af4dc06451ba3f206af0284c9e1",
       "version_major": 2,
       "version_minor": 0
      },
      "text/plain": [
       "  0%|          | 0/486 [00:00<?, ?it/s]"
      ]
     },
     "metadata": {},
     "output_type": "display_data"
    },
    {
     "data": {
      "application/vnd.jupyter.widget-view+json": {
       "model_id": "9986a3b339604bfbbfa9d00400183d47",
       "version_major": 2,
       "version_minor": 0
      },
      "text/plain": [
       "  0%|          | 0/104 [00:00<?, ?it/s]"
      ]
     },
     "metadata": {},
     "output_type": "display_data"
    },
    {
     "name": "stdout",
     "output_type": "stream",
     "text": [
      "Epoch: 8 Train Loss 0.6916176941990853 Eval Loss 0.6774919071736244 Accuracy 0.7740384615384616 Time: 559.4229829311371\n"
     ]
    },
    {
     "data": {
      "application/vnd.jupyter.widget-view+json": {
       "model_id": "f452b25e963444f7994dfef6996f210f",
       "version_major": 2,
       "version_minor": 0
      },
      "text/plain": [
       "  0%|          | 0/486 [00:00<?, ?it/s]"
      ]
     },
     "metadata": {},
     "output_type": "display_data"
    },
    {
     "data": {
      "application/vnd.jupyter.widget-view+json": {
       "model_id": "01124ecd34a04a23b2733a3f612babac",
       "version_major": 2,
       "version_minor": 0
      },
      "text/plain": [
       "  0%|          | 0/104 [00:00<?, ?it/s]"
      ]
     },
     "metadata": {},
     "output_type": "display_data"
    },
    {
     "name": "stdout",
     "output_type": "stream",
     "text": [
      "Epoch: 9 Train Loss 0.6159634053707123 Eval Loss 0.6757783745057308 Accuracy 0.7740384615384616 Time: 627.3559355735779\n"
     ]
    },
    {
     "data": {
      "application/vnd.jupyter.widget-view+json": {
       "model_id": "e48c38072e304b67abe7e726539ea9b7",
       "version_major": 2,
       "version_minor": 0
      },
      "text/plain": [
       "  0%|          | 0/486 [00:00<?, ?it/s]"
      ]
     },
     "metadata": {},
     "output_type": "display_data"
    },
    {
     "data": {
      "application/vnd.jupyter.widget-view+json": {
       "model_id": "f1af810043b048b783c527c5dc678125",
       "version_major": 2,
       "version_minor": 0
      },
      "text/plain": [
       "  0%|          | 0/104 [00:00<?, ?it/s]"
      ]
     },
     "metadata": {},
     "output_type": "display_data"
    },
    {
     "name": "stdout",
     "output_type": "stream",
     "text": [
      "Epoch: 10 Train Loss 0.6401617175340653 Eval Loss 0.6906366187792558 Accuracy 0.7692307692307693 Time: 695.4557094573975\n"
     ]
    },
    {
     "data": {
      "application/vnd.jupyter.widget-view+json": {
       "model_id": "1d4a8e3fff59476eb9c4b38230ea0801",
       "version_major": 2,
       "version_minor": 0
      },
      "text/plain": [
       "  0%|          | 0/486 [00:00<?, ?it/s]"
      ]
     },
     "metadata": {},
     "output_type": "display_data"
    },
    {
     "data": {
      "application/vnd.jupyter.widget-view+json": {
       "model_id": "ab83ad66fb874cc5bed955c637d22291",
       "version_major": 2,
       "version_minor": 0
      },
      "text/plain": [
       "  0%|          | 0/104 [00:00<?, ?it/s]"
      ]
     },
     "metadata": {},
     "output_type": "display_data"
    },
    {
     "name": "stdout",
     "output_type": "stream",
     "text": [
      "Epoch: 11 Train Loss 0.6463795390725136 Eval Loss 0.6739278263770617 Accuracy 0.7764423076923077 Time: 763.9453320503235\n"
     ]
    },
    {
     "data": {
      "application/vnd.jupyter.widget-view+json": {
       "model_id": "e6f8cbc3b4b24d9fa521431065ae926b",
       "version_major": 2,
       "version_minor": 0
      },
      "text/plain": [
       "  0%|          | 0/486 [00:00<?, ?it/s]"
      ]
     },
     "metadata": {},
     "output_type": "display_data"
    },
    {
     "data": {
      "application/vnd.jupyter.widget-view+json": {
       "model_id": "2cea7c1bfbe141acacfef5dc29620cab",
       "version_major": 2,
       "version_minor": 0
      },
      "text/plain": [
       "  0%|          | 0/104 [00:00<?, ?it/s]"
      ]
     },
     "metadata": {},
     "output_type": "display_data"
    },
    {
     "name": "stdout",
     "output_type": "stream",
     "text": [
      "Epoch: 12 Train Loss 0.6752144794166088 Eval Loss 0.6696265739603684 Accuracy 0.7764423076923077 Time: 831.7330405712128\n"
     ]
    },
    {
     "data": {
      "application/vnd.jupyter.widget-view+json": {
       "model_id": "960e3e44427d4be3afaac0555702eb71",
       "version_major": 2,
       "version_minor": 0
      },
      "text/plain": [
       "  0%|          | 0/486 [00:00<?, ?it/s]"
      ]
     },
     "metadata": {},
     "output_type": "display_data"
    },
    {
     "data": {
      "application/vnd.jupyter.widget-view+json": {
       "model_id": "a1d33dfa45a54fb9a1a22e7e134f75d1",
       "version_major": 2,
       "version_minor": 0
      },
      "text/plain": [
       "  0%|          | 0/104 [00:00<?, ?it/s]"
      ]
     },
     "metadata": {},
     "output_type": "display_data"
    },
    {
     "name": "stdout",
     "output_type": "stream",
     "text": [
      "Epoch: 13 Train Loss 0.6823914970457554 Eval Loss 0.6680556525691197 Accuracy 0.7764423076923077 Time: 899.4483458995819\n"
     ]
    },
    {
     "data": {
      "application/vnd.jupyter.widget-view+json": {
       "model_id": "5b167bf0155e45369bbba25aafe172c3",
       "version_major": 2,
       "version_minor": 0
      },
      "text/plain": [
       "  0%|          | 0/486 [00:00<?, ?it/s]"
      ]
     },
     "metadata": {},
     "output_type": "display_data"
    },
    {
     "data": {
      "application/vnd.jupyter.widget-view+json": {
       "model_id": "fa075e4883e54f42b5cae5febe7278f3",
       "version_major": 2,
       "version_minor": 0
      },
      "text/plain": [
       "  0%|          | 0/104 [00:00<?, ?it/s]"
      ]
     },
     "metadata": {},
     "output_type": "display_data"
    },
    {
     "name": "stdout",
     "output_type": "stream",
     "text": [
      "Epoch: 14 Train Loss 0.6450683531165123 Eval Loss 0.6889846436679363 Accuracy 0.7764423076923077 Time: 967.9214026927948\n"
     ]
    },
    {
     "data": {
      "application/vnd.jupyter.widget-view+json": {
       "model_id": "045c8020fdde481a927a635b7554e8e4",
       "version_major": 2,
       "version_minor": 0
      },
      "text/plain": [
       "  0%|          | 0/486 [00:00<?, ?it/s]"
      ]
     },
     "metadata": {},
     "output_type": "display_data"
    },
    {
     "data": {
      "application/vnd.jupyter.widget-view+json": {
       "model_id": "2fe2364b1a194cf1b7a54ccdebcbfff2",
       "version_major": 2,
       "version_minor": 0
      },
      "text/plain": [
       "  0%|          | 0/104 [00:00<?, ?it/s]"
      ]
     },
     "metadata": {},
     "output_type": "display_data"
    },
    {
     "name": "stdout",
     "output_type": "stream",
     "text": [
      "Epoch: 15 Train Loss 0.5713905464112758 Eval Loss 0.6884500924497843 Accuracy 0.7740384615384616 Time: 1037.421807050705\n"
     ]
    },
    {
     "data": {
      "application/vnd.jupyter.widget-view+json": {
       "model_id": "40df7542ec4f4e19b89a7e9dfee17b75",
       "version_major": 2,
       "version_minor": 0
      },
      "text/plain": [
       "  0%|          | 0/486 [00:00<?, ?it/s]"
      ]
     },
     "metadata": {},
     "output_type": "display_data"
    },
    {
     "data": {
      "application/vnd.jupyter.widget-view+json": {
       "model_id": "d537089bb155415f8f1d8209a164094f",
       "version_major": 2,
       "version_minor": 0
      },
      "text/plain": [
       "  0%|          | 0/104 [00:00<?, ?it/s]"
      ]
     },
     "metadata": {},
     "output_type": "display_data"
    },
    {
     "name": "stdout",
     "output_type": "stream",
     "text": [
      "Epoch: 16 Train Loss 0.6588953261077404 Eval Loss 0.6811325082985255 Accuracy 0.7764423076923077 Time: 1106.299896478653\n"
     ]
    },
    {
     "data": {
      "application/vnd.jupyter.widget-view+json": {
       "model_id": "6c49b8f3ecbd4a79bb60c8546bc4979d",
       "version_major": 2,
       "version_minor": 0
      },
      "text/plain": [
       "  0%|          | 0/486 [00:00<?, ?it/s]"
      ]
     },
     "metadata": {},
     "output_type": "display_data"
    },
    {
     "data": {
      "application/vnd.jupyter.widget-view+json": {
       "model_id": "5c604952c01e4dc8bc670084ffaa1313",
       "version_major": 2,
       "version_minor": 0
      },
      "text/plain": [
       "  0%|          | 0/104 [00:00<?, ?it/s]"
      ]
     },
     "metadata": {},
     "output_type": "display_data"
    },
    {
     "name": "stdout",
     "output_type": "stream",
     "text": [
      "Epoch: 17 Train Loss 0.6361445558071136 Eval Loss 0.6897603869438171 Accuracy 0.7740384615384616 Time: 1175.9369492530823\n"
     ]
    },
    {
     "data": {
      "application/vnd.jupyter.widget-view+json": {
       "model_id": "d49e5a0207094d5585992d94a374f1bc",
       "version_major": 2,
       "version_minor": 0
      },
      "text/plain": [
       "  0%|          | 0/486 [00:00<?, ?it/s]"
      ]
     },
     "metadata": {},
     "output_type": "display_data"
    },
    {
     "data": {
      "application/vnd.jupyter.widget-view+json": {
       "model_id": "f7cc9f82157d4d4d99a36eb1491d3ed3",
       "version_major": 2,
       "version_minor": 0
      },
      "text/plain": [
       "  0%|          | 0/104 [00:00<?, ?it/s]"
      ]
     },
     "metadata": {},
     "output_type": "display_data"
    },
    {
     "name": "stdout",
     "output_type": "stream",
     "text": [
      "Epoch: 18 Train Loss 0.7053435070812702 Eval Loss 0.6842268009025317 Accuracy 0.7764423076923077 Time: 1245.9872562885284\n"
     ]
    },
    {
     "data": {
      "application/vnd.jupyter.widget-view+json": {
       "model_id": "4a218c73a51044ef96da57d45c74bc4c",
       "version_major": 2,
       "version_minor": 0
      },
      "text/plain": [
       "  0%|          | 0/486 [00:00<?, ?it/s]"
      ]
     },
     "metadata": {},
     "output_type": "display_data"
    },
    {
     "data": {
      "application/vnd.jupyter.widget-view+json": {
       "model_id": "0b2e2c2ca2554486a9a3691b076a726d",
       "version_major": 2,
       "version_minor": 0
      },
      "text/plain": [
       "  0%|          | 0/104 [00:00<?, ?it/s]"
      ]
     },
     "metadata": {},
     "output_type": "display_data"
    },
    {
     "name": "stdout",
     "output_type": "stream",
     "text": [
      "Epoch: 19 Train Loss 0.6554394634068013 Eval Loss 0.6829872800467106 Accuracy 0.7764423076923077 Time: 1313.9048597812653\n"
     ]
    },
    {
     "data": {
      "application/vnd.jupyter.widget-view+json": {
       "model_id": "cba88964a4f242d79437ec424d644445",
       "version_major": 2,
       "version_minor": 0
      },
      "text/plain": [
       "  0%|          | 0/486 [00:00<?, ?it/s]"
      ]
     },
     "metadata": {},
     "output_type": "display_data"
    },
    {
     "data": {
      "application/vnd.jupyter.widget-view+json": {
       "model_id": "20abbc6266fb4cbdaaa1ef786ea238ca",
       "version_major": 2,
       "version_minor": 0
      },
      "text/plain": [
       "  0%|          | 0/104 [00:00<?, ?it/s]"
      ]
     },
     "metadata": {},
     "output_type": "display_data"
    },
    {
     "name": "stdout",
     "output_type": "stream",
     "text": [
      "Epoch: 20 Train Loss 0.6482466305792332 Eval Loss 0.6750994847657589 Accuracy 0.7764423076923077 Time: 1382.6968832015991\n"
     ]
    }
   ],
   "source": [
    "# seting initial best loss to infinite\n",
    "best_eval_loss = float('inf')\n",
    "\n",
    "losses = []\n",
    "epoch_train_loss = []\n",
    "epoch_eval_loss = []\n",
    "epoch_train_time = []\n",
    "train_time = []\n",
    "start = time.time()\n",
    "for epoch in trange(20):\n",
    "    pbar = tqdm(train_dataloader)\n",
    "    model.train()\n",
    "    for i, batch in enumerate(pbar):\n",
    "        out = model(**batch.to(model.device))\n",
    "        out.loss.backward()\n",
    "        optimizer.step()\n",
    "        optimizer.zero_grad()\n",
    "        losses.append(out.loss.item())\n",
    "        train_time.append(time.time() - start)\n",
    "        pbar.set_description(f'loss: {np.mean(losses[-100:]):2.2f}')\n",
    "    epoch_train_loss.append(np.mean(losses[-100:]))\n",
    "\n",
    "    model.eval()\n",
    "    eval_losses = []\n",
    "    eval_preds = []\n",
    "    eval_targets = []\n",
    "    val_time = []\n",
    "    for batch in tqdm(val_dataloader):\n",
    "        with torch.no_grad():\n",
    "                out = model(**batch.to(model.device))\n",
    "        eval_losses.append(out.loss.item())\n",
    "        eval_preds.extend(out.logits.argmax(1).tolist())\n",
    "        eval_targets.extend(batch['labels'].tolist())\n",
    "        val_time.append(time.time() - start)\n",
    "    epoch_eval_loss.append(np.mean(eval_losses))\n",
    "    epoch_train_time.append(elapsed := time.time() - start)\n",
    "    val_loss = np.mean(eval_losses)\n",
    "    print('Epoch:', epoch+1, 'Train Loss', np.mean(losses[-100:]), 'Eval Loss', val_loss, 'Accuracy', np.mean(np.array(eval_targets) == eval_preds), 'Time:', elapsed)\n",
    "\n",
    "    #save the best model\n",
    "    if val_loss < best_eval_loss:\n",
    "        best_eval_loss = val_loss\n",
    "        torch.save(model.state_dict(), model.name_or_path.split('/')[1]+'.saved.weights.pt')   "
   ]
  },
  {
   "cell_type": "code",
   "execution_count": 65,
   "id": "a00401bd-7a75-4d4b-a799-72e661e1b585",
   "metadata": {},
   "outputs": [
    {
     "data": {
      "image/png": "[encoded data removed]",
      "text/plain": [
       "<Figure size 1500x500 with 1 Axes>"
      ]
     },
     "metadata": {},
     "output_type": "display_data"
    }
   ],
   "source": [
    "# Plotting training and validation loss\n",
    "plt.figure(figsize=(15, 5))\n",
    "plt.plot(np.arange(1, 21, 1), epoch_train_loss, label='Train Loss')\n",
    "plt.plot(np.arange(1, 21, 1), epoch_eval_loss, label='Eval Loss')\n",
    "plt.xticks(np.arange(1, 21, 1))\n",
    "plt.legend()\n",
    "plt.title('Loss over Epochs')\n",
    "plt.show();"
   ]
  },
  {
   "cell_type": "markdown",
   "id": "ab6040c0-7301-49de-a3eb-1be713275099",
   "metadata": {},
   "source": [
    "### Загрузим лучшую сохраненную модель"
   ]
  },
  {
   "cell_type": "code",
   "execution_count": 119,
   "id": "2b42b4ca-7e3f-4458-9242-11c10730c38d",
   "metadata": {},
   "outputs": [
    {
     "data": {
      "text/plain": [
       "'mt5-base.saved.weights.pt'"
      ]
     },
     "execution_count": 119,
     "metadata": {},
     "output_type": "execute_result"
    }
   ],
   "source": [
    "#loading the best saved model\n",
    "path = model.name_or_path.split('/')[1]+'.saved.weights.pt'\n",
    "path"
   ]
  },
  {
   "cell_type": "code",
   "execution_count": 121,
   "id": "f0d37c42-5ade-4363-8b54-2eaad0987e80",
   "metadata": {},
   "outputs": [
    {
     "data": {
      "text/plain": [
       "<All keys matched successfully>"
      ]
     },
     "execution_count": 121,
     "metadata": {},
     "output_type": "execute_result"
    }
   ],
   "source": [
    "model.load_state_dict(torch.load(path))"
   ]
  },
  {
   "cell_type": "code",
   "execution_count": 123,
   "id": "72be85e8-f81f-46c3-a615-99b56b59b130",
   "metadata": {
    "scrolled": true
   },
   "outputs": [
    {
     "data": {
      "text/plain": [
       "MT5ForSequenceClassification(\n",
       "  (transformer): MT5Model(\n",
       "    (shared): Embedding(250112, 768)\n",
       "    (encoder): MT5Stack(\n",
       "      (embed_tokens): Embedding(250112, 768)\n",
       "      (block): ModuleList(\n",
       "        (0): MT5Block(\n",
       "          (layer): ModuleList(\n",
       "            (0): MT5LayerSelfAttention(\n",
       "              (SelfAttention): MT5Attention(\n",
       "                (q): Linear(in_features=768, out_features=768, bias=False)\n",
       "                (k): Linear(in_features=768, out_features=768, bias=False)\n",
       "                (v): Linear(in_features=768, out_features=768, bias=False)\n",
       "                (o): Linear(in_features=768, out_features=768, bias=False)\n",
       "                (relative_attention_bias): Embedding(32, 12)\n",
       "              )\n",
       "              (layer_norm): MT5LayerNorm()\n",
       "              (dropout): Dropout(p=0.1, inplace=False)\n",
       "            )\n",
       "            (1): MT5LayerFF(\n",
       "              (DenseReluDense): MT5DenseGatedActDense(\n",
       "                (wi_0): Linear(in_features=768, out_features=2048, bias=False)\n",
       "                (wi_1): Linear(in_features=768, out_features=2048, bias=False)\n",
       "                (wo): Linear(in_features=2048, out_features=768, bias=False)\n",
       "                (dropout): Dropout(p=0.1, inplace=False)\n",
       "                (act): NewGELUActivation()\n",
       "              )\n",
       "              (layer_norm): MT5LayerNorm()\n",
       "              (dropout): Dropout(p=0.1, inplace=False)\n",
       "            )\n",
       "          )\n",
       "        )\n",
       "        (1-11): 11 x MT5Block(\n",
       "          (layer): ModuleList(\n",
       "            (0): MT5LayerSelfAttention(\n",
       "              (SelfAttention): MT5Attention(\n",
       "                (q): Linear(in_features=768, out_features=768, bias=False)\n",
       "                (k): Linear(in_features=768, out_features=768, bias=False)\n",
       "                (v): Linear(in_features=768, out_features=768, bias=False)\n",
       "                (o): Linear(in_features=768, out_features=768, bias=False)\n",
       "              )\n",
       "              (layer_norm): MT5LayerNorm()\n",
       "              (dropout): Dropout(p=0.1, inplace=False)\n",
       "            )\n",
       "            (1): MT5LayerFF(\n",
       "              (DenseReluDense): MT5DenseGatedActDense(\n",
       "                (wi_0): Linear(in_features=768, out_features=2048, bias=False)\n",
       "                (wi_1): Linear(in_features=768, out_features=2048, bias=False)\n",
       "                (wo): Linear(in_features=2048, out_features=768, bias=False)\n",
       "                (dropout): Dropout(p=0.1, inplace=False)\n",
       "                (act): NewGELUActivation()\n",
       "              )\n",
       "              (layer_norm): MT5LayerNorm()\n",
       "              (dropout): Dropout(p=0.1, inplace=False)\n",
       "            )\n",
       "          )\n",
       "        )\n",
       "      )\n",
       "      (final_layer_norm): MT5LayerNorm()\n",
       "      (dropout): Dropout(p=0.1, inplace=False)\n",
       "    )\n",
       "    (decoder): MT5Stack(\n",
       "      (embed_tokens): Embedding(250112, 768)\n",
       "      (block): ModuleList(\n",
       "        (0): MT5Block(\n",
       "          (layer): ModuleList(\n",
       "            (0): MT5LayerSelfAttention(\n",
       "              (SelfAttention): MT5Attention(\n",
       "                (q): Linear(in_features=768, out_features=768, bias=False)\n",
       "                (k): Linear(in_features=768, out_features=768, bias=False)\n",
       "                (v): Linear(in_features=768, out_features=768, bias=False)\n",
       "                (o): Linear(in_features=768, out_features=768, bias=False)\n",
       "                (relative_attention_bias): Embedding(32, 12)\n",
       "              )\n",
       "              (layer_norm): MT5LayerNorm()\n",
       "              (dropout): Dropout(p=0.1, inplace=False)\n",
       "            )\n",
       "            (1): MT5LayerCrossAttention(\n",
       "              (EncDecAttention): MT5Attention(\n",
       "                (q): Linear(in_features=768, out_features=768, bias=False)\n",
       "                (k): Linear(in_features=768, out_features=768, bias=False)\n",
       "                (v): Linear(in_features=768, out_features=768, bias=False)\n",
       "                (o): Linear(in_features=768, out_features=768, bias=False)\n",
       "              )\n",
       "              (layer_norm): MT5LayerNorm()\n",
       "              (dropout): Dropout(p=0.1, inplace=False)\n",
       "            )\n",
       "            (2): MT5LayerFF(\n",
       "              (DenseReluDense): MT5DenseGatedActDense(\n",
       "                (wi_0): Linear(in_features=768, out_features=2048, bias=False)\n",
       "                (wi_1): Linear(in_features=768, out_features=2048, bias=False)\n",
       "                (wo): Linear(in_features=2048, out_features=768, bias=False)\n",
       "                (dropout): Dropout(p=0.1, inplace=False)\n",
       "                (act): NewGELUActivation()\n",
       "              )\n",
       "              (layer_norm): MT5LayerNorm()\n",
       "              (dropout): Dropout(p=0.1, inplace=False)\n",
       "            )\n",
       "          )\n",
       "        )\n",
       "        (1-11): 11 x MT5Block(\n",
       "          (layer): ModuleList(\n",
       "            (0): MT5LayerSelfAttention(\n",
       "              (SelfAttention): MT5Attention(\n",
       "                (q): Linear(in_features=768, out_features=768, bias=False)\n",
       "                (k): Linear(in_features=768, out_features=768, bias=False)\n",
       "                (v): Linear(in_features=768, out_features=768, bias=False)\n",
       "                (o): Linear(in_features=768, out_features=768, bias=False)\n",
       "              )\n",
       "              (layer_norm): MT5LayerNorm()\n",
       "              (dropout): Dropout(p=0.1, inplace=False)\n",
       "            )\n",
       "            (1): MT5LayerCrossAttention(\n",
       "              (EncDecAttention): MT5Attention(\n",
       "                (q): Linear(in_features=768, out_features=768, bias=False)\n",
       "                (k): Linear(in_features=768, out_features=768, bias=False)\n",
       "                (v): Linear(in_features=768, out_features=768, bias=False)\n",
       "                (o): Linear(in_features=768, out_features=768, bias=False)\n",
       "              )\n",
       "              (layer_norm): MT5LayerNorm()\n",
       "              (dropout): Dropout(p=0.1, inplace=False)\n",
       "            )\n",
       "            (2): MT5LayerFF(\n",
       "              (DenseReluDense): MT5DenseGatedActDense(\n",
       "                (wi_0): Linear(in_features=768, out_features=2048, bias=False)\n",
       "                (wi_1): Linear(in_features=768, out_features=2048, bias=False)\n",
       "                (wo): Linear(in_features=2048, out_features=768, bias=False)\n",
       "                (dropout): Dropout(p=0.1, inplace=False)\n",
       "                (act): NewGELUActivation()\n",
       "              )\n",
       "              (layer_norm): MT5LayerNorm()\n",
       "              (dropout): Dropout(p=0.1, inplace=False)\n",
       "            )\n",
       "          )\n",
       "        )\n",
       "      )\n",
       "      (final_layer_norm): MT5LayerNorm()\n",
       "      (dropout): Dropout(p=0.1, inplace=False)\n",
       "    )\n",
       "  )\n",
       "  (classification_head): MT5ClassificationHead(\n",
       "    (dense): Linear(in_features=768, out_features=768, bias=True)\n",
       "    (dropout): Dropout(p=0.0, inplace=False)\n",
       "    (out_proj): Linear(in_features=768, out_features=3, bias=True)\n",
       "  )\n",
       ")"
      ]
     },
     "execution_count": 123,
     "metadata": {},
     "output_type": "execute_result"
    }
   ],
   "source": [
    "model.to(device)"
   ]
  },
  {
   "cell_type": "markdown",
   "id": "db6093b8-d7c2-49c9-8cf0-4f19f8e18869",
   "metadata": {},
   "source": [
    "### Протестируем и сохраним результаты"
   ]
  },
  {
   "cell_type": "code",
   "execution_count": 125,
   "id": "e53b2390-9376-47a0-9434-8394e63e9c2b",
   "metadata": {},
   "outputs": [
    {
     "data": {
      "application/vnd.jupyter.widget-view+json": {
       "model_id": "1ea5dbe81bdd45a4a2fdb7d762ed8167",
       "version_major": 2,
       "version_minor": 0
      },
      "text/plain": [
       "  0%|          | 0/105 [00:00<?, ?it/s]"
      ]
     },
     "metadata": {},
     "output_type": "display_data"
    },
    {
     "name": "stdout",
     "output_type": "stream",
     "text": [
      "min_epoch: 5, epoch_time: 69.13484416007995, total_train_time: 348.7015039920807, accuracy: 0.7793764988009593\n"
     ]
    },
    {
     "data": {
      "text/plain": [
       "[5, 69.13, 348.7, 0.7794]"
      ]
     },
     "execution_count": 125,
     "metadata": {},
     "output_type": "execute_result"
    }
   ],
   "source": [
    "get_model_results(epoch_train_time, epoch_eval_loss, test_dataloader, model)"
   ]
  },
  {
   "cell_type": "code",
   "execution_count": 127,
   "id": "411022b5-63cb-469b-b147-5eb6134d12b8",
   "metadata": {},
   "outputs": [
    {
     "data": {
      "application/vnd.jupyter.widget-view+json": {
       "model_id": "47fce8cb48ec46239a9db53fb1f28f98",
       "version_major": 2,
       "version_minor": 0
      },
      "text/plain": [
       "  0%|          | 0/105 [00:00<?, ?it/s]"
      ]
     },
     "metadata": {},
     "output_type": "display_data"
    },
    {
     "name": "stdout",
     "output_type": "stream",
     "text": [
      "min_epoch: 5, epoch_time: 69.13484416007995, total_train_time: 348.7015039920807, accuracy: 0.7793764988009593\n"
     ]
    }
   ],
   "source": [
    "results[model.name_or_path.split('/')[1]] = get_model_results(epoch_train_time, epoch_eval_loss, test_dataloader, model)"
   ]
  },
  {
   "cell_type": "code",
   "execution_count": 129,
   "id": "94cf274e-2de4-4129-9253-8982f0ac51b1",
   "metadata": {},
   "outputs": [
    {
     "data": {
      "text/html": [
       "<div>\n",
       "<style scoped>\n",
       "    .dataframe tbody tr th:only-of-type {\n",
       "        vertical-align: middle;\n",
       "    }\n",
       "\n",
       "    .dataframe tbody tr th {\n",
       "        vertical-align: top;\n",
       "    }\n",
       "\n",
       "    .dataframe thead th {\n",
       "        text-align: right;\n",
       "    }\n",
       "</style>\n",
       "<table border=\"1\" class=\"dataframe\">\n",
       "  <thead>\n",
       "    <tr style=\"text-align: right;\">\n",
       "      <th></th>\n",
       "      <th>Epoch num</th>\n",
       "      <th>Epoch avg time</th>\n",
       "      <th>Total train time</th>\n",
       "      <th>Accuracy</th>\n",
       "    </tr>\n",
       "  </thead>\n",
       "  <tbody>\n",
       "    <tr>\n",
       "      <th>ruT5-base</th>\n",
       "      <td>11.0</td>\n",
       "      <td>47.14</td>\n",
       "      <td>523.41</td>\n",
       "      <td>0.9305</td>\n",
       "    </tr>\n",
       "    <tr>\n",
       "      <th>mt5-base</th>\n",
       "      <td>5.0</td>\n",
       "      <td>69.13</td>\n",
       "      <td>348.70</td>\n",
       "      <td>0.7794</td>\n",
       "    </tr>\n",
       "  </tbody>\n",
       "</table>\n",
       "</div>"
      ],
      "text/plain": [
       "           Epoch num  Epoch avg time  Total train time  Accuracy\n",
       "ruT5-base       11.0           47.14            523.41    0.9305\n",
       "mt5-base         5.0           69.13            348.70    0.7794"
      ]
     },
     "execution_count": 129,
     "metadata": {},
     "output_type": "execute_result"
    }
   ],
   "source": [
    "pd.DataFrame(results, index=['Epoch num','Epoch avg time','Total train time','Accuracy']).T"
   ]
  },
  {
   "cell_type": "markdown",
   "id": "3ff1d38c",
   "metadata": {},
   "source": [
    "## 3. Анализ результатов"
   ]
  },
  {
   "cell_type": "markdown",
   "id": "4e765577-d842-4dd6-977b-5e839e99b083",
   "metadata": {},
   "source": [
    "Итоговые результаты"
   ]
  },
  {
   "cell_type": "code",
   "execution_count": 131,
   "id": "05a12c79-146e-4a34-9f65-7da6410e744d",
   "metadata": {},
   "outputs": [
    {
     "data": {
      "text/html": [
       "<div>\n",
       "<style scoped>\n",
       "    .dataframe tbody tr th:only-of-type {\n",
       "        vertical-align: middle;\n",
       "    }\n",
       "\n",
       "    .dataframe tbody tr th {\n",
       "        vertical-align: top;\n",
       "    }\n",
       "\n",
       "    .dataframe thead th {\n",
       "        text-align: right;\n",
       "    }\n",
       "</style>\n",
       "<table border=\"1\" class=\"dataframe\">\n",
       "  <thead>\n",
       "    <tr style=\"text-align: right;\">\n",
       "      <th></th>\n",
       "      <th>Epoch num</th>\n",
       "      <th>Epoch avg time</th>\n",
       "      <th>Total train time</th>\n",
       "      <th>Accuracy</th>\n",
       "    </tr>\n",
       "  </thead>\n",
       "  <tbody>\n",
       "    <tr>\n",
       "      <th>ruT5-base</th>\n",
       "      <td>11.0</td>\n",
       "      <td>47.14</td>\n",
       "      <td>523.41</td>\n",
       "      <td>0.9305</td>\n",
       "    </tr>\n",
       "    <tr>\n",
       "      <th>mt5-base</th>\n",
       "      <td>5.0</td>\n",
       "      <td>69.13</td>\n",
       "      <td>348.70</td>\n",
       "      <td>0.7794</td>\n",
       "    </tr>\n",
       "  </tbody>\n",
       "</table>\n",
       "</div>"
      ],
      "text/plain": [
       "           Epoch num  Epoch avg time  Total train time  Accuracy\n",
       "ruT5-base       11.0           47.14            523.41    0.9305\n",
       "mt5-base         5.0           69.13            348.70    0.7794"
      ]
     },
     "execution_count": 131,
     "metadata": {},
     "output_type": "execute_result"
    }
   ],
   "source": [
    "pd.DataFrame(results, index = ['Epoch num','Epoch avg time','Total train time','Accuracy']).T.sort_values(by=['Accuracy'], ascending=False)"
   ]
  },
  {
   "cell_type": "markdown",
   "id": "9db7bcfe-6ba4-4b6e-9232-70076236b5cd",
   "metadata": {},
   "source": [
    "- На первом месте, с огромным отрывом - ruT5-base, специализированная модель для русского языка;\n",
    "- Модель от Google практически отказалась обучаться, пробовал tiny и base варианты, результаты идентичны. Возможно, для обучения данной модели нужен более объемный набор данных;\n",
    "\n",
    "Из полученных результатов, на мой взгляд, можно сделать следующий основной вывод - предобучение модели на целевом языке/корпусе текстов критично важно для получения высоких результатов.  "
   ]
  },
  {
   "cell_type": "code",
   "execution_count": null,
   "id": "52a256fb-a2c7-48d4-b580-9c8592120941",
   "metadata": {},
   "outputs": [],
   "source": []
  }
 ],
 "metadata": {
  "kernelspec": {
   "display_name": "Python 3 (ipykernel)",
   "language": "python",
   "name": "python3"
  },
  "language_info": {
   "codemirror_mode": {
    "name": "ipython",
    "version": 3
   },
   "file_extension": ".py",
   "mimetype": "text/x-python",
   "name": "python",
   "nbconvert_exporter": "python",
   "pygments_lexer": "ipython3",
   "version": "3.12.2"
  }
 },
 "nbformat": 4,
 "nbformat_minor": 5
}
