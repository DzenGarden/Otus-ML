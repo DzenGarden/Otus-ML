{
 "cells": [
  {
   "cell_type": "markdown",
   "id": "e01939dc-868e-4da1-9b53-48223cc01c65",
   "metadata": {},
   "source": [
    "# Домашнее задание\n",
    "\n",
    "Работа с sentence-transformers\n",
    "\n",
    "**Цель:**\n",
    "\n",
    "Закрепить навыки работы с библиотекой SentenceTransformers для создания эмбеддингов текста, выполнения задач семантического поиска, вычисления текстового сходства, поиска парафраз и дополнительных NLP-задач.\n",
    "\n",
    "## Описание/Пошаговая инструкция выполнения домашнего задания:\n",
    "\n",
    "\n",
    "- Датасеты (HuggingFace)\n",
    "\n",
    "    - Для английского языка: sentence-transformers/embedding-training-data (выбирайте небольшие поднаборы, например, случайные 10-20 предложений из раздела gooaq_pairs для эмбеддингов)\n",
    "    - Для русского языка [датасеты](https://huggingface.co/collections/ai-forever/ru-mteb-6650a6a6708dc5107a9e0ba3) из RU-MTEB;\n",
    "---\n",
    "\n",
    "- Модели (HuggingFace)\n",
    "\n",
    "    - Для английского all-MiniLM-L6-v2 (или другую по вашему выбору, например, paraphrase-multilingual-MiniLM-L12-v2\n",
    "    - Для русского [ru-en-RosBERTa](https://huggingface.co/ai-forever/ru-en-RoSBERTa/tree/main) и [FRIDA](https://huggingface.co/ai-forever/FRIDA)\n",
    "\n",
    "Также модели можно брать на основании статьи [ruMTEB](https://arxiv.org/abs/2408.12503)"
   ]
  },
  {
   "cell_type": "markdown",
   "id": "ba62f971-98ba-4de6-95cc-5457be04f5cc",
   "metadata": {},
   "source": [
    "## 1. Установка и настройка окружения"
   ]
  },
  {
   "cell_type": "code",
   "execution_count": 198,
   "id": "36058449-f0c0-44f7-a172-90bd44528a7a",
   "metadata": {},
   "outputs": [],
   "source": [
    "import random\n",
    "import numpy as np\n",
    "\n",
    "import torch\n",
    "from datasets import Dataset, DatasetDict, load_dataset\n",
    "\n",
    "from sentence_transformers import SentenceTransformer, util\n",
    "\n",
    "import seaborn as sns\n",
    "import matplotlib.pyplot as plt"
   ]
  },
  {
   "cell_type": "markdown",
   "id": "c45ec5f4-7c3c-4295-ae3b-ab0ab844e252",
   "metadata": {},
   "source": [
    "Поскольку в статье [ruMTEB](https://arxiv.org/abs/2408.12503) авторы представляют модель [ru-en-RosBERTa](https://huggingface.co/ai-forever/ru-en-RoSBERTa/tree/main), то ее и будем использовать в дальнейших экспериментах"
   ]
  },
  {
   "cell_type": "code",
   "execution_count": 6,
   "id": "4ec12b99-f988-43d4-93d2-962484be4f80",
   "metadata": {},
   "outputs": [],
   "source": [
    "base_model = \"ai-forever/ru-en-RoSBERTa\""
   ]
  },
  {
   "cell_type": "markdown",
   "id": "50b0dcee-d5e2-4eea-81bb-e11ea28c3798",
   "metadata": {},
   "source": [
    "## 2. Получение эмбеддингов текста\n",
    "    • Загрузите предобученную модель all-MiniLM-L6-v2 (или другую по вашему выбору из раздела модели).\n",
    "    • На основе одного из датасетов из раздела датасеты создайте список из 10–15 предложений.\n",
    "    • Получите эмбеддинги для этих предложений с помощью метода encode.\n",
    "    • Выведите размерность полученных эмбеддингов и их первые несколько значений."
   ]
  },
  {
   "cell_type": "code",
   "execution_count": 8,
   "id": "f75c93c8-f614-46f5-8248-28f08d044f8e",
   "metadata": {},
   "outputs": [
    {
     "name": "stderr",
     "output_type": "stream",
     "text": [
      "Some weights of RobertaModel were not initialized from the model checkpoint at ai-forever/ru-en-RoSBERTa and are newly initialized: ['pooler.dense.bias', 'pooler.dense.weight']\n",
      "You should probably TRAIN this model on a down-stream task to be able to use it for predictions and inference.\n"
     ]
    }
   ],
   "source": [
    "model = SentenceTransformer(base_model)"
   ]
  },
  {
   "cell_type": "code",
   "execution_count": 9,
   "id": "f61c6f90-31c8-40bc-9e60-2f70c7523fb1",
   "metadata": {},
   "outputs": [
    {
     "data": {
      "text/plain": [
       "device(type='cuda')"
      ]
     },
     "execution_count": 9,
     "metadata": {},
     "output_type": "execute_result"
    }
   ],
   "source": [
    "device = torch.device(\"cuda\" if torch.cuda.is_available() else \"cpu\")\n",
    "device"
   ]
  },
  {
   "cell_type": "code",
   "execution_count": 10,
   "id": "a040065b-f371-4e1e-a150-f1dd97e84551",
   "metadata": {},
   "outputs": [
    {
     "data": {
      "text/plain": [
       "SentenceTransformer(\n",
       "  (0): Transformer({'max_seq_length': 512, 'do_lower_case': False, 'architecture': 'RobertaModel'})\n",
       "  (1): Pooling({'word_embedding_dimension': 1024, 'pooling_mode_cls_token': True, 'pooling_mode_mean_tokens': False, 'pooling_mode_max_tokens': False, 'pooling_mode_mean_sqrt_len_tokens': False, 'pooling_mode_weightedmean_tokens': False, 'pooling_mode_lasttoken': False, 'include_prompt': True})\n",
       "  (2): Normalize()\n",
       ")"
      ]
     },
     "execution_count": 10,
     "metadata": {},
     "output_type": "execute_result"
    }
   ],
   "source": [
    "model.to(device)"
   ]
  },
  {
   "cell_type": "code",
   "execution_count": 11,
   "id": "442b0dd2-d5c0-42d9-92df-b453551d9531",
   "metadata": {},
   "outputs": [
    {
     "data": {
      "text/plain": [
       "{'train': 'data/headline-classification/train.jsonl',\n",
       " 'validation': 'data/headline-classification/validation.jsonl',\n",
       " 'test': 'data/headline-classification/test.jsonl'}"
      ]
     },
     "execution_count": 11,
     "metadata": {},
     "output_type": "execute_result"
    }
   ],
   "source": [
    "path = \"data/headline-classification/\"\n",
    "data_files={\"train\": path+\"train.jsonl\", \"validation\": path+\"validation.jsonl\", \"test\": path+\"test.jsonl\"}\n",
    "data_files"
   ]
  },
  {
   "cell_type": "code",
   "execution_count": 12,
   "id": "13f31e25-5253-441f-a61e-74965b681068",
   "metadata": {},
   "outputs": [
    {
     "data": {
      "text/plain": [
       "DatasetDict({\n",
       "    train: Dataset({\n",
       "        features: ['id', 'text', 'label', 'label_text'],\n",
       "        num_rows: 36000\n",
       "    })\n",
       "    validation: Dataset({\n",
       "        features: ['id', 'text', 'label', 'label_text'],\n",
       "        num_rows: 12000\n",
       "    })\n",
       "    test: Dataset({\n",
       "        features: ['id', 'text', 'label', 'label_text'],\n",
       "        num_rows: 12000\n",
       "    })\n",
       "})"
      ]
     },
     "execution_count": 12,
     "metadata": {},
     "output_type": "execute_result"
    }
   ],
   "source": [
    "headline_dataset = load_dataset(\"json\", data_files=data_files)\n",
    "headline_dataset"
   ]
  },
  {
   "cell_type": "code",
   "execution_count": null,
   "id": "48f25b27-71c4-4216-b761-1da25c66de36",
   "metadata": {},
   "outputs": [],
   "source": [
    "#import random\n",
    "\n",
    "# # Generate 10 random indices\n",
    "# num_samples = 10\n",
    "# random_indices = random.sample(range(len(train_dataset)), num_samples)\n",
    "\n",
    "# # Select the random samples\n",
    "# random_samples = headline_dataset['test'].select(random_indices)\n",
    "# print(random_samples[\"text\"])"
   ]
  },
  {
   "cell_type": "code",
   "execution_count": 62,
   "id": "5a92f45f-426f-4edd-906d-a01edbe451cf",
   "metadata": {},
   "outputs": [
    {
     "data": {
      "text/plain": [
       "['Преступник устроил перестрелку в американской парикмахерской',\n",
       " 'Вещи режиссера фильма \"Гражданин Кейн\" выставят на торги в Нью-Йорке',\n",
       " 'Курсы банковских металлов НБУ на 13 декабря 2011 года',\n",
       " 'Борис Михайлов: \"Отставка Назарова неожиданностью не стала\"',\n",
       " 'Уровень бедности в России в I квартале подскочил до 16%',\n",
       " 'В Алтайском крае также ищут обломки \"Прогресса\"',\n",
       " 'Доходы России от экспорта нефти сократились вдвое в январе',\n",
       " 'Хоккей. Владимир Шалаев: Назарову грозили 5-7 игр дисквалификации',\n",
       " 'Доказана польза кофе в борьбе с ожирением',\n",
       " 'Китайский космический корабль \"Шэньчжоу-11\" успешно состыковался с лабораторным модулем \"Тяньгун-2\"',\n",
       " 'Стив Джобс посмертно получит музыкальную премию \"Грэмми\"',\n",
       " 'Совместный полет МКС-\"Дискавери\" продлен на сутки - НАСА',\n",
       " 'На российском рынке появился смартфон Philips Xenium V526',\n",
       " 'Меркель назвала условие снятия антироссийских санкций',\n",
       " 'Хоккей: Команда Павла Дацюка вылетела из Кубка Стэнли']"
      ]
     },
     "execution_count": 62,
     "metadata": {},
     "output_type": "execute_result"
    }
   ],
   "source": [
    "sentences = headline_dataset['test']['text'][:15]\n",
    "sentences"
   ]
  },
  {
   "cell_type": "code",
   "execution_count": 64,
   "id": "7eb5f393-31cc-4c51-9fc5-b4ac74ac26ec",
   "metadata": {},
   "outputs": [
    {
     "name": "stdout",
     "output_type": "stream",
     "text": [
      "Shape of embeddings: (15, 1024)\n",
      "First embedding: [0.01600719 0.00808946 0.03669386 0.03926603 0.03174081]\n"
     ]
    }
   ],
   "source": [
    "embeddings = model.encode(sentences)\n",
    "print(f\"Shape of embeddings: {embeddings.shape}\")\n",
    "print(f\"First embedding: {embeddings[0][:5]}\")"
   ]
  },
  {
   "cell_type": "markdown",
   "id": "e4afe6a7-0617-48b7-9eb5-1b51ef8e016b",
   "metadata": {},
   "source": [
    "## 3. Семантическое текстовое сходство (1 балл)\n",
    "    • Используя эмбеддинги из предыдущего шага, вычислите косинусное сходство между всеми парами предложений с помощью функции util.cos_sim.\n",
    "    • Выведите матрицу сходства и определите, какие два предложения наиболее похожи по смыслу."
   ]
  },
  {
   "cell_type": "code",
   "execution_count": 66,
   "id": "1e69d5c0-4fec-450e-ba92-74578f12bcdf",
   "metadata": {},
   "outputs": [],
   "source": [
    "cosine_scores = util.cos_sim(embeddings, embeddings)"
   ]
  },
  {
   "cell_type": "code",
   "execution_count": 68,
   "id": "328edc5e-a438-42a6-9642-8f64034e68ba",
   "metadata": {},
   "outputs": [
    {
     "name": "stdout",
     "output_type": "stream",
     "text": [
      "Cosine Similarity Matrix:\n",
      "tensor([[1.0000, 0.4596, 0.2920, 0.3640, 0.3205, 0.3191, 0.2808, 0.3389, 0.2933,\n",
      "         0.2851, 0.4256, 0.2826, 0.3516, 0.2639, 0.3144],\n",
      "        [0.4596, 1.0000, 0.4498, 0.4072, 0.3081, 0.3730, 0.3486, 0.3561, 0.3623,\n",
      "         0.3190, 0.4392, 0.3810, 0.3302, 0.3485, 0.3433],\n",
      "        [0.2920, 0.4498, 1.0000, 0.4018, 0.4221, 0.3393, 0.4274, 0.3959, 0.3338,\n",
      "         0.3206, 0.2837, 0.3460, 0.3644, 0.3799, 0.4134],\n",
      "        [0.3640, 0.4072, 0.4018, 1.0000, 0.3757, 0.3626, 0.3699, 0.7002, 0.3552,\n",
      "         0.2793, 0.3941, 0.3399, 0.3012, 0.4361, 0.4492],\n",
      "        [0.3205, 0.3081, 0.4221, 0.3757, 1.0000, 0.3440, 0.5165, 0.3697, 0.3288,\n",
      "         0.2529, 0.2132, 0.3065, 0.3329, 0.3419, 0.3372],\n",
      "        [0.3191, 0.3730, 0.3393, 0.3626, 0.3440, 1.0000, 0.3239, 0.3855, 0.3565,\n",
      "         0.5409, 0.3457, 0.5081, 0.3877, 0.3183, 0.3857],\n",
      "        [0.2808, 0.3486, 0.4274, 0.3699, 0.5165, 0.3239, 1.0000, 0.3972, 0.3727,\n",
      "         0.2637, 0.2615, 0.3147, 0.4172, 0.3832, 0.4193],\n",
      "        [0.3389, 0.3561, 0.3959, 0.7002, 0.3697, 0.3855, 0.3972, 1.0000, 0.3360,\n",
      "         0.3069, 0.3032, 0.3530, 0.3434, 0.3468, 0.5928],\n",
      "        [0.2933, 0.3623, 0.3338, 0.3552, 0.3288, 0.3565, 0.3727, 0.3360, 1.0000,\n",
      "         0.3698, 0.2763, 0.3887, 0.3761, 0.3791, 0.3012],\n",
      "        [0.2851, 0.3190, 0.3206, 0.2793, 0.2529, 0.5409, 0.2637, 0.3069, 0.3698,\n",
      "         1.0000, 0.2744, 0.5034, 0.4149, 0.2277, 0.3729],\n",
      "        [0.4256, 0.4392, 0.2837, 0.3941, 0.2132, 0.3457, 0.2615, 0.3032, 0.2763,\n",
      "         0.2744, 1.0000, 0.3676, 0.3014, 0.2370, 0.3156],\n",
      "        [0.2826, 0.3810, 0.3460, 0.3399, 0.3065, 0.5081, 0.3147, 0.3530, 0.3887,\n",
      "         0.5034, 0.3676, 1.0000, 0.2589, 0.3301, 0.3463],\n",
      "        [0.3516, 0.3302, 0.3644, 0.3012, 0.3329, 0.3877, 0.4172, 0.3434, 0.3761,\n",
      "         0.4149, 0.3014, 0.2589, 1.0000, 0.2758, 0.3223],\n",
      "        [0.2639, 0.3485, 0.3799, 0.4361, 0.3419, 0.3183, 0.3832, 0.3468, 0.3791,\n",
      "         0.2277, 0.2370, 0.3301, 0.2758, 1.0000, 0.3336],\n",
      "        [0.3144, 0.3433, 0.4134, 0.4492, 0.3372, 0.3857, 0.4193, 0.5928, 0.3012,\n",
      "         0.3729, 0.3156, 0.3463, 0.3223, 0.3336, 1.0000]])\n"
     ]
    }
   ],
   "source": [
    "print(\"Cosine Similarity Matrix:\")\n",
    "print(cosine_scores)"
   ]
  },
  {
   "cell_type": "markdown",
   "id": "fdb6106a-2c49-4bd3-9936-66ee04f9dcb6",
   "metadata": {},
   "source": [
    "Визуализируем полученные данные"
   ]
  },
  {
   "cell_type": "code",
   "execution_count": 71,
   "id": "257a5a29-b750-40ea-9367-1c87bcdd7a5f",
   "metadata": {},
   "outputs": [
    {
     "data": {
      "image/png": "[encoded data removed]",
      "text/plain": [
       "<Figure size 800x600 with 2 Axes>"
      ]
     },
     "metadata": {},
     "output_type": "display_data"
    }
   ],
   "source": [
    "plt.figure(figsize=(8, 6)) # Adjust figure size as needed\n",
    "sns.heatmap(cosine_scores, annot=True, cmap=\"YlGnBu\", fmt=\".2f\", linewidths=.5)\n",
    "plt.title(\"Cosine Similarity Matrix\")\n",
    "plt.xlabel(\"Item Index\")\n",
    "plt.ylabel(\"Item Index\")\n",
    "plt.show()"
   ]
  },
  {
   "cell_type": "code",
   "execution_count": 43,
   "id": "39d246ba-78d2-4876-bc13-1fbfebef2bbd",
   "metadata": {},
   "outputs": [
    {
     "data": {
      "text/plain": [
       "('Борис Михайлов: \"Отставка Назарова неожиданностью не стала\"',\n",
       " 'Хоккей. Владимир Шалаев: Назарову грозили 5-7 игр дисквалификации')"
      ]
     },
     "execution_count": 43,
     "metadata": {},
     "output_type": "execute_result"
    }
   ],
   "source": [
    "sentences[3], sentences[7]"
   ]
  },
  {
   "cell_type": "markdown",
   "id": "2a501eb4-6118-45d9-837f-49fdc8c23da8",
   "metadata": {},
   "source": [
    "Тут случайное совпадение фамилии..."
   ]
  },
  {
   "cell_type": "code",
   "execution_count": 45,
   "id": "f916db1c-6f80-4f31-8115-e081ecf20b5c",
   "metadata": {},
   "outputs": [
    {
     "data": {
      "text/plain": [
       "('В Алтайском крае также ищут обломки \"Прогресса\"',\n",
       " 'Китайский космический корабль \"Шэньчжоу-11\" успешно состыковался с лабораторным модулем \"Тяньгун-2\"')"
      ]
     },
     "execution_count": 45,
     "metadata": {},
     "output_type": "execute_result"
    }
   ],
   "source": [
    "sentences[5], sentences[9]"
   ]
  },
  {
   "cell_type": "markdown",
   "id": "111d215b-0d7c-4453-bc7a-83f0b13f8543",
   "metadata": {},
   "source": [
    "А вот это уже гораздо лучше, оба текстовых фрагмента на космическую тему."
   ]
  },
  {
   "cell_type": "code",
   "execution_count": 73,
   "id": "7f452038-9d7f-4261-b797-31fa74d07714",
   "metadata": {},
   "outputs": [
    {
     "data": {
      "text/plain": [
       "('Хоккей. Владимир Шалаев: Назарову грозили 5-7 игр дисквалификации',\n",
       " 'Хоккей: Команда Павла Дацюка вылетела из Кубка Стэнли')"
      ]
     },
     "execution_count": 73,
     "metadata": {},
     "output_type": "execute_result"
    }
   ],
   "source": [
    "sentences[7], sentences[14]"
   ]
  },
  {
   "cell_type": "markdown",
   "id": "d6c27f6b-fd62-4d78-80fc-9004555ac9a8",
   "metadata": {},
   "source": [
    "Тут тоже все ОК, спортивная тематика."
   ]
  },
  {
   "cell_type": "markdown",
   "id": "a3fc2fcc-3f47-481d-ac01-3894f4dc952d",
   "metadata": {},
   "source": [
    "## 4. Семантический поиск\n",
    "- На основе одного из датасетов из раздела датасеты создайте список из 15-20 предложений (например, описания фильмов, книг, статей или постов из социальных сетей).\n",
    "- Сформулируйте 3–4 поисковых запроса, связанных с темой корпуса (например, \"научная фантастика\" для корпуса описаний фильмов).\n",
    "- Получите эмбеддинги корпуса и запросов.\n",
    "- Используйте функцию util.semantic_search, чтобы найти топ-3 наиболее релевантных текста для каждого запроса.\n",
    "- Выведите результаты с указанием текстов и их оценок сходства."
   ]
  },
  {
   "cell_type": "code",
   "execution_count": 92,
   "id": "76043ee2-4102-479e-b171-fcb0f6ec2757",
   "metadata": {},
   "outputs": [],
   "source": [
    "corpus = headline_dataset['test']['text']\n",
    "queries = [\"политика\", \"экономика\", \"наука\", \"спорт\"]"
   ]
  },
  {
   "cell_type": "code",
   "execution_count": 94,
   "id": "a4a06e58-6151-44f9-9544-782ef9c9879f",
   "metadata": {},
   "outputs": [],
   "source": [
    "corpus_embeddings = model.encode(corpus)\n",
    "query_embeddings = model.encode(queries)"
   ]
  },
  {
   "cell_type": "code",
   "execution_count": 96,
   "id": "47bb94f2-1030-4d9c-bdb6-0954b654b6de",
   "metadata": {},
   "outputs": [],
   "source": [
    "hits = util.semantic_search(query_embeddings, corpus_embeddings, top_k=3)"
   ]
  },
  {
   "cell_type": "code",
   "execution_count": 103,
   "id": "d26297de-05ce-4794-bcfb-1c56a63f4a2e",
   "metadata": {},
   "outputs": [
    {
     "data": {
      "text/plain": [
       "[{'corpus_id': 3513, 'score': 0.6507707834243774},\n",
       " {'corpus_id': 360, 'score': 0.6385994553565979},\n",
       " {'corpus_id': 3146, 'score': 0.6108406186103821}]"
      ]
     },
     "execution_count": 103,
     "metadata": {},
     "output_type": "execute_result"
    }
   ],
   "source": [
    "hits[0]"
   ]
  },
  {
   "cell_type": "code",
   "execution_count": 149,
   "id": "4a3e276f-af38-4cd1-9730-dfcf61af827e",
   "metadata": {},
   "outputs": [
    {
     "name": "stdout",
     "output_type": "stream",
     "text": [
      "\n",
      "Тема: политика\n",
      "Score: 0.651, Text: Хроника выборов. Онлайн\n",
      "Score: 0.639, Text: Минюст разъяснил понятие политической деятельности НКО\n",
      "Score: 0.611, Text: Медведев хочет менять политсистему в России\n",
      "\n",
      "Тема: экономика\n",
      "Score: 0.686, Text: Bank of America: Российская экономика восстанавливается\n",
      "Score: 0.670, Text: Экономика России набирает обороты: Путин поговорил с бизнесменами в Кремле\n",
      "Score: 0.649, Text: Экономика России может вступить в рецессию уже в 2012 г\n",
      "\n",
      "Тема: наука\n",
      "Score: 0.660, Text: Ученые опровергли 5 самых популярных научных мифов\n",
      "Score: 0.630, Text: Ученые заявили, что уровень интеллекта человечества снижается\n",
      "Score: 0.625, Text: Россия увеличивает финансирование фундаментальных научных исследований\n",
      "\n",
      "Тема: спорт\n",
      "Score: 0.651, Text: Техника молодежи\n",
      "Score: 0.645, Text: Заседание Совета по развитию физической культуры и спорта\n",
      "Score: 0.630, Text: Игра в догонялки\n"
     ]
    }
   ],
   "source": [
    "for query, hit in zip(queries, hits):\n",
    "    print(f\"\\nТема: {query}\")\n",
    "    for h in hit:\n",
    "        print(f\"Score: {h['score']:.3f}, Text: {corpus[h['corpus_id']]}\")"
   ]
  },
  {
   "cell_type": "markdown",
   "id": "a1c34b74-a3bb-43d6-958b-8106f1724cd7",
   "metadata": {},
   "source": [
    "## 5. Поиск парафраз\n",
    "- Возьмите корпус из 20–30 предложений (можно использовать тот же, что в задании 4, или новый на основе датасетов из раздела датасеты).\n",
    "- Используйте функцию util.paraphrase_mining, чтобы найти пары предложений, которые являются парафразами (имеют близкий смысл).\n",
    "- Выведите топ-5 пар с наивысшими оценками сходства и соответствующими предложениями."
   ]
  },
  {
   "cell_type": "code",
   "execution_count": 141,
   "id": "8d66474d-c41e-4a22-86a5-bc97bffdeb33",
   "metadata": {},
   "outputs": [],
   "source": [
    "paraphrases = util.paraphrase_mining(model, corpus[:100])"
   ]
  },
  {
   "cell_type": "code",
   "execution_count": 147,
   "id": "5c9bc5f3-528a-4c6b-a0ef-50cca7eaae8d",
   "metadata": {},
   "outputs": [
    {
     "data": {
      "text/plain": [
       "[[0.7001790404319763, 3, 7],\n",
       " [0.6889865398406982, 18, 31],\n",
       " [0.6566447019577026, 22, 33],\n",
       " [0.6401084065437317, 19, 51],\n",
       " [0.6357138156890869, 15, 52]]"
      ]
     },
     "execution_count": 147,
     "metadata": {},
     "output_type": "execute_result"
    }
   ],
   "source": [
    "paraphrases[:5]"
   ]
  },
  {
   "cell_type": "code",
   "execution_count": 145,
   "id": "e5509b91-42b1-40e3-893a-0a4b6fce1e8b",
   "metadata": {},
   "outputs": [
    {
     "name": "stdout",
     "output_type": "stream",
     "text": [
      "Score: 0.700\n",
      "Headline 1: Борис Михайлов: \"Отставка Назарова неожиданностью не стала\"\n",
      "Headline 2: Хоккей. Владимир Шалаев: Назарову грозили 5-7 игр дисквалификации\n",
      "\n",
      "Score: 0.689\n",
      "Headline 1: Азаров считает, что евроинтеграции мешает блокирование Кабмина и Рады\n",
      "Headline 2: Азаров: альтернатива России есть, а выбора нет\n",
      "\n",
      "Score: 0.657\n",
      "Headline 1: В Лос-Анджелесе началась 59-я церемония вручения музыкальных премий Grammy\n",
      "Headline 2: Леди Гага получила престижнейшие Grammy\n",
      "\n",
      "Score: 0.640\n",
      "Headline 1: Рубль в начале дня вырос на 3 коп к доллару и упал на 3 коп к евро\n",
      "Headline 2: Евро опустился ниже 55 рублей\n",
      "\n",
      "Score: 0.636\n",
      "Headline 1: Фильм венесуэльского режиссера Лоренцо Вигаса \"Отсюда\" стал обладателем главной награды Венецианского фестиваля\n",
      "Headline 2: Открылся 70-й Венецианский кинофестиваль\n",
      "\n"
     ]
    }
   ],
   "source": [
    "for score, i, j in paraphrases[:5]:\n",
    "    print(f\"Score: {score:.3f}\\nHeadline 1: {corpus[i]}\\nHeadline 2: {corpus[j]}\\n\")"
   ]
  },
  {
   "cell_type": "markdown",
   "id": "a8e31ea9-0161-465e-aa73-1961088df5c0",
   "metadata": {},
   "source": [
    "## 6. Кластеризация текстов\n",
    "- Используя тот же корпус из 15–20 текстов, выполните кластеризацию текстов по их эмбеддингам с помощью функции util.community_detection из SentenceTransformers.\n",
    "- Установите минимальный размер кластера (min_community_size=2) и порог сходства (threshold=0.75).\n",
    "- Выведите полученные кластеры и соответствующие им тексты.\n",
    "- Проанализируйте, насколько логично тексты были сгруппированы (например, объединяются ли тексты с похожей тематикой)."
   ]
  },
  {
   "cell_type": "code",
   "execution_count": 167,
   "id": "ad927e87-952e-4008-964d-4a092b1d947d",
   "metadata": {},
   "outputs": [],
   "source": [
    "clusters = util.community_detection(corpus_embeddings[:500], min_community_size=2, threshold=0.75)"
   ]
  },
  {
   "cell_type": "code",
   "execution_count": 186,
   "id": "6fac63e2-3e3f-4405-9dd1-b31f3398bd1c",
   "metadata": {},
   "outputs": [
    {
     "data": {
      "text/plain": [
       "(10,\n",
       " [[19, 334],\n",
       "  [92, 391],\n",
       "  [137, 429],\n",
       "  [152, 218],\n",
       "  [194, 488],\n",
       "  [276, 474],\n",
       "  [314, 421],\n",
       "  [321, 478],\n",
       "  [340, 440],\n",
       "  [372, 480]])"
      ]
     },
     "execution_count": 186,
     "metadata": {},
     "output_type": "execute_result"
    }
   ],
   "source": [
    "len(clusters), clusters"
   ]
  },
  {
   "cell_type": "code",
   "execution_count": 171,
   "id": "416b0216-ff3c-46f7-a0c4-d0002917a5f9",
   "metadata": {},
   "outputs": [
    {
     "name": "stdout",
     "output_type": "stream",
     "text": [
      "\n",
      "Cluster 1:\n",
      " - Рубль в начале дня вырос на 3 коп к доллару и упал на 3 коп к евро\n",
      " - Российский рубль во вторник продолжил укрепление\n",
      "\n",
      "Cluster 2:\n",
      " - Режиссер из Владивостока стал победителем кинофестиваля \"Кинотавр\"\n",
      " - Никита Михалков стал лауреатом Одесского международного кинофестиваля 16.07.2011\n",
      "\n",
      "Cluster 3:\n",
      " - Apple отозвала обновление iOS 8 после жалоб пользователей\n",
      " - Apple отозвала обновление iOS 8.0.1 после многочисленных жалоб\n",
      "\n",
      "Cluster 4:\n",
      " - Установлены личности боевиков, уничтоженных в Малгобекском районе Ингушетии\n",
      " - Один из злоумышленников, пытавшихся похитить имама мечети в дагестанском селении Кахабросо, был уничтожен в ходе перестрелки\n",
      "\n",
      "Cluster 5:\n",
      " - Межбанк закрылся на уровне 25,84/25,88 грн за доллар\n",
      " - Торги на межбанке открылись в диапазоне 7,9910-7,9945 грн/долл\n",
      "\n",
      "Cluster 6:\n",
      " - Спасатели потушили 11 природных пожаров в Приморском крае\n",
      " - За минувшие сутки в Хабаровском крае ликвидировали 10 лесных пожаров\n",
      "\n",
      "Cluster 7:\n",
      " - Huawei анонсировала недорогой смартфон Honor 7X с безрамочным дисплеем\n",
      " - Huawei представила дешевый смартфон с двойной камерой\n",
      "\n",
      "Cluster 8:\n",
      " - Курсы наличной валюты на 27 декабря\n",
      " - Официальный курс валют на 27 мая\n",
      "\n",
      "Cluster 9:\n",
      " - С начала недели Украину накроют грозы, град и шквалы - прогноз погоды\n",
      " - Украину в сентябре накроют магнитные бури: названы опасные даты\n",
      "\n",
      "Cluster 10:\n",
      " - Приветствие олимпийской сборной России\n",
      " - Путин встретится с российскими олимпийцами\n"
     ]
    }
   ],
   "source": [
    "for i, cluster in enumerate(clusters):\n",
    "    print(f\"\\nCluster {i + 1}:\")\n",
    "    for idx in cluster:\n",
    "        print(f\" - {corpus[idx]}\")"
   ]
  },
  {
   "cell_type": "markdown",
   "id": "15a23e4c-c10a-4f3b-9af0-b006da252b77",
   "metadata": {},
   "source": [
    "## Дописать анализ адекватности кластеризации"
   ]
  },
  {
   "cell_type": "markdown",
   "id": "7ee52adf-ce59-46f0-a29f-178a2787ebf1",
   "metadata": {},
   "source": [
    "## 7. Классификация текстов (дополнительное бонусное задание)\n",
    "- На основе одного из датасетов из раздела датасеты создайте небольшой набор данных из 10–15 пар предложений, где каждая пара помечена как \"похожие\" (1) или \"непохожие\" (0) по смыслу.\n",
    "- Получите эмбеддинги для каждой пары предложений и вычислите их косинусное сходство.\n",
    "- Используйте порог (например, 0.7), чтобы классифицировать пары как похожие или непохожие.\n",
    "- Сравните ваши предсказания с истинными метками и вычислите точность (accuracy) классификации."
   ]
  },
  {
   "cell_type": "code",
   "execution_count": 194,
   "id": "058b98ad-d37c-461b-98e2-54a3cbc5c315",
   "metadata": {},
   "outputs": [
    {
     "data": {
      "text/plain": [
       "12000"
      ]
     },
     "execution_count": 194,
     "metadata": {},
     "output_type": "execute_result"
    }
   ],
   "source": [
    "len(corpus)"
   ]
  },
  {
   "cell_type": "code",
   "execution_count": 192,
   "id": "21107618-f387-44a4-8785-d10351e45778",
   "metadata": {},
   "outputs": [
    {
     "data": {
      "text/plain": [
       "('Рубль в начале дня вырос на 3 коп к доллару и упал на 3 коп к евро',\n",
       " 'Российский рубль во вторник продолжил укрепление')"
      ]
     },
     "execution_count": 192,
     "metadata": {},
     "output_type": "execute_result"
    }
   ],
   "source": [
    "corpus[19], corpus[334]"
   ]
  },
  {
   "cell_type": "code",
   "execution_count": 204,
   "id": "0d22f9ce-0c70-405b-8bb9-d7d73e6c2972",
   "metadata": {},
   "outputs": [
    {
     "data": {
      "text/plain": [
       "11847"
      ]
     },
     "execution_count": 204,
     "metadata": {},
     "output_type": "execute_result"
    }
   ],
   "source": [
    "random.randint(0, len(corpus)-1)"
   ]
  },
  {
   "cell_type": "code",
   "execution_count": 216,
   "id": "479b65be-e560-4e82-9548-d9c9d5a2b8a3",
   "metadata": {},
   "outputs": [
    {
     "name": "stdout",
     "output_type": "stream",
     "text": [
      "0 19\n",
      "1 92\n",
      "2 137\n",
      "3 152\n",
      "4 194\n",
      "5 276\n",
      "6 314\n",
      "7 321\n",
      "8 340\n",
      "9 372\n"
     ]
    }
   ],
   "source": [
    "for i, cluster in enumerate(clusters):\n",
    "    print(i, cluster[0])"
   ]
  },
  {
   "cell_type": "code",
   "execution_count": 232,
   "id": "20647e68-6817-4048-8064-38f8f1004d32",
   "metadata": {},
   "outputs": [],
   "source": [
    "# Let's write small function to create a dataset of pairs for similar and different sentences with labels\n",
    "def make_pairs(clusters, pairs_max_num=10):\n",
    "    pairs = []\n",
    "    for i, cluster in enumerate(clusters):\n",
    "        sim_pair = [corpus[cluster[0]], corpus[cluster[1]], 1]\n",
    "        dif_pair = [corpus[cluster[0]], corpus[random.randint(0, len(corpus)-1)], 0]\n",
    "        pairs.extend([sim_pair, dif_pair])\n",
    "        if i >= pairs_max_num:\n",
    "            return pairs\n",
    "    return pairs    "
   ]
  },
  {
   "cell_type": "code",
   "execution_count": 236,
   "id": "b2f5d852-366b-42c1-a679-fd010a505ce9",
   "metadata": {},
   "outputs": [
    {
     "data": {
      "text/plain": [
       "20"
      ]
     },
     "execution_count": 236,
     "metadata": {},
     "output_type": "execute_result"
    }
   ],
   "source": [
    "pairs = make_pairs(clusters)"
   ]
  },
  {
   "cell_type": "code",
   "execution_count": 246,
   "id": "acb32bc5-f9f4-48ce-a13b-f7229bcefb0b",
   "metadata": {},
   "outputs": [
    {
     "data": {
      "text/plain": [
       "(20,\n",
       " [['Рубль в начале дня вырос на 3 коп к доллару и упал на 3 коп к евро',\n",
       "   'Российский рубль во вторник продолжил укрепление',\n",
       "   1],\n",
       "  ['Рубль в начале дня вырос на 3 коп к доллару и упал на 3 коп к евро',\n",
       "   'Шеститонный неуправляемого спутник NASA упадет в Индийский океан',\n",
       "   0],\n",
       "  ['Режиссер из Владивостока стал победителем кинофестиваля \"Кинотавр\"',\n",
       "   'Никита Михалков стал лауреатом Одесского международного кинофестиваля 16.07.2011',\n",
       "   1],\n",
       "  ['Режиссер из Владивостока стал победителем кинофестиваля \"Кинотавр\"',\n",
       "   '\"Полиция убивает\". Пьяные сотрудники МВД Украины застрелили ребенка',\n",
       "   0],\n",
       "  ['Apple отозвала обновление iOS 8 после жалоб пользователей',\n",
       "   'Apple отозвала обновление iOS 8.0.1 после многочисленных жалоб',\n",
       "   1],\n",
       "  ['Apple отозвала обновление iOS 8 после жалоб пользователей',\n",
       "   'Северный полюс Земли начал двигаться на восток, - ученые',\n",
       "   0],\n",
       "  ['Установлены личности боевиков, уничтоженных в Малгобекском районе Ингушетии',\n",
       "   'Один из злоумышленников, пытавшихся похитить имама мечети в дагестанском селении Кахабросо, был уничтожен в ходе перестрелки',\n",
       "   1],\n",
       "  ['Установлены личности боевиков, уничтоженных в Малгобекском районе Ингушетии',\n",
       "   'Футбол. Игорь Криушенко: ноль очков в группе? Но мы же играли не с Сан-Марино',\n",
       "   0],\n",
       "  ['Межбанк закрылся на уровне 25,84/25,88 грн за доллар',\n",
       "   'Торги на межбанке открылись в диапазоне 7,9910-7,9945 грн/долл',\n",
       "   1],\n",
       "  ['Межбанк закрылся на уровне 25,84/25,88 грн за доллар',\n",
       "   'В Индии четырем обвиняемым по делу об изнасиловании вынесен смертный приговор',\n",
       "   0],\n",
       "  ['Спасатели потушили 11 природных пожаров в Приморском крае',\n",
       "   'За минувшие сутки в Хабаровском крае ликвидировали 10 лесных пожаров',\n",
       "   1],\n",
       "  ['Спасатели потушили 11 природных пожаров в Приморском крае',\n",
       "   'Канцлер Меркель: 2016-й был годом тяжелых испытаний',\n",
       "   0],\n",
       "  ['Huawei анонсировала недорогой смартфон Honor 7X с безрамочным дисплеем',\n",
       "   'Huawei представила дешевый смартфон с двойной камерой',\n",
       "   1],\n",
       "  ['Huawei анонсировала недорогой смартфон Honor 7X с безрамочным дисплеем',\n",
       "   'Осужден хакер, похитивший у ООН квоты на углекислый газ',\n",
       "   0],\n",
       "  ['Курсы наличной валюты на 27 декабря',\n",
       "   'Официальный курс валют на 27 мая',\n",
       "   1],\n",
       "  ['Курсы наличной валюты на 27 декабря',\n",
       "   '\"Союз\" с нераскрывшейся солнечной батареей пристыковался к МКС',\n",
       "   0],\n",
       "  ['С начала недели Украину накроют грозы, град и шквалы - прогноз погоды',\n",
       "   'Украину в сентябре накроют магнитные бури: названы опасные даты',\n",
       "   1],\n",
       "  ['С начала недели Украину накроют грозы, град и шквалы - прогноз погоды',\n",
       "   'Реднапп не хочет продавать Павлюченко',\n",
       "   0],\n",
       "  ['Приветствие олимпийской сборной России',\n",
       "   'Путин встретится с российскими олимпийцами',\n",
       "   1],\n",
       "  ['Приветствие олимпийской сборной России',\n",
       "   'Рабочие \"БазэлЦемента\" в Пикалево начали получать зарплату - профсоюз',\n",
       "   0]])"
      ]
     },
     "execution_count": 246,
     "metadata": {},
     "output_type": "execute_result"
    }
   ],
   "source": [
    "len(pairs), pairs"
   ]
  },
  {
   "cell_type": "markdown",
   "id": "22ceb27c-74ec-4287-a5f2-99e85ff4d873",
   "metadata": {},
   "source": [
    "Датасет с парами фраз и метками готов, можно генерировать предсказания и считать accuracy"
   ]
  },
  {
   "cell_type": "code",
   "execution_count": 250,
   "id": "84de5bb5-f109-4ece-9b0a-ab2b1d55ee4b",
   "metadata": {},
   "outputs": [
    {
     "name": "stdout",
     "output_type": "stream",
     "text": [
      "Новость 1: Рубль в начале дня вырос на 3 коп к доллару и упал на 3 коп к евро\n",
      "Новость 2: Российский рубль во вторник продолжил укрепление\n",
      "Score: 0.770, Predicted: 1, True: 1\n",
      "\n",
      "Новость 1: Рубль в начале дня вырос на 3 коп к доллару и упал на 3 коп к евро\n",
      "Новость 2: Шеститонный неуправляемого спутник NASA упадет в Индийский океан\n",
      "Score: 0.299, Predicted: 0, True: 0\n",
      "\n",
      "Новость 1: Режиссер из Владивостока стал победителем кинофестиваля \"Кинотавр\"\n",
      "Новость 2: Никита Михалков стал лауреатом Одесского международного кинофестиваля 16.07.2011\n",
      "Score: 0.756, Predicted: 1, True: 1\n",
      "\n",
      "Новость 1: Режиссер из Владивостока стал победителем кинофестиваля \"Кинотавр\"\n",
      "Новость 2: \"Полиция убивает\". Пьяные сотрудники МВД Украины застрелили ребенка\n",
      "Score: 0.400, Predicted: 0, True: 0\n",
      "\n",
      "Новость 1: Apple отозвала обновление iOS 8 после жалоб пользователей\n",
      "Новость 2: Apple отозвала обновление iOS 8.0.1 после многочисленных жалоб\n",
      "Score: 0.934, Predicted: 1, True: 1\n",
      "\n",
      "Новость 1: Apple отозвала обновление iOS 8 после жалоб пользователей\n",
      "Новость 2: Северный полюс Земли начал двигаться на восток, - ученые\n",
      "Score: 0.274, Predicted: 0, True: 0\n",
      "\n",
      "Новость 1: Установлены личности боевиков, уничтоженных в Малгобекском районе Ингушетии\n",
      "Новость 2: Один из злоумышленников, пытавшихся похитить имама мечети в дагестанском селении Кахабросо, был уничтожен в ходе перестрелки\n",
      "Score: 0.754, Predicted: 1, True: 1\n",
      "\n",
      "Новость 1: Установлены личности боевиков, уничтоженных в Малгобекском районе Ингушетии\n",
      "Новость 2: Футбол. Игорь Криушенко: ноль очков в группе? Но мы же играли не с Сан-Марино\n",
      "Score: 0.336, Predicted: 0, True: 0\n",
      "\n",
      "Новость 1: Межбанк закрылся на уровне 25,84/25,88 грн за доллар\n",
      "Новость 2: Торги на межбанке открылись в диапазоне 7,9910-7,9945 грн/долл\n",
      "Score: 0.750, Predicted: 1, True: 1\n",
      "\n",
      "Новость 1: Межбанк закрылся на уровне 25,84/25,88 грн за доллар\n",
      "Новость 2: В Индии четырем обвиняемым по делу об изнасиловании вынесен смертный приговор\n",
      "Score: 0.257, Predicted: 0, True: 0\n",
      "\n",
      "Новость 1: Спасатели потушили 11 природных пожаров в Приморском крае\n",
      "Новость 2: За минувшие сутки в Хабаровском крае ликвидировали 10 лесных пожаров\n",
      "Score: 0.830, Predicted: 1, True: 1\n",
      "\n",
      "Новость 1: Спасатели потушили 11 природных пожаров в Приморском крае\n",
      "Новость 2: Канцлер Меркель: 2016-й был годом тяжелых испытаний\n",
      "Score: 0.305, Predicted: 0, True: 0\n",
      "\n",
      "Новость 1: Huawei анонсировала недорогой смартфон Honor 7X с безрамочным дисплеем\n",
      "Новость 2: Huawei представила дешевый смартфон с двойной камерой\n",
      "Score: 0.768, Predicted: 1, True: 1\n",
      "\n",
      "Новость 1: Huawei анонсировала недорогой смартфон Honor 7X с безрамочным дисплеем\n",
      "Новость 2: Осужден хакер, похитивший у ООН квоты на углекислый газ\n",
      "Score: 0.365, Predicted: 0, True: 0\n",
      "\n",
      "Новость 1: Курсы наличной валюты на 27 декабря\n",
      "Новость 2: Официальный курс валют на 27 мая\n",
      "Score: 0.838, Predicted: 1, True: 1\n",
      "\n",
      "Новость 1: Курсы наличной валюты на 27 декабря\n",
      "Новость 2: \"Союз\" с нераскрывшейся солнечной батареей пристыковался к МКС\n",
      "Score: 0.280, Predicted: 0, True: 0\n",
      "\n",
      "Новость 1: С начала недели Украину накроют грозы, град и шквалы - прогноз погоды\n",
      "Новость 2: Украину в сентябре накроют магнитные бури: названы опасные даты\n",
      "Score: 0.789, Predicted: 1, True: 1\n",
      "\n",
      "Новость 1: С начала недели Украину накроют грозы, град и шквалы - прогноз погоды\n",
      "Новость 2: Реднапп не хочет продавать Павлюченко\n",
      "Score: 0.338, Predicted: 0, True: 0\n",
      "\n",
      "Новость 1: Приветствие олимпийской сборной России\n",
      "Новость 2: Путин встретится с российскими олимпийцами\n",
      "Score: 0.754, Predicted: 1, True: 1\n",
      "\n",
      "Новость 1: Приветствие олимпийской сборной России\n",
      "Новость 2: Рабочие \"БазэлЦемента\" в Пикалево начали получать зарплату - профсоюз\n",
      "Score: 0.446, Predicted: 0, True: 0\n",
      "\n"
     ]
    }
   ],
   "source": [
    "predictions = []\n",
    "for sent1, sent2, label in pairs:\n",
    "    emb1, emb2 = model.encode([sent1, sent2])\n",
    "    score = util.cos_sim(emb1, emb2)[0][0]\n",
    "    pred = 1 if score > 0.7 else 0\n",
    "    predictions.append(pred)\n",
    "    print(f\"Новость 1: {sent1}\\nНовость 2: {sent2}\\nScore: {score:.3f}, Predicted: {pred}, True: {label}\\n\")"
   ]
  },
  {
   "cell_type": "code",
   "execution_count": 252,
   "id": "52285e4f-7ca1-4fa8-af34-fd10d0813dd4",
   "metadata": {},
   "outputs": [
    {
     "name": "stdout",
     "output_type": "stream",
     "text": [
      "Accuracy: 1.000\n"
     ]
    }
   ],
   "source": [
    "accuracy = sum(1 for (s1, s2, label), pred in zip(pairs, predictions) if label == pred) / len(pairs)\n",
    "print(f\"Accuracy: {accuracy:.3f}\")"
   ]
  },
  {
   "cell_type": "markdown",
   "id": "d26363b8-e61a-43b8-a627-86bd1a727880",
   "metadata": {},
   "source": [
    "Модель идеально классифицировала наш игрушечный набор данных )"
   ]
  },
  {
   "cell_type": "markdown",
   "id": "5d7743be-4bc3-4309-97bc-57967e23f1ce",
   "metadata": {},
   "source": [
    "## 8. Итоговые результаты"
   ]
  },
  {
   "cell_type": "markdown",
   "id": "93e8021a-d2aa-4821-8486-c089ec2e2edb",
   "metadata": {},
   "source": [
    "В ходе выполнения домашнего задания были выполнены следующие задачи:\n",
    "- получены эмбеддинги для выбранного набора данных с новостными заголовками;\n",
    "- с использованием полученных на предыдущем шаге эмбеддингов проведена оценка семантической близости. Сформирована и визуализирована матрица косинусной близости;\n",
    "- проведен семантический поиск по выбранным новостным темам;\n",
    "- выполнен поиск парафраз;\n",
    "- проведена кластеризация текстов;\n",
    "- подготовлен набор размеченных пар новостных заголовков и проведена классификация с использованием модели. \n",
    "\n",
    "Сложности у модели возникли с кластеризацией, в частности, излишнее дробление на мини-кластеры, близкие по тематике. \n",
    "\n",
    "При этом в задаче классификации модель не допустила ни одной ошибки, метрика **accuracy = 1** с учетом небольшого объема размеченных данных и специфики формирования датасета.   \n",
    "\n",
    "В целом, модель продемонстрировала высокую способность к оценке семантической близости фраз и в задачах, предполагающих обработку не отдельных слов, а предложений или документов, SentenceTransformers является прекрасным инструментом."
   ]
  },
  {
   "cell_type": "code",
   "execution_count": null,
   "id": "c45e624b-5275-43ba-84bd-7ac24bf93c4a",
   "metadata": {},
   "outputs": [],
   "source": []
  }
 ],
 "metadata": {
  "kernelspec": {
   "display_name": "Python 3 (ipykernel)",
   "language": "python",
   "name": "python3"
  },
  "language_info": {
   "codemirror_mode": {
    "name": "ipython",
    "version": 3
   },
   "file_extension": ".py",
   "mimetype": "text/x-python",
   "name": "python",
   "nbconvert_exporter": "python",
   "pygments_lexer": "ipython3",
   "version": "3.12.2"
  }
 },
 "nbformat": 4,
 "nbformat_minor": 5
}
