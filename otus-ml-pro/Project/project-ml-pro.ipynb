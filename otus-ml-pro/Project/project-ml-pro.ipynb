{
 "cells": [
  {
   "cell_type": "markdown",
   "id": "c301263c-2c2f-4f6d-860c-b7c8023f4022",
   "metadata": {},
   "source": [
    "# Проектная работа на тему:\n",
    "## Сравнительное исследование архитектуры нейронных сетей на примере задачи мультиклассовой классификации изображений"
   ]
  },
  {
   "cell_type": "markdown",
   "id": "7c7ff6b2-91c0-4ac7-9450-cc0c58523a02",
   "metadata": {},
   "source": [
    "Содержание:\n",
    "1. Подготовка набора данных\n",
    "2. Model 0: Создание baseline модели\n",
    "3. Формирование предсказаний и оценка результатов базовой модели\n",
    "4. Model 1: Добавление нелинейности в модель\n",
    "5. Формирование предсказаний и оценка результатов нелинейной модели\n",
    "6. Model 2: Создание сверточной нейронной сети (CNN)\n",
    "7. Сравнение результатов всех моделей\n",
    "8. Построение confusion matrix для лучшей модели\n",
    "9. Итоговые выводы"
   ]
  },
  {
   "cell_type": "markdown",
   "id": "ee7e8c57-6d39-4ec1-a3f9-d70406d96e7f",
   "metadata": {},
   "source": [
    "## 1. Подготовка набора данных"
   ]
  },
  {
   "cell_type": "code",
   "execution_count": 1,
   "id": "8d6775f4-6317-49b4-9000-79428cc2d4d0",
   "metadata": {},
   "outputs": [],
   "source": [
    "## Importing libraries\n",
    "import torch\n",
    "from torch import nn\n",
    "from torch.utils.data import DataLoader\n",
    "\n",
    "import torchvision\n",
    "from torchvision import datasets\n",
    "from torchvision.transforms import ToTensor\n",
    "\n",
    "import torcheval\n",
    "from torcheval.metrics.functional import multiclass_accuracy, multiclass_f1_score\n",
    "\n",
    "from torchmetrics import ConfusionMatrix\n",
    "from mlxtend.plotting import plot_confusion_matrix\n",
    "\n",
    "import numpy as np\n",
    "import pandas as pd\n",
    "import random\n",
    "\n",
    "import matplotlib.pyplot as plt"
   ]
  },
  {
   "cell_type": "code",
   "execution_count": 2,
   "id": "0bbd0fb6-08de-4645-94b6-332b3c6e91ca",
   "metadata": {},
   "outputs": [
    {
     "data": {
      "text/plain": [
       "'cpu'"
      ]
     },
     "execution_count": 2,
     "metadata": {},
     "output_type": "execute_result"
    }
   ],
   "source": [
    "## Setup device agnostic code\n",
    "device = ('cuda' if torch.cuda.is_available() else 'cpu')\n",
    "device"
   ]
  },
  {
   "cell_type": "markdown",
   "id": "e56002fa-915b-4a5c-b96a-bdfbc634b2f6",
   "metadata": {},
   "source": [
    "### Загружаем датасет"
   ]
  },
  {
   "cell_type": "code",
   "execution_count": 3,
   "id": "8294efca-ed9b-4b6f-acee-44545f81ba08",
   "metadata": {},
   "outputs": [],
   "source": [
    "## Downloading dataset\n",
    "train_data = datasets.FashionMNIST(root='data', train=True, transform=ToTensor(), download=True)\n",
    "test_data = datasets.FashionMNIST(root='data', train=False, transform=ToTensor(), download=True)"
   ]
  },
  {
   "cell_type": "code",
   "execution_count": 4,
   "id": "7cd7d7fc-c7ee-4125-af9c-ad94a352604d",
   "metadata": {},
   "outputs": [
    {
     "data": {
      "text/plain": [
       "(60000, 10000)"
      ]
     },
     "execution_count": 4,
     "metadata": {},
     "output_type": "execute_result"
    }
   ],
   "source": [
    "len(train_data), len(test_data)"
   ]
  },
  {
   "cell_type": "code",
   "execution_count": 5,
   "id": "cd5d96ec-59a7-47c8-8b3b-d14c7558d467",
   "metadata": {},
   "outputs": [
    {
     "data": {
      "text/plain": [
       "(tuple, 2)"
      ]
     },
     "execution_count": 5,
     "metadata": {},
     "output_type": "execute_result"
    }
   ],
   "source": [
    "type(train_data[0]), len(train_data[0])"
   ]
  },
  {
   "cell_type": "code",
   "execution_count": 6,
   "id": "07986aff-0572-42a6-b5c2-d2972432e9f2",
   "metadata": {},
   "outputs": [
    {
     "data": {
      "text/plain": [
       "torch.Size([1, 28, 28])"
      ]
     },
     "execution_count": 6,
     "metadata": {},
     "output_type": "execute_result"
    }
   ],
   "source": [
    "train_data[0][0].shape"
   ]
  },
  {
   "cell_type": "code",
   "execution_count": 7,
   "id": "de47f375-e239-4615-a27d-a5b769967779",
   "metadata": {},
   "outputs": [
    {
     "data": {
      "text/plain": [
       "9"
      ]
     },
     "execution_count": 7,
     "metadata": {},
     "output_type": "execute_result"
    }
   ],
   "source": [
    "train_data[0][1]"
   ]
  },
  {
   "cell_type": "code",
   "execution_count": 8,
   "id": "bd63f7d8-58e5-401b-a3d5-4c96a34a994e",
   "metadata": {},
   "outputs": [],
   "source": [
    "## Let's check class distribution in our dataset\n",
    "count_train_list = []\n",
    "count_test_list = []\n",
    "\n",
    "for i in range(len(train_data)):\n",
    "    count_train_list.append(train_data[i][1])\n",
    "\n",
    "for i in range(len(test_data)):\n",
    "    count_test_list.append(test_data[i][1])\n",
    "\n",
    "count_train_df = pd.DataFrame({'Train_labels': count_train_list})\n",
    "count_test_df = pd.DataFrame({'Test_labels': count_test_list})"
   ]
  },
  {
   "cell_type": "code",
   "execution_count": 9,
   "id": "304d8309-7e66-4d47-a87e-adbee123ffe8",
   "metadata": {},
   "outputs": [
    {
     "data": {
      "text/plain": [
       "Train_labels\n",
       "9    6000\n",
       "0    6000\n",
       "3    6000\n",
       "2    6000\n",
       "7    6000\n",
       "5    6000\n",
       "1    6000\n",
       "6    6000\n",
       "4    6000\n",
       "8    6000\n",
       "Name: count, dtype: int64"
      ]
     },
     "execution_count": 9,
     "metadata": {},
     "output_type": "execute_result"
    }
   ],
   "source": [
    "count_train_df['Train_labels'].value_counts()"
   ]
  },
  {
   "cell_type": "code",
   "execution_count": 10,
   "id": "2fbe0006-4b66-493f-9354-321e27e15a14",
   "metadata": {},
   "outputs": [
    {
     "data": {
      "text/plain": [
       "Test_labels\n",
       "9    1000\n",
       "2    1000\n",
       "1    1000\n",
       "6    1000\n",
       "4    1000\n",
       "5    1000\n",
       "7    1000\n",
       "3    1000\n",
       "8    1000\n",
       "0    1000\n",
       "Name: count, dtype: int64"
      ]
     },
     "execution_count": 10,
     "metadata": {},
     "output_type": "execute_result"
    }
   ],
   "source": [
    "count_test_df['Test_labels'].value_counts()"
   ]
  },
  {
   "cell_type": "markdown",
   "id": "5f4ead70-bc0a-4e04-a53f-1addb1a637b6",
   "metadata": {},
   "source": [
    "Распределение по классам в обучающей и тестовой выборках идеально сбалансировано"
   ]
  },
  {
   "cell_type": "code",
   "execution_count": 11,
   "id": "679042ad-2f72-4584-baff-2081002d1be3",
   "metadata": {},
   "outputs": [
    {
     "data": {
      "text/plain": [
       "['T-shirt/top',\n",
       " 'Trouser',\n",
       " 'Pullover',\n",
       " 'Dress',\n",
       " 'Coat',\n",
       " 'Sandal',\n",
       " 'Shirt',\n",
       " 'Sneaker',\n",
       " 'Bag',\n",
       " 'Ankle boot']"
      ]
     },
     "execution_count": 11,
     "metadata": {},
     "output_type": "execute_result"
    }
   ],
   "source": [
    "class_names = train_data.classes\n",
    "class_names"
   ]
  },
  {
   "cell_type": "code",
   "execution_count": 12,
   "id": "0cbff978-052d-49d5-846e-25d1f266ccef",
   "metadata": {},
   "outputs": [
    {
     "data": {
      "image/png": "[encoded data removed]",
      "text/plain": [
       "<Figure size 640x480 with 1 Axes>"
      ]
     },
     "metadata": {},
     "output_type": "display_data"
    }
   ],
   "source": [
    "## Let's visualize our data\n",
    "image, label = train_data[0]\n",
    "plt.imshow(image.squeeze(), cmap='grey')\n",
    "plt.title(str(label) + ' ' + class_names[label])\n",
    "plt.axis(False)\n",
    "plt.show();"
   ]
  },
  {
   "cell_type": "code",
   "execution_count": 13,
   "id": "57c5b136-8c91-46f2-b855-9babb56e57ca",
   "metadata": {},
   "outputs": [
    {
     "data": {
      "image/png": "[encoded data removed]",
      "text/plain": [
       "<Figure size 1200x400 with 12 Axes>"
      ]
     },
     "metadata": {},
     "output_type": "display_data"
    }
   ],
   "source": [
    "# Let's visualize more images\n",
    "plt.figure(figsize=(12,4))\n",
    "for i in range(1, 13, 1):\n",
    "    idx = torch.randint(low=0, high=len(train_data), size=(1,)).item()\n",
    "    image, label = train_data[idx]\n",
    "    plt.subplot(2,6,i)\n",
    "    plt.title(str(label) + ' ' + class_names[label])\n",
    "    plt.imshow(image.squeeze(), cmap='grey')\n",
    "    plt.axis(False)"
   ]
  },
  {
   "cell_type": "markdown",
   "id": "39b108f6-17f6-48df-ad48-bcb194303ba9",
   "metadata": {},
   "source": [
    "### Подготовка DataLoader"
   ]
  },
  {
   "cell_type": "code",
   "execution_count": 14,
   "id": "5d68939f-a0a7-4189-b8af-00ca48024882",
   "metadata": {},
   "outputs": [],
   "source": [
    "BATCH_SIZE = 32\n",
    "\n",
    "train_loader = DataLoader(dataset=train_data, batch_size=BATCH_SIZE, shuffle=True)\n",
    "test_loader = DataLoader(dataset=test_data, batch_size=BATCH_SIZE, shuffle=False)"
   ]
  },
  {
   "cell_type": "code",
   "execution_count": 15,
   "id": "26bfb5ec-da22-4dd3-8302-2e0dd2f87a18",
   "metadata": {},
   "outputs": [
    {
     "name": "stdout",
     "output_type": "stream",
     "text": [
      "Train loader length: 1875 batches of 32 images\n",
      "Test loader length: 313 batches of 32 images\n"
     ]
    }
   ],
   "source": [
    "print(f\"Train loader length: {len(train_loader)} batches of {BATCH_SIZE} images\")\n",
    "print(f\"Test loader length: {len(test_loader)} batches of {BATCH_SIZE} images\")"
   ]
  },
  {
   "cell_type": "code",
   "execution_count": 16,
   "id": "9047c832-48ff-4a26-9139-fa4ef5cb5713",
   "metadata": {},
   "outputs": [],
   "source": [
    "train_images_batch, train_labels_batch = next(iter(train_loader))"
   ]
  },
  {
   "cell_type": "code",
   "execution_count": 17,
   "id": "f8facf60-43b8-4264-a6b0-0fcfef61106a",
   "metadata": {},
   "outputs": [
    {
     "data": {
      "text/plain": [
       "(torch.Size([32, 1, 28, 28]), torch.Size([32]))"
      ]
     },
     "execution_count": 17,
     "metadata": {},
     "output_type": "execute_result"
    }
   ],
   "source": [
    "train_images_batch.shape, train_labels_batch.shape"
   ]
  },
  {
   "cell_type": "code",
   "execution_count": 18,
   "id": "f78514a0-5209-451f-8b23-f78ebc99ccbc",
   "metadata": {},
   "outputs": [
    {
     "data": {
      "image/png": "[encoded data removed]",
      "text/plain": [
       "<Figure size 640x480 with 1 Axes>"
      ]
     },
     "metadata": {},
     "output_type": "display_data"
    }
   ],
   "source": [
    "## Let's visualize random image from the first batch\n",
    "idx = torch.randint(low=0, high=len(train_images_batch), size=(1,)).item()\n",
    "image, label = train_images_batch[idx], train_labels_batch[idx]\n",
    "plt.imshow(image.squeeze(), cmap='grey')\n",
    "plt.title(str(label.item()) + ' ' + class_names[label])\n",
    "plt.axis(False)\n",
    "plt.show();"
   ]
  },
  {
   "cell_type": "markdown",
   "id": "993d04ff-c0b9-478a-9d8d-6ae5535cad3b",
   "metadata": {},
   "source": [
    "## 2. Построение базовой модели (baseline)"
   ]
  },
  {
   "cell_type": "code",
   "execution_count": 19,
   "id": "7cff841e-761c-4de6-ad45-5775ee544239",
   "metadata": {},
   "outputs": [
    {
     "data": {
      "text/plain": [
       "13"
      ]
     },
     "execution_count": 19,
     "metadata": {},
     "output_type": "execute_result"
    }
   ],
   "source": [
    "RANDOM_SEED = 13\n",
    "# RANDOM_SEED = torch.randint(low=0, high=100, size=(1,)).item()  ## Let's have fun\n",
    "torch.manual_seed(RANDOM_SEED)\n",
    "RANDOM_SEED"
   ]
  },
  {
   "cell_type": "code",
   "execution_count": 20,
   "id": "1783b21c-3a05-4cc7-a030-d12675114bee",
   "metadata": {},
   "outputs": [],
   "source": [
    "## Creating baseline model as a subclass from nn.Module\n",
    "class LinearModelV0(nn.Module):\n",
    "    def __init__(self, input_shape: int, hidden_units: int, output_shape: int):\n",
    "        super().__init__()\n",
    "        self.layer_stack = nn.Sequential(nn.Flatten(),\n",
    "                                         nn.Linear(in_features=input_shape, out_features=hidden_units),\n",
    "                                         nn.Linear(in_features=hidden_units, out_features=output_shape)\n",
    "                                        )\n",
    "    def forward(self, x):\n",
    "        return self.layer_stack(x)    "
   ]
  },
  {
   "cell_type": "code",
   "execution_count": 21,
   "id": "49c1078f-0075-4c34-b372-3202e10bfeae",
   "metadata": {},
   "outputs": [
    {
     "data": {
      "text/plain": [
       "LinearModelV0(\n",
       "  (layer_stack): Sequential(\n",
       "    (0): Flatten(start_dim=1, end_dim=-1)\n",
       "    (1): Linear(in_features=784, out_features=15, bias=True)\n",
       "    (2): Linear(in_features=15, out_features=10, bias=True)\n",
       "  )\n",
       ")"
      ]
     },
     "execution_count": 21,
     "metadata": {},
     "output_type": "execute_result"
    }
   ],
   "source": [
    "torch.manual_seed(RANDOM_SEED)\n",
    "\n",
    "## Calculating number of pixels for the given image in our dataset\n",
    "pix_num = train_images_batch[0].shape[1] * train_images_batch[0].shape[2]\n",
    "\n",
    "## Instantiating our model\n",
    "model_0 = LinearModelV0(input_shape=pix_num, hidden_units=15, output_shape=len(class_names))\n",
    "\n",
    "## Sending model to device\n",
    "model_0.to(device)\n",
    "model_0"
   ]
  },
  {
   "cell_type": "code",
   "execution_count": 22,
   "id": "b04fdfed-d6c1-42e8-9da7-95e843d1a44c",
   "metadata": {},
   "outputs": [],
   "source": [
    "## Learning rate\n",
    "lr = 0.0001\n",
    "\n",
    "## Defining loss function\n",
    "cross_entropy_loss = nn.CrossEntropyLoss()\n",
    "\n",
    "## Setting up an optimizer\n",
    "optimizer = torch.optim.Adam(model_0.parameters(), lr=lr)"
   ]
  },
  {
   "cell_type": "markdown",
   "id": "cbcc3bcc-095f-4e16-863c-e2788c79a80a",
   "metadata": {},
   "source": [
    "## 3. Создаем цикл train/test для базовой модели"
   ]
  },
  {
   "cell_type": "code",
   "execution_count": 23,
   "id": "cba3c044-c4db-4b69-966b-9b59c1d11781",
   "metadata": {},
   "outputs": [
    {
     "name": "stdout",
     "output_type": "stream",
     "text": [
      "Epoch: 0 | Train loss: 1.0544204 | Test loss: 0.7404323 | Accuracy: 0.74 | F1-score: 0.74\n",
      "Epoch: 1 | Train loss: 0.6509396 | Test loss: 0.6185516 | Accuracy: 0.78 | F1-score: 0.78\n",
      "Epoch: 2 | Train loss: 0.5687914 | Test loss: 0.5677615 | Accuracy: 0.80 | F1-score: 0.80\n",
      "Epoch: 3 | Train loss: 0.5269698 | Test loss: 0.5376227 | Accuracy: 0.82 | F1-score: 0.82\n",
      "Epoch: 4 | Train loss: 0.5008971 | Test loss: 0.5180505 | Accuracy: 0.82 | F1-score: 0.82\n",
      "Epoch: 5 | Train loss: 0.4827444 | Test loss: 0.5056242 | Accuracy: 0.82 | F1-score: 0.82\n",
      "Epoch: 6 | Train loss: 0.4693516 | Test loss: 0.4944169 | Accuracy: 0.83 | F1-score: 0.83\n",
      "Epoch: 7 | Train loss: 0.4592839 | Test loss: 0.4860551 | Accuracy: 0.83 | F1-score: 0.83\n",
      "Epoch: 8 | Train loss: 0.4511928 | Test loss: 0.4800557 | Accuracy: 0.83 | F1-score: 0.83\n",
      "Epoch: 9 | Train loss: 0.4441953 | Test loss: 0.4765506 | Accuracy: 0.83 | F1-score: 0.83\n",
      "Epoch: 10 | Train loss: 0.4385922 | Test loss: 0.4727552 | Accuracy: 0.83 | F1-score: 0.83\n",
      "Epoch: 11 | Train loss: 0.4336600 | Test loss: 0.4669034 | Accuracy: 0.84 | F1-score: 0.84\n",
      "Epoch: 12 | Train loss: 0.4294781 | Test loss: 0.4649452 | Accuracy: 0.84 | F1-score: 0.84\n",
      "Epoch: 13 | Train loss: 0.4260540 | Test loss: 0.4611306 | Accuracy: 0.84 | F1-score: 0.84\n",
      "Epoch: 14 | Train loss: 0.4225791 | Test loss: 0.4588023 | Accuracy: 0.84 | F1-score: 0.84\n",
      "Epoch: 15 | Train loss: 0.4194098 | Test loss: 0.4569007 | Accuracy: 0.84 | F1-score: 0.84\n",
      "Epoch: 16 | Train loss: 0.4171444 | Test loss: 0.4559793 | Accuracy: 0.84 | F1-score: 0.84\n",
      "Epoch: 17 | Train loss: 0.4147394 | Test loss: 0.4558274 | Accuracy: 0.84 | F1-score: 0.84\n",
      "Epoch: 18 | Train loss: 0.4121204 | Test loss: 0.4558097 | Accuracy: 0.84 | F1-score: 0.84\n",
      "Epoch: 19 | Train loss: 0.4103984 | Test loss: 0.4525958 | Accuracy: 0.84 | F1-score: 0.84\n",
      "Epoch: 20 | Train loss: 0.4082869 | Test loss: 0.4500074 | Accuracy: 0.84 | F1-score: 0.84\n",
      "Epoch: 21 | Train loss: 0.4063748 | Test loss: 0.4511874 | Accuracy: 0.84 | F1-score: 0.84\n",
      "Epoch: 22 | Train loss: 0.4050218 | Test loss: 0.4465742 | Accuracy: 0.84 | F1-score: 0.84\n",
      "Epoch: 23 | Train loss: 0.4033967 | Test loss: 0.4478016 | Accuracy: 0.84 | F1-score: 0.84\n",
      "Epoch: 24 | Train loss: 0.4015740 | Test loss: 0.4478502 | Accuracy: 0.84 | F1-score: 0.84\n",
      "Epoch: 25 | Train loss: 0.4002668 | Test loss: 0.4429227 | Accuracy: 0.84 | F1-score: 0.84\n",
      "Epoch: 26 | Train loss: 0.3989297 | Test loss: 0.4441081 | Accuracy: 0.84 | F1-score: 0.84\n",
      "Epoch: 27 | Train loss: 0.3975177 | Test loss: 0.4432880 | Accuracy: 0.85 | F1-score: 0.85\n",
      "Epoch: 28 | Train loss: 0.3966852 | Test loss: 0.4450349 | Accuracy: 0.84 | F1-score: 0.84\n",
      "Epoch: 29 | Train loss: 0.3956188 | Test loss: 0.4402377 | Accuracy: 0.85 | F1-score: 0.85\n"
     ]
    }
   ],
   "source": [
    "torch.manual_seed(RANDOM_SEED)\n",
    "\n",
    "epochs = 30\n",
    "epoch_list = []\n",
    "train_loss_list = []\n",
    "test_loss_list = []\n",
    "\n",
    "for epoch in range(epochs):\n",
    "    ## loop through batches\n",
    "    train_loss = 0\n",
    "    for X, y in train_loader:\n",
    "        ## Sending data to the target device\n",
    "        X, y = X.to(device), y.to(device)\n",
    "        ## Training mode\n",
    "        model_0.train()\n",
    "        ## Pass forward\n",
    "        y_pred = model_0(X)\n",
    "        ## Loss calculate (& evaluation metrics)\n",
    "        loss = cross_entropy_loss(y_pred, y)\n",
    "        train_loss += loss\n",
    "        ## Zero gradient\n",
    "        optimizer.zero_grad()\n",
    "        ## Loss backward\n",
    "        loss.backward()\n",
    "        ## Step optimizer\n",
    "        optimizer.step()\n",
    "        \n",
    "    ## Calculating train loss per batch\n",
    "    train_loss /= len(train_loader)\n",
    "\n",
    "    ### Testing\n",
    "    # Setting variables for accumulatively adding up loss and evaluation metrics \n",
    "    test_loss, test_acc, test_f1 = 0, 0, 0\n",
    "    model_0.eval()\n",
    "    with torch.inference_mode():\n",
    "        for X, y in test_loader:\n",
    "            ## Sending data to the target device\n",
    "            X, y = X.to(device), y.to(device)\n",
    "            \n",
    "            # 1. Forward pass\n",
    "            test_pred = model_0(X)\n",
    "           \n",
    "            # 2. Calculating loss (accumatively)\n",
    "            test_loss += cross_entropy_loss(test_pred, y) # accumulatively add up the loss per epoch\n",
    "\n",
    "            # 3. Calculating metrics \n",
    "            test_acc += multiclass_accuracy(test_pred, y, num_classes=len(class_names)).item()\n",
    "            test_f1 += multiclass_f1_score(test_pred, y, num_classes=len(class_names)).item()\n",
    "        \n",
    "        # Calculations on test metrics need to happen inside torch.inference_mode()\n",
    "        # Divide total test loss by length of test dataloader (per batch)\n",
    "        test_loss /= len(test_loader)\n",
    "\n",
    "        # Divide total test metrics by length of test dataloader (per batch)\n",
    "        test_acc /= len(test_loader)\n",
    "        test_f1 /= len(test_loader)\n",
    "\n",
    "    if epoch % 1 == 0:\n",
    "        ## Saving intermediate results\n",
    "        epoch_list.append(epoch)\n",
    "        train_loss_list.append(train_loss.detach().numpy())\n",
    "        test_loss_list.append(test_loss.detach().numpy())\n",
    "        ## Printing intermediate results\n",
    "        print(f\"Epoch: {epoch} | Train loss: {train_loss:.7f} | Test loss: {test_loss:.7f} | Accuracy: {test_acc:.2f} \\\n",
    "| F1-score: {test_f1:.2f}\")"
   ]
  },
  {
   "cell_type": "code",
   "execution_count": 24,
   "id": "36dcbcb5-281e-4e9d-a4be-16be4eb621b9",
   "metadata": {},
   "outputs": [
    {
     "data": {
      "image/png": "[encoded data removed]",
      "text/plain": [
       "<Figure size 640x480 with 1 Axes>"
      ]
     },
     "metadata": {},
     "output_type": "display_data"
    }
   ],
   "source": [
    "## Plotting loss curves\n",
    "plt.plot(epoch_list, train_loss_list, label=\"Train\")\n",
    "plt.plot(epoch_list, test_loss_list, label=\"Test\")\n",
    "\n",
    "plt.title(\"Loss\")\n",
    "plt.legend()\n",
    "plt.show();"
   ]
  },
  {
   "cell_type": "markdown",
   "id": "4e32c12a-d9e7-4400-89a7-d1e3e17dff84",
   "metadata": {},
   "source": [
    "### 3.1 Формируем предсказания и сохраняем результаты"
   ]
  },
  {
   "cell_type": "code",
   "execution_count": 26,
   "id": "4b11868d-2649-49d4-87f3-7a9095e86c49",
   "metadata": {},
   "outputs": [],
   "source": [
    "#torch.manual_seed(RANDOM_SEED)\n",
    "def eval_model(model: torch.nn.Module, \n",
    "               data_loader: torch.utils.data.DataLoader, \n",
    "               loss_fn: torch.nn.Module, \n",
    "               accuracy_fn,\n",
    "               f1_score_fn,\n",
    "               device: torch.device = device\n",
    "              ):\n",
    "    \"\"\"Returns a list containing the results of model predicting on data_loader.\n",
    "\n",
    "    Args:\n",
    "        model (torch.nn.Module): A PyTorch model capable of making predictions on data_loader.\n",
    "        data_loader (torch.utils.data.DataLoader): The target dataset to predict on.\n",
    "        loss_fn (torch.nn.Module): The loss function of model.\n",
    "        accuracy_fn: An accuracy function to compare the models predictions to the truth labels.\n",
    "        f1_score_fn: A function calculating F1-score to compare the models predictions to the truth labels.\n",
    "\n",
    "    Returns:\n",
    "        (list): Results of model making predictions on data_loader.\n",
    "    \"\"\"\n",
    "    loss, accuracy, f1_score = 0, 0, 0\n",
    "    model.eval()\n",
    "    with torch.inference_mode():\n",
    "        for X, y in data_loader:\n",
    "            ## Sending data to the target device\n",
    "            X, y = X.to(device), y.to(device)\n",
    "            \n",
    "            # Make predictions with the model\n",
    "            y_pred = model(X)\n",
    "            \n",
    "            # Accumulate the loss and accuracy values per batch\n",
    "            loss += loss_fn(y_pred, y)\n",
    "            accuracy += accuracy_fn(y_pred, y, num_classes=len(class_names))\n",
    "            f1_score += f1_score_fn(y_pred, y, num_classes=len(class_names))\n",
    "        \n",
    "        # Scale loss and acc to find the average loss/acc per batch\n",
    "        loss /= len(data_loader)\n",
    "        accuracy /= len(data_loader)\n",
    "        f1_score /= len(data_loader)\n",
    "        \n",
    "    return [round(loss.item(), 7), \n",
    "            round(accuracy.item(), 4),\n",
    "            round(f1_score.item(), 4)\n",
    "           ]"
   ]
  },
  {
   "cell_type": "code",
   "execution_count": 27,
   "id": "da11b308-6ade-43de-9005-9a409e86bbb2",
   "metadata": {},
   "outputs": [
    {
     "data": {
      "text/html": [
       "<div>\n",
       "<style scoped>\n",
       "    .dataframe tbody tr th:only-of-type {\n",
       "        vertical-align: middle;\n",
       "    }\n",
       "\n",
       "    .dataframe tbody tr th {\n",
       "        vertical-align: top;\n",
       "    }\n",
       "\n",
       "    .dataframe thead th {\n",
       "        text-align: right;\n",
       "    }\n",
       "</style>\n",
       "<table border=\"1\" class=\"dataframe\">\n",
       "  <thead>\n",
       "    <tr style=\"text-align: right;\">\n",
       "      <th></th>\n",
       "      <th>Loss</th>\n",
       "      <th>Accuracy</th>\n",
       "      <th>F1-score</th>\n",
       "    </tr>\n",
       "  </thead>\n",
       "  <tbody>\n",
       "    <tr>\n",
       "      <th>LinearModelV0</th>\n",
       "      <td>0.440238</td>\n",
       "      <td>0.8458</td>\n",
       "      <td>0.8458</td>\n",
       "    </tr>\n",
       "  </tbody>\n",
       "</table>\n",
       "</div>"
      ],
      "text/plain": [
       "                   Loss  Accuracy  F1-score\n",
       "LinearModelV0  0.440238    0.8458    0.8458"
      ]
     },
     "execution_count": 27,
     "metadata": {},
     "output_type": "execute_result"
    }
   ],
   "source": [
    "results = {}\n",
    "model_name = model_0.__class__.__name__ # only works when model was created with a class\n",
    "\n",
    "# Calculate model 0 results on test dataset\n",
    "results[model_name] = eval_model(model=model_0, \n",
    "                                 data_loader=test_loader,\n",
    "                                 loss_fn=cross_entropy_loss, \n",
    "                                 accuracy_fn=multiclass_accuracy,\n",
    "                                 f1_score_fn=multiclass_f1_score\n",
    "                                )\n",
    "\n",
    "pd.DataFrame(results, index = ['Loss', 'Accuracy', 'F1-score']).T"
   ]
  },
  {
   "cell_type": "markdown",
   "id": "4f94f04a-a33d-4df8-ada4-5ed8b16638b5",
   "metadata": {},
   "source": [
    "## 4. Model 1: Добавление нелинейности в модель"
   ]
  },
  {
   "cell_type": "code",
   "execution_count": 28,
   "id": "67bb2247-bd85-4f13-b75f-e8eaf2159353",
   "metadata": {},
   "outputs": [],
   "source": [
    "## Creating a model with non-linear layers\n",
    "class NonLinearModelV1(nn.Module):\n",
    "    def __init__(self, input_shape: int, hidden_units: int, output_shape: int):\n",
    "        super().__init__()\n",
    "        self.layer_stack = nn.Sequential(nn.Flatten(),\n",
    "                                         nn.Linear(in_features=input_shape, out_features=hidden_units),\n",
    "                                         nn.ReLU(),\n",
    "                                         nn.Linear(in_features=hidden_units, out_features=output_shape),\n",
    "                                         nn.ReLU()\n",
    "                                        )\n",
    "    def forward(self, x: torch.Tensor):\n",
    "        return self.layer_stack(x)"
   ]
  },
  {
   "cell_type": "code",
   "execution_count": 29,
   "id": "b5c2f297-b063-463c-b8a2-e62a5a7e3dee",
   "metadata": {},
   "outputs": [
    {
     "data": {
      "text/plain": [
       "NonLinearModelV1(\n",
       "  (layer_stack): Sequential(\n",
       "    (0): Flatten(start_dim=1, end_dim=-1)\n",
       "    (1): Linear(in_features=784, out_features=15, bias=True)\n",
       "    (2): ReLU()\n",
       "    (3): Linear(in_features=15, out_features=10, bias=True)\n",
       "    (4): ReLU()\n",
       "  )\n",
       ")"
      ]
     },
     "execution_count": 29,
     "metadata": {},
     "output_type": "execute_result"
    }
   ],
   "source": [
    "torch.manual_seed(RANDOM_SEED)\n",
    "\n",
    "## Instatiating our new model\n",
    "model_1 = NonLinearModelV1(input_shape=pix_num, hidden_units=15, output_shape=len(class_names))\n",
    "\n",
    "## Sending model to device\n",
    "model_1.to(device)\n",
    "model_1"
   ]
  },
  {
   "cell_type": "code",
   "execution_count": 30,
   "id": "b0169f1a-0bbd-4a96-9d9f-f8ffe9a6a39b",
   "metadata": {},
   "outputs": [],
   "source": [
    "## Defining loss function\n",
    "cross_entropy_loss = nn.CrossEntropyLoss()\n",
    "\n",
    "## Setting up an optimizer\n",
    "optimizer = torch.optim.Adam(model_1.parameters(), lr=lr)"
   ]
  },
  {
   "cell_type": "markdown",
   "id": "b6b909db-9d27-42da-882b-bebc38f16c43",
   "metadata": {},
   "source": [
    "## 5. Создаем цикл train/test для нелинейной модели"
   ]
  },
  {
   "cell_type": "code",
   "execution_count": 31,
   "id": "fdeae2bb-eed4-4a56-ac20-5e7dba4c3335",
   "metadata": {},
   "outputs": [
    {
     "name": "stdout",
     "output_type": "stream",
     "text": [
      "Epoch: 0 | Train loss: 1.5591960 | Test loss: 1.2307506 | Accuracy: 0.62 | F1-score: 0.62\n",
      "Epoch: 1 | Train loss: 1.1571774 | Test loss: 1.1158407 | Accuracy: 0.67 | F1-score: 0.67\n",
      "Epoch: 2 | Train loss: 1.0827324 | Test loss: 1.0707954 | Accuracy: 0.68 | F1-score: 0.68\n",
      "Epoch: 3 | Train loss: 1.0464603 | Test loss: 1.0450113 | Accuracy: 0.69 | F1-score: 0.69\n",
      "Epoch: 4 | Train loss: 1.0242720 | Test loss: 1.0284030 | Accuracy: 0.70 | F1-score: 0.70\n",
      "Epoch: 5 | Train loss: 1.0088547 | Test loss: 1.0175999 | Accuracy: 0.70 | F1-score: 0.70\n",
      "Epoch: 6 | Train loss: 0.9973961 | Test loss: 1.0096364 | Accuracy: 0.70 | F1-score: 0.70\n",
      "Epoch: 7 | Train loss: 0.9887350 | Test loss: 1.0022508 | Accuracy: 0.71 | F1-score: 0.71\n",
      "Epoch: 8 | Train loss: 0.9815158 | Test loss: 0.9957210 | Accuracy: 0.71 | F1-score: 0.71\n",
      "Epoch: 9 | Train loss: 0.9754930 | Test loss: 0.9933549 | Accuracy: 0.71 | F1-score: 0.71\n",
      "Epoch: 10 | Train loss: 0.9704832 | Test loss: 0.9884771 | Accuracy: 0.71 | F1-score: 0.71\n",
      "Epoch: 11 | Train loss: 0.9659403 | Test loss: 0.9838632 | Accuracy: 0.71 | F1-score: 0.71\n",
      "Epoch: 12 | Train loss: 0.9619419 | Test loss: 0.9804708 | Accuracy: 0.71 | F1-score: 0.71\n",
      "Epoch: 13 | Train loss: 0.9588603 | Test loss: 0.9785958 | Accuracy: 0.71 | F1-score: 0.71\n",
      "Epoch: 14 | Train loss: 0.9556502 | Test loss: 0.9761186 | Accuracy: 0.71 | F1-score: 0.71\n",
      "Epoch: 15 | Train loss: 0.9527590 | Test loss: 0.9741123 | Accuracy: 0.72 | F1-score: 0.72\n",
      "Epoch: 16 | Train loss: 0.9503027 | Test loss: 0.9729061 | Accuracy: 0.72 | F1-score: 0.72\n",
      "Epoch: 17 | Train loss: 0.9478732 | Test loss: 0.9729228 | Accuracy: 0.72 | F1-score: 0.72\n",
      "Epoch: 18 | Train loss: 0.9458529 | Test loss: 0.9681424 | Accuracy: 0.72 | F1-score: 0.72\n",
      "Epoch: 19 | Train loss: 0.9439411 | Test loss: 0.9689972 | Accuracy: 0.72 | F1-score: 0.72\n",
      "Epoch: 20 | Train loss: 0.9419955 | Test loss: 0.9651908 | Accuracy: 0.72 | F1-score: 0.72\n",
      "Epoch: 21 | Train loss: 0.9401777 | Test loss: 0.9683006 | Accuracy: 0.72 | F1-score: 0.72\n",
      "Epoch: 22 | Train loss: 0.9387944 | Test loss: 0.9624006 | Accuracy: 0.72 | F1-score: 0.72\n",
      "Epoch: 23 | Train loss: 0.9369597 | Test loss: 0.9614037 | Accuracy: 0.72 | F1-score: 0.72\n",
      "Epoch: 24 | Train loss: 0.9354712 | Test loss: 0.9623839 | Accuracy: 0.72 | F1-score: 0.72\n",
      "Epoch: 25 | Train loss: 0.9342397 | Test loss: 0.9590678 | Accuracy: 0.72 | F1-score: 0.72\n",
      "Epoch: 26 | Train loss: 0.9325943 | Test loss: 0.9588241 | Accuracy: 0.72 | F1-score: 0.72\n",
      "Epoch: 27 | Train loss: 0.9315077 | Test loss: 0.9585921 | Accuracy: 0.72 | F1-score: 0.72\n",
      "Epoch: 28 | Train loss: 0.9305200 | Test loss: 0.9581854 | Accuracy: 0.72 | F1-score: 0.72\n",
      "Epoch: 29 | Train loss: 0.9292951 | Test loss: 0.9555420 | Accuracy: 0.72 | F1-score: 0.72\n"
     ]
    }
   ],
   "source": [
    "torch.manual_seed(RANDOM_SEED)\n",
    "\n",
    "epochs = 30\n",
    "epoch_list = []\n",
    "train_loss_list = []\n",
    "test_loss_list = []\n",
    "\n",
    "## Train/eval loop\n",
    "for epoch in range(epochs):\n",
    "    ## loop through batches\n",
    "    train_loss = 0\n",
    "    for X, y in train_loader:\n",
    "        ## Sending data to the target device\n",
    "        X, y = X.to(device), y.to(device)\n",
    "        ## Training mode\n",
    "        model_1.train()\n",
    "        ## Pass forward\n",
    "        y_pred = model_1(X)\n",
    "        ## Loss calculate (& evaluation metrics)\n",
    "        loss = cross_entropy_loss(y_pred, y)\n",
    "        train_loss += loss\n",
    "        ## Zero gradient\n",
    "        optimizer.zero_grad()\n",
    "        ## Loss backward\n",
    "        loss.backward()\n",
    "        ## Step optimizer\n",
    "        optimizer.step()\n",
    "        \n",
    "    ## Calculating train loss per batch\n",
    "    train_loss /= len(train_loader)\n",
    "\n",
    "    ### Testing\n",
    "    # Setting variables for accumulatively adding up loss and evaluation metrics \n",
    "    test_loss, test_acc, test_f1 = 0, 0, 0 \n",
    "    model_1.eval()\n",
    "    with torch.inference_mode():\n",
    "        for X, y in test_loader:\n",
    "            ## Sending data to device\n",
    "            X, y = X.to(device), y.to(device)\n",
    "            \n",
    "            # 1. Forward pass\n",
    "            test_pred = model_1(X)\n",
    "           \n",
    "            # 2. Calculating loss (accumatively)\n",
    "            test_loss += cross_entropy_loss(test_pred, y) # accumulatively add up the loss per epoch\n",
    "\n",
    "            # 3. Calculating metrics \n",
    "            test_acc += multiclass_accuracy(test_pred, y, num_classes=len(class_names)).item()\n",
    "            test_f1 += multiclass_f1_score(test_pred, y, num_classes=len(class_names)).item()\n",
    "        \n",
    "        # Calculations on test metrics need to happen inside torch.inference_mode()\n",
    "        # Divide total test loss by length of test dataloader (per batch)\n",
    "        test_loss /= len(test_loader)\n",
    "\n",
    "        # Divide total test metrics by length of test dataloader (per batch)\n",
    "        test_acc /= len(test_loader)\n",
    "        test_f1 /= len(test_loader)\n",
    "\n",
    "    if epoch % 1 == 0:\n",
    "        ## Saving intermediate results\n",
    "        epoch_list.append(epoch)\n",
    "        train_loss_list.append(train_loss.detach().numpy())\n",
    "        test_loss_list.append(test_loss.detach().numpy())\n",
    "        ## Printing intermediate results\n",
    "        print(f\"Epoch: {epoch} | Train loss: {train_loss:.7f} | Test loss: {test_loss:.7f} | Accuracy: {test_acc:.2f} \\\n",
    "| F1-score: {test_f1:.2f}\")"
   ]
  },
  {
   "cell_type": "code",
   "execution_count": 32,
   "id": "0142618b-ddf1-4484-aa4c-da100c15aa4f",
   "metadata": {},
   "outputs": [
    {
     "data": {
      "image/png": "[encoded data removed]",
      "text/plain": [
       "<Figure size 640x480 with 1 Axes>"
      ]
     },
     "metadata": {},
     "output_type": "display_data"
    }
   ],
   "source": [
    "## Plotting loss curves\n",
    "plt.plot(epoch_list, train_loss_list, label=\"Train\")\n",
    "plt.plot(epoch_list, test_loss_list, label=\"Test\")\n",
    "\n",
    "plt.title(\"Loss\")\n",
    "plt.legend()\n",
    "plt.show();"
   ]
  },
  {
   "cell_type": "markdown",
   "id": "83b354d6-a911-4a4b-b0b5-34868d4ecfb5",
   "metadata": {},
   "source": [
    "### 5.1 Формируем и сохраняем результаты нелинейной модели"
   ]
  },
  {
   "cell_type": "code",
   "execution_count": 33,
   "id": "3b238efb-5f2d-4eed-93e9-42a6fd309bab",
   "metadata": {},
   "outputs": [
    {
     "data": {
      "text/html": [
       "<div>\n",
       "<style scoped>\n",
       "    .dataframe tbody tr th:only-of-type {\n",
       "        vertical-align: middle;\n",
       "    }\n",
       "\n",
       "    .dataframe tbody tr th {\n",
       "        vertical-align: top;\n",
       "    }\n",
       "\n",
       "    .dataframe thead th {\n",
       "        text-align: right;\n",
       "    }\n",
       "</style>\n",
       "<table border=\"1\" class=\"dataframe\">\n",
       "  <thead>\n",
       "    <tr style=\"text-align: right;\">\n",
       "      <th></th>\n",
       "      <th>Loss</th>\n",
       "      <th>Accuracy</th>\n",
       "      <th>F1-score</th>\n",
       "    </tr>\n",
       "  </thead>\n",
       "  <tbody>\n",
       "    <tr>\n",
       "      <th>LinearModelV0</th>\n",
       "      <td>0.440238</td>\n",
       "      <td>0.8458</td>\n",
       "      <td>0.8458</td>\n",
       "    </tr>\n",
       "    <tr>\n",
       "      <th>NonLinearModelV1</th>\n",
       "      <td>0.955542</td>\n",
       "      <td>0.7240</td>\n",
       "      <td>0.7240</td>\n",
       "    </tr>\n",
       "  </tbody>\n",
       "</table>\n",
       "</div>"
      ],
      "text/plain": [
       "                      Loss  Accuracy  F1-score\n",
       "LinearModelV0     0.440238    0.8458    0.8458\n",
       "NonLinearModelV1  0.955542    0.7240    0.7240"
      ]
     },
     "execution_count": 33,
     "metadata": {},
     "output_type": "execute_result"
    }
   ],
   "source": [
    "model_name = model_1.__class__.__name__ # only works when model was created with a class\n",
    "\n",
    "# Calculating model 1 results on test dataset\n",
    "results[model_name] = eval_model(model=model_1, \n",
    "                                 data_loader=test_loader,\n",
    "                                 loss_fn=cross_entropy_loss, \n",
    "                                 accuracy_fn=multiclass_accuracy,\n",
    "                                 f1_score_fn=multiclass_f1_score\n",
    "                                )\n",
    "\n",
    "pd.DataFrame(results, index = ['Loss', 'Accuracy', 'F1-score']).T"
   ]
  },
  {
   "cell_type": "markdown",
   "id": "94b29b43-3102-4484-9739-58830eabdb12",
   "metadata": {},
   "source": [
    "## 6. Model 2: Построение сверточной нейронной сети (CNN)"
   ]
  },
  {
   "cell_type": "markdown",
   "id": "7c10f890-cddd-4b9d-b13d-14728ea90c45",
   "metadata": {},
   "source": [
    "Архитектура сверточной сети под названием TinyVGG взята с сайта [CNN Explainer](https://poloclub.github.io/cnn-explainer/)\n",
    "<img src=\"cnn_architecture.png\" width=600>"
   ]
  },
  {
   "cell_type": "code",
   "execution_count": 34,
   "id": "9f4d9f44-1a6e-42a3-beaf-cceaec81bb52",
   "metadata": {},
   "outputs": [],
   "source": [
    "# Creating a convolutional neural network \n",
    "class CNNModelV2(nn.Module):\n",
    "    def __init__(self, input_shape: int, hidden_units: int, output_shape: int):\n",
    "        super().__init__()\n",
    "        self.block_1 = nn.Sequential(\n",
    "            nn.Conv2d(in_channels=input_shape, \n",
    "                      out_channels=hidden_units, \n",
    "                      kernel_size=3, # how big is the square that's going over the image?\n",
    "                      stride=1, # default\n",
    "                      padding=1),# options = \"valid\" (no padding) or \"same\" (output has same shape as input) or int for specific number \n",
    "            nn.ReLU(),\n",
    "            nn.Conv2d(in_channels=hidden_units, \n",
    "                      out_channels=hidden_units,\n",
    "                      kernel_size=3,\n",
    "                      stride=1,\n",
    "                      padding=1),\n",
    "            nn.ReLU(),\n",
    "            nn.MaxPool2d(kernel_size=2,\n",
    "                         stride=2) # default stride value is same as kernel_size\n",
    "        )\n",
    "        self.block_2 = nn.Sequential(\n",
    "            nn.Conv2d(hidden_units, hidden_units, 3, padding=1),\n",
    "            nn.ReLU(),\n",
    "            nn.Conv2d(hidden_units, hidden_units, 3, padding=1),\n",
    "            nn.ReLU(),\n",
    "            nn.MaxPool2d(2)\n",
    "        )\n",
    "        self.classifier = nn.Sequential(\n",
    "            nn.Flatten(),\n",
    "            nn.Linear(in_features=hidden_units*7*7, \n",
    "                      out_features=output_shape)\n",
    "        )\n",
    "    \n",
    "    def forward(self, x: torch.Tensor):\n",
    "        x = self.block_1(x)\n",
    "        # print(x.shape)\n",
    "        x = self.block_2(x)\n",
    "        # print(x.shape)\n",
    "        x = self.classifier(x)\n",
    "        # print(x.shape)\n",
    "        return x"
   ]
  },
  {
   "cell_type": "code",
   "execution_count": 35,
   "id": "9df19980-b478-48d8-b833-8ada0fb7480f",
   "metadata": {},
   "outputs": [
    {
     "data": {
      "text/plain": [
       "CNNModelV2(\n",
       "  (block_1): Sequential(\n",
       "    (0): Conv2d(1, 10, kernel_size=(3, 3), stride=(1, 1), padding=(1, 1))\n",
       "    (1): ReLU()\n",
       "    (2): Conv2d(10, 10, kernel_size=(3, 3), stride=(1, 1), padding=(1, 1))\n",
       "    (3): ReLU()\n",
       "    (4): MaxPool2d(kernel_size=2, stride=2, padding=0, dilation=1, ceil_mode=False)\n",
       "  )\n",
       "  (block_2): Sequential(\n",
       "    (0): Conv2d(10, 10, kernel_size=(3, 3), stride=(1, 1), padding=(1, 1))\n",
       "    (1): ReLU()\n",
       "    (2): Conv2d(10, 10, kernel_size=(3, 3), stride=(1, 1), padding=(1, 1))\n",
       "    (3): ReLU()\n",
       "    (4): MaxPool2d(kernel_size=2, stride=2, padding=0, dilation=1, ceil_mode=False)\n",
       "  )\n",
       "  (classifier): Sequential(\n",
       "    (0): Flatten(start_dim=1, end_dim=-1)\n",
       "    (1): Linear(in_features=490, out_features=10, bias=True)\n",
       "  )\n",
       ")"
      ]
     },
     "execution_count": 35,
     "metadata": {},
     "output_type": "execute_result"
    }
   ],
   "source": [
    "torch.manual_seed(RANDOM_SEED)\n",
    "\n",
    "model_2 = CNNModelV2(input_shape=1, \n",
    "    hidden_units=10, \n",
    "    output_shape=len(class_names)).to(device)\n",
    "\n",
    "model_2"
   ]
  },
  {
   "cell_type": "code",
   "execution_count": 36,
   "id": "8de846be-da45-4a4c-ba4f-4d275193ef0a",
   "metadata": {},
   "outputs": [],
   "source": [
    "## Defining loss function\n",
    "cross_entropy_loss = nn.CrossEntropyLoss()\n",
    "\n",
    "## Setting up an optimizer\n",
    "optimizer = torch.optim.Adam(model_2.parameters(), lr=lr)"
   ]
  },
  {
   "cell_type": "markdown",
   "id": "4980bc4b-6507-4ad6-8a11-989d513b8f57",
   "metadata": {},
   "source": [
    "### 6.1 Создаем цикл train/test для CNN модели"
   ]
  },
  {
   "cell_type": "code",
   "execution_count": 37,
   "id": "003ac02f-ad4e-4d75-8998-c11c65e8069d",
   "metadata": {},
   "outputs": [
    {
     "name": "stdout",
     "output_type": "stream",
     "text": [
      "Epoch: 0 | Train loss: 0.9865122 | Test loss: 0.6429261 | Accuracy: 0.77 | F1-score: 0.77\n",
      "Epoch: 1 | Train loss: 0.5630524 | Test loss: 0.5341225 | Accuracy: 0.80 | F1-score: 0.80\n",
      "Epoch: 2 | Train loss: 0.4860751 | Test loss: 0.4894668 | Accuracy: 0.82 | F1-score: 0.82\n",
      "Epoch: 3 | Train loss: 0.4493482 | Test loss: 0.4566966 | Accuracy: 0.84 | F1-score: 0.84\n",
      "Epoch: 4 | Train loss: 0.4281155 | Test loss: 0.4409809 | Accuracy: 0.84 | F1-score: 0.84\n",
      "Epoch: 5 | Train loss: 0.4146797 | Test loss: 0.4323888 | Accuracy: 0.85 | F1-score: 0.85\n",
      "Epoch: 6 | Train loss: 0.4024324 | Test loss: 0.4268695 | Accuracy: 0.85 | F1-score: 0.85\n",
      "Epoch: 7 | Train loss: 0.3930664 | Test loss: 0.4030936 | Accuracy: 0.86 | F1-score: 0.86\n",
      "Epoch: 8 | Train loss: 0.3837513 | Test loss: 0.4034469 | Accuracy: 0.86 | F1-score: 0.86\n",
      "Epoch: 9 | Train loss: 0.3746582 | Test loss: 0.3932504 | Accuracy: 0.86 | F1-score: 0.86\n",
      "Epoch: 10 | Train loss: 0.3686735 | Test loss: 0.4040554 | Accuracy: 0.85 | F1-score: 0.85\n",
      "Epoch: 11 | Train loss: 0.3602313 | Test loss: 0.3776582 | Accuracy: 0.87 | F1-score: 0.87\n",
      "Epoch: 12 | Train loss: 0.3531966 | Test loss: 0.3779464 | Accuracy: 0.86 | F1-score: 0.86\n",
      "Epoch: 13 | Train loss: 0.3472231 | Test loss: 0.3733597 | Accuracy: 0.87 | F1-score: 0.87\n",
      "Epoch: 14 | Train loss: 0.3404422 | Test loss: 0.3621775 | Accuracy: 0.87 | F1-score: 0.87\n",
      "Epoch: 15 | Train loss: 0.3348320 | Test loss: 0.3586579 | Accuracy: 0.87 | F1-score: 0.87\n",
      "Epoch: 16 | Train loss: 0.3295774 | Test loss: 0.3577442 | Accuracy: 0.87 | F1-score: 0.87\n",
      "Epoch: 17 | Train loss: 0.3255109 | Test loss: 0.3454283 | Accuracy: 0.88 | F1-score: 0.88\n",
      "Epoch: 18 | Train loss: 0.3202293 | Test loss: 0.3416078 | Accuracy: 0.88 | F1-score: 0.88\n",
      "Epoch: 19 | Train loss: 0.3166558 | Test loss: 0.3625154 | Accuracy: 0.87 | F1-score: 0.87\n",
      "Epoch: 20 | Train loss: 0.3130080 | Test loss: 0.3428158 | Accuracy: 0.88 | F1-score: 0.88\n",
      "Epoch: 21 | Train loss: 0.3096916 | Test loss: 0.3365324 | Accuracy: 0.88 | F1-score: 0.88\n",
      "Epoch: 22 | Train loss: 0.3050537 | Test loss: 0.3281569 | Accuracy: 0.88 | F1-score: 0.88\n",
      "Epoch: 23 | Train loss: 0.3018217 | Test loss: 0.3283806 | Accuracy: 0.88 | F1-score: 0.88\n",
      "Epoch: 24 | Train loss: 0.2980095 | Test loss: 0.3420662 | Accuracy: 0.88 | F1-score: 0.88\n",
      "Epoch: 25 | Train loss: 0.2954952 | Test loss: 0.3188664 | Accuracy: 0.88 | F1-score: 0.88\n",
      "Epoch: 26 | Train loss: 0.2925657 | Test loss: 0.3217711 | Accuracy: 0.88 | F1-score: 0.88\n",
      "Epoch: 27 | Train loss: 0.2891565 | Test loss: 0.3202564 | Accuracy: 0.89 | F1-score: 0.89\n",
      "Epoch: 28 | Train loss: 0.2862264 | Test loss: 0.3174171 | Accuracy: 0.88 | F1-score: 0.88\n",
      "Epoch: 29 | Train loss: 0.2841044 | Test loss: 0.3099982 | Accuracy: 0.89 | F1-score: 0.89\n"
     ]
    }
   ],
   "source": [
    "torch.manual_seed(RANDOM_SEED)\n",
    "\n",
    "epochs = 30\n",
    "epoch_list = []\n",
    "train_loss_list = []\n",
    "test_loss_list = []\n",
    "\n",
    "## Train/eval loop\n",
    "for epoch in range(epochs):\n",
    "    ## loop through batches\n",
    "    train_loss = 0\n",
    "    for X, y in train_loader:\n",
    "        ## Senfing data to device\n",
    "        X, y = X.to(device), y.to(device)\n",
    "        ## Training mode\n",
    "        model_2.train()\n",
    "        ## Pass forward\n",
    "        y_pred = model_2(X)\n",
    "        ## Loss calculate (& evaluation metrics)\n",
    "        loss = cross_entropy_loss(y_pred, y)\n",
    "        train_loss += loss\n",
    "        ## Zero gradient\n",
    "        optimizer.zero_grad()\n",
    "        ## Loss backward\n",
    "        loss.backward()\n",
    "        ## Step optimizer\n",
    "        optimizer.step()\n",
    "        \n",
    "    ## Calculating train loss per batch\n",
    "    train_loss /= len(train_loader)\n",
    "\n",
    "    ### Testing\n",
    "    # Setting variables for accumulatively adding up loss and evaluation metrics \n",
    "    test_loss, test_acc, test_f1 = 0, 0, 0 \n",
    "    model_2.eval()\n",
    "    with torch.inference_mode():\n",
    "        for X, y in test_loader:\n",
    "            ## Sendiing data to device\n",
    "            X, y = X.to(device), y.to(device)\n",
    "            \n",
    "            # 1. Forward pass\n",
    "            test_pred = model_2(X)\n",
    "           \n",
    "            # 2. Calculating loss (accumatively)\n",
    "            test_loss += cross_entropy_loss(test_pred, y) # accumulatively add up the loss per epoch\n",
    "\n",
    "            # 3. Calculating metrics \n",
    "            test_acc += multiclass_accuracy(test_pred, y, num_classes=len(class_names)).item()\n",
    "            test_f1 += multiclass_f1_score(test_pred, y, num_classes=len(class_names)).item()\n",
    "        \n",
    "        # Calculations on test metrics need to happen inside torch.inference_mode()\n",
    "        # Divide total test loss by length of test dataloader (per batch)\n",
    "        test_loss /= len(test_loader)\n",
    "\n",
    "        # Divide total test metrics by length of test dataloader (per batch)\n",
    "        test_acc /= len(test_loader)\n",
    "        test_f1 /= len(test_loader)\n",
    "\n",
    "    if epoch % 1 == 0:\n",
    "        ## Saving intermediate results\n",
    "        epoch_list.append(epoch)\n",
    "        train_loss_list.append(train_loss.detach().numpy())\n",
    "        test_loss_list.append(test_loss.detach().numpy())\n",
    "        ## Printing intermediate results\n",
    "        print(f\"Epoch: {epoch} | Train loss: {train_loss:.7f} | Test loss: {test_loss:.7f} | Accuracy: {test_acc:.2f} \\\n",
    "| F1-score: {test_f1:.2f}\")"
   ]
  },
  {
   "cell_type": "code",
   "execution_count": 38,
   "id": "801e4c08-4912-4663-82da-8029d7bdc83b",
   "metadata": {},
   "outputs": [
    {
     "data": {
      "image/png": "[encoded data removed]",
      "text/plain": [
       "<Figure size 640x480 with 1 Axes>"
      ]
     },
     "metadata": {},
     "output_type": "display_data"
    }
   ],
   "source": [
    "## Plotting loss curves\n",
    "plt.plot(epoch_list, train_loss_list, label=\"Train\")\n",
    "plt.plot(epoch_list, test_loss_list, label=\"Test\")\n",
    "\n",
    "plt.title(\"Loss\")\n",
    "plt.legend()\n",
    "plt.show();"
   ]
  },
  {
   "cell_type": "markdown",
   "id": "9aba3b5e-3087-4695-96b2-bf43be39553f",
   "metadata": {},
   "source": [
    "### 6.2 Формируем и сохраняем результаты CNN модели"
   ]
  },
  {
   "cell_type": "code",
   "execution_count": 39,
   "id": "34399955-21ef-4027-8615-0ffa639dc0e9",
   "metadata": {},
   "outputs": [],
   "source": [
    "model_name = model_2.__class__.__name__ # only works when model was created with a class\n",
    "\n",
    "# Calculating CNN model results on test dataset\n",
    "results[model_name] = eval_model(model=model_2, \n",
    "                                 data_loader=test_loader,\n",
    "                                 loss_fn=cross_entropy_loss, \n",
    "                                 accuracy_fn=multiclass_accuracy,\n",
    "                                 f1_score_fn=multiclass_f1_score\n",
    "                                )"
   ]
  },
  {
   "cell_type": "markdown",
   "id": "f54949c0-907e-477d-b458-ce4cd4aa50d4",
   "metadata": {},
   "source": [
    "## 7. Сравнение результатов моделей"
   ]
  },
  {
   "cell_type": "code",
   "execution_count": 40,
   "id": "2e3fdd6c-484f-4ce5-a776-c491bde3fa79",
   "metadata": {},
   "outputs": [
    {
     "data": {
      "text/html": [
       "<div>\n",
       "<style scoped>\n",
       "    .dataframe tbody tr th:only-of-type {\n",
       "        vertical-align: middle;\n",
       "    }\n",
       "\n",
       "    .dataframe tbody tr th {\n",
       "        vertical-align: top;\n",
       "    }\n",
       "\n",
       "    .dataframe thead th {\n",
       "        text-align: right;\n",
       "    }\n",
       "</style>\n",
       "<table border=\"1\" class=\"dataframe\">\n",
       "  <thead>\n",
       "    <tr style=\"text-align: right;\">\n",
       "      <th></th>\n",
       "      <th>Loss</th>\n",
       "      <th>Accuracy</th>\n",
       "      <th>F1-score</th>\n",
       "    </tr>\n",
       "  </thead>\n",
       "  <tbody>\n",
       "    <tr>\n",
       "      <th>LinearModelV0</th>\n",
       "      <td>0.440238</td>\n",
       "      <td>0.8458</td>\n",
       "      <td>0.8458</td>\n",
       "    </tr>\n",
       "    <tr>\n",
       "      <th>NonLinearModelV1</th>\n",
       "      <td>0.955542</td>\n",
       "      <td>0.7240</td>\n",
       "      <td>0.7240</td>\n",
       "    </tr>\n",
       "    <tr>\n",
       "      <th>CNNModelV2</th>\n",
       "      <td>0.309998</td>\n",
       "      <td>0.8896</td>\n",
       "      <td>0.8896</td>\n",
       "    </tr>\n",
       "  </tbody>\n",
       "</table>\n",
       "</div>"
      ],
      "text/plain": [
       "                      Loss  Accuracy  F1-score\n",
       "LinearModelV0     0.440238    0.8458    0.8458\n",
       "NonLinearModelV1  0.955542    0.7240    0.7240\n",
       "CNNModelV2        0.309998    0.8896    0.8896"
      ]
     },
     "execution_count": 40,
     "metadata": {},
     "output_type": "execute_result"
    }
   ],
   "source": [
    "pd.DataFrame(results, index = ['Loss', 'Accuracy', 'F1-score']).T"
   ]
  },
  {
   "cell_type": "code",
   "execution_count": 41,
   "id": "cf02f3df-0670-4162-a647-fb17ed3cd6f1",
   "metadata": {},
   "outputs": [
    {
     "data": {
      "image/png": "[encoded data removed]",
      "text/plain": [
       "<Figure size 640x480 with 1 Axes>"
      ]
     },
     "metadata": {},
     "output_type": "display_data"
    }
   ],
   "source": [
    "# Visualizing our model results\n",
    "compare_results = pd.DataFrame(results, index = ['Loss', 'Accuracy', 'F1-score']).T\n",
    "compare_results[\"Accuracy\"].plot(kind=\"barh\")\n",
    "plt.title(\"Сравнение результатов\")\n",
    "plt.xlabel(\"Accuracy\")\n",
    "plt.ylabel(\"model\");"
   ]
  },
  {
   "cell_type": "markdown",
   "id": "e2f0eed5-5caf-44c9-a7fc-6246b9512748",
   "metadata": {},
   "source": [
    "### 7.1 Визуализируем несколько случайно выбранных предсказаний CNN модели"
   ]
  },
  {
   "cell_type": "code",
   "execution_count": 42,
   "id": "59cd14f6-f964-4999-a6f5-76d2ff8bb83e",
   "metadata": {},
   "outputs": [],
   "source": [
    "## let's create a function where we can pass the model and some data for it to predict on\n",
    "def make_predictions(model: torch.nn.Module, data: list, device: torch.device = device):\n",
    "    pred_probs = []\n",
    "    model.eval()\n",
    "    with torch.inference_mode():\n",
    "        for sample in data:\n",
    "            # Prepare sample\n",
    "            sample = torch.unsqueeze(sample, dim=0).to(device) # Add an extra dimension and send sample to device\n",
    "\n",
    "            # Forward pass (model outputs raw logit)\n",
    "            pred_logit = model(sample)\n",
    "\n",
    "            # Get prediction probability (logit -> prediction probability)\n",
    "            pred_prob = torch.softmax(pred_logit.squeeze(), dim=0) # note: perform softmax on the \"logits\" dimension, not \"batch\" dimension (in this case we have a batch size of 1, so can perform on dim=0)\n",
    "\n",
    "            # Get pred_prob off GPU for further calculations\n",
    "            pred_probs.append(pred_prob.cpu())\n",
    "            \n",
    "    # Stack the pred_probs to turn list into a tensor\n",
    "    return torch.stack(pred_probs)"
   ]
  },
  {
   "cell_type": "code",
   "execution_count": 43,
   "id": "473db86c-7c6f-488d-936b-47857431d466",
   "metadata": {},
   "outputs": [
    {
     "name": "stdout",
     "output_type": "stream",
     "text": [
      "Test sample image shape: torch.Size([1, 28, 28])\n",
      "Test sample label: 8 (Bag)\n"
     ]
    }
   ],
   "source": [
    "random.seed(RANDOM_SEED)\n",
    "\n",
    "test_samples = []\n",
    "test_labels = []\n",
    "for sample, label in random.sample(list(test_data), k=9):\n",
    "    test_samples.append(sample)\n",
    "    test_labels.append(label)\n",
    "\n",
    "# View the first test sample shape and label\n",
    "print(f\"Test sample image shape: {test_samples[0].shape}\\nTest sample label: {test_labels[0]} ({class_names[test_labels[0]]})\")"
   ]
  },
  {
   "cell_type": "code",
   "execution_count": 44,
   "id": "bd72d245-1cc5-489d-9cf9-b9426d985456",
   "metadata": {},
   "outputs": [
    {
     "data": {
      "text/plain": [
       "tensor([[2.3019e-05, 6.3280e-12, 6.7936e-07, 1.0641e-09, 3.9736e-09, 1.1071e-07,\n",
       "         2.4814e-05, 1.1669e-08, 9.9995e-01, 1.0640e-07],\n",
       "        [5.4639e-02, 8.8973e-05, 5.9324e-03, 3.3359e-01, 8.9632e-04, 1.4043e-07,\n",
       "         5.6780e-01, 2.1645e-13, 3.7057e-02, 6.8717e-11]])"
      ]
     },
     "execution_count": 44,
     "metadata": {},
     "output_type": "execute_result"
    }
   ],
   "source": [
    "# Make predictions on test samples with model 2\n",
    "pred_probs= make_predictions(model=model_2, \n",
    "                             data=test_samples)\n",
    "\n",
    "# View first two prediction probabilities list\n",
    "pred_probs[:2]"
   ]
  },
  {
   "cell_type": "code",
   "execution_count": 45,
   "id": "39726dde-28d8-4b3b-8455-bfa65b1c748c",
   "metadata": {},
   "outputs": [
    {
     "data": {
      "text/plain": [
       "tensor([8, 6, 5, 4, 7, 1, 5, 1, 3])"
      ]
     },
     "execution_count": 45,
     "metadata": {},
     "output_type": "execute_result"
    }
   ],
   "source": [
    "# Turn the prediction probabilities into prediction labels by taking the argmax()\n",
    "pred_classes = pred_probs.argmax(dim=1)\n",
    "pred_classes"
   ]
  },
  {
   "cell_type": "code",
   "execution_count": 46,
   "id": "8ceb5825-6125-4e77-9b66-72e66d07c09c",
   "metadata": {},
   "outputs": [
    {
     "data": {
      "image/png": "[encoded data removed]",
      "text/plain": [
       "<Figure size 900x900 with 9 Axes>"
      ]
     },
     "metadata": {},
     "output_type": "display_data"
    }
   ],
   "source": [
    "# Plot predictions\n",
    "plt.figure(figsize=(9, 9))\n",
    "nrows = 3\n",
    "ncols = 3\n",
    "for i, sample in enumerate(test_samples):\n",
    "  # Create a subplot\n",
    "  plt.subplot(nrows, ncols, i+1)\n",
    "\n",
    "  # Plot the target image\n",
    "  plt.imshow(sample.squeeze(), cmap=\"gray\")\n",
    "\n",
    "  # Find the prediction label (in text form, e.g. \"Sandal\")\n",
    "  pred_label = class_names[pred_classes[i]]\n",
    "\n",
    "  # Get the truth label (in text form, e.g. \"T-shirt\")\n",
    "  truth_label = class_names[test_labels[i]] \n",
    "\n",
    "  # Create the title text of the plot\n",
    "  title_text = f\"Pred: {pred_label} | Truth: {truth_label}\"\n",
    "  \n",
    "  # Check for equality and change title colour accordingly\n",
    "  if pred_label == truth_label:\n",
    "      plt.title(title_text, fontsize=10, c=\"g\") # green text if correct\n",
    "  else:\n",
    "      plt.title(title_text, fontsize=10, c=\"r\") # red text if wrong\n",
    "  plt.axis(False);"
   ]
  },
  {
   "cell_type": "markdown",
   "id": "d5d8e4e9-33ce-4ba5-9ea1-804263d6c1a5",
   "metadata": {},
   "source": [
    "## 8. Построение confusion matrix для CNN модели "
   ]
  },
  {
   "cell_type": "code",
   "execution_count": 47,
   "id": "084e8bde-f588-4fa3-b09f-b54b0ddd4168",
   "metadata": {},
   "outputs": [],
   "source": [
    "# Making predictions with trained model\n",
    "y_preds = []\n",
    "model_2.eval()\n",
    "with torch.inference_mode():\n",
    "  for X, y in test_loader:\n",
    "    # Send data and targets to target device\n",
    "    X, y = X.to(device), y.to(device)\n",
    "    # Do the forward pass\n",
    "    y_logit = model_2(X)\n",
    "    # Turn predictions from logits -> prediction probabilities -> predictions labels\n",
    "    y_pred = torch.softmax(y_logit, dim=1).argmax(dim=1)\n",
    "    # Put predictions on CPU for evaluation\n",
    "    y_preds.append(y_pred.cpu())\n",
    "# Concatenate list of predictions into a tensor\n",
    "y_pred_tensor = torch.cat(y_preds)"
   ]
  },
  {
   "cell_type": "code",
   "execution_count": 48,
   "id": "cb660fdf-df20-443a-a80c-72d17a90a284",
   "metadata": {},
   "outputs": [
    {
     "data": {
      "image/png": "[encoded data removed]",
      "text/plain": [
       "<Figure size 500x600 with 1 Axes>"
      ]
     },
     "metadata": {},
     "output_type": "display_data"
    }
   ],
   "source": [
    "# Setting up confusion matrix instance and compare predictions to targets\n",
    "confmat = ConfusionMatrix(num_classes=len(class_names), task='multiclass')\n",
    "confmat_tensor = confmat(preds=y_pred_tensor,\n",
    "                         target=test_data.targets)\n",
    "\n",
    "# 3. Plot the confusion matrix\n",
    "fig, ax = plot_confusion_matrix(\n",
    "    conf_mat=confmat_tensor.numpy(), # matplotlib likes working with NumPy \n",
    "    class_names=class_names, # turn the row and column labels into class names\n",
    "    figsize=(5, 6)\n",
    ");"
   ]
  },
  {
   "cell_type": "markdown",
   "id": "c4fc5a2f-c856-43ec-92a7-cf03e232a42e",
   "metadata": {},
   "source": [
    "Мы видим, что CNN модель работает достаточно хорошо, учитывая, что почти все наибольшие значения расположены на главной диагонали (идеальная модель будет иметь значения только на главной диагонали, а все остальные значения будут нулевыми).\n",
    "\n",
    "Сложности с классификацией у модели возникают на схожих классах, например, с предсказанием \"Shirt\" для изображений имеющих метку \"T-shirt/top\" или \"Pullover\" для изображений, размеченных как \"Coat\"."
   ]
  },
  {
   "cell_type": "markdown",
   "id": "0842f7c2-d84d-4b64-8b60-2851afe2b412",
   "metadata": {},
   "source": [
    "## 9. Итоговые выводы"
   ]
  },
  {
   "cell_type": "markdown",
   "id": "ccb725fb-ccf1-48af-8d6b-a17830001cb4",
   "metadata": {},
   "source": [
    "- Сверточная нейронная сеть продемонстрировала ожидаемо лучший результат. Accuracy ~89% для пары десятков строк кода создания модели на PyTorch - неплохой результат, на мой взгляд;\n",
    "- Результат baseline модели не намного хуже, поэтому при решении конкретной задачи имеет смысл начинать эксперименты с самой простой модели;\n",
    "- Нелинейная модель показала худший результат и это стоит учитывать при машинном обучении: иногда то, что должно работать, не работает, а то, что, казалось бы, не сработает, работает... ML это частично наука, а остальное - искусство )"
   ]
  }
 ],
 "metadata": {
  "kernelspec": {
   "display_name": "Python 3 (ipykernel)",
   "language": "python",
   "name": "python3"
  },
  "language_info": {
   "codemirror_mode": {
    "name": "ipython",
    "version": 3
   },
   "file_extension": ".py",
   "mimetype": "text/x-python",
   "name": "python",
   "nbconvert_exporter": "python",
   "pygments_lexer": "ipython3",
   "version": "3.11.4"
  }
 },
 "nbformat": 4,
 "nbformat_minor": 5
}
