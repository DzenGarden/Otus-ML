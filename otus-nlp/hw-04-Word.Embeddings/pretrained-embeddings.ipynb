{
 "cells": [
  {
   "cell_type": "markdown",
   "id": "2520ce58-0e66-453c-bf71-16222bb0cd36",
   "metadata": {},
   "source": [
    "# Домашнее задание\n",
    "\n",
    "Что в векторе твоем?\n",
    "\n",
    "### Цель:\n",
    "В этом ДЗ вы освоите работу с предобученными векторными представлениями.\n",
    "\n",
    "### Описание/Пошаговая инструкция выполнения домашнего задания:\n",
    "\n",
    "В качестве данных возьмите либо датасет, собранный в первом занятии (предпочтительно), либо скачайте данные с отзывами на фильмы с сайта IMDB (https://www.kaggle.com/lakshmi25npathi/imdb-dataset-of-50k-movie-reviews), в которых для каждого отзыва поставлена семантическая оценка — «позитивный» или «негативный».\n",
    "\n",
    "1. Разбейте собранные данные на train/test, отложив 20–30% наблюдений для тестирования.\n",
    "2. Примените tf-idf преобразование для текстового описания. Используйте как отдельные токены, так и биграммы, отсейте стоп-слова, а также слова, которые встречаются слишком редко или слишком часто (параметры min/max_df), не забудьте убрать l2 регуляризацию, которая по умолчанию включена.\n",
    "3. Обучите random forest или градиентный бустинг (LightGBM или catboost) на полученных векторах и подберите оптимальную комбинацию гиперпараметров с помощью GridSearch.\n",
    "4. Теперь воспользуйтесь предобученными word2vec/fasttext эмбеддингами для векторизации текста. Векторизуйте тексты с помощью метода word2vec/fasttext с весами tf-idf.\n",
    "\n",
    "> Совет: для текстов на русском языке можно взять предобученные эмбеддинги с сайта rusvectores https://rusvectores.org/ru/models/ (вам подходят эмбеддинги с параметром «тэгсет» НЕТ). Для английского языка можете воспользоваться word2vec, обученными на Google News.\n",
    "\n",
    "5. Повторите эксперимент из пункта 3 с использованием полученных в пункте 4 векторов.\n",
    "\n"
   ]
  },
  {
   "cell_type": "code",
   "execution_count": 3,
   "id": "1304ae6f-886d-4543-88ab-665c0db033ef",
   "metadata": {},
   "outputs": [],
   "source": [
    "import numpy as np\n",
    "import pandas as pd\n",
    "import matplotlib.pyplot as plt\n",
    "\n",
    "import re\n",
    "import random\n",
    "\n",
    "from sklearn.model_selection import train_test_split\n",
    "from sklearn.feature_extraction.text import TfidfVectorizer\n",
    "\n",
    "import nltk\n",
    "from nltk.corpus import stopwords\n",
    "from nltk.stem.snowball import SnowballStemmer\n",
    "# from nltk.stem import WordNetLemmatizer\n",
    "from nltk.tokenize import word_tokenize, sent_tokenize\n",
    "from nltk.stem import LancasterStemmer, WordNetLemmatizer\n",
    "\n",
    "from sklearn.linear_model import LogisticRegression\n",
    "from sklearn.model_selection import GridSearchCV\n",
    "from sklearn.metrics import classification_report, confusion_matrix\n",
    "from sklearn.metrics import accuracy_score, precision_score, recall_score, f1_score, roc_auc_score, roc_curve\n",
    "\n",
    "from catboost import CatBoostClassifier\n",
    "\n",
    "import gensim\n",
    "from gensim.models import Word2Vec, KeyedVectors"
   ]
  },
  {
   "cell_type": "code",
   "execution_count": 4,
   "id": "2a08e778-d693-4c91-9cf0-355cbf7ed7c9",
   "metadata": {},
   "outputs": [],
   "source": [
    "df_imdb = pd.read_csv('data/IMDB_Dataset.csv')"
   ]
  },
  {
   "cell_type": "code",
   "execution_count": 5,
   "id": "ceeff659-e288-46f8-a6ef-40f58e813122",
   "metadata": {},
   "outputs": [
    {
     "name": "stdout",
     "output_type": "stream",
     "text": [
      "<class 'pandas.core.frame.DataFrame'>\n",
      "RangeIndex: 50000 entries, 0 to 49999\n",
      "Data columns (total 2 columns):\n",
      " #   Column     Non-Null Count  Dtype \n",
      "---  ------     --------------  ----- \n",
      " 0   review     50000 non-null  object\n",
      " 1   sentiment  50000 non-null  object\n",
      "dtypes: object(2)\n",
      "memory usage: 781.4+ KB\n"
     ]
    }
   ],
   "source": [
    "df_imdb.info()"
   ]
  },
  {
   "cell_type": "code",
   "execution_count": 6,
   "id": "ffb0bbe9-8c52-455e-9092-1697ce581fa1",
   "metadata": {},
   "outputs": [
    {
     "data": {
      "text/plain": [
       "(50000, 2)"
      ]
     },
     "execution_count": 6,
     "metadata": {},
     "output_type": "execute_result"
    }
   ],
   "source": [
    "df_imdb.shape"
   ]
  },
  {
   "cell_type": "code",
   "execution_count": 7,
   "id": "498790ce-fcdd-4a39-a921-f8d847409459",
   "metadata": {},
   "outputs": [
    {
     "data": {
      "text/html": [
       "<div>\n",
       "<style scoped>\n",
       "    .dataframe tbody tr th:only-of-type {\n",
       "        vertical-align: middle;\n",
       "    }\n",
       "\n",
       "    .dataframe tbody tr th {\n",
       "        vertical-align: top;\n",
       "    }\n",
       "\n",
       "    .dataframe thead th {\n",
       "        text-align: right;\n",
       "    }\n",
       "</style>\n",
       "<table border=\"1\" class=\"dataframe\">\n",
       "  <thead>\n",
       "    <tr style=\"text-align: right;\">\n",
       "      <th></th>\n",
       "      <th>review</th>\n",
       "      <th>sentiment</th>\n",
       "    </tr>\n",
       "  </thead>\n",
       "  <tbody>\n",
       "    <tr>\n",
       "      <th>49995</th>\n",
       "      <td>I thought this movie did a down right good job...</td>\n",
       "      <td>positive</td>\n",
       "    </tr>\n",
       "    <tr>\n",
       "      <th>49996</th>\n",
       "      <td>Bad plot, bad dialogue, bad acting, idiotic di...</td>\n",
       "      <td>negative</td>\n",
       "    </tr>\n",
       "    <tr>\n",
       "      <th>49997</th>\n",
       "      <td>I am a Catholic taught in parochial elementary...</td>\n",
       "      <td>negative</td>\n",
       "    </tr>\n",
       "    <tr>\n",
       "      <th>49998</th>\n",
       "      <td>I'm going to have to disagree with the previou...</td>\n",
       "      <td>negative</td>\n",
       "    </tr>\n",
       "    <tr>\n",
       "      <th>49999</th>\n",
       "      <td>No one expects the Star Trek movies to be high...</td>\n",
       "      <td>negative</td>\n",
       "    </tr>\n",
       "  </tbody>\n",
       "</table>\n",
       "</div>"
      ],
      "text/plain": [
       "                                                  review sentiment\n",
       "49995  I thought this movie did a down right good job...  positive\n",
       "49996  Bad plot, bad dialogue, bad acting, idiotic di...  negative\n",
       "49997  I am a Catholic taught in parochial elementary...  negative\n",
       "49998  I'm going to have to disagree with the previou...  negative\n",
       "49999  No one expects the Star Trek movies to be high...  negative"
      ]
     },
     "execution_count": 7,
     "metadata": {},
     "output_type": "execute_result"
    }
   ],
   "source": [
    "df_imdb.tail()"
   ]
  },
  {
   "cell_type": "code",
   "execution_count": 8,
   "id": "7d8d31d6-4c70-4cca-9b54-3c8b3803d2ef",
   "metadata": {},
   "outputs": [
    {
     "data": {
      "text/html": [
       "<div>\n",
       "<style scoped>\n",
       "    .dataframe tbody tr th:only-of-type {\n",
       "        vertical-align: middle;\n",
       "    }\n",
       "\n",
       "    .dataframe tbody tr th {\n",
       "        vertical-align: top;\n",
       "    }\n",
       "\n",
       "    .dataframe thead th {\n",
       "        text-align: right;\n",
       "    }\n",
       "</style>\n",
       "<table border=\"1\" class=\"dataframe\">\n",
       "  <thead>\n",
       "    <tr style=\"text-align: right;\">\n",
       "      <th></th>\n",
       "      <th>review</th>\n",
       "    </tr>\n",
       "    <tr>\n",
       "      <th>sentiment</th>\n",
       "      <th></th>\n",
       "    </tr>\n",
       "  </thead>\n",
       "  <tbody>\n",
       "    <tr>\n",
       "      <th>negative</th>\n",
       "      <td>25000</td>\n",
       "    </tr>\n",
       "    <tr>\n",
       "      <th>positive</th>\n",
       "      <td>25000</td>\n",
       "    </tr>\n",
       "  </tbody>\n",
       "</table>\n",
       "</div>"
      ],
      "text/plain": [
       "           review\n",
       "sentiment        \n",
       "negative    25000\n",
       "positive    25000"
      ]
     },
     "execution_count": 8,
     "metadata": {},
     "output_type": "execute_result"
    }
   ],
   "source": [
    "# df_imdb['sentiment'].value_counts()\n",
    "df_imdb.groupby(['sentiment']).count()"
   ]
  },
  {
   "cell_type": "code",
   "execution_count": 9,
   "id": "fea6ff0f-f8b4-4e0c-a6d5-63ce310e7762",
   "metadata": {},
   "outputs": [],
   "source": [
    "# Напишем функцию для отображения отзыва по id\n",
    "def show_review(id):\n",
    "    review = df_imdb.review[id]\n",
    "    sentiment = df_imdb.sentiment[id]\n",
    "    print(f'ID: {id} \\n')\n",
    "    print(f'Review: {review} \\n')\n",
    "    print(f'Sentiment: {sentiment}')"
   ]
  },
  {
   "cell_type": "code",
   "execution_count": 10,
   "id": "994ace41-71c3-4449-bbeb-c6a175d4376c",
   "metadata": {},
   "outputs": [
    {
     "name": "stdout",
     "output_type": "stream",
     "text": [
      "ID: 36289 \n",
      "\n",
      "Review: Voor een verloren soldaat , for a lost soldier, is a sad example of how not to translate to film a touching, complex psychological study, of that most magical time in a man's life, when he is still a child, but starting to become a man. The novel records the real life experiences of Rudy van Dantzig, as told thru the boy Jeroen, during the waning days of WWII at age 11 as he deals with his incipient sexuality, and his deep fears of abandonment as he has been sent to the province of Friesland, north of Holland by his parents because of the lack of food in Amsterdam and has not heard from them in many months as the postal service has broken down.. The arrival of the liberating soldiers in the film, is presented in a painfully corny way, with the soldiers providing entertainment vaudeville style. Then one soldier, Walt, romances Jeroen and the pair is presented as two frolicking males.who consummate their love in a sexual experience. This taken in stride by the 11 yo Jeroen. The reality was somewhat different: Jeroen describes his encounters with Walt, 6 in all, in detail but in oblique language. But there is no misunderstanding their nature. Walt is aroused to an intense passion by Jeroen, during which he handles him roughly, so that in their final meeting, Jeroen is bruised and suffering a painful wound on the shoulder where Walt has bitten him. During this encounter, Walt rapes Jeroen, twice. Jeroen could have easily avoided Walt after their 2nd encounter, when Walt first assaults him as Walt is clearly anxious to keep his abuse of the boy from the other soldiers. Why Jeroen keeps seeking Walt out is a mystery of the human heart and not explainable, by me anyway. What the film leaves out is the aftermath: the nightmares, the dejection, the frantic search throughout Amsterdam on the chance of finding Walt, for Jeroen loved Walt, and nothing could shake that. \n",
      "\n",
      "Sentiment: negative\n"
     ]
    }
   ],
   "source": [
    "## посмотрим на случайно выбранный отзыв\n",
    "num = random.randint(0, 49999)\n",
    "show_review(num)"
   ]
  },
  {
   "cell_type": "markdown",
   "id": "94c3e4e5-49bb-42b2-a55b-1eeb5a8cb680",
   "metadata": {},
   "source": [
    "Поскольку целевая переменная закодирована словами, необходимо привести ее к числовому виду"
   ]
  },
  {
   "cell_type": "code",
   "execution_count": 12,
   "id": "ea1bb886-86cf-4e52-8499-7d22b0d7919d",
   "metadata": {},
   "outputs": [],
   "source": [
    "df_imdb['sentiment'] = df_imdb['sentiment'].map({'positive':1, 'negative':0})"
   ]
  },
  {
   "cell_type": "code",
   "execution_count": 13,
   "id": "e8181549-9cb7-4904-8610-5861843e680a",
   "metadata": {},
   "outputs": [
    {
     "name": "stdout",
     "output_type": "stream",
     "text": [
      "<class 'pandas.core.frame.DataFrame'>\n",
      "RangeIndex: 50000 entries, 0 to 49999\n",
      "Data columns (total 2 columns):\n",
      " #   Column     Non-Null Count  Dtype \n",
      "---  ------     --------------  ----- \n",
      " 0   review     50000 non-null  object\n",
      " 1   sentiment  50000 non-null  int64 \n",
      "dtypes: int64(1), object(1)\n",
      "memory usage: 781.4+ KB\n"
     ]
    }
   ],
   "source": [
    "df_imdb.info()"
   ]
  },
  {
   "cell_type": "code",
   "execution_count": 14,
   "id": "8684f43e-b8dd-4d6c-b071-e82ce252a8d9",
   "metadata": {},
   "outputs": [
    {
     "name": "stdout",
     "output_type": "stream",
     "text": [
      "ID: 36289 \n",
      "\n",
      "Review: Voor een verloren soldaat , for a lost soldier, is a sad example of how not to translate to film a touching, complex psychological study, of that most magical time in a man's life, when he is still a child, but starting to become a man. The novel records the real life experiences of Rudy van Dantzig, as told thru the boy Jeroen, during the waning days of WWII at age 11 as he deals with his incipient sexuality, and his deep fears of abandonment as he has been sent to the province of Friesland, north of Holland by his parents because of the lack of food in Amsterdam and has not heard from them in many months as the postal service has broken down.. The arrival of the liberating soldiers in the film, is presented in a painfully corny way, with the soldiers providing entertainment vaudeville style. Then one soldier, Walt, romances Jeroen and the pair is presented as two frolicking males.who consummate their love in a sexual experience. This taken in stride by the 11 yo Jeroen. The reality was somewhat different: Jeroen describes his encounters with Walt, 6 in all, in detail but in oblique language. But there is no misunderstanding their nature. Walt is aroused to an intense passion by Jeroen, during which he handles him roughly, so that in their final meeting, Jeroen is bruised and suffering a painful wound on the shoulder where Walt has bitten him. During this encounter, Walt rapes Jeroen, twice. Jeroen could have easily avoided Walt after their 2nd encounter, when Walt first assaults him as Walt is clearly anxious to keep his abuse of the boy from the other soldiers. Why Jeroen keeps seeking Walt out is a mystery of the human heart and not explainable, by me anyway. What the film leaves out is the aftermath: the nightmares, the dejection, the frantic search throughout Amsterdam on the chance of finding Walt, for Jeroen loved Walt, and nothing could shake that. \n",
      "\n",
      "Sentiment: 0\n"
     ]
    }
   ],
   "source": [
    "show_review(num)"
   ]
  },
  {
   "cell_type": "markdown",
   "id": "5bb5c29c-5cc2-44a1-85a1-af7adfd3f28f",
   "metadata": {},
   "source": [
    "## Предобработка текста"
   ]
  },
  {
   "cell_type": "markdown",
   "id": "7bebbb42-ccb6-4bae-b0b9-b8f3cf3882ce",
   "metadata": {},
   "source": [
    "### Шаг 1. Токенизация"
   ]
  },
  {
   "cell_type": "markdown",
   "id": "f99156de-9c6e-49eb-a39a-910cec35a360",
   "metadata": {},
   "source": [
    "Инициализируем WordPunctTokenizer, с помощью которого затем разобьем текст на слова."
   ]
  },
  {
   "cell_type": "code",
   "execution_count": 18,
   "id": "82ae13d8-5e45-4243-b7e2-d9e161690431",
   "metadata": {},
   "outputs": [
    {
     "name": "stdout",
     "output_type": "stream",
     "text": [
      "['We', 'will', ',', 'we', 'will', 'rock', 'you', '!!!!']\n"
     ]
    }
   ],
   "source": [
    "word_tokenizer = nltk.WordPunctTokenizer() # знаки препинания (группами) объединяются в один токен\n",
    "tokens = word_tokenizer.tokenize('We will, we will rock you!!!!')\n",
    "print(tokens)"
   ]
  },
  {
   "cell_type": "markdown",
   "id": "ec9d8c13-163c-497e-b6e5-9f9904f5fb08",
   "metadata": {},
   "source": [
    "Удалим специальные символы и переведем текст в нижний регистр "
   ]
  },
  {
   "cell_type": "code",
   "execution_count": 20,
   "id": "c91b3be5-1b43-49e6-b05f-4c81d3097769",
   "metadata": {},
   "outputs": [],
   "source": [
    "def remove_special_characters(text, remove_digits=True):\n",
    "    if remove_digits:\n",
    "        pattern=r'[^a-zA-z\\s]'\n",
    "    else:\n",
    "        pattern=r'[^a-zA-z0-9\\s]'\n",
    "    text=re.sub(pattern,'',text)\n",
    "    return text.lower()"
   ]
  },
  {
   "cell_type": "code",
   "execution_count": 21,
   "id": "f2d73f9b-71db-4c97-b427-19024bc921fe",
   "metadata": {},
   "outputs": [],
   "source": [
    "df_imdb['review'] = df_imdb['review'].apply(remove_special_characters)"
   ]
  },
  {
   "cell_type": "markdown",
   "id": "dbf6cda4-8bb6-4a21-9866-e50543463b6f",
   "metadata": {},
   "source": [
    "### Шаг 2. Удаление стоп-слов"
   ]
  },
  {
   "cell_type": "code",
   "execution_count": 23,
   "id": "9a785f68-db6d-4cdb-bfd9-938d256da306",
   "metadata": {},
   "outputs": [
    {
     "name": "stderr",
     "output_type": "stream",
     "text": [
      "[nltk_data] Downloading package stopwords to /home/vlad/nltk_data...\n",
      "[nltk_data]   Package stopwords is already up-to-date!\n",
      "[nltk_data] Downloading package punkt_tab to /home/vlad/nltk_data...\n",
      "[nltk_data]   Package punkt_tab is already up-to-date!\n"
     ]
    },
    {
     "data": {
      "text/plain": [
       "True"
      ]
     },
     "execution_count": 23,
     "metadata": {},
     "output_type": "execute_result"
    }
   ],
   "source": [
    "# загружаем список стоп-слов пакета nltk\n",
    "nltk.download('stopwords')\n",
    "nltk.download('punkt_tab')"
   ]
  },
  {
   "cell_type": "code",
   "execution_count": 24,
   "id": "63854c65-f91f-479a-a59d-b3789be2c651",
   "metadata": {},
   "outputs": [
    {
     "name": "stdout",
     "output_type": "stream",
     "text": [
      "179\n",
      "['i', 'me', 'my', 'myself', 'we', 'our', 'ours', 'ourselves', 'you', \"you're\"]\n"
     ]
    }
   ],
   "source": [
    "stopword_list = nltk.corpus.stopwords.words('english')\n",
    "\n",
    "# примеры стоп-слов\n",
    "print(len(stopword_list))\n",
    "print(stopword_list[:10])"
   ]
  },
  {
   "cell_type": "code",
   "execution_count": 25,
   "id": "6b2c7f88-61b7-40de-b261-76fe59bd077b",
   "metadata": {},
   "outputs": [],
   "source": [
    "# создадим функцию удаления стоп-слов\n",
    "def remove_stopwords(text):\n",
    "    tokens = word_tokenizer.tokenize(text)\n",
    "    tokens = [token.strip() for token in tokens]\n",
    "\n",
    "    filtered_tokens = [token for token in tokens if token not in stopword_list]\n",
    "    filtered_text = ' '.join(filtered_tokens)    \n",
    "\n",
    "    return filtered_text"
   ]
  },
  {
   "cell_type": "code",
   "execution_count": 26,
   "id": "4c24e9cd-c8d2-41b0-8bc5-d03004d1ba63",
   "metadata": {},
   "outputs": [],
   "source": [
    "# применим созданную функцию к отзывам \n",
    "df_imdb['review']=df_imdb['review'].apply(remove_stopwords)"
   ]
  },
  {
   "cell_type": "code",
   "execution_count": 27,
   "id": "db4d3af5-d01b-43ea-b409-ac238d4c9fbc",
   "metadata": {},
   "outputs": [
    {
     "name": "stdout",
     "output_type": "stream",
     "text": [
      "ID: 36289 \n",
      "\n",
      "Review: voor een verloren soldaat lost soldier sad example translate film touching complex psychological study magical time mans life still child starting become man novel records real life experiences rudy van dantzig told thru boy jeroen waning days wwii age deals incipient sexuality deep fears abandonment sent province friesland north holland parents lack food amsterdam heard many months postal service broken arrival liberating soldiers film presented painfully corny way soldiers providing entertainment vaudeville style one soldier walt romances jeroen pair presented two frolicking maleswho consummate love sexual experience taken stride yo jeroen reality somewhat different jeroen describes encounters walt detail oblique language misunderstanding nature walt aroused intense passion jeroen handles roughly final meeting jeroen bruised suffering painful wound shoulder walt bitten encounter walt rapes jeroen twice jeroen could easily avoided walt nd encounter walt first assaults walt clearly anxious keep abuse boy soldiers jeroen keeps seeking walt mystery human heart explainable anyway film leaves aftermath nightmares dejection frantic search throughout amsterdam chance finding walt jeroen loved walt nothing could shake \n",
      "\n",
      "Sentiment: 0\n"
     ]
    }
   ],
   "source": [
    "show_review(num)"
   ]
  },
  {
   "cell_type": "markdown",
   "id": "ada12a19-8372-4b42-9c69-857c3bf0b3d8",
   "metadata": {},
   "source": [
    "### Шаг 3. Нормализация слов"
   ]
  },
  {
   "cell_type": "markdown",
   "id": "fc639db3-d813-4eb9-904f-944d82bc0a41",
   "metadata": {},
   "source": [
    "Используем стемминг для нормализации"
   ]
  },
  {
   "cell_type": "code",
   "execution_count": 30,
   "id": "09ac9bed-a4d2-4c82-ad94-4a934af91ea2",
   "metadata": {},
   "outputs": [],
   "source": [
    "def simple_stemmer(text):\n",
    "    stemmer = SnowballStemmer(\"english\", ignore_stopwords=True)\n",
    "    text= ' '.join([stemmer.stem(word) for word in text.split()])\n",
    "    return text"
   ]
  },
  {
   "cell_type": "code",
   "execution_count": 31,
   "id": "1229e29e-149f-46ff-bb27-83aa532b0c57",
   "metadata": {},
   "outputs": [],
   "source": [
    "df_imdb['review']=df_imdb['review'].apply(simple_stemmer)"
   ]
  },
  {
   "cell_type": "markdown",
   "id": "f1dc88e7-3db5-43d2-a150-770dd24618c7",
   "metadata": {},
   "source": [
    "Посмотрим, что у нас в итоге получилось"
   ]
  },
  {
   "cell_type": "code",
   "execution_count": 33,
   "id": "69a2b4a5-d6b8-4a9f-9af9-c96c4e52ece4",
   "metadata": {},
   "outputs": [
    {
     "name": "stdout",
     "output_type": "stream",
     "text": [
      "ID: 36289 \n",
      "\n",
      "Review: voor een verloren soldaat lost soldier sad exampl translat film touch complex psycholog studi magic time man life still child start becom man novel record real life experi rudi van dantzig told thru boy jeroen wane day wwii age deal incipi sexual deep fear abandon sent provinc friesland north holland parent lack food amsterdam heard mani month postal servic broken arriv liber soldier film present pain corni way soldier provid entertain vaudevill style one soldier walt romanc jeroen pair present two frolick maleswho consumm love sexual experi taken stride yo jeroen realiti somewhat differ jeroen describ encount walt detail obliqu languag misunderstand natur walt arous intens passion jeroen handl rough final meet jeroen bruis suffer pain wound shoulder walt bitten encount walt rape jeroen twice jeroen could easili avoid walt nd encount walt first assault walt clear anxious keep abus boy soldier jeroen keep seek walt mysteri human heart explain anyway film leav aftermath nightmar deject frantic search throughout amsterdam chanc find walt jeroen love walt noth could shake \n",
      "\n",
      "Sentiment: 0\n"
     ]
    }
   ],
   "source": [
    "show_review(num)"
   ]
  },
  {
   "cell_type": "markdown",
   "id": "5276fe07-3c95-4574-b594-df1c4682a9a9",
   "metadata": {},
   "source": [
    "Видим, что специальные символы и стоп-слова удалены, текст нормализован и можем переходить к построению модели"
   ]
  },
  {
   "cell_type": "markdown",
   "id": "61e9ad0b-83c3-4850-9023-1267613fcb55",
   "metadata": {},
   "source": [
    "## Разделим данные на train и test"
   ]
  },
  {
   "cell_type": "code",
   "execution_count": 36,
   "id": "1fabe8cd-1313-4665-8083-b005bb2e049b",
   "metadata": {},
   "outputs": [],
   "source": [
    "data = df_imdb['review']\n",
    "labels = df_imdb['sentiment']"
   ]
  },
  {
   "cell_type": "code",
   "execution_count": 37,
   "id": "a0e04cab-3287-4aa5-be46-58652cda93d4",
   "metadata": {},
   "outputs": [
    {
     "data": {
      "text/plain": [
       "((50000,), (50000,))"
      ]
     },
     "execution_count": 37,
     "metadata": {},
     "output_type": "execute_result"
    }
   ],
   "source": [
    "data.shape, labels.shape"
   ]
  },
  {
   "cell_type": "code",
   "execution_count": 38,
   "id": "4d51b496-7147-4d83-9e7f-081311fe4f21",
   "metadata": {},
   "outputs": [],
   "source": [
    "train_texts, test_texts, y_train, y_test = train_test_split(data, labels, test_size=0.2, random_state=13)"
   ]
  },
  {
   "cell_type": "code",
   "execution_count": 39,
   "id": "baa3a918-78cc-43ef-b5e9-c5f809309387",
   "metadata": {},
   "outputs": [
    {
     "data": {
      "text/plain": [
       "((40000,), (10000,), (40000,), (10000,))"
      ]
     },
     "execution_count": 39,
     "metadata": {},
     "output_type": "execute_result"
    }
   ],
   "source": [
    "train_texts.shape, test_texts.shape, y_train.shape, y_test.shape"
   ]
  },
  {
   "cell_type": "code",
   "execution_count": 40,
   "id": "5319a7ba-d54d-43fb-815d-21965b30d8f0",
   "metadata": {},
   "outputs": [
    {
     "data": {
      "text/plain": [
       "'one review mention watch oz episod youll hook right exact happen mebr br first thing struck oz brutal unflinch scene violenc set right word go trust show faint heart timid show pull punch regard drug sex violenc hardcor classic use wordbr br call oz nicknam given oswald maximum secur state penitentari focus main emerald citi experiment section prison cell glass front face inward privaci high agenda em citi home manyaryan muslim gangsta latino christian italian irish moreso scuffl death stare dodgi deal shadi agreement never far awaybr br would say main appeal show due fact goe show wouldnt dare forget pretti pictur paint mainstream audienc forget charm forget romanceoz doesnt mess around first episod ever saw struck nasti surreal couldnt say readi watch develop tast oz got accustom high level graphic violenc violenc injustic crook guard wholl sold nickel inmat wholl kill order get away well manner middl class inmat turn prison bitch due lack street skill prison experi watch oz may becom comfort uncomfort viewingthat get touch darker side'"
      ]
     },
     "execution_count": 40,
     "metadata": {},
     "output_type": "execute_result"
    }
   ],
   "source": [
    "train_texts[0]"
   ]
  },
  {
   "cell_type": "code",
   "execution_count": 41,
   "id": "c0e132a1-a923-4fe1-82c3-8bff7fb7ab4b",
   "metadata": {},
   "outputs": [
    {
     "data": {
      "text/plain": [
       "1"
      ]
     },
     "execution_count": 41,
     "metadata": {},
     "output_type": "execute_result"
    }
   ],
   "source": [
    "y_train[0]"
   ]
  },
  {
   "cell_type": "markdown",
   "id": "2983c49e-c3be-4558-9abe-1e2d76599059",
   "metadata": {},
   "source": [
    "## Построение модели"
   ]
  },
  {
   "cell_type": "markdown",
   "id": "fa3875b0-24cf-4fe4-98ea-ef89fb6a25df",
   "metadata": {},
   "source": [
    "Применим tf-idf преобразование для создания векторного представления слов"
   ]
  },
  {
   "cell_type": "code",
   "execution_count": 44,
   "id": "0ca58e86-1701-4f03-ba18-c741ce9df517",
   "metadata": {},
   "outputs": [
    {
     "data": {
      "text/html": [
       "<style>#sk-container-id-1 {\n",
       "  /* Definition of color scheme common for light and dark mode */\n",
       "  --sklearn-color-text: black;\n",
       "  --sklearn-color-line: gray;\n",
       "  /* Definition of color scheme for unfitted estimators */\n",
       "  --sklearn-color-unfitted-level-0: #fff5e6;\n",
       "  --sklearn-color-unfitted-level-1: #f6e4d2;\n",
       "  --sklearn-color-unfitted-level-2: #ffe0b3;\n",
       "  --sklearn-color-unfitted-level-3: chocolate;\n",
       "  /* Definition of color scheme for fitted estimators */\n",
       "  --sklearn-color-fitted-level-0: #f0f8ff;\n",
       "  --sklearn-color-fitted-level-1: #d4ebff;\n",
       "  --sklearn-color-fitted-level-2: #b3dbfd;\n",
       "  --sklearn-color-fitted-level-3: cornflowerblue;\n",
       "\n",
       "  /* Specific color for light theme */\n",
       "  --sklearn-color-text-on-default-background: var(--sg-text-color, var(--theme-code-foreground, var(--jp-content-font-color1, black)));\n",
       "  --sklearn-color-background: var(--sg-background-color, var(--theme-background, var(--jp-layout-color0, white)));\n",
       "  --sklearn-color-border-box: var(--sg-text-color, var(--theme-code-foreground, var(--jp-content-font-color1, black)));\n",
       "  --sklearn-color-icon: #696969;\n",
       "\n",
       "  @media (prefers-color-scheme: dark) {\n",
       "    /* Redefinition of color scheme for dark theme */\n",
       "    --sklearn-color-text-on-default-background: var(--sg-text-color, var(--theme-code-foreground, var(--jp-content-font-color1, white)));\n",
       "    --sklearn-color-background: var(--sg-background-color, var(--theme-background, var(--jp-layout-color0, #111)));\n",
       "    --sklearn-color-border-box: var(--sg-text-color, var(--theme-code-foreground, var(--jp-content-font-color1, white)));\n",
       "    --sklearn-color-icon: #878787;\n",
       "  }\n",
       "}\n",
       "\n",
       "#sk-container-id-1 {\n",
       "  color: var(--sklearn-color-text);\n",
       "}\n",
       "\n",
       "#sk-container-id-1 pre {\n",
       "  padding: 0;\n",
       "}\n",
       "\n",
       "#sk-container-id-1 input.sk-hidden--visually {\n",
       "  border: 0;\n",
       "  clip: rect(1px 1px 1px 1px);\n",
       "  clip: rect(1px, 1px, 1px, 1px);\n",
       "  height: 1px;\n",
       "  margin: -1px;\n",
       "  overflow: hidden;\n",
       "  padding: 0;\n",
       "  position: absolute;\n",
       "  width: 1px;\n",
       "}\n",
       "\n",
       "#sk-container-id-1 div.sk-dashed-wrapped {\n",
       "  border: 1px dashed var(--sklearn-color-line);\n",
       "  margin: 0 0.4em 0.5em 0.4em;\n",
       "  box-sizing: border-box;\n",
       "  padding-bottom: 0.4em;\n",
       "  background-color: var(--sklearn-color-background);\n",
       "}\n",
       "\n",
       "#sk-container-id-1 div.sk-container {\n",
       "  /* jupyter's `normalize.less` sets `[hidden] { display: none; }`\n",
       "     but bootstrap.min.css set `[hidden] { display: none !important; }`\n",
       "     so we also need the `!important` here to be able to override the\n",
       "     default hidden behavior on the sphinx rendered scikit-learn.org.\n",
       "     See: https://github.com/scikit-learn/scikit-learn/issues/21755 */\n",
       "  display: inline-block !important;\n",
       "  position: relative;\n",
       "}\n",
       "\n",
       "#sk-container-id-1 div.sk-text-repr-fallback {\n",
       "  display: none;\n",
       "}\n",
       "\n",
       "div.sk-parallel-item,\n",
       "div.sk-serial,\n",
       "div.sk-item {\n",
       "  /* draw centered vertical line to link estimators */\n",
       "  background-image: linear-gradient(var(--sklearn-color-text-on-default-background), var(--sklearn-color-text-on-default-background));\n",
       "  background-size: 2px 100%;\n",
       "  background-repeat: no-repeat;\n",
       "  background-position: center center;\n",
       "}\n",
       "\n",
       "/* Parallel-specific style estimator block */\n",
       "\n",
       "#sk-container-id-1 div.sk-parallel-item::after {\n",
       "  content: \"\";\n",
       "  width: 100%;\n",
       "  border-bottom: 2px solid var(--sklearn-color-text-on-default-background);\n",
       "  flex-grow: 1;\n",
       "}\n",
       "\n",
       "#sk-container-id-1 div.sk-parallel {\n",
       "  display: flex;\n",
       "  align-items: stretch;\n",
       "  justify-content: center;\n",
       "  background-color: var(--sklearn-color-background);\n",
       "  position: relative;\n",
       "}\n",
       "\n",
       "#sk-container-id-1 div.sk-parallel-item {\n",
       "  display: flex;\n",
       "  flex-direction: column;\n",
       "}\n",
       "\n",
       "#sk-container-id-1 div.sk-parallel-item:first-child::after {\n",
       "  align-self: flex-end;\n",
       "  width: 50%;\n",
       "}\n",
       "\n",
       "#sk-container-id-1 div.sk-parallel-item:last-child::after {\n",
       "  align-self: flex-start;\n",
       "  width: 50%;\n",
       "}\n",
       "\n",
       "#sk-container-id-1 div.sk-parallel-item:only-child::after {\n",
       "  width: 0;\n",
       "}\n",
       "\n",
       "/* Serial-specific style estimator block */\n",
       "\n",
       "#sk-container-id-1 div.sk-serial {\n",
       "  display: flex;\n",
       "  flex-direction: column;\n",
       "  align-items: center;\n",
       "  background-color: var(--sklearn-color-background);\n",
       "  padding-right: 1em;\n",
       "  padding-left: 1em;\n",
       "}\n",
       "\n",
       "\n",
       "/* Toggleable style: style used for estimator/Pipeline/ColumnTransformer box that is\n",
       "clickable and can be expanded/collapsed.\n",
       "- Pipeline and ColumnTransformer use this feature and define the default style\n",
       "- Estimators will overwrite some part of the style using the `sk-estimator` class\n",
       "*/\n",
       "\n",
       "/* Pipeline and ColumnTransformer style (default) */\n",
       "\n",
       "#sk-container-id-1 div.sk-toggleable {\n",
       "  /* Default theme specific background. It is overwritten whether we have a\n",
       "  specific estimator or a Pipeline/ColumnTransformer */\n",
       "  background-color: var(--sklearn-color-background);\n",
       "}\n",
       "\n",
       "/* Toggleable label */\n",
       "#sk-container-id-1 label.sk-toggleable__label {\n",
       "  cursor: pointer;\n",
       "  display: block;\n",
       "  width: 100%;\n",
       "  margin-bottom: 0;\n",
       "  padding: 0.5em;\n",
       "  box-sizing: border-box;\n",
       "  text-align: center;\n",
       "}\n",
       "\n",
       "#sk-container-id-1 label.sk-toggleable__label-arrow:before {\n",
       "  /* Arrow on the left of the label */\n",
       "  content: \"▸\";\n",
       "  float: left;\n",
       "  margin-right: 0.25em;\n",
       "  color: var(--sklearn-color-icon);\n",
       "}\n",
       "\n",
       "#sk-container-id-1 label.sk-toggleable__label-arrow:hover:before {\n",
       "  color: var(--sklearn-color-text);\n",
       "}\n",
       "\n",
       "/* Toggleable content - dropdown */\n",
       "\n",
       "#sk-container-id-1 div.sk-toggleable__content {\n",
       "  max-height: 0;\n",
       "  max-width: 0;\n",
       "  overflow: hidden;\n",
       "  text-align: left;\n",
       "  /* unfitted */\n",
       "  background-color: var(--sklearn-color-unfitted-level-0);\n",
       "}\n",
       "\n",
       "#sk-container-id-1 div.sk-toggleable__content.fitted {\n",
       "  /* fitted */\n",
       "  background-color: var(--sklearn-color-fitted-level-0);\n",
       "}\n",
       "\n",
       "#sk-container-id-1 div.sk-toggleable__content pre {\n",
       "  margin: 0.2em;\n",
       "  border-radius: 0.25em;\n",
       "  color: var(--sklearn-color-text);\n",
       "  /* unfitted */\n",
       "  background-color: var(--sklearn-color-unfitted-level-0);\n",
       "}\n",
       "\n",
       "#sk-container-id-1 div.sk-toggleable__content.fitted pre {\n",
       "  /* unfitted */\n",
       "  background-color: var(--sklearn-color-fitted-level-0);\n",
       "}\n",
       "\n",
       "#sk-container-id-1 input.sk-toggleable__control:checked~div.sk-toggleable__content {\n",
       "  /* Expand drop-down */\n",
       "  max-height: 200px;\n",
       "  max-width: 100%;\n",
       "  overflow: auto;\n",
       "}\n",
       "\n",
       "#sk-container-id-1 input.sk-toggleable__control:checked~label.sk-toggleable__label-arrow:before {\n",
       "  content: \"▾\";\n",
       "}\n",
       "\n",
       "/* Pipeline/ColumnTransformer-specific style */\n",
       "\n",
       "#sk-container-id-1 div.sk-label input.sk-toggleable__control:checked~label.sk-toggleable__label {\n",
       "  color: var(--sklearn-color-text);\n",
       "  background-color: var(--sklearn-color-unfitted-level-2);\n",
       "}\n",
       "\n",
       "#sk-container-id-1 div.sk-label.fitted input.sk-toggleable__control:checked~label.sk-toggleable__label {\n",
       "  background-color: var(--sklearn-color-fitted-level-2);\n",
       "}\n",
       "\n",
       "/* Estimator-specific style */\n",
       "\n",
       "/* Colorize estimator box */\n",
       "#sk-container-id-1 div.sk-estimator input.sk-toggleable__control:checked~label.sk-toggleable__label {\n",
       "  /* unfitted */\n",
       "  background-color: var(--sklearn-color-unfitted-level-2);\n",
       "}\n",
       "\n",
       "#sk-container-id-1 div.sk-estimator.fitted input.sk-toggleable__control:checked~label.sk-toggleable__label {\n",
       "  /* fitted */\n",
       "  background-color: var(--sklearn-color-fitted-level-2);\n",
       "}\n",
       "\n",
       "#sk-container-id-1 div.sk-label label.sk-toggleable__label,\n",
       "#sk-container-id-1 div.sk-label label {\n",
       "  /* The background is the default theme color */\n",
       "  color: var(--sklearn-color-text-on-default-background);\n",
       "}\n",
       "\n",
       "/* On hover, darken the color of the background */\n",
       "#sk-container-id-1 div.sk-label:hover label.sk-toggleable__label {\n",
       "  color: var(--sklearn-color-text);\n",
       "  background-color: var(--sklearn-color-unfitted-level-2);\n",
       "}\n",
       "\n",
       "/* Label box, darken color on hover, fitted */\n",
       "#sk-container-id-1 div.sk-label.fitted:hover label.sk-toggleable__label.fitted {\n",
       "  color: var(--sklearn-color-text);\n",
       "  background-color: var(--sklearn-color-fitted-level-2);\n",
       "}\n",
       "\n",
       "/* Estimator label */\n",
       "\n",
       "#sk-container-id-1 div.sk-label label {\n",
       "  font-family: monospace;\n",
       "  font-weight: bold;\n",
       "  display: inline-block;\n",
       "  line-height: 1.2em;\n",
       "}\n",
       "\n",
       "#sk-container-id-1 div.sk-label-container {\n",
       "  text-align: center;\n",
       "}\n",
       "\n",
       "/* Estimator-specific */\n",
       "#sk-container-id-1 div.sk-estimator {\n",
       "  font-family: monospace;\n",
       "  border: 1px dotted var(--sklearn-color-border-box);\n",
       "  border-radius: 0.25em;\n",
       "  box-sizing: border-box;\n",
       "  margin-bottom: 0.5em;\n",
       "  /* unfitted */\n",
       "  background-color: var(--sklearn-color-unfitted-level-0);\n",
       "}\n",
       "\n",
       "#sk-container-id-1 div.sk-estimator.fitted {\n",
       "  /* fitted */\n",
       "  background-color: var(--sklearn-color-fitted-level-0);\n",
       "}\n",
       "\n",
       "/* on hover */\n",
       "#sk-container-id-1 div.sk-estimator:hover {\n",
       "  /* unfitted */\n",
       "  background-color: var(--sklearn-color-unfitted-level-2);\n",
       "}\n",
       "\n",
       "#sk-container-id-1 div.sk-estimator.fitted:hover {\n",
       "  /* fitted */\n",
       "  background-color: var(--sklearn-color-fitted-level-2);\n",
       "}\n",
       "\n",
       "/* Specification for estimator info (e.g. \"i\" and \"?\") */\n",
       "\n",
       "/* Common style for \"i\" and \"?\" */\n",
       "\n",
       ".sk-estimator-doc-link,\n",
       "a:link.sk-estimator-doc-link,\n",
       "a:visited.sk-estimator-doc-link {\n",
       "  float: right;\n",
       "  font-size: smaller;\n",
       "  line-height: 1em;\n",
       "  font-family: monospace;\n",
       "  background-color: var(--sklearn-color-background);\n",
       "  border-radius: 1em;\n",
       "  height: 1em;\n",
       "  width: 1em;\n",
       "  text-decoration: none !important;\n",
       "  margin-left: 1ex;\n",
       "  /* unfitted */\n",
       "  border: var(--sklearn-color-unfitted-level-1) 1pt solid;\n",
       "  color: var(--sklearn-color-unfitted-level-1);\n",
       "}\n",
       "\n",
       ".sk-estimator-doc-link.fitted,\n",
       "a:link.sk-estimator-doc-link.fitted,\n",
       "a:visited.sk-estimator-doc-link.fitted {\n",
       "  /* fitted */\n",
       "  border: var(--sklearn-color-fitted-level-1) 1pt solid;\n",
       "  color: var(--sklearn-color-fitted-level-1);\n",
       "}\n",
       "\n",
       "/* On hover */\n",
       "div.sk-estimator:hover .sk-estimator-doc-link:hover,\n",
       ".sk-estimator-doc-link:hover,\n",
       "div.sk-label-container:hover .sk-estimator-doc-link:hover,\n",
       ".sk-estimator-doc-link:hover {\n",
       "  /* unfitted */\n",
       "  background-color: var(--sklearn-color-unfitted-level-3);\n",
       "  color: var(--sklearn-color-background);\n",
       "  text-decoration: none;\n",
       "}\n",
       "\n",
       "div.sk-estimator.fitted:hover .sk-estimator-doc-link.fitted:hover,\n",
       ".sk-estimator-doc-link.fitted:hover,\n",
       "div.sk-label-container:hover .sk-estimator-doc-link.fitted:hover,\n",
       ".sk-estimator-doc-link.fitted:hover {\n",
       "  /* fitted */\n",
       "  background-color: var(--sklearn-color-fitted-level-3);\n",
       "  color: var(--sklearn-color-background);\n",
       "  text-decoration: none;\n",
       "}\n",
       "\n",
       "/* Span, style for the box shown on hovering the info icon */\n",
       ".sk-estimator-doc-link span {\n",
       "  display: none;\n",
       "  z-index: 9999;\n",
       "  position: relative;\n",
       "  font-weight: normal;\n",
       "  right: .2ex;\n",
       "  padding: .5ex;\n",
       "  margin: .5ex;\n",
       "  width: min-content;\n",
       "  min-width: 20ex;\n",
       "  max-width: 50ex;\n",
       "  color: var(--sklearn-color-text);\n",
       "  box-shadow: 2pt 2pt 4pt #999;\n",
       "  /* unfitted */\n",
       "  background: var(--sklearn-color-unfitted-level-0);\n",
       "  border: .5pt solid var(--sklearn-color-unfitted-level-3);\n",
       "}\n",
       "\n",
       ".sk-estimator-doc-link.fitted span {\n",
       "  /* fitted */\n",
       "  background: var(--sklearn-color-fitted-level-0);\n",
       "  border: var(--sklearn-color-fitted-level-3);\n",
       "}\n",
       "\n",
       ".sk-estimator-doc-link:hover span {\n",
       "  display: block;\n",
       "}\n",
       "\n",
       "/* \"?\"-specific style due to the `<a>` HTML tag */\n",
       "\n",
       "#sk-container-id-1 a.estimator_doc_link {\n",
       "  float: right;\n",
       "  font-size: 1rem;\n",
       "  line-height: 1em;\n",
       "  font-family: monospace;\n",
       "  background-color: var(--sklearn-color-background);\n",
       "  border-radius: 1rem;\n",
       "  height: 1rem;\n",
       "  width: 1rem;\n",
       "  text-decoration: none;\n",
       "  /* unfitted */\n",
       "  color: var(--sklearn-color-unfitted-level-1);\n",
       "  border: var(--sklearn-color-unfitted-level-1) 1pt solid;\n",
       "}\n",
       "\n",
       "#sk-container-id-1 a.estimator_doc_link.fitted {\n",
       "  /* fitted */\n",
       "  border: var(--sklearn-color-fitted-level-1) 1pt solid;\n",
       "  color: var(--sklearn-color-fitted-level-1);\n",
       "}\n",
       "\n",
       "/* On hover */\n",
       "#sk-container-id-1 a.estimator_doc_link:hover {\n",
       "  /* unfitted */\n",
       "  background-color: var(--sklearn-color-unfitted-level-3);\n",
       "  color: var(--sklearn-color-background);\n",
       "  text-decoration: none;\n",
       "}\n",
       "\n",
       "#sk-container-id-1 a.estimator_doc_link.fitted:hover {\n",
       "  /* fitted */\n",
       "  background-color: var(--sklearn-color-fitted-level-3);\n",
       "}\n",
       "</style><div id=\"sk-container-id-1\" class=\"sk-top-container\"><div class=\"sk-text-repr-fallback\"><pre>TfidfVectorizer(max_df=0.5, min_df=5, ngram_range=(1, 3), stop_words=&#x27;english&#x27;,\n",
       "                sublinear_tf=True)</pre><b>In a Jupyter environment, please rerun this cell to show the HTML representation or trust the notebook. <br />On GitHub, the HTML representation is unable to render, please try loading this page with nbviewer.org.</b></div><div class=\"sk-container\" hidden><div class=\"sk-item\"><div class=\"sk-estimator  sk-toggleable\"><input class=\"sk-toggleable__control sk-hidden--visually\" id=\"sk-estimator-id-1\" type=\"checkbox\" checked><label for=\"sk-estimator-id-1\" class=\"sk-toggleable__label  sk-toggleable__label-arrow \">&nbsp;&nbsp;TfidfVectorizer<a class=\"sk-estimator-doc-link \" rel=\"noreferrer\" target=\"_blank\" href=\"https://scikit-learn.org/1.5/modules/generated/sklearn.feature_extraction.text.TfidfVectorizer.html\">?<span>Documentation for TfidfVectorizer</span></a><span class=\"sk-estimator-doc-link \">i<span>Not fitted</span></span></label><div class=\"sk-toggleable__content \"><pre>TfidfVectorizer(max_df=0.5, min_df=5, ngram_range=(1, 3), stop_words=&#x27;english&#x27;,\n",
       "                sublinear_tf=True)</pre></div> </div></div></div></div>"
      ],
      "text/plain": [
       "TfidfVectorizer(max_df=0.5, min_df=5, ngram_range=(1, 3), stop_words='english',\n",
       "                sublinear_tf=True)"
      ]
     },
     "execution_count": 44,
     "metadata": {},
     "output_type": "execute_result"
    }
   ],
   "source": [
    "vectorizer = TfidfVectorizer(sublinear_tf=True, max_df=0.5, min_df=5, stop_words=\"english\", ngram_range=(1,3))\n",
    "vectorizer"
   ]
  },
  {
   "cell_type": "code",
   "execution_count": 45,
   "id": "d3133e56-c4fa-4799-b568-84d0f7a360dc",
   "metadata": {},
   "outputs": [],
   "source": [
    "# Fit tf-idf on train texts\n",
    "X_train = vectorizer.fit_transform(train_texts)\n",
    "X_test  = vectorizer.transform(test_texts)"
   ]
  },
  {
   "cell_type": "code",
   "execution_count": 46,
   "id": "3062c70f-f93e-4340-a28b-2ca0c23a1606",
   "metadata": {},
   "outputs": [
    {
     "name": "stdout",
     "output_type": "stream",
     "text": [
      "Tfidf_train: (40000, 145061)\n",
      "Tfidf_test: (10000, 145061)\n"
     ]
    }
   ],
   "source": [
    "print('Tfidf_train:', X_train.shape)\n",
    "print('Tfidf_test:', X_test.shape)"
   ]
  },
  {
   "cell_type": "code",
   "execution_count": 47,
   "id": "2c14984c-e3a2-4443-b7ba-077bd69e474e",
   "metadata": {},
   "outputs": [
    {
     "data": {
      "text/plain": [
       "array(['_is_', '_the', 'aa', ..., 'zurer', 'zwart', 'zwick'], dtype=object)"
      ]
     },
     "execution_count": 47,
     "metadata": {},
     "output_type": "execute_result"
    }
   ],
   "source": [
    "vectorizer.get_feature_names_out()"
   ]
  },
  {
   "cell_type": "code",
   "execution_count": 48,
   "id": "71d05e0b-6036-41f1-b669-c5bd5c554fb7",
   "metadata": {},
   "outputs": [
    {
     "data": {
      "text/plain": [
       "array([9.80490026, 9.51721819, 9.19876446, ..., 9.80490026, 9.65074958,\n",
       "       9.39943516])"
      ]
     },
     "execution_count": 48,
     "metadata": {},
     "output_type": "execute_result"
    }
   ],
   "source": [
    "vectorizer.idf_"
   ]
  },
  {
   "cell_type": "code",
   "execution_count": 49,
   "id": "e53fa4e7-18be-4e81-91d2-b2fbba7b9ba9",
   "metadata": {},
   "outputs": [],
   "source": [
    "tfidf_dict = dict(zip(vectorizer.get_feature_names_out(), vectorizer.idf_))"
   ]
  },
  {
   "cell_type": "code",
   "execution_count": 50,
   "id": "694655e4-a132-4886-8e2f-776b7b80132e",
   "metadata": {},
   "outputs": [
    {
     "data": {
      "text/plain": [
       "(5.465433243300438, 5.0527478872187865)"
      ]
     },
     "execution_count": 50,
     "metadata": {},
     "output_type": "execute_result"
    }
   ],
   "source": [
    "tfidf_dict['super'], tfidf_dict['trash']"
   ]
  },
  {
   "cell_type": "code",
   "execution_count": 51,
   "id": "61cbe9c2-e8d0-4f7b-88e4-1909e200a889",
   "metadata": {},
   "outputs": [
    {
     "data": {
      "text/plain": [
       "9.804900263555524"
      ]
     },
     "execution_count": 51,
     "metadata": {},
     "output_type": "execute_result"
    }
   ],
   "source": [
    "max_idf = max(vectorizer.idf_)\n",
    "max_idf"
   ]
  },
  {
   "cell_type": "markdown",
   "id": "bdb2b18f-0321-47ed-9126-502c0700f751",
   "metadata": {},
   "source": [
    "### Base line"
   ]
  },
  {
   "cell_type": "markdown",
   "id": "38200bcb-ca36-4e73-aeca-d291d85400f2",
   "metadata": {},
   "source": [
    "Определим функцию для оценки качества модели"
   ]
  },
  {
   "cell_type": "code",
   "execution_count": 54,
   "id": "39ffe4d6-0f6f-4d9c-8216-0a06d2b1fbed",
   "metadata": {},
   "outputs": [],
   "source": [
    "def quality(true_y, prediction_y):\n",
    "    \"\"\"\n",
    "    Evaluates and returns the following metrics: Accuracy, Precision, Recall, F1-score, AUC\n",
    "    \"\"\"\n",
    "    accuracy = round(accuracy_score(true_y, prediction_y), 3)\n",
    "    precision = round(precision_score(true_y, prediction_y), 3)\n",
    "    recall = round(recall_score(true_y, prediction_y), 3)\n",
    "    f1 = round(f1_score(true_y, prediction_y), 3)\n",
    "    auc = round(roc_auc_score(true_y, prediction_y), 3)\n",
    "    print(f\" Accuracy: {accuracy}\")\n",
    "    print(f\"Precision: {precision}\")\n",
    "    print(f\"   Recall: {recall}\")\n",
    "    print(f\" F1-score: {f1}\")\n",
    "    print(f\"      AUC: {auc}\")\n",
    "    return [accuracy, precision, recall, f1, auc]"
   ]
  },
  {
   "cell_type": "code",
   "execution_count": 55,
   "id": "b3ad248d-7824-4aad-98b9-5d1167bfbb9a",
   "metadata": {},
   "outputs": [],
   "source": [
    "# словарь для сохранения значений метрик\n",
    "results = {}"
   ]
  },
  {
   "cell_type": "markdown",
   "id": "f4b5da30-eb5c-4d98-b89e-544e9157ffee",
   "metadata": {},
   "source": [
    "В качестве base line построим модель логистической регрессии пакета sklearn "
   ]
  },
  {
   "cell_type": "code",
   "execution_count": 57,
   "id": "54cd0065-9b2b-4831-9d89-8144ccd55c83",
   "metadata": {},
   "outputs": [
    {
     "name": "stdout",
     "output_type": "stream",
     "text": [
      "LogisticRegression(max_iter=500, random_state=13)\n"
     ]
    }
   ],
   "source": [
    "# инициализируем модель\n",
    "logreg_model=LogisticRegression(penalty='l2', max_iter=500, C=1.0, random_state=13)\n",
    "\n",
    "# обучим модель на tfidf векторах\n",
    "logreg_model.fit(X_train,y_train)\n",
    "print(logreg_model)"
   ]
  },
  {
   "cell_type": "code",
   "execution_count": 58,
   "id": "8702b26e-f7b4-4aaf-801e-8332758c58d0",
   "metadata": {},
   "outputs": [
    {
     "name": "stdout",
     "output_type": "stream",
     "text": [
      "[0 0 1 ... 1 0 0]\n"
     ]
    }
   ],
   "source": [
    "## Получаем результаты предсказаний \n",
    "y_pred=logreg_model.predict(X_test)\n",
    "print(y_pred)"
   ]
  },
  {
   "cell_type": "code",
   "execution_count": 59,
   "id": "6e1c6c2d-25a5-4059-ab66-134952ba8bba",
   "metadata": {},
   "outputs": [
    {
     "name": "stdout",
     "output_type": "stream",
     "text": [
      "              precision    recall  f1-score   support\n",
      "\n",
      "    Negative       0.90      0.88      0.89      5058\n",
      "    Positive       0.88      0.90      0.89      4942\n",
      "\n",
      "    accuracy                           0.89     10000\n",
      "   macro avg       0.89      0.89      0.89     10000\n",
      "weighted avg       0.89      0.89      0.89     10000\n",
      "\n"
     ]
    }
   ],
   "source": [
    "# Classification report\n",
    "logreg_tfidf_report=classification_report(y_test,y_pred,target_names=['Negative','Positive'])\n",
    "print(logreg_tfidf_report)"
   ]
  },
  {
   "cell_type": "code",
   "execution_count": 60,
   "id": "317cb281-c641-44c3-a85b-7915c37bfe8a",
   "metadata": {},
   "outputs": [
    {
     "name": "stdout",
     "output_type": "stream",
     "text": [
      " Accuracy: 0.892\n",
      "Precision: 0.879\n",
      "   Recall: 0.905\n",
      " F1-score: 0.892\n",
      "      AUC: 0.892\n"
     ]
    }
   ],
   "source": [
    "results['LogReg'] = quality(y_test, y_pred)"
   ]
  },
  {
   "cell_type": "code",
   "execution_count": 61,
   "id": "f1232952-c729-4470-8f8e-77a5108d0ec4",
   "metadata": {},
   "outputs": [
    {
     "data": {
      "text/html": [
       "<div>\n",
       "<style scoped>\n",
       "    .dataframe tbody tr th:only-of-type {\n",
       "        vertical-align: middle;\n",
       "    }\n",
       "\n",
       "    .dataframe tbody tr th {\n",
       "        vertical-align: top;\n",
       "    }\n",
       "\n",
       "    .dataframe thead th {\n",
       "        text-align: right;\n",
       "    }\n",
       "</style>\n",
       "<table border=\"1\" class=\"dataframe\">\n",
       "  <thead>\n",
       "    <tr style=\"text-align: right;\">\n",
       "      <th></th>\n",
       "      <th>Accuracy</th>\n",
       "      <th>Precision</th>\n",
       "      <th>Recall</th>\n",
       "      <th>F1-score</th>\n",
       "      <th>AUC</th>\n",
       "    </tr>\n",
       "  </thead>\n",
       "  <tbody>\n",
       "    <tr>\n",
       "      <th>LogReg</th>\n",
       "      <td>0.892</td>\n",
       "      <td>0.879</td>\n",
       "      <td>0.905</td>\n",
       "      <td>0.892</td>\n",
       "      <td>0.892</td>\n",
       "    </tr>\n",
       "  </tbody>\n",
       "</table>\n",
       "</div>"
      ],
      "text/plain": [
       "        Accuracy  Precision  Recall  F1-score    AUC\n",
       "LogReg     0.892      0.879   0.905     0.892  0.892"
      ]
     },
     "execution_count": 61,
     "metadata": {},
     "output_type": "execute_result"
    }
   ],
   "source": [
    "pd.DataFrame(results, index = ['Accuracy', 'Precision', 'Recall', 'F1-score', 'AUC']).T"
   ]
  },
  {
   "cell_type": "markdown",
   "id": "fbe9736b-10e4-47db-becf-7e22b9f1ef76",
   "metadata": {},
   "source": [
    "## Catboost"
   ]
  },
  {
   "cell_type": "markdown",
   "id": "3dccc44f-4270-49d8-9338-b856004812a5",
   "metadata": {},
   "source": [
    "Построим валидационную кривую для количества деревьев"
   ]
  },
  {
   "cell_type": "markdown",
   "id": "d1b63e43-8a75-481f-8d88-26c39bcd73b2",
   "metadata": {},
   "source": [
    "### Catboost number of trees validation curve"
   ]
  },
  {
   "cell_type": "code",
   "execution_count": 65,
   "id": "efa246a2-2f43-4967-a7bd-6f04a8349158",
   "metadata": {},
   "outputs": [
    {
     "name": "stdout",
     "output_type": "stream",
     "text": [
      "n_trees: 1 | AUC Train 0.701846965032976 | AUC Test 0.7082515423275356\n",
      "n_trees: 5 | AUC Train 0.7836076626404428 | AUC Test 0.7873337436285428\n",
      "n_trees: 10 | AUC Train 0.8122021281198976 | AUC Test 0.8140180942747657\n",
      "n_trees: 50 | AUC Train 0.8730396272632653 | AUC Test 0.8512305415816751\n",
      "n_trees: 100 | AUC Train 0.8975298407259605 | AUC Test 0.8568976641496879\n",
      "n_trees: 200 | AUC Train 0.9060488948712059 | AUC Test 0.8666070906501179\n",
      "n_trees: 300 | AUC Train 0.9083308015620409 | AUC Test 0.8676643129099452\n",
      "n_trees: 400 | AUC Train 0.9099298000096182 | AUC Test 0.8669082911796611\n",
      "n_trees: 500 | AUC Train 0.9114276376064322 | AUC Test 0.8669839413591492\n",
      "\n",
      "\n"
     ]
    },
    {
     "data": {
      "image/png": "[encoded data removed]",
      "text/plain": [
       "<Figure size 800x500 with 1 Axes>"
      ]
     },
     "metadata": {},
     "output_type": "display_data"
    }
   ],
   "source": [
    "n_trees = [1, 5, 10, 50, 100, 200, 300, 400, 500]\n",
    "quals_train = []\n",
    "quals_test = []\n",
    "for n in n_trees:\n",
    "    #clf = CatBoostClassifier(iterations=n, task_type=\"GPU\", devices='0', logging_level='Silent', random_state=13)\n",
    "    clf = CatBoostClassifier(iterations=n, logging_level='Silent', random_state=13)\n",
    "    clf.fit(X_train, y_train)\n",
    "    q_train = roc_auc_score(y_train, clf.predict(X_train))\n",
    "    q_test = roc_auc_score(y_test, clf.predict(X_test))\n",
    "\n",
    "    quals_train.append(q_train)\n",
    "    quals_test.append(q_test)\n",
    "    print(f\"n_trees: {n} | AUC Train {q_train} | AUC Test {q_test}\")\n",
    "\n",
    "print('\\n')\n",
    "plt.figure(figsize=(8, 5))\n",
    "plt.plot(n_trees, quals_train, marker='.', label='train')\n",
    "plt.plot(n_trees, quals_test, marker='.', label='test')\n",
    "plt.xlabel('Number of trees')\n",
    "plt.ylabel('AUC-ROC')\n",
    "plt.title('Catboost Number of Trees Validation Curve')\n",
    "plt.legend()\n",
    "\n",
    "plt.show()"
   ]
  },
  {
   "cell_type": "code",
   "execution_count": 66,
   "id": "c5122e0b-28f9-41f5-85a9-405e6e03cdf4",
   "metadata": {},
   "outputs": [
    {
     "data": {
      "text/plain": [
       "[(0.8676643129099452, 300),\n",
       " (0.8669839413591492, 500),\n",
       " (0.8669082911796611, 400),\n",
       " (0.8666070906501179, 200),\n",
       " (0.8568976641496879, 100),\n",
       " (0.8512305415816751, 50),\n",
       " (0.8140180942747657, 10),\n",
       " (0.7873337436285428, 5),\n",
       " (0.7082515423275356, 1)]"
      ]
     },
     "execution_count": 66,
     "metadata": {},
     "output_type": "execute_result"
    }
   ],
   "source": [
    "sorted(list(zip(quals_test, n_trees)), reverse=True)"
   ]
  },
  {
   "cell_type": "markdown",
   "id": "be300149-ad35-4d90-abe7-ca33fb58eabc",
   "metadata": {},
   "source": [
    "Видим, что лучшее значение метрики AUC достигается при 300 деревьях"
   ]
  },
  {
   "cell_type": "markdown",
   "id": "062f2f93-5610-4074-a57e-d64b33c603cd",
   "metadata": {},
   "source": [
    "### CatBoost Learning Rate Validation Curve"
   ]
  },
  {
   "cell_type": "markdown",
   "id": "0bfbf693-f67a-4998-a00b-55df8ee9d3ca",
   "metadata": {},
   "source": [
    "Построим валидационные кривые для параметра learning rate"
   ]
  },
  {
   "cell_type": "code",
   "execution_count": 70,
   "id": "785c986e-b021-4534-8c5b-c2fe5dd92c47",
   "metadata": {},
   "outputs": [
    {
     "data": {
      "image/png": "[encoded data removed]",
      "text/plain": [
       "<Figure size 640x480 with 1 Axes>"
      ]
     },
     "metadata": {},
     "output_type": "display_data"
    },
    {
     "data": {
      "image/png": "[encoded data removed]",
      "text/plain": [
       "<Figure size 640x480 with 1 Axes>"
      ]
     },
     "metadata": {},
     "output_type": "display_data"
    },
    {
     "data": {
      "image/png": "[encoded data removed]",
      "text/plain": [
       "<Figure size 640x480 with 1 Axes>"
      ]
     },
     "metadata": {},
     "output_type": "display_data"
    },
    {
     "data": {
      "image/png": "[encoded data removed]",
      "text/plain": [
       "<Figure size 640x480 with 1 Axes>"
      ]
     },
     "metadata": {},
     "output_type": "display_data"
    },
    {
     "data": {
      "image/png": "[encoded data removed]",
      "text/plain": [
       "<Figure size 640x480 with 1 Axes>"
      ]
     },
     "metadata": {},
     "output_type": "display_data"
    }
   ],
   "source": [
    "n_iterations = 300\n",
    "for learning_rate in [1, 0.5, 0.3, 0.2, 0.1]:\n",
    "\n",
    "    cbt = CatBoostClassifier(iterations=n_iterations, learning_rate=learning_rate, task_type=\"GPU\", devices='0', logging_level='Silent', random_state=13).fit(X_train, y_train)\n",
    "    \n",
    "    test_deviance = np.zeros((n_iterations,), dtype=np.float64)\n",
    "    for i, y_pred in enumerate(cbt.staged_predict(X_test, prediction_type='Class')):\n",
    "        test_deviance[i] = roc_auc_score(y_test, y_pred)\n",
    "    \n",
    "    train_deviance = np.zeros((n_iterations,), dtype=np.float64)\n",
    "    for i, y_pred in enumerate(cbt.staged_predict(X_train, prediction_type='Class', ntree_start=0, ntree_end=i)):\n",
    "        train_deviance[i] = roc_auc_score(y_train, y_pred)\n",
    "\n",
    "    plt.figure()\n",
    "    plt.plot(test_deviance, 'r', linewidth=2)\n",
    "    plt.plot(train_deviance, 'g', linewidth=2)\n",
    "    plt.legend(['test', 'train'])\n",
    "    \n",
    "    plt.title('Catboost lr=%.1f, test roc-auc=%.3f, best_est=%d' % (learning_rate, test_deviance.max(), test_deviance.argmax()+1))\n",
    "    plt.xlabel('Number of trees')\n",
    "    plt.ylabel('Metric')"
   ]
  },
  {
   "cell_type": "markdown",
   "id": "e3a95384-bf11-4527-a920-2e48347a8f95",
   "metadata": {},
   "source": [
    "Запустим модель с лучшим набором параметров lr=0.3, n_estimators=286"
   ]
  },
  {
   "cell_type": "code",
   "execution_count": 72,
   "id": "71c1f2d0-792f-448e-aed8-ba0a497ecbbb",
   "metadata": {},
   "outputs": [],
   "source": [
    "catboost = CatBoostClassifier(iterations=286, learning_rate=0.3, logging_level='Silent', random_state=13)\n",
    "catboost.fit(X_train, y_train)\n",
    "pred = catboost.predict(X_test)"
   ]
  },
  {
   "cell_type": "code",
   "execution_count": 73,
   "id": "584caa55-167c-44f2-8d25-bf4c29228237",
   "metadata": {},
   "outputs": [
    {
     "name": "stdout",
     "output_type": "stream",
     "text": [
      " Accuracy: 0.869\n",
      "Precision: 0.859\n",
      "   Recall: 0.878\n",
      " F1-score: 0.868\n",
      "      AUC: 0.869\n"
     ]
    }
   ],
   "source": [
    "results['CatBoost-VC'] = quality(y_test, pred)"
   ]
  },
  {
   "cell_type": "code",
   "execution_count": 74,
   "id": "b914ae62-bb04-4f99-a68f-cf89176dbc2a",
   "metadata": {},
   "outputs": [
    {
     "data": {
      "text/html": [
       "<div>\n",
       "<style scoped>\n",
       "    .dataframe tbody tr th:only-of-type {\n",
       "        vertical-align: middle;\n",
       "    }\n",
       "\n",
       "    .dataframe tbody tr th {\n",
       "        vertical-align: top;\n",
       "    }\n",
       "\n",
       "    .dataframe thead th {\n",
       "        text-align: right;\n",
       "    }\n",
       "</style>\n",
       "<table border=\"1\" class=\"dataframe\">\n",
       "  <thead>\n",
       "    <tr style=\"text-align: right;\">\n",
       "      <th></th>\n",
       "      <th>Accuracy</th>\n",
       "      <th>Precision</th>\n",
       "      <th>Recall</th>\n",
       "      <th>F1-score</th>\n",
       "      <th>AUC</th>\n",
       "    </tr>\n",
       "  </thead>\n",
       "  <tbody>\n",
       "    <tr>\n",
       "      <th>LogReg</th>\n",
       "      <td>0.892</td>\n",
       "      <td>0.879</td>\n",
       "      <td>0.905</td>\n",
       "      <td>0.892</td>\n",
       "      <td>0.892</td>\n",
       "    </tr>\n",
       "    <tr>\n",
       "      <th>CatBoost-VC</th>\n",
       "      <td>0.869</td>\n",
       "      <td>0.859</td>\n",
       "      <td>0.878</td>\n",
       "      <td>0.868</td>\n",
       "      <td>0.869</td>\n",
       "    </tr>\n",
       "  </tbody>\n",
       "</table>\n",
       "</div>"
      ],
      "text/plain": [
       "             Accuracy  Precision  Recall  F1-score    AUC\n",
       "LogReg          0.892      0.879   0.905     0.892  0.892\n",
       "CatBoost-VC     0.869      0.859   0.878     0.868  0.869"
      ]
     },
     "execution_count": 74,
     "metadata": {},
     "output_type": "execute_result"
    }
   ],
   "source": [
    "pd.DataFrame(results, index = ['Accuracy', 'Precision', 'Recall', 'F1-score', 'AUC']).T"
   ]
  },
  {
   "cell_type": "markdown",
   "id": "f3706bd3-fcbf-4328-9bc2-f24d7df18a31",
   "metadata": {},
   "source": [
    "### CatBoost on GridSearch"
   ]
  },
  {
   "cell_type": "code",
   "execution_count": 76,
   "id": "6eb9d19d-fe6e-4f95-ae0f-32cd4ca3c270",
   "metadata": {},
   "outputs": [
    {
     "name": "stdout",
     "output_type": "stream",
     "text": [
      "CPU times: user 14h 26min, sys: 31min 6s, total: 14h 57min 6s\n",
      "Wall time: 40min 2s\n"
     ]
    },
    {
     "data": {
      "text/plain": [
       "{'learning_rate': 0.2, 'max_depth': 5, 'n_estimators': 300}"
      ]
     },
     "execution_count": 76,
     "metadata": {},
     "output_type": "execute_result"
    }
   ],
   "source": [
    "%%time\n",
    "# Define Gradient Boosting classifier with default parameters\n",
    "clf = CatBoostClassifier(task_type=\"GPU\", devices='0', logging_level='Silent', random_state=13)\n",
    "\n",
    "# Define GridSearch parameters\n",
    "parameters = {'n_estimators':[200, 300],\n",
    "              'max_depth':[1,3,5],\n",
    "              'learning_rate':[0.5,0.3,0.2,0.1]\n",
    "             }\n",
    "\n",
    "# Estimate grid of the classifier hyperparameters\n",
    "gs = GridSearchCV(clf,                 # Classifier object to optimize\n",
    "                  parameters,          # Grid of the hyperparameters\n",
    "                  scoring='roc_auc',   # Classification quality metric to optimize\n",
    "                  cv=3                 # Number of folds in KFolds cross-validation (CV)\n",
    "                 )\n",
    "\n",
    "# Run Grid Search optimization\n",
    "gs.fit(X_train, y_train)\n",
    "gs.best_params_"
   ]
  },
  {
   "cell_type": "code",
   "execution_count": 77,
   "id": "0723306b-9851-4ca2-9128-d0972bf425f7",
   "metadata": {},
   "outputs": [],
   "source": [
    "pred_gs = gs.predict(X_test)"
   ]
  },
  {
   "cell_type": "code",
   "execution_count": 78,
   "id": "00906a20-22d8-40ae-a98d-1e13593c6c56",
   "metadata": {},
   "outputs": [
    {
     "name": "stdout",
     "output_type": "stream",
     "text": [
      " Accuracy: 0.861\n",
      "Precision: 0.844\n",
      "   Recall: 0.883\n",
      " F1-score: 0.863\n",
      "      AUC: 0.862\n"
     ]
    }
   ],
   "source": [
    "results['CatBoost-GS'] = quality(y_test, pred_gs)"
   ]
  },
  {
   "cell_type": "code",
   "execution_count": 79,
   "id": "a72f4d49-508c-407c-943e-3f098d22e954",
   "metadata": {},
   "outputs": [
    {
     "data": {
      "text/html": [
       "<div>\n",
       "<style scoped>\n",
       "    .dataframe tbody tr th:only-of-type {\n",
       "        vertical-align: middle;\n",
       "    }\n",
       "\n",
       "    .dataframe tbody tr th {\n",
       "        vertical-align: top;\n",
       "    }\n",
       "\n",
       "    .dataframe thead th {\n",
       "        text-align: right;\n",
       "    }\n",
       "</style>\n",
       "<table border=\"1\" class=\"dataframe\">\n",
       "  <thead>\n",
       "    <tr style=\"text-align: right;\">\n",
       "      <th></th>\n",
       "      <th>Accuracy</th>\n",
       "      <th>Precision</th>\n",
       "      <th>Recall</th>\n",
       "      <th>F1-score</th>\n",
       "      <th>AUC</th>\n",
       "    </tr>\n",
       "  </thead>\n",
       "  <tbody>\n",
       "    <tr>\n",
       "      <th>LogReg</th>\n",
       "      <td>0.892</td>\n",
       "      <td>0.879</td>\n",
       "      <td>0.905</td>\n",
       "      <td>0.892</td>\n",
       "      <td>0.892</td>\n",
       "    </tr>\n",
       "    <tr>\n",
       "      <th>CatBoost-VC</th>\n",
       "      <td>0.869</td>\n",
       "      <td>0.859</td>\n",
       "      <td>0.878</td>\n",
       "      <td>0.868</td>\n",
       "      <td>0.869</td>\n",
       "    </tr>\n",
       "    <tr>\n",
       "      <th>CatBoost-GS</th>\n",
       "      <td>0.861</td>\n",
       "      <td>0.844</td>\n",
       "      <td>0.883</td>\n",
       "      <td>0.863</td>\n",
       "      <td>0.862</td>\n",
       "    </tr>\n",
       "  </tbody>\n",
       "</table>\n",
       "</div>"
      ],
      "text/plain": [
       "             Accuracy  Precision  Recall  F1-score    AUC\n",
       "LogReg          0.892      0.879   0.905     0.892  0.892\n",
       "CatBoost-VC     0.869      0.859   0.878     0.868  0.869\n",
       "CatBoost-GS     0.861      0.844   0.883     0.863  0.862"
      ]
     },
     "execution_count": 79,
     "metadata": {},
     "output_type": "execute_result"
    }
   ],
   "source": [
    "pd.DataFrame(results, index = ['Accuracy', 'Precision', 'Recall', 'F1-score', 'AUC']).T"
   ]
  },
  {
   "cell_type": "code",
   "execution_count": null,
   "id": "a533939c-89b9-4566-99eb-b8d033cb49f8",
   "metadata": {},
   "outputs": [],
   "source": []
  },
  {
   "cell_type": "markdown",
   "id": "abf9e530-47e0-47d8-aa08-35e21369d076",
   "metadata": {},
   "source": [
    "## Word2Vec"
   ]
  },
  {
   "cell_type": "code",
   "execution_count": 81,
   "id": "bf3190c6-10de-407e-bd79-b03828d67f2a",
   "metadata": {},
   "outputs": [],
   "source": [
    "# Load Google's pre-trained Word2Vec model.\n",
    "w2v_model = gensim.models.KeyedVectors.load_word2vec_format('./data/GoogleNews-vectors-negative300.bin', binary=True)"
   ]
  },
  {
   "cell_type": "code",
   "execution_count": 82,
   "id": "e6e0b9ca-e1fe-418b-a793-0990ef1ebd0c",
   "metadata": {},
   "outputs": [
    {
     "data": {
      "text/plain": [
       "300"
      ]
     },
     "execution_count": 82,
     "metadata": {},
     "output_type": "execute_result"
    }
   ],
   "source": [
    "w2v_model.vector_size"
   ]
  },
  {
   "cell_type": "code",
   "execution_count": 83,
   "id": "17115b66-93c3-429b-93ba-9fa6985b0df2",
   "metadata": {},
   "outputs": [
    {
     "data": {
      "text/plain": [
       "[('omnipresent', 0.7231091856956482),\n",
       " ('ubiquity', 0.6775019764900208),\n",
       " ('ubiquitious', 0.608471691608429),\n",
       " ('omnipresence', 0.5932484865188599),\n",
       " ('commonplace', 0.5638182163238525),\n",
       " ('de_rigueur', 0.5580129623413086),\n",
       " ('pervasive', 0.5519276261329651),\n",
       " ('passé', 0.5518507361412048),\n",
       " ('ubiquitously', 0.5300421118736267),\n",
       " ('ubiquitousness', 0.5208093523979187)]"
      ]
     },
     "execution_count": 83,
     "metadata": {},
     "output_type": "execute_result"
    }
   ],
   "source": [
    "w2v_model.most_similar('ubiquitous')"
   ]
  },
  {
   "cell_type": "code",
   "execution_count": 84,
   "id": "1baadb1d-49f3-4a23-aeea-eca3730c5c35",
   "metadata": {},
   "outputs": [
    {
     "name": "stdout",
     "output_type": "stream",
     "text": [
      "Shape : (3000000, 300)\n",
      "Total vocabulary counts : 3000000\n"
     ]
    }
   ],
   "source": [
    "#Inspect the model\n",
    "print('Shape :',w2v_model.vectors.shape)\n",
    "word2vec_vocab = w2v_model.index_to_key \n",
    "word2vec_vocab_lower = [item.lower() for item in word2vec_vocab]\n",
    "print('Total vocabulary counts :',len(word2vec_vocab))"
   ]
  },
  {
   "cell_type": "code",
   "execution_count": 85,
   "id": "07593439-8adf-4369-a768-ce658dfacd1a",
   "metadata": {},
   "outputs": [
    {
     "data": {
      "text/plain": [
       "list"
      ]
     },
     "execution_count": 85,
     "metadata": {},
     "output_type": "execute_result"
    }
   ],
   "source": [
    "type(word2vec_vocab)"
   ]
  },
  {
   "cell_type": "code",
   "execution_count": 86,
   "id": "cdc1ab66-8f9c-41f7-b2e0-9f0737dac28a",
   "metadata": {},
   "outputs": [
    {
     "data": {
      "text/plain": [
       "('one review mention watch oz episod youll hook right exact happen mebr br first thing struck oz brutal unflinch scene violenc set right word go trust show faint heart timid show pull punch regard drug sex violenc hardcor classic use wordbr br call oz nicknam given oswald maximum secur state penitentari focus main emerald citi experiment section prison cell glass front face inward privaci high agenda em citi home manyaryan muslim gangsta latino christian italian irish moreso scuffl death stare dodgi deal shadi agreement never far awaybr br would say main appeal show due fact goe show wouldnt dare forget pretti pictur paint mainstream audienc forget charm forget romanceoz doesnt mess around first episod ever saw struck nasti surreal couldnt say readi watch develop tast oz got accustom high level graphic violenc violenc injustic crook guard wholl sold nickel inmat wholl kill order get away well manner middl class inmat turn prison bitch due lack street skill prison experi watch oz may becom comfort uncomfort viewingthat get touch darker side',\n",
       " 1)"
      ]
     },
     "execution_count": 86,
     "metadata": {},
     "output_type": "execute_result"
    }
   ],
   "source": [
    "# our original data structures: data = review texts; labels = sentiments\n",
    "data[0], labels[0]"
   ]
  },
  {
   "cell_type": "code",
   "execution_count": 87,
   "id": "d268830a-346d-4b7d-8045-f921251ecb87",
   "metadata": {},
   "outputs": [
    {
     "data": {
      "text/plain": [
       "((50000,), (50000,))"
      ]
     },
     "execution_count": 87,
     "metadata": {},
     "output_type": "execute_result"
    }
   ],
   "source": [
    "data.shape, labels.shape"
   ]
  },
  {
   "cell_type": "markdown",
   "id": "0ab44ea6-8866-4a80-b671-f0be102bbab4",
   "metadata": {},
   "source": [
    "### Text Preprocessing"
   ]
  },
  {
   "cell_type": "markdown",
   "id": "fd56559a-ddbd-4146-8343-3666b2b674e4",
   "metadata": {},
   "source": [
    "Word2Vec строит эмбеддинги для отдельных слов (не предложений), соответственно, поскольку основная предбработка текстов у нас уже была выполнена, нам остается разделить обзоры на отдельные слова "
   ]
  },
  {
   "cell_type": "code",
   "execution_count": 90,
   "id": "cee988de-7f7a-4847-838f-d5dfc5e88b38",
   "metadata": {},
   "outputs": [],
   "source": [
    "#preprocess the text\n",
    "def preprocess_corpus(texts):\n",
    "    \n",
    "    tokenized = []\n",
    "    for text in texts:\n",
    "        tokens = word_tokenize(text)\n",
    "\n",
    "        # Remove punctuation and digit and make word in lowercase\n",
    "        # lower = [token.lower() for token in tokens if token not in punctuation and not token.isdigit()]\n",
    "\n",
    "        # Remove stopwords\n",
    "        # Stopwords = set(stopwords.words(\"english\"))\n",
    "        # words = [token for token in lower if token not in Stopwords]\n",
    "        tokenized.append(tokens)\n",
    "    \n",
    "    return tokenized"
   ]
  },
  {
   "cell_type": "code",
   "execution_count": 91,
   "id": "7b923f16-2e1e-405a-89f7-d2b41cb25637",
   "metadata": {},
   "outputs": [],
   "source": [
    "texts_processed = preprocess_corpus(data)"
   ]
  },
  {
   "cell_type": "code",
   "execution_count": 92,
   "id": "53777a66-e1e9-410d-8dba-e34b96c5c8c4",
   "metadata": {},
   "outputs": [
    {
     "name": "stdout",
     "output_type": "stream",
     "text": [
      "Original Texts : one review mention watch oz episod youll hook right exact happen mebr br first thing struck oz brutal unflinch scene violenc set right word go trust show faint heart timid show pull punch regard drug sex violenc hardcor classic use wordbr br call oz nicknam given oswald maximum secur state penitentari focus main emerald citi experiment section prison cell glass front face inward privaci high agenda em citi home manyaryan muslim gangsta latino christian italian irish moreso scuffl death stare dodgi deal shadi agreement never far awaybr br would say main appeal show due fact goe show wouldnt dare forget pretti pictur paint mainstream audienc forget charm forget romanceoz doesnt mess around first episod ever saw struck nasti surreal couldnt say readi watch develop tast oz got accustom high level graphic violenc violenc injustic crook guard wholl sold nickel inmat wholl kill order get away well manner middl class inmat turn prison bitch due lack street skill prison experi watch oz may becom comfort uncomfort viewingthat get touch darker side \n",
      "\n",
      "Processed Texts : ['one', 'review', 'mention', 'watch', 'oz', 'episod', 'youll', 'hook', 'right', 'exact', 'happen', 'mebr', 'br', 'first', 'thing', 'struck', 'oz', 'brutal', 'unflinch', 'scene', 'violenc', 'set', 'right', 'word', 'go', 'trust', 'show', 'faint', 'heart', 'timid', 'show', 'pull', 'punch', 'regard', 'drug', 'sex', 'violenc', 'hardcor', 'classic', 'use', 'wordbr', 'br', 'call', 'oz', 'nicknam', 'given', 'oswald', 'maximum', 'secur', 'state', 'penitentari', 'focus', 'main', 'emerald', 'citi', 'experiment', 'section', 'prison', 'cell', 'glass', 'front', 'face', 'inward', 'privaci', 'high', 'agenda', 'em', 'citi', 'home', 'manyaryan', 'muslim', 'gangsta', 'latino', 'christian', 'italian', 'irish', 'moreso', 'scuffl', 'death', 'stare', 'dodgi', 'deal', 'shadi', 'agreement', 'never', 'far', 'awaybr', 'br', 'would', 'say', 'main', 'appeal', 'show', 'due', 'fact', 'goe', 'show', 'wouldnt', 'dare', 'forget', 'pretti', 'pictur', 'paint', 'mainstream', 'audienc', 'forget', 'charm', 'forget', 'romanceoz', 'doesnt', 'mess', 'around', 'first', 'episod', 'ever', 'saw', 'struck', 'nasti', 'surreal', 'couldnt', 'say', 'readi', 'watch', 'develop', 'tast', 'oz', 'got', 'accustom', 'high', 'level', 'graphic', 'violenc', 'violenc', 'injustic', 'crook', 'guard', 'wholl', 'sold', 'nickel', 'inmat', 'wholl', 'kill', 'order', 'get', 'away', 'well', 'manner', 'middl', 'class', 'inmat', 'turn', 'prison', 'bitch', 'due', 'lack', 'street', 'skill', 'prison', 'experi', 'watch', 'oz', 'may', 'becom', 'comfort', 'uncomfort', 'viewingthat', 'get', 'touch', 'darker', 'side'] \n",
      "\n",
      "Sentiment : 1\n"
     ]
    }
   ],
   "source": [
    "print('Original Texts :',data[0], '\\n')\n",
    "print('Processed Texts :',texts_processed[0], '\\n')\n",
    "print('Sentiment :',labels[0])"
   ]
  },
  {
   "cell_type": "markdown",
   "id": "55fb8032-c01f-4a45-a326-4f0835e420f0",
   "metadata": {},
   "source": [
    "### Embeddings and Feature vector"
   ]
  },
  {
   "cell_type": "code",
   "execution_count": 94,
   "id": "c3332a16-e079-4772-b967-e78a7cd6eda6",
   "metadata": {},
   "outputs": [
    {
     "name": "stdout",
     "output_type": "stream",
     "text": [
      "one --> 45\n",
      "review --> 1081\n",
      "mention --> 3420\n",
      "watch --> 1228\n",
      "oz --> 18243\n",
      "episod\n",
      "youll --> 180624\n",
      "hook --> 7390\n",
      "right --> 168\n",
      "exact --> 5221\n"
     ]
    }
   ],
   "source": [
    "w2v_model.key_to_index\n",
    "for word in texts_processed[0][:10]:\n",
    "    try:\n",
    "        # word = word.lower()\n",
    "        embeddings = w2v_model.key_to_index[word]\n",
    "        print(word,'-->',embeddings)\n",
    "    except:\n",
    "        print(word)"
   ]
  },
  {
   "cell_type": "code",
   "execution_count": 95,
   "id": "42f0c82b-cd0e-4ea1-a325-6e183d7b4bb5",
   "metadata": {},
   "outputs": [
    {
     "name": "stdout",
     "output_type": "stream",
     "text": [
      "one\n",
      "review --> 3.695282378990963\n",
      "mention --> 3.9474434129629454\n",
      "watch --> 2.0206351227110764\n",
      "oz --> 6.633815102523672\n",
      "episod --> 3.945064158925978\n",
      "youll --> 4.069403813409794\n",
      "hook --> 5.525922004781089\n",
      "right --> 3.1632830274604515\n",
      "exact --> 4.166545594221778\n",
      "happen --> 3.182163939605684\n",
      "mebr --> 5.7133373442953\n",
      "br\n",
      "first\n",
      "thing --> 2.4385604726530863\n",
      "struck --> 6.21216466999449\n",
      "oz --> 6.633815102523672\n",
      "brutal --> 5.122769036431304\n",
      "unflinch --> 8.100152171317099\n",
      "scene --> 2.360651614058818\n"
     ]
    }
   ],
   "source": [
    "for word in texts_processed[0][:20]:\n",
    "    try:\n",
    "        # word = word.lower()\n",
    "        tfidf_weight = tfidf_dict[word]\n",
    "        print(word,'-->',tfidf_weight)\n",
    "    except:\n",
    "        print(word)"
   ]
  },
  {
   "cell_type": "code",
   "execution_count": 96,
   "id": "47a3efdc-b19e-411c-b46f-5f6f308ad3ca",
   "metadata": {},
   "outputs": [
    {
     "data": {
      "text/plain": [
       "(300,)"
      ]
     },
     "execution_count": 96,
     "metadata": {},
     "output_type": "execute_result"
    }
   ],
   "source": [
    "token = 'review'\n",
    "w2v_model[token].shape"
   ]
  },
  {
   "cell_type": "code",
   "execution_count": 97,
   "id": "75c09307-7201-45f0-a05f-5b77682457bd",
   "metadata": {},
   "outputs": [],
   "source": [
    "# Creating a feature vector by averaging all embeddings for all sentences\n",
    "def features_embeddings(list_of_lists):\n",
    "    \n",
    "    # feature vector column length \n",
    "    DIMENSION = w2v_model.vector_size\n",
    "    \n",
    "    # Zero vector if words not in our w2v_model vocubulary\n",
    "    zero_vector = np.zeros(DIMENSION)\n",
    "    \n",
    "    features = []\n",
    "    \n",
    "    # feature vector for each sentence in list_of_lists one by one\n",
    "    for tokens in list_of_lists:\n",
    "        \n",
    "        # feature vector for a single sentence\n",
    "        feature =  np.zeros(DIMENSION) # shape = 1X DIMENSION\n",
    "        \n",
    "        # count for each token/word in a tokens or sentence\n",
    "        feature_counts = 0 + 1e-5   # to avoid divide-by-zero \n",
    "        for token in tokens:\n",
    "            if token in w2v_model:\n",
    "                # Getting TF-IDF weights from dictionary\n",
    "                # if a word was never seen - it must be at least as infrequent as any of the known words \n",
    "                # so the default idf is the max of known idf's\n",
    "                try:\n",
    "                    tfidf_weight = tfidf_dict[token]\n",
    "                except:\n",
    "                    tfidf_weight = max_idf\n",
    "                 # Here both feature and w2v_model[token] are of same shape : 1X DIMENSION\n",
    "                feature += w2v_model[token] * tfidf_weight\n",
    "                feature_counts +=1    # Count increases for each token in a tokens\n",
    "         \n",
    "        # Average the feature values for each tokens\n",
    "        if(feature_counts !=0 ):        # for non empty tokens\n",
    "            features.append(feature/feature_counts) \n",
    "        else:                           # for empty tokens\n",
    "            features.append(zero_vector)\n",
    "            \n",
    "    return features"
   ]
  },
  {
   "cell_type": "code",
   "execution_count": 98,
   "id": "43060fa0-b8af-4f85-a055-7c3cff3ef1d4",
   "metadata": {},
   "outputs": [
    {
     "name": "stdout",
     "output_type": "stream",
     "text": [
      "50000\n"
     ]
    },
    {
     "data": {
      "text/plain": [
       "(300,)"
      ]
     },
     "execution_count": 98,
     "metadata": {},
     "output_type": "execute_result"
    }
   ],
   "source": [
    "train_vectors = features_embeddings(texts_processed)\n",
    "print(len(train_vectors))\n",
    "train_vectors[2999].shape"
   ]
  },
  {
   "cell_type": "markdown",
   "id": "344e0e04-a562-4868-a072-2e2ed2413c38",
   "metadata": {},
   "source": [
    "## Build Classification Model"
   ]
  },
  {
   "cell_type": "code",
   "execution_count": 100,
   "id": "b830dee4-b278-4257-821b-be8d28bd5377",
   "metadata": {},
   "outputs": [
    {
     "data": {
      "text/plain": [
       "(40000, 10000, 40000, 10000)"
      ]
     },
     "execution_count": 100,
     "metadata": {},
     "output_type": "execute_result"
    }
   ],
   "source": [
    "# Split train and test data\n",
    "X_train2, X_test2, y_train2, y_test2 = train_test_split(train_vectors, labels, test_size = 0.2,  random_state=13)\n",
    "len(X_train2), len(X_test2), len(y_train2), len(y_test2)"
   ]
  },
  {
   "cell_type": "markdown",
   "id": "5cb382b3-f79f-455d-a4ab-f4102dc04a8f",
   "metadata": {},
   "source": [
    "### Logistic Regression"
   ]
  },
  {
   "cell_type": "code",
   "execution_count": 102,
   "id": "823b1be2-f732-4ab6-a106-f798f9d8132b",
   "metadata": {},
   "outputs": [
    {
     "name": "stdout",
     "output_type": "stream",
     "text": [
      "              precision    recall  f1-score   support\n",
      "\n",
      "    Positive       0.80      0.80      0.80      5048\n",
      "    Negative       0.80      0.80      0.80      4952\n",
      "\n",
      "    accuracy                           0.80     10000\n",
      "   macro avg       0.80      0.80      0.80     10000\n",
      "weighted avg       0.80      0.80      0.80     10000\n",
      "\n"
     ]
    }
   ],
   "source": [
    "# logreg_model = LogisticRegression(penalty='l2', max_iter=500, C=1.0, random_state=13)\n",
    "LogReg_model_w2v = LogisticRegression(random_state=13) \n",
    "LogReg_model_w2v.fit(X_train2, y_train2) # train the model(timing it with an IPython \"magic command\")\n",
    "\n",
    "y_pred2 = LogReg_model_w2v.predict(X_test2) \n",
    "print(classification_report(y_pred2, y_test2, target_names = ['Positive','Negative']))"
   ]
  },
  {
   "cell_type": "code",
   "execution_count": 103,
   "id": "240e4f1e-15cf-47d3-922d-cc858b971850",
   "metadata": {},
   "outputs": [
    {
     "name": "stdout",
     "output_type": "stream",
     "text": [
      " Accuracy: 0.798\n",
      "Precision: 0.795\n",
      "   Recall: 0.797\n",
      " F1-score: 0.796\n",
      "      AUC: 0.798\n"
     ]
    }
   ],
   "source": [
    "results['LogReg-W2V'] = quality(y_test2, y_pred2)"
   ]
  },
  {
   "cell_type": "code",
   "execution_count": 104,
   "id": "53c57cf8-93f2-4f59-85ae-6d8db00cd6d9",
   "metadata": {},
   "outputs": [
    {
     "data": {
      "text/html": [
       "<div>\n",
       "<style scoped>\n",
       "    .dataframe tbody tr th:only-of-type {\n",
       "        vertical-align: middle;\n",
       "    }\n",
       "\n",
       "    .dataframe tbody tr th {\n",
       "        vertical-align: top;\n",
       "    }\n",
       "\n",
       "    .dataframe thead th {\n",
       "        text-align: right;\n",
       "    }\n",
       "</style>\n",
       "<table border=\"1\" class=\"dataframe\">\n",
       "  <thead>\n",
       "    <tr style=\"text-align: right;\">\n",
       "      <th></th>\n",
       "      <th>Accuracy</th>\n",
       "      <th>Precision</th>\n",
       "      <th>Recall</th>\n",
       "      <th>F1-score</th>\n",
       "      <th>AUC</th>\n",
       "    </tr>\n",
       "  </thead>\n",
       "  <tbody>\n",
       "    <tr>\n",
       "      <th>LogReg</th>\n",
       "      <td>0.892</td>\n",
       "      <td>0.879</td>\n",
       "      <td>0.905</td>\n",
       "      <td>0.892</td>\n",
       "      <td>0.892</td>\n",
       "    </tr>\n",
       "    <tr>\n",
       "      <th>CatBoost-VC</th>\n",
       "      <td>0.869</td>\n",
       "      <td>0.859</td>\n",
       "      <td>0.878</td>\n",
       "      <td>0.868</td>\n",
       "      <td>0.869</td>\n",
       "    </tr>\n",
       "    <tr>\n",
       "      <th>CatBoost-GS</th>\n",
       "      <td>0.861</td>\n",
       "      <td>0.844</td>\n",
       "      <td>0.883</td>\n",
       "      <td>0.863</td>\n",
       "      <td>0.862</td>\n",
       "    </tr>\n",
       "    <tr>\n",
       "      <th>LogReg-W2V</th>\n",
       "      <td>0.798</td>\n",
       "      <td>0.795</td>\n",
       "      <td>0.797</td>\n",
       "      <td>0.796</td>\n",
       "      <td>0.798</td>\n",
       "    </tr>\n",
       "  </tbody>\n",
       "</table>\n",
       "</div>"
      ],
      "text/plain": [
       "             Accuracy  Precision  Recall  F1-score    AUC\n",
       "LogReg          0.892      0.879   0.905     0.892  0.892\n",
       "CatBoost-VC     0.869      0.859   0.878     0.868  0.869\n",
       "CatBoost-GS     0.861      0.844   0.883     0.863  0.862\n",
       "LogReg-W2V      0.798      0.795   0.797     0.796  0.798"
      ]
     },
     "execution_count": 104,
     "metadata": {},
     "output_type": "execute_result"
    }
   ],
   "source": [
    "pd.DataFrame(results, index = ['Accuracy', 'Precision', 'Recall', 'F1-score', 'AUC']).T"
   ]
  },
  {
   "cell_type": "markdown",
   "id": "f390d932-51fb-492c-872d-ebce4fb5b833",
   "metadata": {},
   "source": [
    "### Catboost Number of Trees Validation Curve"
   ]
  },
  {
   "cell_type": "code",
   "execution_count": 106,
   "id": "3a2cb015-6d15-4e57-94a7-9523f1e884b9",
   "metadata": {},
   "outputs": [
    {
     "name": "stdout",
     "output_type": "stream",
     "text": [
      "n_trees: 1 | AUC Train 0.6612066582479958 | AUC Test 0.657027129570555\n",
      "n_trees: 5 | AUC Train 0.7239997088375513 | AUC Test 0.7175666357665088\n",
      "n_trees: 10 | AUC Train 0.7487032515943459 | AUC Test 0.7372982908580179\n",
      "n_trees: 50 | AUC Train 0.816275702378657 | AUC Test 0.7615632759544125\n",
      "n_trees: 100 | AUC Train 0.858668518902244 | AUC Test 0.7695898760137164\n",
      "n_trees: 200 | AUC Train 0.8731209604472774 | AUC Test 0.7791062365351882\n",
      "n_trees: 300 | AUC Train 0.8814494379897736 | AUC Test 0.779968072503836\n",
      "n_trees: 400 | AUC Train 0.8839981544244787 | AUC Test 0.7849186186493254\n",
      "n_trees: 500 | AUC Train 0.8870484700776333 | AUC Test 0.7839662905040504\n",
      "n_trees: 600 | AUC Train 0.88989979905731 | AUC Test 0.7859233938518766\n",
      "n_trees: 700 | AUC Train 0.8915235802133096 | AUC Test 0.7870154207950222\n",
      "n_trees: 800 | AUC Train 0.8933950434523155 | AUC Test 0.7851826941833293\n",
      "n_trees: 900 | AUC Train 0.893174754099682 | AUC Test 0.7880726430548494\n",
      "n_trees: 1000 | AUC Train 0.895374917603057 | AUC Test 0.7871073131600589\n",
      "\n",
      "\n"
     ]
    },
    {
     "data": {
      "image/png": "[encoded data removed]",
      "text/plain": [
       "<Figure size 800x500 with 1 Axes>"
      ]
     },
     "metadata": {},
     "output_type": "display_data"
    }
   ],
   "source": [
    "n_trees = [1, 5, 10, 50, 100, 200, 300, 400, 500, 600, 700, 800, 900, 1000]\n",
    "quals_train = []\n",
    "quals_test = []\n",
    "for n in n_trees:\n",
    "    # clf = CatBoostClassifier(iterations=n, task_type=\"GPU\", devices='0', logging_level='Silent', random_state=13)\n",
    "    clf = CatBoostClassifier(iterations=n, logging_level='Silent', random_state=13)\n",
    "    clf.fit(X_train2, y_train2)\n",
    "    q_train = roc_auc_score(y_train2, clf.predict(X_train2))\n",
    "    q_test = roc_auc_score(y_test2, clf.predict(X_test2))\n",
    "\n",
    "    quals_train.append(q_train)\n",
    "    quals_test.append(q_test)\n",
    "    print(f\"n_trees: {n} | AUC Train {q_train} | AUC Test {q_test}\")\n",
    "\n",
    "print('\\n')\n",
    "plt.figure(figsize=(8, 5))\n",
    "plt.plot(n_trees, quals_train, marker='.', label='train')\n",
    "plt.plot(n_trees, quals_test, marker='.', label='test')\n",
    "plt.xlabel('Number of trees')\n",
    "plt.ylabel('AUC-ROC')\n",
    "plt.title('Catboost Number of Trees Validation Curve')\n",
    "plt.legend()\n",
    "\n",
    "plt.show()"
   ]
  },
  {
   "cell_type": "code",
   "execution_count": 107,
   "id": "112048a4-4b30-42c7-b823-e920dbcfc8b2",
   "metadata": {},
   "outputs": [
    {
     "data": {
      "text/plain": [
       "[(0.7880726430548494, 900),\n",
       " (0.7871073131600589, 1000),\n",
       " (0.7870154207950222, 700),\n",
       " (0.7859233938518766, 600),\n",
       " (0.7851826941833293, 800),\n",
       " (0.7849186186493254, 400),\n",
       " (0.7839662905040504, 500),\n",
       " (0.779968072503836, 300),\n",
       " (0.7791062365351882, 200),\n",
       " (0.7695898760137164, 100),\n",
       " (0.7615632759544125, 50),\n",
       " (0.7372982908580179, 10),\n",
       " (0.7175666357665088, 5),\n",
       " (0.657027129570555, 1)]"
      ]
     },
     "execution_count": 107,
     "metadata": {},
     "output_type": "execute_result"
    }
   ],
   "source": [
    "sorted(list(zip(quals_test, n_trees)), reverse=True)"
   ]
  },
  {
   "cell_type": "markdown",
   "id": "f7e9ee9e-2f53-4cb6-8783-ed97693a466a",
   "metadata": {},
   "source": [
    "### Catboost Learning Rate Validation Curve"
   ]
  },
  {
   "cell_type": "code",
   "execution_count": 109,
   "id": "027317f8-45d0-4a20-af19-ef1527847355",
   "metadata": {},
   "outputs": [
    {
     "data": {
      "image/png": "[encoded data removed]",
      "text/plain": [
       "<Figure size 640x480 with 1 Axes>"
      ]
     },
     "metadata": {},
     "output_type": "display_data"
    },
    {
     "data": {
      "image/png": "[encoded data removed]",
      "text/plain": [
       "<Figure size 640x480 with 1 Axes>"
      ]
     },
     "metadata": {},
     "output_type": "display_data"
    },
    {
     "data": {
      "image/png": "[encoded data removed]",
      "text/plain": [
       "<Figure size 640x480 with 1 Axes>"
      ]
     },
     "metadata": {},
     "output_type": "display_data"
    },
    {
     "data": {
      "image/png": "[encoded data removed]",
      "text/plain": [
       "<Figure size 640x480 with 1 Axes>"
      ]
     },
     "metadata": {},
     "output_type": "display_data"
    },
    {
     "data": {
      "image/png": "[encoded data removed]",
      "text/plain": [
       "<Figure size 640x480 with 1 Axes>"
      ]
     },
     "metadata": {},
     "output_type": "display_data"
    }
   ],
   "source": [
    "n_iterations = 900\n",
    "for learning_rate in [1, 0.5, 0.3, 0.2, 0.1]:\n",
    "\n",
    "    # cbt = CatBoostClassifier(iterations=n_iterations, learning_rate=learning_rate, task_type=\"GPU\", devices='0', logging_level='Silent', random_state=13).fit(X_train, y_train)\n",
    "    cbt = CatBoostClassifier(iterations=n_iterations, learning_rate=learning_rate, logging_level='Silent', random_state=13)\n",
    "    cbt.fit(X_train2, y_train2)\n",
    "    \n",
    "    test_deviance = np.zeros((n_iterations,), dtype=np.float64)\n",
    "    for i, y_pred in enumerate(cbt.staged_predict(X_test2, prediction_type='Class', ntree_start=0)):\n",
    "        test_deviance[i] = roc_auc_score(y_test2, y_pred)\n",
    "    \n",
    "    train_deviance = np.zeros((n_iterations,), dtype=np.float64)\n",
    "    for i, y_pred in enumerate(cbt.staged_predict(X_train2, prediction_type='Class', ntree_start=0, ntree_end=i)):\n",
    "        train_deviance[i] = roc_auc_score(y_train2, y_pred)\n",
    "\n",
    "    plt.figure()\n",
    "    plt.plot(test_deviance, 'r', linewidth=2)\n",
    "    plt.plot(train_deviance, 'g', linewidth=2)\n",
    "    plt.legend(['test', 'train'])\n",
    "    \n",
    "    plt.title('Catboost lr=%.1f, test roc-auc=%.3f, best_est=%d' % (learning_rate, test_deviance.max(), test_deviance.argmax()+1))\n",
    "    plt.xlabel('Number of trees')\n",
    "    plt.ylabel('Metric')"
   ]
  },
  {
   "cell_type": "markdown",
   "id": "924d3eb0-1936-455f-a052-6d44085a3a2d",
   "metadata": {},
   "source": [
    "Запустим модель с лучшим набором параметров lr = 0.1, n_estimator = 763"
   ]
  },
  {
   "cell_type": "code",
   "execution_count": 193,
   "id": "a161ecb5-f7e5-4aaa-9c05-45f7b5ddd425",
   "metadata": {},
   "outputs": [],
   "source": [
    "catboost = CatBoostClassifier(iterations=763, learning_rate=0.1, logging_level='Silent', random_state=13)\n",
    "catboost.fit(X_train2, y_train2)\n",
    "pred2 = catboost.predict(X_test2)"
   ]
  },
  {
   "cell_type": "code",
   "execution_count": 194,
   "id": "a0a10aa5-4cfa-4781-95e7-6ac7934553eb",
   "metadata": {},
   "outputs": [
    {
     "name": "stdout",
     "output_type": "stream",
     "text": [
      " Accuracy: 0.796\n",
      "Precision: 0.794\n",
      "   Recall: 0.793\n",
      " F1-score: 0.794\n",
      "      AUC: 0.796\n"
     ]
    }
   ],
   "source": [
    "results['CatBoost-W2V'] = quality(y_test2, pred2)"
   ]
  },
  {
   "cell_type": "code",
   "execution_count": 195,
   "id": "0bbbe988-c38a-4565-8592-940b4138f1a3",
   "metadata": {},
   "outputs": [
    {
     "data": {
      "text/html": [
       "<div>\n",
       "<style scoped>\n",
       "    .dataframe tbody tr th:only-of-type {\n",
       "        vertical-align: middle;\n",
       "    }\n",
       "\n",
       "    .dataframe tbody tr th {\n",
       "        vertical-align: top;\n",
       "    }\n",
       "\n",
       "    .dataframe thead th {\n",
       "        text-align: right;\n",
       "    }\n",
       "</style>\n",
       "<table border=\"1\" class=\"dataframe\">\n",
       "  <thead>\n",
       "    <tr style=\"text-align: right;\">\n",
       "      <th></th>\n",
       "      <th>Accuracy</th>\n",
       "      <th>Precision</th>\n",
       "      <th>Recall</th>\n",
       "      <th>F1-score</th>\n",
       "      <th>AUC</th>\n",
       "    </tr>\n",
       "  </thead>\n",
       "  <tbody>\n",
       "    <tr>\n",
       "      <th>LogReg</th>\n",
       "      <td>0.892</td>\n",
       "      <td>0.879</td>\n",
       "      <td>0.905</td>\n",
       "      <td>0.892</td>\n",
       "      <td>0.892</td>\n",
       "    </tr>\n",
       "    <tr>\n",
       "      <th>CatBoost-VC</th>\n",
       "      <td>0.869</td>\n",
       "      <td>0.859</td>\n",
       "      <td>0.878</td>\n",
       "      <td>0.868</td>\n",
       "      <td>0.869</td>\n",
       "    </tr>\n",
       "    <tr>\n",
       "      <th>CatBoost-GS</th>\n",
       "      <td>0.861</td>\n",
       "      <td>0.844</td>\n",
       "      <td>0.883</td>\n",
       "      <td>0.863</td>\n",
       "      <td>0.862</td>\n",
       "    </tr>\n",
       "    <tr>\n",
       "      <th>LogReg-W2V</th>\n",
       "      <td>0.798</td>\n",
       "      <td>0.795</td>\n",
       "      <td>0.797</td>\n",
       "      <td>0.796</td>\n",
       "      <td>0.798</td>\n",
       "    </tr>\n",
       "    <tr>\n",
       "      <th>CatBoost-W2V</th>\n",
       "      <td>0.796</td>\n",
       "      <td>0.794</td>\n",
       "      <td>0.793</td>\n",
       "      <td>0.794</td>\n",
       "      <td>0.796</td>\n",
       "    </tr>\n",
       "  </tbody>\n",
       "</table>\n",
       "</div>"
      ],
      "text/plain": [
       "              Accuracy  Precision  Recall  F1-score    AUC\n",
       "LogReg           0.892      0.879   0.905     0.892  0.892\n",
       "CatBoost-VC      0.869      0.859   0.878     0.868  0.869\n",
       "CatBoost-GS      0.861      0.844   0.883     0.863  0.862\n",
       "LogReg-W2V       0.798      0.795   0.797     0.796  0.798\n",
       "CatBoost-W2V     0.796      0.794   0.793     0.794  0.796"
      ]
     },
     "execution_count": 195,
     "metadata": {},
     "output_type": "execute_result"
    }
   ],
   "source": [
    "pd.DataFrame(results, index = ['Accuracy', 'Precision', 'Recall', 'F1-score', 'AUC']).T"
   ]
  },
  {
   "cell_type": "markdown",
   "id": "4ca4b0c6-9182-4a8b-bd43-35c055e3dfc1",
   "metadata": {},
   "source": [
    "## Итотоговые результаты"
   ]
  },
  {
   "cell_type": "markdown",
   "id": "37c9ce82-0d60-4bf8-8d14-64dfebeb7e19",
   "metadata": {},
   "source": [
    "### Таблица лидеров"
   ]
  },
  {
   "cell_type": "code",
   "execution_count": 199,
   "id": "d42b4763-9fa7-4815-86b6-3fa2884209d3",
   "metadata": {},
   "outputs": [
    {
     "data": {
      "text/html": [
       "<div>\n",
       "<style scoped>\n",
       "    .dataframe tbody tr th:only-of-type {\n",
       "        vertical-align: middle;\n",
       "    }\n",
       "\n",
       "    .dataframe tbody tr th {\n",
       "        vertical-align: top;\n",
       "    }\n",
       "\n",
       "    .dataframe thead th {\n",
       "        text-align: right;\n",
       "    }\n",
       "</style>\n",
       "<table border=\"1\" class=\"dataframe\">\n",
       "  <thead>\n",
       "    <tr style=\"text-align: right;\">\n",
       "      <th></th>\n",
       "      <th>Accuracy</th>\n",
       "      <th>Precision</th>\n",
       "      <th>Recall</th>\n",
       "      <th>F1-score</th>\n",
       "      <th>AUC</th>\n",
       "    </tr>\n",
       "  </thead>\n",
       "  <tbody>\n",
       "    <tr>\n",
       "      <th>LogReg</th>\n",
       "      <td>0.892</td>\n",
       "      <td>0.879</td>\n",
       "      <td>0.905</td>\n",
       "      <td>0.892</td>\n",
       "      <td>0.892</td>\n",
       "    </tr>\n",
       "    <tr>\n",
       "      <th>CatBoost-VC</th>\n",
       "      <td>0.869</td>\n",
       "      <td>0.859</td>\n",
       "      <td>0.878</td>\n",
       "      <td>0.868</td>\n",
       "      <td>0.869</td>\n",
       "    </tr>\n",
       "    <tr>\n",
       "      <th>CatBoost-GS</th>\n",
       "      <td>0.861</td>\n",
       "      <td>0.844</td>\n",
       "      <td>0.883</td>\n",
       "      <td>0.863</td>\n",
       "      <td>0.862</td>\n",
       "    </tr>\n",
       "    <tr>\n",
       "      <th>LogReg-W2V</th>\n",
       "      <td>0.798</td>\n",
       "      <td>0.795</td>\n",
       "      <td>0.797</td>\n",
       "      <td>0.796</td>\n",
       "      <td>0.798</td>\n",
       "    </tr>\n",
       "    <tr>\n",
       "      <th>CatBoost-W2V</th>\n",
       "      <td>0.796</td>\n",
       "      <td>0.794</td>\n",
       "      <td>0.793</td>\n",
       "      <td>0.794</td>\n",
       "      <td>0.796</td>\n",
       "    </tr>\n",
       "  </tbody>\n",
       "</table>\n",
       "</div>"
      ],
      "text/plain": [
       "              Accuracy  Precision  Recall  F1-score    AUC\n",
       "LogReg           0.892      0.879   0.905     0.892  0.892\n",
       "CatBoost-VC      0.869      0.859   0.878     0.868  0.869\n",
       "CatBoost-GS      0.861      0.844   0.883     0.863  0.862\n",
       "LogReg-W2V       0.798      0.795   0.797     0.796  0.798\n",
       "CatBoost-W2V     0.796      0.794   0.793     0.794  0.796"
      ]
     },
     "execution_count": 199,
     "metadata": {},
     "output_type": "execute_result"
    }
   ],
   "source": [
    "pd.DataFrame(results, index = ['Accuracy', 'Precision', 'Recall', 'F1-score', 'AUC']).T.sort_values(by=['AUC'], ascending=False)"
   ]
  },
  {
   "cell_type": "markdown",
   "id": "9fd327f6-0290-4105-a64d-5d470f2be29f",
   "metadata": {},
   "source": [
    "### Выводы"
   ]
  },
  {
   "cell_type": "markdown",
   "id": "3335adbe-49e5-430c-be5e-9cf91cb50f95",
   "metadata": {},
   "source": [
    "- Как мы видим, лучшие результаты (f1-score 0.89) показывает базовая модель логистической регрессии. Использование более сложных алгоритмов, таких как бустинг, а также предобученных эмбеддингов word2vec усложняет модель, увеличивает время расчетов и при этом, демонстрирует худшие результаты.\n",
    "\n",
    "- Для такой относительно несложной задачи, как анализ тональности, сначала имеет смысл попробовать самые простые методы и вполне возможно, они будут лучшим выбором."
   ]
  },
  {
   "cell_type": "raw",
   "id": "8f0bec58-203e-4187-8636-4402c3c1cf64",
   "metadata": {},
   "source": []
  }
 ],
 "metadata": {
  "kernelspec": {
   "display_name": "Python 3 (ipykernel)",
   "language": "python",
   "name": "python3"
  },
  "language_info": {
   "codemirror_mode": {
    "name": "ipython",
    "version": 3
   },
   "file_extension": ".py",
   "mimetype": "text/x-python",
   "name": "python",
   "nbconvert_exporter": "python",
   "pygments_lexer": "ipython3",
   "version": "3.12.2"
  }
 },
 "nbformat": 4,
 "nbformat_minor": 5
}
