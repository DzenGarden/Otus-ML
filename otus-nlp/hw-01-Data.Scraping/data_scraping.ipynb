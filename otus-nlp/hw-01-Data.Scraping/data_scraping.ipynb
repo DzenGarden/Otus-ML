{
 "cells": [
  {
   "cell_type": "markdown",
   "id": "32ba8f2b-50a5-43e3-9ccc-ed02734ba9a5",
   "metadata": {},
   "source": [
    "## Домашнее задание\n",
    "\n",
    "Откуда берутся датасеты\n",
    "\n",
    "Цель:\n",
    "\n",
    "В этом ДЗ вы напишите свой парсер, который будет бегать по страничкам и автоматически что-то собирать.\n",
    "\n",
    "Описание/Пошаговая инструкция выполнения домашнего задания:\n",
    "\n",
    "По аналогии с занятием по парсингу данных, возьмите интересующий вас сайт, на котором можно пособирать какие-то данные (и при этом API не предоставляется).\n",
    "\n",
    "Идеальный датасет должен иметь текстовое описание некоторого объекта и некоторую целевую переменную, соответствующую этому объекту. Например:\n",
    "\n",
    "- Сайт новостей: текстовое описание — сама новость, целевая переменная — количество просмотров новости (можно поделить на число дней с момента даты публикации, чтобы получить «среднее число просмотров в день»);\n",
    "- Сайт с товарами/книгами/фильмами: текстовое описание товара/книги/фильма + средний рейтинг в качестве целевой переменной;\n",
    "- Блоги — тексты заметок + число просмотров;\n",
    "- И любые другие ваши идеи, которые подходят под такой формат;\n",
    "\n",
    "Напишите свой парсер, который будет бегать по страничкам и автоматически что-то собирать.\n",
    "Не забывайте, что парсинг — это ответственное мероприятие, поэтому не бомбардируйте несчастные сайты слишком частыми запросами (можно ограничить число запросов в секунду при помощи time.sleep(0.3), вставленного в теле цикла).\n",
    "\n",
    "При необходимости очистить датасет от мусора с помощью регулярных выражений.\n",
    "\n",
    "Посчитать статистики по собранным данным и провести EDA собранных данных (в случае, если данные представляют собой текст — посчитать частотности слов, выявить наиболее частотные слова и т. п.)."
   ]
  },
  {
   "cell_type": "code",
   "execution_count": 3,
   "id": "292f9dc4-82af-4207-9cf1-2b4dd71f5817",
   "metadata": {},
   "outputs": [],
   "source": [
    "import requests      \n",
    "import numpy as np   \n",
    "import pandas as pd  \n",
    "import time          \n",
    "\n",
    "import warnings\n",
    "warnings.filterwarnings(\"ignore\")\n",
    "\n",
    "from fake_useragent import UserAgent\n",
    "from bs4 import BeautifulSoup\n",
    "from tqdm import tqdm"
   ]
  },
  {
   "cell_type": "markdown",
   "id": "d1b4a98d-14ce-4030-9708-76e188d07abd",
   "metadata": {},
   "source": [
    "Пакет **[bs4 , a.k.a BeautifulSoup](https://www.crummy.com/software/BeautifulSoup/)** (тут есть гиперссылка на лучшего друга человека — документацию) был назван в честь стишка про красивый суп из Алисы в стране чудес.\n",
    "\n",
    "Красивый суп — это совершенно волшебная библиотека, которая из сырого и необработанного HTML кода страницы выдаст вам структурированный массив данных, по которому очень удобно искать необходимые теги, классы, атрибуты, тексты и прочие элементы веб страниц.\n",
    "\n",
    "> Пакет под названием BeautifulSoup — скорее всего, не то, что нам нужно. Это третья версия (Beautiful Soup 3), а мы будем использовать четвертую. Нужно будет установить пакет beautifulsoup4. Чтобы было совсем весело, при импорте нужно указывать другое название пакета — bs4, а импортировать функцию под названием BeautifulSoup. В общем, сначала легко запутаться, но эти трудности нужно преодолеть.\n",
    "\n",
    "С необработанным XML кодом страницы пакет также работает (XML — это исковерканый и превращённый в диалект, с помощью своих команд, HTML). Для того, чтобы пакет корректно работал с XML разметкой, придётся в довесок ко всему нашему арсеналу установить пакет xml."
   ]
  },
  {
   "cell_type": "markdown",
   "id": "1c5e47a2-2233-4dca-a15c-69bbb282011c",
   "metadata": {},
   "source": [
    "## Парсинг"
   ]
  },
  {
   "cell_type": "markdown",
   "id": "ead38a43-f539-40c7-867b-1c8f78e69500",
   "metadata": {},
   "source": [
    "Собирать данные будем на новостном сайте Nice Matin - утренняя Ницца )"
   ]
  },
  {
   "cell_type": "code",
   "execution_count": 7,
   "id": "8d700518-c6f9-4cfe-be13-943fafd80095",
   "metadata": {},
   "outputs": [],
   "source": [
    "top_page = 'https://www.nicematin.com/'"
   ]
  },
  {
   "cell_type": "code",
   "execution_count": 8,
   "id": "ad8ef0cb-6dc3-45b4-acc3-41d490b2b0ed",
   "metadata": {},
   "outputs": [
    {
     "data": {
      "text/plain": [
       "'Mozilla/5.0 (Macintosh; Intel Mac OS X 10_15_7) AppleWebKit/537.36 (KHTML, like Gecko) Chrome/116.0.0.0 Safari/537.36'"
      ]
     },
     "execution_count": 8,
     "metadata": {},
     "output_type": "execute_result"
    }
   ],
   "source": [
    "UserAgent().chrome"
   ]
  },
  {
   "cell_type": "code",
   "execution_count": 9,
   "id": "e228bc88-d728-400e-9b64-27896e11cb2a",
   "metadata": {},
   "outputs": [
    {
     "data": {
      "text/plain": [
       "<Response [200]>"
      ]
     },
     "execution_count": 9,
     "metadata": {},
     "output_type": "execute_result"
    }
   ],
   "source": [
    "top_response = requests.get(top_page, headers={'User-Agent': UserAgent().chrome})\n",
    "top_response"
   ]
  },
  {
   "cell_type": "code",
   "execution_count": 10,
   "id": "d8d35d88-3c72-4001-9a3c-61f5c42c78a6",
   "metadata": {},
   "outputs": [],
   "source": [
    "top_html = top_response.content"
   ]
  },
  {
   "cell_type": "code",
   "execution_count": 11,
   "id": "0611fcb3-40c0-466b-bc24-ce2d9a215448",
   "metadata": {},
   "outputs": [
    {
     "data": {
      "text/plain": [
       "293538"
      ]
     },
     "execution_count": 11,
     "metadata": {},
     "output_type": "execute_result"
    }
   ],
   "source": [
    "len(top_html)"
   ]
  },
  {
   "cell_type": "code",
   "execution_count": 12,
   "id": "7969b233-01db-48ee-a3a3-6ac5654da0d5",
   "metadata": {},
   "outputs": [],
   "source": [
    "top_soup = BeautifulSoup(top_html, 'html.parser')"
   ]
  },
  {
   "cell_type": "code",
   "execution_count": 13,
   "id": "1bec8eb6-9a1b-46ce-966f-d7e3bb8e5f5e",
   "metadata": {},
   "outputs": [
    {
     "data": {
      "text/plain": [
       "str"
      ]
     },
     "execution_count": 13,
     "metadata": {},
     "output_type": "execute_result"
    }
   ],
   "source": [
    "type(top_soup.prettify())"
   ]
  },
  {
   "cell_type": "code",
   "execution_count": 14,
   "id": "f4a2f0eb-9efe-4f16-abb5-3697d0b1b49d",
   "metadata": {
    "scrolled": true
   },
   "outputs": [
    {
     "name": "stdout",
     "output_type": "stream",
     "text": [
      "<!DOCTYPE html>\n",
      "<html class=\"nm\" lang=\"fr\">\n",
      " <head>\n",
      "  <meta charset=\"utf-8\"/>\n",
      "  <link href=\"https://cdn.assets03.nicematin.com/build/favicons/freemium/nm_fav.d9370e02.png\" rel=\"icon\" type=\"image/png\"/>\n",
      "  <link href=\"https://cdn.assets03.nicematin.com/build/favicons/freemium/nm_fav.d9370e02.png\" rel=\"shortcut icon\" type=\"image/x-icon\"/>\n",
      "  <link href=\"https://cdn.assets03.nicematin.com/build/favicons/freemium/nm_fav.d9370e02.png\" rel=\"apple-touch-icon\"/>\n",
      "  <link href=\"https://cdn.assets03.nicematin.com/build/favicons/freemium/nm_fav.d9370e02.png\" rel=\"apple-touch-icon\" sizes=\"57x57\">\n",
      "   <link href=\"https://cdn.assets03.nicematin.com/build/favicons/freemium/nm_fav.d9370e02.png\" rel=\"apple-touch-icon\" sizes=\"60x60\">\n",
      "    <link href=\"https://cdn.assets03.nicematin.com/build/favicons/freemium/nm_fav.d9370e02.png\" rel=\"apple-touch-icon\" sizes=\"72x72\"/>\n",
      "    <link href=\"https://cdn.assets03.nicematin.com/build/favicons/freemium/nm_fav.d9370e02.png\" rel=\"apple-touch-icon\" sizes=\"76x76\"/>\n",
      "    <lin\n"
     ]
    }
   ],
   "source": [
    "print(top_soup.prettify()[:1000])"
   ]
  },
  {
   "cell_type": "code",
   "execution_count": 15,
   "id": "5d80a057-f63e-44c0-b5e0-68ac474b3f4b",
   "metadata": {},
   "outputs": [
    {
     "data": {
      "text/plain": [
       "<title>Actualités et infos en direct - Nice-Matin</title>"
      ]
     },
     "execution_count": 15,
     "metadata": {},
     "output_type": "execute_result"
    }
   ],
   "source": [
    "top_soup.html.head.title"
   ]
  },
  {
   "cell_type": "markdown",
   "id": "a3d3a4ac-7bfb-4ee4-b169-97302c93ece6",
   "metadata": {},
   "source": [
    "Напишем функцию для получения списка ссылок на странице"
   ]
  },
  {
   "cell_type": "code",
   "execution_count": 17,
   "id": "a82cd83d-408e-4d56-98db-1b1ce8a718e7",
   "metadata": {},
   "outputs": [],
   "source": [
    "def get_links_list (page, tag, class_to_find):\n",
    "    \"\"\"\n",
    "    Parameters:\n",
    "    page: link to an html-page to find the links on;\n",
    "    tag: <tag> to find;\n",
    "    class_to_find: <class> to find; \n",
    "    \n",
    "    Returns: list of links\n",
    "    \"\"\"\n",
    "    response = requests.get(page, headers={'User-Agent': UserAgent().chrome})\n",
    "    html = response.content\n",
    "    soup = BeautifulSoup(html, 'html.parser')\n",
    "    obj_list = soup.find_all(tag, attrs = {'class':class_to_find})\n",
    "    links_list = [obj_item.attrs['href'] for obj_item in obj_list if obj_item.attrs['href'][0:25] == 'https://www.nicematin.com']\n",
    "    return links_list"
   ]
  },
  {
   "cell_type": "markdown",
   "id": "f0cbc2cd-bdb8-428a-91b1-3b27ff8719d2",
   "metadata": {},
   "source": [
    "Соберем список тематических ссылок на первой странице Nice matin"
   ]
  },
  {
   "cell_type": "code",
   "execution_count": 19,
   "id": "a9c7fc03-a013-47eb-8f98-f9ed20eba968",
   "metadata": {},
   "outputs": [],
   "source": [
    "theme_links_list = get_links_list(top_page, 'a', 'header-link-secondary')"
   ]
  },
  {
   "cell_type": "code",
   "execution_count": 20,
   "id": "33f434de-cd93-43b8-b887-bc4994a36dc7",
   "metadata": {},
   "outputs": [
    {
     "data": {
      "text/plain": [
       "['https://www.nicematin.com/sujet/faits-de-societe',\n",
       " 'https://www.nicematin.com/sujet/faits-divers',\n",
       " 'https://www.nicematin.com/sujet/economie',\n",
       " 'https://www.nicematin.com/sujet/politique',\n",
       " 'https://www.nicematin.com/sujet/sport',\n",
       " 'https://www.nicematin.com/sujet/sante',\n",
       " 'https://www.nicematin.com/sujet/ogcnice',\n",
       " 'https://www.nicematin.com/sujet/opinion',\n",
       " 'https://www.nicematin.com/sujet/culture',\n",
       " 'https://www.nicematin.com/sujet/jeux-olympiques',\n",
       " 'https://www.nicematin.com/ville/nice',\n",
       " 'https://www.nicematin.com/commune/saint-laurent-du-var',\n",
       " 'https://www.nicematin.com/ville/cagnes',\n",
       " 'https://www.nicematin.com/ville/cannes',\n",
       " 'https://www.nicematin.com/ville/antibes',\n",
       " 'https://www.nicematin.com/ville/grasse',\n",
       " 'https://www.nicematin.com/ville/menton',\n",
       " 'https://www.nicematin.com/ville/monaco',\n",
       " 'https://www.nicematin.com/ville/vallees']"
      ]
     },
     "execution_count": 20,
     "metadata": {},
     "output_type": "execute_result"
    }
   ],
   "source": [
    "theme_links_list"
   ]
  },
  {
   "cell_type": "code",
   "execution_count": 21,
   "id": "57361f85-64ea-4a35-bc20-4509fe037242",
   "metadata": {},
   "outputs": [
    {
     "data": {
      "text/plain": [
       "'https://www.nicematin.com/sujet/faits-de-societe'"
      ]
     },
     "execution_count": 21,
     "metadata": {},
     "output_type": "execute_result"
    }
   ],
   "source": [
    "theme_links_list[0]"
   ]
  },
  {
   "cell_type": "markdown",
   "id": "e9a333f9-ea18-40b4-90c5-433c8af77033",
   "metadata": {},
   "source": [
    "Пройдем по всем тематическим ссылкам и соберем итоговый список ссылок на новостные статьи"
   ]
  },
  {
   "cell_type": "code",
   "execution_count": 23,
   "id": "25237a5d-6d79-4452-b1f3-8353f74a78b9",
   "metadata": {},
   "outputs": [],
   "source": [
    "allnews_links_list = []"
   ]
  },
  {
   "cell_type": "code",
   "execution_count": 24,
   "id": "bbcf3b65-3a8e-446e-ab7a-73ca71064d08",
   "metadata": {},
   "outputs": [
    {
     "name": "stderr",
     "output_type": "stream",
     "text": [
      "100%|███████████████████████████████████████████| 19/19 [00:13<00:00,  1.36it/s]\n"
     ]
    }
   ],
   "source": [
    "for link in tqdm(theme_links_list):\n",
    "    allnews_links_list = allnews_links_list + get_links_list(link, 'a', 'title-link')\n",
    "    time.sleep(0.3)"
   ]
  },
  {
   "cell_type": "code",
   "execution_count": 25,
   "id": "e831670d-a789-4d80-a0ca-7dbae784ec8a",
   "metadata": {},
   "outputs": [
    {
     "data": {
      "text/plain": [
       "294"
      ]
     },
     "execution_count": 25,
     "metadata": {},
     "output_type": "execute_result"
    }
   ],
   "source": [
    "len(allnews_links_list)"
   ]
  },
  {
   "cell_type": "code",
   "execution_count": 26,
   "id": "adf1031f-18ff-4fdf-a1a6-652ba9c209a5",
   "metadata": {
    "scrolled": true
   },
   "outputs": [
    {
     "data": {
      "text/plain": [
       "['https://www.nicematin.com/faits-de-societe/cinq-ans-apres-avoir-vecu-hors-du-temps-les-pompiers-reviennent-emus-a-notre-dame-962951',\n",
       " 'https://www.nicematin.com/faits-de-societe/miss-martinique-elue-miss-france-2025-962857',\n",
       " 'https://www.nicematin.com/faits-de-societe/miss-france-2025-pour-la-premiere-fois-une-candidate-de-plus-de-30-ans-962806',\n",
       " 'https://www.nicematin.com/education/-le-but-est-de-savoir-ecrire-80-des-mots-francais-orthophoniste-a-antibes-camille-fenart-a-cree-des-jeux-pour-vaincre-les-troubles-de-l-orthographe-962794',\n",
       " 'https://www.nicematin.com/faits-de-societe/decouvrez-le-grand-jt-des-territoires-du-samedi-14-decembre-962633',\n",
       " 'https://www.nicematin.com/faits-de-societe/le-premier-qui-bouge-est-gay-associations-et-syndicats-alertent-sur-un-jeu-homophobe-962644',\n",
       " 'https://www.nicematin.com/faits-divers/il-avait-porte-plusieurs-coups-de-couteau-a-sa-compagne-devant-leur-fille-de-3-ans-la-perpetuite-requise-contre-l-accuse-962608',\n",
       " 'https://www.nicematin.com/faits-de-societe/bonne-fortune-ou-malheur-vendredi-13-un-jour-a-pile-ou-face-944171',\n",
       " 'https://www.nicematin.com/faits-divers/trois-rugbymen-accuses-d-un-viol-collectif-sur-une-jeune-femme-a-bordeaux-le-verdict-attendu-ce-vendredi-962574',\n",
       " 'https://www.nicematin.com/justice/coups-insultes-morsures-et-alcool-a-draguignan-le-quotidien-des-violences-conjugales-962573']"
      ]
     },
     "execution_count": 26,
     "metadata": {},
     "output_type": "execute_result"
    }
   ],
   "source": [
    "allnews_links_list[:10]"
   ]
  },
  {
   "cell_type": "markdown",
   "id": "18023e81-c6c0-4b2a-bf39-9b3108ddc807",
   "metadata": {},
   "source": [
    "Посмотрим на первую ссылку в списке"
   ]
  },
  {
   "cell_type": "code",
   "execution_count": 28,
   "id": "498ce94e-1ef9-486b-a38e-e78faefefd1d",
   "metadata": {},
   "outputs": [
    {
     "data": {
      "text/plain": [
       "'https://www.nicematin.com/faits-de-societe/cinq-ans-apres-avoir-vecu-hors-du-temps-les-pompiers-reviennent-emus-a-notre-dame-962951'"
      ]
     },
     "execution_count": 28,
     "metadata": {},
     "output_type": "execute_result"
    }
   ],
   "source": [
    "allnews_links_list[0]"
   ]
  },
  {
   "cell_type": "markdown",
   "id": "0a77d0fc-dd89-4ae1-bb9c-2ea6ead743d7",
   "metadata": {},
   "source": [
    "попробуем получить детальную информацию по новости"
   ]
  },
  {
   "cell_type": "code",
   "execution_count": 30,
   "id": "22d5ac31-5b52-4b7a-9694-6eb3c16bee0d",
   "metadata": {},
   "outputs": [],
   "source": [
    "response = requests.get(allnews_links_list[0], headers={'User-Agent': UserAgent().chrome})"
   ]
  },
  {
   "cell_type": "code",
   "execution_count": 31,
   "id": "b24854ae-bae8-438e-b2ca-f78eb32ec90d",
   "metadata": {},
   "outputs": [
    {
     "data": {
      "text/plain": [
       "<Response [200]>"
      ]
     },
     "execution_count": 31,
     "metadata": {},
     "output_type": "execute_result"
    }
   ],
   "source": [
    "response"
   ]
  },
  {
   "cell_type": "code",
   "execution_count": 32,
   "id": "1642f3fe-e4ad-4984-9ee4-3b3b49c78734",
   "metadata": {},
   "outputs": [],
   "source": [
    "html = response.content"
   ]
  },
  {
   "cell_type": "code",
   "execution_count": 33,
   "id": "e925e07c-37e6-4bb9-a24d-45506aab13fe",
   "metadata": {},
   "outputs": [],
   "source": [
    "soup = BeautifulSoup(html, 'html.parser')"
   ]
  },
  {
   "cell_type": "code",
   "execution_count": 34,
   "id": "7874f226-8d44-4bf0-b653-2e0cc263b253",
   "metadata": {
    "scrolled": true
   },
   "outputs": [
    {
     "data": {
      "text/plain": [
       "'<!DOCTYPE html>\\n<html class=\"nm\" lang=\"fr\">\\n <head>\\n  <meta charset=\"utf-8\"/>\\n  <link href=\"https://cdn.assets03.nicematin.com/build/favicons/freemium/nm_fav.d9370e02.png\" rel=\"icon\" type=\"image/png\"/>\\n  <link href=\"https://cdn.assets03.nicematin.com/build/favicons/freemium/nm_fav.d9370e02.png\" rel=\"shortcut icon\" type=\"image/x-icon\"/>\\n  <link href=\"https://cdn.assets03.nicematin.com/build/favicons/freemium/nm_fav.d9370e02.png\" rel=\"apple-touch-icon\"/>\\n  <link href=\"https://cdn.assets03.nicematin.com/build/favicons/freemium/nm_fav.d9370e02.png\" rel=\"apple-touch-icon\" sizes=\"57x57\">\\n   <link href=\"https://cdn.assets03.nicematin.com/build/favicons/freemium/nm_fav.d9370e02.png\" rel=\"apple-touch-icon\" sizes=\"60x60\">\\n    <link href=\"https://cdn.assets03.nicematin.com/build/favicons/freemium/nm_fav.d9370e02.png\" rel=\"apple-touch-icon\" sizes=\"72x72\"/>\\n    <link href=\"https://cdn.assets03.nicematin.com/build/favicons/freemium/nm_fav.d9370e02.png\" rel=\"apple-touch-icon\" sizes=\"76x76\"/>\\n    <lin'"
      ]
     },
     "execution_count": 34,
     "metadata": {},
     "output_type": "execute_result"
    }
   ],
   "source": [
    "soup.prettify()[:1000]"
   ]
  },
  {
   "cell_type": "code",
   "execution_count": 35,
   "id": "3ffd451a-ab65-44d1-9b87-22b4b3a9061b",
   "metadata": {},
   "outputs": [
    {
     "data": {
      "text/plain": [
       "'Cinq ans après avoir vécu \"hors du temps\", les pompiers reviennent émus à Notre-Dame'"
      ]
     },
     "execution_count": 35,
     "metadata": {},
     "output_type": "execute_result"
    }
   ],
   "source": [
    "title = soup.find('h1', attrs = {'class':\"article-title\"}).text\n",
    "title"
   ]
  },
  {
   "cell_type": "code",
   "execution_count": 36,
   "id": "7165d475-6c56-43be-a8f7-a1d902c2d18d",
   "metadata": {},
   "outputs": [
    {
     "data": {
      "text/plain": [
       "'Ils l\\'avaient quittée \"totalement éventrée\" et ne l\\'avaient plus revue depuis cinq ans. Le chef de bataillon Peneaud et la capitaine Humbert, de la brigade de sapeurs-pompiers de Paris, sont restés \"sans voix\" dimanche en pénétrant de nouveau dans Notre-Dame.'"
      ]
     },
     "execution_count": 36,
     "metadata": {},
     "output_type": "execute_result"
    }
   ],
   "source": [
    "excerpt = soup.find('h2', attrs = {'class':\"article-excerpt\"}).text.strip('\\r\\n ')\n",
    "excerpt"
   ]
  },
  {
   "cell_type": "code",
   "execution_count": 37,
   "id": "2c6f5175-5475-4726-a8e3-5df89a0cf90a",
   "metadata": {},
   "outputs": [
    {
     "data": {
      "text/plain": [
       "'AFP'"
      ]
     },
     "execution_count": 37,
     "metadata": {},
     "output_type": "execute_result"
    }
   ],
   "source": [
    "author = soup.find('span', attrs = {'class':\"author\"})\n",
    "if author: author = author.text\n",
    "author"
   ]
  },
  {
   "cell_type": "code",
   "execution_count": 38,
   "id": "2ab068e0-2769-4397-9eef-d2522b50d17d",
   "metadata": {},
   "outputs": [
    {
     "data": {
      "text/plain": [
       "'Publié le 15/12/2024 à 17:07, mis à jour le 15/12/2024 à 17:07'"
      ]
     },
     "execution_count": 38,
     "metadata": {},
     "output_type": "execute_result"
    }
   ],
   "source": [
    "published = soup.find('span', attrs = {'class':\"published-at\"})\n",
    "if published: published = published.text\n",
    "published"
   ]
  },
  {
   "cell_type": "code",
   "execution_count": 39,
   "id": "4a56b0f0-3056-47f1-a1dd-fa94331a81da",
   "metadata": {},
   "outputs": [
    {
     "data": {
      "text/plain": [
       "'France'"
      ]
     },
     "execution_count": 39,
     "metadata": {},
     "output_type": "execute_result"
    }
   ],
   "source": [
    "city = soup.find('a', attrs = {'class':\"blue city\"})\n",
    "if city: city = city.text\n",
    "city"
   ]
  },
  {
   "cell_type": "code",
   "execution_count": 40,
   "id": "18b727be-05bd-44f0-bd78-fed0fcb851ec",
   "metadata": {},
   "outputs": [
    {
     "data": {
      "text/plain": [
       "'\"C\\'est saisissant. Quand j\\'ai passé la porte en rentrant, j\\'ai eu ce même besoin de reprendre mon souffle tellement c\\'est magnifique. Incroyable !\": la capitaine Anne-Sixtine Humbert, réserviste pour la brigade de sapeurs-pompiers de Paris (BSPP) en tant qu\\'experte patrimoine, a été emportée par la lumière inondant l\\'édifice, sublimée par les rayons du soleil de ce dimanche hivernal.\\nIl y a cinq ans, elle avait pénétré dans la cathédrale au lendemain de l\\'incendie pour sauver quelque 40 ?uvres de Notre-Dame. \"Tout était dans la pénombre, il n\\'y avait plus rien, plus de lumière, à part ce trou béant\", se souvient-elle, en se tenant sous ce plafond éventré, aux côtés du chef de bataillon David Peneaud, qui lui était intervenu dès le 15 avril, jour du terrible incendie.\\n\"Elle est plus belle qu\\'avant, en fait. On a l\\'impression qu\\'il ne s\\'est rien passé\", glisse l\\'officier, \"happé par le plafond\" dès son entrée dans la cathédrale.\\nLes deux sapeurs-pompiers de Paris ont revêtu pour l\\'occasion leur tenue de sortie, costume bleu marine, képi en velours et cravate noire. Des touristes s\\'empressent de faire des selfies à l\\'extérieur avec eux. A l\\'intérieur, une fidèle demande un autographe à ces \"héros\" qui ont sauvé Notre-Dame. \"C\\'est un honneur pour moi\", leur dit-elle.\\nDavid Peneaud et Anne-Sixtine Humbert font partie d\\'une trentaine de ces \"hommes du feu\" invités dimanche pour la huitième et dernière messe de l\\'octave de réouverture de la cathédrale, dédiée aux pompiers de Paris, aux compagnons et à tous ceux qui ont oeuvré sur le chantier.\\n\"C\\'est la première fois qu\\'on revient sur une intervention cinq ans après. Ca ne m\\'était jamais arrivé et je pense que ça ne m\\'arrivera plus. Aussi bien l\\'intervention était exceptionnelle (en 2019) aussi bien cet événement-là est autant exceptionnel\", livre le chef de bataillon Peneaud, fort de ses 32 ans de service.\\n\"J\\'ai veillé Notre-Dame pendant quatre jours\", se rappelle-t-il, missionné pour contrer un potentiel risque d\\'explosion en raison des fluides environnants, puis au chevet de l\\'édifice les jours suivants.\\nIl n\\'a rien oublié de cet incendie maîtrisé parce que ses collègues et lui ont su \"être au rendez-vous ce soir-là grâce à un collectif qui s\\'entraîne tous les jours pour répondre à ce style de crise exceptionnel\".\\nQuelque 650 pompiers - dont aucun n\\'a été blessé - ont bataillé pour que les beffrois ne s\\'effondrent pas, ce qui aurait entraîné la perte de Notre-Dame.\\n Evacuation \"improbable\" \\nArrivée sur place le 16 avril, Anne-Sixtine Humbert, dont la spécialité est l\\'évacuation d\\'oeuvres prioritaires, s\\'est employée à décrocher des tableaux, à emballer des objets liturgiques et extraire de l\\'édifice ceux qui le pouvaient.\\n\"Quand je suis rentrée, j\\'ai eu l\\'impression de prendre une vraie claque. Je me disais que ce n\\'était pas possible et pourtant, je savais que ça avait vraiment brûlé. C\\'était très sombre, il y avait de la suie partout, il y avait cette odeur de cramé qui restait très présente\", se remémore la capitaine de 33 ans.\\n\"Ce qui m\\'a le plus frappée, c\\'était tous les petits lumignons, les petites bougies, qui étaient encore allumées à l\\'intérieur de Notre-Dame alors qu\\'il y avait eu quand même beaucoup d\\'eau versée pour éteindre l\\'incendie. Et de voir ce trou immense dans la toiture, on voyait le ciel à travers le toit... Et à côté de ça, il y avait cette Vierge à l\\'enfant, à droite de l\\'autel, qui était toujours debout, restée là au milieu de tous ces débris\", raconte-t-elle encore.\\nCe jour-là, elle a perdu la notion du temps, mais \"les oeuvres les plus inestimables\" ont été sauvées.\\n\"Chez les pompiers, ça restera une évacuation hors du temps et complètement improbable\", confie Anne-Sixtine Humbert, qui a d\\'entrée porté son regard sur la Vierge à l\\'enfant ce dimanche. \"J\\'avais vraiment envie de m\\'assurer qu\\'elle était toujours là\".\\nLa capitaine n\\'était jamais revenue à Notre-Dame, évitant ce lieu \"plutôt volontairement\". Le chef de bataillon Peneaud, lui, boit une bière tous les 15 avril avec quelques collègues dans un troquet du coin.'"
      ]
     },
     "execution_count": 40,
     "metadata": {},
     "output_type": "execute_result"
    }
   ],
   "source": [
    "full_text = soup.find('section', attrs = {'class':\"article-block\", 'id':'full-text'})\n",
    "if full_text: full_text = full_text.text.strip('\\ncommentaires ')\n",
    "full_text"
   ]
  },
  {
   "cell_type": "markdown",
   "id": "d55b9e42-17bd-4b6d-96ad-d5d07f0a364a",
   "metadata": {},
   "source": [
    "Напишем функцию, возвращающую информацию из новости (title, author, published, region, excerpt, full_text) по url"
   ]
  },
  {
   "cell_type": "code",
   "execution_count": 42,
   "id": "a4a309f1-da64-468d-bf60-2242ee55712a",
   "metadata": {},
   "outputs": [],
   "source": [
    "def getNewsData (nlink):\n",
    "    \n",
    "    response = requests.get(nlink, headers={'User-Agent': UserAgent().chrome})\n",
    "    html = response.content\n",
    "    soup = BeautifulSoup(html, 'html.parser')\n",
    "\n",
    "    title = soup.find('h1', attrs = {'class':\"article-title\"})\n",
    "    if title: title = title.text\n",
    "\n",
    "    author = soup.find('span', attrs = {'class':\"author\"})\n",
    "    if author: author = author.text\n",
    "    \n",
    "    published = soup.find('span', attrs = {'class':\"published-at\"})\n",
    "    if published: published = published.text\n",
    "\n",
    "    city = soup.find('a', attrs = {'class':\"blue city\"})\n",
    "    if city: city = city.text\n",
    "    \n",
    "    excerpt = soup.find('h2', attrs = {'class':\"article-excerpt\"})\n",
    "    if excerpt: excerpt = excerpt.text.strip('\\r\\n ')\n",
    "\n",
    "    full_text = soup.find('section', attrs = {'class':\"article-block\", 'id':'full-text'})\n",
    "    if full_text: full_text = full_text.text.strip('\\ncommentaires ')\n",
    "\n",
    "    data_row = {'Title':title, 'Author':author, 'Published':published, 'Region':city,\n",
    "                'Excerpt':excerpt, 'Full_text':full_text}   \n",
    "    \n",
    "    return data_row"
   ]
  },
  {
   "cell_type": "code",
   "execution_count": 43,
   "id": "694a33a4-27c5-4896-8a37-35cd416cde3b",
   "metadata": {},
   "outputs": [
    {
     "data": {
      "text/plain": [
       "'https://www.nicematin.com/faits-de-societe/cinq-ans-apres-avoir-vecu-hors-du-temps-les-pompiers-reviennent-emus-a-notre-dame-962951'"
      ]
     },
     "execution_count": 43,
     "metadata": {},
     "output_type": "execute_result"
    }
   ],
   "source": [
    "allnews_links_list[0]"
   ]
  },
  {
   "cell_type": "code",
   "execution_count": 44,
   "id": "be7d6164-3803-4d7c-bf50-8b620036e3d9",
   "metadata": {},
   "outputs": [],
   "source": [
    "data_row = getNewsData(allnews_links_list[0])"
   ]
  },
  {
   "cell_type": "code",
   "execution_count": 45,
   "id": "9ed3c0f7-a3d1-4c6f-9b04-6d6c6ac93bcd",
   "metadata": {},
   "outputs": [
    {
     "data": {
      "text/plain": [
       "{'Title': 'Cinq ans après avoir vécu \"hors du temps\", les pompiers reviennent émus à Notre-Dame',\n",
       " 'Author': 'AFP',\n",
       " 'Published': 'Publié le 15/12/2024 à 17:07, mis à jour le 15/12/2024 à 17:07',\n",
       " 'Region': 'France',\n",
       " 'Excerpt': 'Ils l\\'avaient quittée \"totalement éventrée\" et ne l\\'avaient plus revue depuis cinq ans. Le chef de bataillon Peneaud et la capitaine Humbert, de la brigade de sapeurs-pompiers de Paris, sont restés \"sans voix\" dimanche en pénétrant de nouveau dans Notre-Dame.',\n",
       " 'Full_text': '\"C\\'est saisissant. Quand j\\'ai passé la porte en rentrant, j\\'ai eu ce même besoin de reprendre mon souffle tellement c\\'est magnifique. Incroyable !\": la capitaine Anne-Sixtine Humbert, réserviste pour la brigade de sapeurs-pompiers de Paris (BSPP) en tant qu\\'experte patrimoine, a été emportée par la lumière inondant l\\'édifice, sublimée par les rayons du soleil de ce dimanche hivernal.\\nIl y a cinq ans, elle avait pénétré dans la cathédrale au lendemain de l\\'incendie pour sauver quelque 40 ?uvres de Notre-Dame. \"Tout était dans la pénombre, il n\\'y avait plus rien, plus de lumière, à part ce trou béant\", se souvient-elle, en se tenant sous ce plafond éventré, aux côtés du chef de bataillon David Peneaud, qui lui était intervenu dès le 15 avril, jour du terrible incendie.\\n\"Elle est plus belle qu\\'avant, en fait. On a l\\'impression qu\\'il ne s\\'est rien passé\", glisse l\\'officier, \"happé par le plafond\" dès son entrée dans la cathédrale.\\nLes deux sapeurs-pompiers de Paris ont revêtu pour l\\'occasion leur tenue de sortie, costume bleu marine, képi en velours et cravate noire. Des touristes s\\'empressent de faire des selfies à l\\'extérieur avec eux. A l\\'intérieur, une fidèle demande un autographe à ces \"héros\" qui ont sauvé Notre-Dame. \"C\\'est un honneur pour moi\", leur dit-elle.\\nDavid Peneaud et Anne-Sixtine Humbert font partie d\\'une trentaine de ces \"hommes du feu\" invités dimanche pour la huitième et dernière messe de l\\'octave de réouverture de la cathédrale, dédiée aux pompiers de Paris, aux compagnons et à tous ceux qui ont oeuvré sur le chantier.\\n\"C\\'est la première fois qu\\'on revient sur une intervention cinq ans après. Ca ne m\\'était jamais arrivé et je pense que ça ne m\\'arrivera plus. Aussi bien l\\'intervention était exceptionnelle (en 2019) aussi bien cet événement-là est autant exceptionnel\", livre le chef de bataillon Peneaud, fort de ses 32 ans de service.\\n\"J\\'ai veillé Notre-Dame pendant quatre jours\", se rappelle-t-il, missionné pour contrer un potentiel risque d\\'explosion en raison des fluides environnants, puis au chevet de l\\'édifice les jours suivants.\\nIl n\\'a rien oublié de cet incendie maîtrisé parce que ses collègues et lui ont su \"être au rendez-vous ce soir-là grâce à un collectif qui s\\'entraîne tous les jours pour répondre à ce style de crise exceptionnel\".\\nQuelque 650 pompiers - dont aucun n\\'a été blessé - ont bataillé pour que les beffrois ne s\\'effondrent pas, ce qui aurait entraîné la perte de Notre-Dame.\\n Evacuation \"improbable\" \\nArrivée sur place le 16 avril, Anne-Sixtine Humbert, dont la spécialité est l\\'évacuation d\\'oeuvres prioritaires, s\\'est employée à décrocher des tableaux, à emballer des objets liturgiques et extraire de l\\'édifice ceux qui le pouvaient.\\n\"Quand je suis rentrée, j\\'ai eu l\\'impression de prendre une vraie claque. Je me disais que ce n\\'était pas possible et pourtant, je savais que ça avait vraiment brûlé. C\\'était très sombre, il y avait de la suie partout, il y avait cette odeur de cramé qui restait très présente\", se remémore la capitaine de 33 ans.\\n\"Ce qui m\\'a le plus frappée, c\\'était tous les petits lumignons, les petites bougies, qui étaient encore allumées à l\\'intérieur de Notre-Dame alors qu\\'il y avait eu quand même beaucoup d\\'eau versée pour éteindre l\\'incendie. Et de voir ce trou immense dans la toiture, on voyait le ciel à travers le toit... Et à côté de ça, il y avait cette Vierge à l\\'enfant, à droite de l\\'autel, qui était toujours debout, restée là au milieu de tous ces débris\", raconte-t-elle encore.\\nCe jour-là, elle a perdu la notion du temps, mais \"les oeuvres les plus inestimables\" ont été sauvées.\\n\"Chez les pompiers, ça restera une évacuation hors du temps et complètement improbable\", confie Anne-Sixtine Humbert, qui a d\\'entrée porté son regard sur la Vierge à l\\'enfant ce dimanche. \"J\\'avais vraiment envie de m\\'assurer qu\\'elle était toujours là\".\\nLa capitaine n\\'était jamais revenue à Notre-Dame, évitant ce lieu \"plutôt volontairement\". Le chef de bataillon Peneaud, lui, boit une bière tous les 15 avril avec quelques collègues dans un troquet du coin.'}"
      ]
     },
     "execution_count": 45,
     "metadata": {},
     "output_type": "execute_result"
    }
   ],
   "source": [
    "data_row"
   ]
  },
  {
   "cell_type": "markdown",
   "id": "b47b5117-04ef-4012-a672-ad3993bda2b8",
   "metadata": {},
   "source": [
    "Работает ! Осталось пройти в цикле по всем новостным ссылкам и сохранить полученные данные в pandas dataframe"
   ]
  },
  {
   "cell_type": "code",
   "execution_count": 47,
   "id": "126f6bbd-43ea-41d4-8963-201eec6a6e3e",
   "metadata": {},
   "outputs": [],
   "source": [
    "df_news = pd.DataFrame(columns=['Title', 'Author', 'Published', 'Region','Excerpt', 'Full_text'])"
   ]
  },
  {
   "cell_type": "code",
   "execution_count": 48,
   "id": "98a01e8a-db65-49ac-845a-edc2b7243220",
   "metadata": {},
   "outputs": [
    {
     "name": "stderr",
     "output_type": "stream",
     "text": [
      "100%|█████████████████████████████████████████| 294/294 [04:15<00:00,  1.15it/s]\n"
     ]
    }
   ],
   "source": [
    "for news_link in tqdm(allnews_links_list):\n",
    "    data_row = getNewsData(news_link)\n",
    "    df_news = pd.concat([df_news, pd.DataFrame([data_row])], ignore_index=True)\n",
    "    time.sleep(0.3)"
   ]
  },
  {
   "cell_type": "code",
   "execution_count": 49,
   "id": "c1f61700-371e-4d8e-843b-e7291b993c2c",
   "metadata": {},
   "outputs": [
    {
     "data": {
      "text/plain": [
       "(294, 6)"
      ]
     },
     "execution_count": 49,
     "metadata": {},
     "output_type": "execute_result"
    }
   ],
   "source": [
    "df_news.shape"
   ]
  },
  {
   "cell_type": "code",
   "execution_count": 50,
   "id": "254bf7d9-6c82-4c32-b411-aa0141548b80",
   "metadata": {},
   "outputs": [
    {
     "data": {
      "text/html": [
       "<div>\n",
       "<style scoped>\n",
       "    .dataframe tbody tr th:only-of-type {\n",
       "        vertical-align: middle;\n",
       "    }\n",
       "\n",
       "    .dataframe tbody tr th {\n",
       "        vertical-align: top;\n",
       "    }\n",
       "\n",
       "    .dataframe thead th {\n",
       "        text-align: right;\n",
       "    }\n",
       "</style>\n",
       "<table border=\"1\" class=\"dataframe\">\n",
       "  <thead>\n",
       "    <tr style=\"text-align: right;\">\n",
       "      <th></th>\n",
       "      <th>Title</th>\n",
       "      <th>Author</th>\n",
       "      <th>Published</th>\n",
       "      <th>Region</th>\n",
       "      <th>Excerpt</th>\n",
       "      <th>Full_text</th>\n",
       "    </tr>\n",
       "  </thead>\n",
       "  <tbody>\n",
       "    <tr>\n",
       "      <th>289</th>\n",
       "      <td>\"Sensibiliser le public à l’importance des for...</td>\n",
       "      <td>Romain Hugues - rhugues@nicematin.fr</td>\n",
       "      <td>Publié le 09/12/2024 à 14:45, mis à jour le 09...</td>\n",
       "      <td>Vallées</td>\n",
       "      <td>Depuis moins d’un an, Mendy et Marc-Olivier De...</td>\n",
       "      <td>Ils mangent, boivent, respirent et pensent bou...</td>\n",
       "    </tr>\n",
       "    <tr>\n",
       "      <th>290</th>\n",
       "      <td>Municipale partielle: les urnes ont livré leur...</td>\n",
       "      <td>Aurélie Selvi</td>\n",
       "      <td>Publié le 09/12/2024 à 11:15, mis à jour le 09...</td>\n",
       "      <td>Vallées</td>\n",
       "      <td>Dans le village des Alpes-de-Haute-Provence, à...</td>\n",
       "      <td>Dans la cité médiévale d’Entrevaux, les cheval...</td>\n",
       "    </tr>\n",
       "    <tr>\n",
       "      <th>291</th>\n",
       "      <td>Bientôt des panneaux solaires sur les toits du...</td>\n",
       "      <td>FAB. BONGIOVANNI</td>\n",
       "      <td>Publié le 09/12/2024 à 10:00, mis à jour le 09...</td>\n",
       "      <td>Nice</td>\n",
       "      <td>Les élus du Bar-sur-Loup sont d’accord sur le ...</td>\n",
       "      <td>La dernière séance du conseil municipal du Bar...</td>\n",
       "    </tr>\n",
       "    <tr>\n",
       "      <th>292</th>\n",
       "      <td>Les urnes ont rendu leur verdict: trois candid...</td>\n",
       "      <td>Aurélie Selvi avec A. D.</td>\n",
       "      <td>Publié le 08/12/2024 à 20:49, mis à jour le 08...</td>\n",
       "      <td>Nice</td>\n",
       "      <td>Renouveler trois sièges au conseil municipal a...</td>\n",
       "      <td>Ce dimanche 8 décembre, la centaine de citoyen...</td>\n",
       "    </tr>\n",
       "    <tr>\n",
       "      <th>293</th>\n",
       "      <td>À quatre mois de \"Biot et les Templiers\", la c...</td>\n",
       "      <td>B. C.</td>\n",
       "      <td>Publié le 08/12/2024 à 16:15, mis à jour le 08...</td>\n",
       "      <td>Nice</td>\n",
       "      <td>La manifestation aux 100.000 visiteurs se tien...</td>\n",
       "      <td>Les 4, 5 et 6 avril, Biot retourne au XIIIe si...</td>\n",
       "    </tr>\n",
       "  </tbody>\n",
       "</table>\n",
       "</div>"
      ],
      "text/plain": [
       "                                                 Title  \\\n",
       "289  \"Sensibiliser le public à l’importance des for...   \n",
       "290  Municipale partielle: les urnes ont livré leur...   \n",
       "291  Bientôt des panneaux solaires sur les toits du...   \n",
       "292  Les urnes ont rendu leur verdict: trois candid...   \n",
       "293  À quatre mois de \"Biot et les Templiers\", la c...   \n",
       "\n",
       "                                   Author  \\\n",
       "289  Romain Hugues - rhugues@nicematin.fr   \n",
       "290                         Aurélie Selvi   \n",
       "291                      FAB. BONGIOVANNI   \n",
       "292              Aurélie Selvi avec A. D.   \n",
       "293                                 B. C.   \n",
       "\n",
       "                                             Published   Region  \\\n",
       "289  Publié le 09/12/2024 à 14:45, mis à jour le 09...  Vallées   \n",
       "290  Publié le 09/12/2024 à 11:15, mis à jour le 09...  Vallées   \n",
       "291  Publié le 09/12/2024 à 10:00, mis à jour le 09...     Nice   \n",
       "292  Publié le 08/12/2024 à 20:49, mis à jour le 08...     Nice   \n",
       "293  Publié le 08/12/2024 à 16:15, mis à jour le 08...     Nice   \n",
       "\n",
       "                                               Excerpt  \\\n",
       "289  Depuis moins d’un an, Mendy et Marc-Olivier De...   \n",
       "290  Dans le village des Alpes-de-Haute-Provence, à...   \n",
       "291  Les élus du Bar-sur-Loup sont d’accord sur le ...   \n",
       "292  Renouveler trois sièges au conseil municipal a...   \n",
       "293  La manifestation aux 100.000 visiteurs se tien...   \n",
       "\n",
       "                                             Full_text  \n",
       "289  Ils mangent, boivent, respirent et pensent bou...  \n",
       "290  Dans la cité médiévale d’Entrevaux, les cheval...  \n",
       "291  La dernière séance du conseil municipal du Bar...  \n",
       "292  Ce dimanche 8 décembre, la centaine de citoyen...  \n",
       "293  Les 4, 5 et 6 avril, Biot retourne au XIIIe si...  "
      ]
     },
     "execution_count": 50,
     "metadata": {},
     "output_type": "execute_result"
    }
   ],
   "source": [
    "df_news.tail()"
   ]
  },
  {
   "cell_type": "markdown",
   "id": "e7ac6a63-cd10-4efc-9683-0058d934818c",
   "metadata": {},
   "source": [
    "## EDA"
   ]
  },
  {
   "cell_type": "markdown",
   "id": "5363eaaa-698b-4c18-83ce-42d354e2df0e",
   "metadata": {},
   "source": [
    "Посмотрим на общие параметры собранного датасета"
   ]
  },
  {
   "cell_type": "code",
   "execution_count": 53,
   "id": "bb80a493-89df-4bdc-b41e-d49cbb0ca109",
   "metadata": {},
   "outputs": [
    {
     "name": "stdout",
     "output_type": "stream",
     "text": [
      "<class 'pandas.core.frame.DataFrame'>\n",
      "RangeIndex: 294 entries, 0 to 293\n",
      "Data columns (total 6 columns):\n",
      " #   Column     Non-Null Count  Dtype \n",
      "---  ------     --------------  ----- \n",
      " 0   Title      294 non-null    object\n",
      " 1   Author     292 non-null    object\n",
      " 2   Published  292 non-null    object\n",
      " 3   Region     292 non-null    object\n",
      " 4   Excerpt    292 non-null    object\n",
      " 5   Full_text  294 non-null    object\n",
      "dtypes: object(6)\n",
      "memory usage: 13.9+ KB\n"
     ]
    }
   ],
   "source": [
    "df_news.info()"
   ]
  },
  {
   "cell_type": "markdown",
   "id": "d4563db5-9d4d-437a-bc53-6be7ecfe5ecf",
   "metadata": {},
   "source": [
    "Видим, что есть две записи с пропущенными значениями - посмотрим на них"
   ]
  },
  {
   "cell_type": "code",
   "execution_count": 55,
   "id": "66cb57fd-3f8c-4df2-9c84-0cf84f40a6bd",
   "metadata": {},
   "outputs": [
    {
     "data": {
      "text/html": [
       "<div>\n",
       "<style scoped>\n",
       "    .dataframe tbody tr th:only-of-type {\n",
       "        vertical-align: middle;\n",
       "    }\n",
       "\n",
       "    .dataframe tbody tr th {\n",
       "        vertical-align: top;\n",
       "    }\n",
       "\n",
       "    .dataframe thead th {\n",
       "        text-align: right;\n",
       "    }\n",
       "</style>\n",
       "<table border=\"1\" class=\"dataframe\">\n",
       "  <thead>\n",
       "    <tr style=\"text-align: right;\">\n",
       "      <th></th>\n",
       "      <th>Title</th>\n",
       "      <th>Author</th>\n",
       "      <th>Published</th>\n",
       "      <th>Region</th>\n",
       "      <th>Excerpt</th>\n",
       "      <th>Full_text</th>\n",
       "    </tr>\n",
       "  </thead>\n",
       "  <tbody>\n",
       "    <tr>\n",
       "      <th>203</th>\n",
       "      <td>Noël à Antibes Juan-les-Pins: les moments fort...</td>\n",
       "      <td>None</td>\n",
       "      <td>None</td>\n",
       "      <td>None</td>\n",
       "      <td>None</td>\n",
       "      <td>Le Village de Noël et les manèges pour enfants...</td>\n",
       "    </tr>\n",
       "    <tr>\n",
       "      <th>211</th>\n",
       "      <td>Noël à Antibes Juan-les-Pins: les moments fort...</td>\n",
       "      <td>None</td>\n",
       "      <td>None</td>\n",
       "      <td>None</td>\n",
       "      <td>None</td>\n",
       "      <td>Le Village de Noël et les manèges pour enfants...</td>\n",
       "    </tr>\n",
       "  </tbody>\n",
       "</table>\n",
       "</div>"
      ],
      "text/plain": [
       "                                                 Title Author Published  \\\n",
       "203  Noël à Antibes Juan-les-Pins: les moments fort...   None      None   \n",
       "211  Noël à Antibes Juan-les-Pins: les moments fort...   None      None   \n",
       "\n",
       "    Region Excerpt                                          Full_text  \n",
       "203   None    None  Le Village de Noël et les manèges pour enfants...  \n",
       "211   None    None  Le Village de Noël et les manèges pour enfants...  "
      ]
     },
     "execution_count": 55,
     "metadata": {},
     "output_type": "execute_result"
    }
   ],
   "source": [
    "df_news[df_news.isna().any(axis=1)]"
   ]
  },
  {
   "cell_type": "markdown",
   "id": "2f16b31b-4e7a-4f26-b089-e68a277e1f47",
   "metadata": {},
   "source": [
    "Видим, что записи дублируются - удалим их из датасета"
   ]
  },
  {
   "cell_type": "code",
   "execution_count": 57,
   "id": "b6d8a61c-8e01-4222-bf37-3b33eb002537",
   "metadata": {},
   "outputs": [],
   "source": [
    "df_news.dropna(inplace = True)"
   ]
  },
  {
   "cell_type": "code",
   "execution_count": 58,
   "id": "e2383c06-ca62-41b0-b9a3-d400fc1ee5a7",
   "metadata": {},
   "outputs": [
    {
     "name": "stdout",
     "output_type": "stream",
     "text": [
      "<class 'pandas.core.frame.DataFrame'>\n",
      "Index: 292 entries, 0 to 293\n",
      "Data columns (total 6 columns):\n",
      " #   Column     Non-Null Count  Dtype \n",
      "---  ------     --------------  ----- \n",
      " 0   Title      292 non-null    object\n",
      " 1   Author     292 non-null    object\n",
      " 2   Published  292 non-null    object\n",
      " 3   Region     292 non-null    object\n",
      " 4   Excerpt    292 non-null    object\n",
      " 5   Full_text  292 non-null    object\n",
      "dtypes: object(6)\n",
      "memory usage: 16.0+ KB\n"
     ]
    }
   ],
   "source": [
    "df_news.info()"
   ]
  },
  {
   "cell_type": "markdown",
   "id": "2c96e3f0-d0a9-47c3-b895-41c697cfb0db",
   "metadata": {},
   "source": [
    "Числовых признаков в наборе данных нет, посмотрим на количество уникальных признаков"
   ]
  },
  {
   "cell_type": "code",
   "execution_count": 60,
   "id": "0f4b31bd-0054-443c-b8ea-b3534d99fe02",
   "metadata": {},
   "outputs": [
    {
     "data": {
      "text/plain": [
       "Title        255\n",
       "Author       113\n",
       "Published    255\n",
       "Region        18\n",
       "Excerpt      251\n",
       "Full_text    255\n",
       "dtype: int64"
      ]
     },
     "execution_count": 60,
     "metadata": {},
     "output_type": "execute_result"
    }
   ],
   "source": [
    "df_news.nunique()"
   ]
  },
  {
   "cell_type": "markdown",
   "id": "71c46667-db7b-47c3-aec6-12c24b979bc7",
   "metadata": {},
   "source": [
    "В датасете собраны новости из 18 различных регионов, посмотрим на них"
   ]
  },
  {
   "cell_type": "code",
   "execution_count": 62,
   "id": "8a8f4187-db96-4bee-840d-d4f324718701",
   "metadata": {},
   "outputs": [
    {
     "data": {
      "text/plain": [
       "array(['France', 'Antibes', 'Draguignan', 'Cannes', 'Monde', 'Nice',\n",
       "       'Région', 'Saint-Tropez', 'Monaco', 'Toulon', 'Grasse',\n",
       "       'Fréjus/Saint-Raphaël', \"Côte d'Azur\", 'Var', 'Menton',\n",
       "       'Brignoles', 'Vallées', 'Cagnes'], dtype=object)"
      ]
     },
     "execution_count": 62,
     "metadata": {},
     "output_type": "execute_result"
    }
   ],
   "source": [
    "df_news['Region'].unique()"
   ]
  },
  {
   "cell_type": "markdown",
   "id": "205947e0-c6bc-44c4-99aa-807e4a19f062",
   "metadata": {},
   "source": [
    "Также у нас 112 авторов, посмотрим на ряд первых из списка"
   ]
  },
  {
   "cell_type": "code",
   "execution_count": 64,
   "id": "3ba11072-27f7-4268-a2c2-cae598e8804e",
   "metadata": {},
   "outputs": [
    {
     "data": {
      "text/plain": [
       "array(['AFP', 'La rédaction', 'Émilie Moulinemoulin@nicematin.fr',\n",
       "       'rOMAIN HUGUES', 'La rédaction (avec AFP)', 'F.C.',\n",
       "       'La rédaction avec AFP', 'Damien Allemand', 'S. N.', 'C. C.',\n",
       "       'N. SA.', 'C.V.', 'Cedric Verany', 'M.G.', 'Christophe CIRONE',\n",
       "       'Gaëlle Arama', 'AFP par Kenan AUGEARD', 'G. P', 'Karine Wenger',\n",
       "       'Thibaut Parat', 'K.Wenger'], dtype=object)"
      ]
     },
     "execution_count": 64,
     "metadata": {},
     "output_type": "execute_result"
    }
   ],
   "source": [
    "df_news['Author'].unique()[:21]"
   ]
  },
  {
   "cell_type": "markdown",
   "id": "40e055dd-2547-4bbe-8b25-e384c4ffef84",
   "metadata": {},
   "source": [
    "## Итоги\n",
    "Удалось собрать данные с новостного сайта Nice Matin, датасет получился небольшим и в нем не оказалось целевой переменной - но это Франция, здесь может не быть целевой переменной, но всегда есть багет, сыр и rosé..."
   ]
  },
  {
   "cell_type": "code",
   "execution_count": null,
   "id": "420cc60f-9005-4709-b285-b099451872c6",
   "metadata": {},
   "outputs": [],
   "source": []
  }
 ],
 "metadata": {
  "kernelspec": {
   "display_name": "Python 3 (ipykernel)",
   "language": "python",
   "name": "python3"
  },
  "language_info": {
   "codemirror_mode": {
    "name": "ipython",
    "version": 3
   },
   "file_extension": ".py",
   "mimetype": "text/x-python",
   "name": "python",
   "nbconvert_exporter": "python",
   "pygments_lexer": "ipython3",
   "version": "3.12.7"
  }
 },
 "nbformat": 4,
 "nbformat_minor": 5
}
