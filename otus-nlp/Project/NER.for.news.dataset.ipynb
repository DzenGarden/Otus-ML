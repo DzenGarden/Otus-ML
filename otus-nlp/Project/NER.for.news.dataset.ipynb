{
 "cells": [
  {
   "cell_type": "markdown",
   "id": "e602a3ae-c450-4a88-aa65-a112a94bbf13",
   "metadata": {},
   "source": [
    "## Проектная работа\n",
    "\n",
    "### Тема: Сравнение методов распознавания именованных сущностей (NER) на примере новостного датасета\n",
    "\n",
    "Содержание:\n",
    "1. Scraping новостного сайта [Nice Matin](https://www.nicematin.com/);\n",
    "\n",
    "2. Формирование набора данных;\n",
    "\n",
    "3. Минимальный анализ и предобработка набора данных (EDA & Preprocessing);\n",
    "\n",
    "4. Применение библиотеки [spaCy](https://spacy.io/models/fr) для распознования именованных сущностей;\n",
    "\n",
    "5. Распознование именованных сущностей с использованием предобученной модели [Camembert-ner](https://huggingface.co/Jean-Baptiste/camembert-ner-with-dates);\n",
    "\n",
    "6. Сравнение и итоговые выводы;"
   ]
  },
  {
   "cell_type": "code",
   "execution_count": 2,
   "id": "292f9dc4-82af-4207-9cf1-2b4dd71f5817",
   "metadata": {},
   "outputs": [],
   "source": [
    "from pathlib import Path\n",
    "from datetime import date\n",
    "\n",
    "import numpy as np   \n",
    "import pandas as pd  \n",
    "import time          \n",
    "\n",
    "import requests\n",
    "from fake_useragent import UserAgent\n",
    "from bs4 import BeautifulSoup\n",
    "from tqdm import tqdm\n",
    "\n",
    "import spacy\n",
    "from spacy import displacy\n",
    "from collections import Counter\n",
    "import fr_core_news_md\n",
    "\n",
    "from transformers import AutoTokenizer, AutoModelForTokenClassification, pipeline\n",
    "from ipymarkup import show_span_box_markup, show_span_line_markup\n",
    "\n",
    "import matplotlib.pyplot as plt\n",
    "\n",
    "import warnings\n",
    "warnings.filterwarnings(\"ignore\")"
   ]
  },
  {
   "cell_type": "markdown",
   "id": "1c5e47a2-2233-4dca-a15c-69bbb282011c",
   "metadata": {},
   "source": [
    "## Парсинг"
   ]
  },
  {
   "cell_type": "markdown",
   "id": "ead38a43-f539-40c7-867b-1c8f78e69500",
   "metadata": {},
   "source": [
    "Собирать данные будем на новостном сайте Nice Matin - утренняя Ницца )"
   ]
  },
  {
   "cell_type": "code",
   "execution_count": 6,
   "id": "8d700518-c6f9-4cfe-be13-943fafd80095",
   "metadata": {},
   "outputs": [],
   "source": [
    "top_page = 'https://www.nicematin.com/'"
   ]
  },
  {
   "cell_type": "code",
   "execution_count": 7,
   "id": "ad8ef0cb-6dc3-45b4-acc3-41d490b2b0ed",
   "metadata": {},
   "outputs": [
    {
     "data": {
      "text/plain": [
       "'Mozilla/5.0 (iPhone; CPU iPhone OS 18_2_0 like Mac OS X) AppleWebKit/605.1.15 (KHTML, like Gecko) CriOS/131.0.6778.73 Mobile/15E148 Safari/604.1'"
      ]
     },
     "execution_count": 7,
     "metadata": {},
     "output_type": "execute_result"
    }
   ],
   "source": [
    "UserAgent().chrome"
   ]
  },
  {
   "cell_type": "code",
   "execution_count": 8,
   "id": "e228bc88-d728-400e-9b64-27896e11cb2a",
   "metadata": {},
   "outputs": [
    {
     "data": {
      "text/plain": [
       "<Response [200]>"
      ]
     },
     "execution_count": 8,
     "metadata": {},
     "output_type": "execute_result"
    }
   ],
   "source": [
    "top_response = requests.get(top_page, headers={'User-Agent': UserAgent().chrome})\n",
    "top_response"
   ]
  },
  {
   "cell_type": "code",
   "execution_count": 9,
   "id": "d8d35d88-3c72-4001-9a3c-61f5c42c78a6",
   "metadata": {},
   "outputs": [],
   "source": [
    "top_html = top_response.content"
   ]
  },
  {
   "cell_type": "code",
   "execution_count": 10,
   "id": "0611fcb3-40c0-466b-bc24-ce2d9a215448",
   "metadata": {},
   "outputs": [
    {
     "data": {
      "text/plain": [
       "300888"
      ]
     },
     "execution_count": 10,
     "metadata": {},
     "output_type": "execute_result"
    }
   ],
   "source": [
    "len(top_html)"
   ]
  },
  {
   "cell_type": "code",
   "execution_count": 11,
   "id": "7969b233-01db-48ee-a3a3-6ac5654da0d5",
   "metadata": {},
   "outputs": [],
   "source": [
    "top_soup = BeautifulSoup(top_html, 'html.parser')"
   ]
  },
  {
   "cell_type": "code",
   "execution_count": 12,
   "id": "1bec8eb6-9a1b-46ce-966f-d7e3bb8e5f5e",
   "metadata": {},
   "outputs": [
    {
     "data": {
      "text/plain": [
       "str"
      ]
     },
     "execution_count": 12,
     "metadata": {},
     "output_type": "execute_result"
    }
   ],
   "source": [
    "type(top_soup.prettify())"
   ]
  },
  {
   "cell_type": "code",
   "execution_count": 13,
   "id": "f4a2f0eb-9efe-4f16-abb5-3697d0b1b49d",
   "metadata": {
    "scrolled": true
   },
   "outputs": [
    {
     "name": "stdout",
     "output_type": "stream",
     "text": [
      "<!DOCTYPE html>\n",
      "<html class=\"nm\" lang=\"fr\">\n",
      " <head>\n",
      "  <meta charset=\"utf-8\"/>\n",
      "  <link href=\"https://cdn.assets03.nicematin.com/build/favicons/freemium/nm_fav.d9370e02.png\" rel=\"icon\" type=\"image/png\"/>\n",
      "  <link href=\"https://cdn.assets03.nicematin.com/build/favicons/freemium/nm_fav.d9370e02.png\" rel=\"shortcut icon\" type=\"image/x-icon\"/>\n",
      "  <link href=\"https://cdn.assets03.nicematin.com/build/favicons/freemium/nm_fav.d9370e02.png\" rel=\"apple-touch-icon\"/>\n",
      "  <link href=\"https://cdn.assets03.nicematin.com/build/favicons/freemium/nm_fav.d9370e02.png\" rel=\"apple-touch-icon\" sizes=\"57x57\">\n",
      "   <link href=\"https://cdn.assets03.nicematin.com/build/favicons/freemium/nm_fav.d9370e02.png\" rel=\"apple-touch-icon\" sizes=\"60x60\">\n",
      "    <link href=\"https://cdn.assets03.nicematin.com/build/favicons/freemium/nm_fav.d9370e02.png\" rel=\"apple-touch-icon\" sizes=\"72x72\"/>\n",
      "    <link href=\"https://cdn.assets03.nicematin.com/build/favicons/freemium/nm_fav.d9370e02.png\" rel=\"apple-touch-icon\" sizes=\"76x76\"/>\n",
      "    <lin\n"
     ]
    }
   ],
   "source": [
    "print(top_soup.prettify()[:1000])"
   ]
  },
  {
   "cell_type": "code",
   "execution_count": 14,
   "id": "5d80a057-f63e-44c0-b5e0-68ac474b3f4b",
   "metadata": {},
   "outputs": [
    {
     "data": {
      "text/plain": [
       "<title>Actualités et infos en direct - Nice-Matin</title>"
      ]
     },
     "execution_count": 14,
     "metadata": {},
     "output_type": "execute_result"
    }
   ],
   "source": [
    "top_soup.html.head.title"
   ]
  },
  {
   "cell_type": "markdown",
   "id": "a3d3a4ac-7bfb-4ee4-b169-97302c93ece6",
   "metadata": {},
   "source": [
    "Напишем функцию для получения списка ссылок на странице"
   ]
  },
  {
   "cell_type": "code",
   "execution_count": 16,
   "id": "a82cd83d-408e-4d56-98db-1b1ce8a718e7",
   "metadata": {},
   "outputs": [],
   "source": [
    "def get_links_list (page, tag, class_to_find):\n",
    "    \"\"\"\n",
    "    Parameters:\n",
    "    page: link to an html-page to find the links on;\n",
    "    tag: <tag> to find;\n",
    "    class_to_find: <class> to find; \n",
    "    \n",
    "    Returns: list of links\n",
    "    \"\"\"\n",
    "    response = requests.get(page, headers={'User-Agent': UserAgent().chrome})\n",
    "    html = response.content\n",
    "    soup = BeautifulSoup(html, 'html.parser')\n",
    "    obj_list = soup.find_all(tag, attrs = {'class':class_to_find})\n",
    "    links_list = [obj_item.attrs['href'] for obj_item in obj_list if obj_item.attrs['href'][0:25] == 'https://www.nicematin.com']\n",
    "    return links_list"
   ]
  },
  {
   "cell_type": "markdown",
   "id": "f0cbc2cd-bdb8-428a-91b1-3b27ff8719d2",
   "metadata": {},
   "source": [
    "Соберем список тематических ссылок на первой странице Nice matin"
   ]
  },
  {
   "cell_type": "code",
   "execution_count": 18,
   "id": "a9c7fc03-a013-47eb-8f98-f9ed20eba968",
   "metadata": {},
   "outputs": [],
   "source": [
    "theme_links_list = get_links_list(top_page, 'a', 'header-link-secondary')"
   ]
  },
  {
   "cell_type": "code",
   "execution_count": 19,
   "id": "33f434de-cd93-43b8-b887-bc4994a36dc7",
   "metadata": {},
   "outputs": [
    {
     "data": {
      "text/plain": [
       "['https://www.nicematin.com/sujet/faits-de-societe',\n",
       " 'https://www.nicematin.com/sujet/faits-divers',\n",
       " 'https://www.nicematin.com/sujet/economie',\n",
       " 'https://www.nicematin.com/sujet/politique',\n",
       " 'https://www.nicematin.com/sujet/sport',\n",
       " 'https://www.nicematin.com/sujet/sante',\n",
       " 'https://www.nicematin.com/sujet/ogcnice',\n",
       " 'https://www.nicematin.com/sujet/opinion',\n",
       " 'https://www.nicematin.com/sujet/culture',\n",
       " 'https://www.nicematin.com/sujet/jeux-olympiques',\n",
       " 'https://www.nicematin.com/ville/nice',\n",
       " 'https://www.nicematin.com/commune/saint-laurent-du-var',\n",
       " 'https://www.nicematin.com/ville/cagnes',\n",
       " 'https://www.nicematin.com/ville/cannes',\n",
       " 'https://www.nicematin.com/ville/antibes',\n",
       " 'https://www.nicematin.com/ville/grasse',\n",
       " 'https://www.nicematin.com/ville/menton',\n",
       " 'https://www.nicematin.com/ville/monaco',\n",
       " 'https://www.nicematin.com/ville/vallees']"
      ]
     },
     "execution_count": 19,
     "metadata": {},
     "output_type": "execute_result"
    }
   ],
   "source": [
    "theme_links_list"
   ]
  },
  {
   "cell_type": "code",
   "execution_count": 20,
   "id": "57361f85-64ea-4a35-bc20-4509fe037242",
   "metadata": {},
   "outputs": [
    {
     "data": {
      "text/plain": [
       "'https://www.nicematin.com/sujet/faits-de-societe'"
      ]
     },
     "execution_count": 20,
     "metadata": {},
     "output_type": "execute_result"
    }
   ],
   "source": [
    "theme_links_list[0]"
   ]
  },
  {
   "cell_type": "markdown",
   "id": "e9a333f9-ea18-40b4-90c5-433c8af77033",
   "metadata": {},
   "source": [
    "Пройдем по всем тематическим ссылкам и соберем итоговый список ссылок на новостные статьи"
   ]
  },
  {
   "cell_type": "code",
   "execution_count": 22,
   "id": "25237a5d-6d79-4452-b1f3-8353f74a78b9",
   "metadata": {},
   "outputs": [],
   "source": [
    "allnews_links_list = []"
   ]
  },
  {
   "cell_type": "code",
   "execution_count": 23,
   "id": "bbcf3b65-3a8e-446e-ab7a-73ca71064d08",
   "metadata": {},
   "outputs": [
    {
     "name": "stderr",
     "output_type": "stream",
     "text": [
      "100%|███████████████████████████████████████████| 19/19 [00:13<00:00,  1.42it/s]\n"
     ]
    }
   ],
   "source": [
    "for link in tqdm(theme_links_list):\n",
    "    allnews_links_list = allnews_links_list + get_links_list(link, 'a', 'title-link')\n",
    "    time.sleep(0.3)"
   ]
  },
  {
   "cell_type": "code",
   "execution_count": 24,
   "id": "e831670d-a789-4d80-a0ca-7dbae784ec8a",
   "metadata": {},
   "outputs": [
    {
     "data": {
      "text/plain": [
       "294"
      ]
     },
     "execution_count": 24,
     "metadata": {},
     "output_type": "execute_result"
    }
   ],
   "source": [
    "len(allnews_links_list)"
   ]
  },
  {
   "cell_type": "code",
   "execution_count": 25,
   "id": "adf1031f-18ff-4fdf-a1a6-652ba9c209a5",
   "metadata": {
    "scrolled": true
   },
   "outputs": [
    {
     "data": {
      "text/plain": [
       "['https://www.nicematin.com/education/le-premier-college-catholique-hors-contrat-avec-l-etat-va-ouvrir-a-nice-979533',\n",
       " 'https://www.nicematin.com/faits-de-societe/bayrou-s-exprimera-la-semaine-prochaine-sur-le-debat-etre-francais-979537',\n",
       " 'https://www.nicematin.com/faits-de-societe/livreurs-de-repas-a-domicile-la-course-aux-profits-des-plateformes-fait-derailler-leur-sante-979535',\n",
       " 'https://www.nicematin.com/faits-de-societe/120-jours-par-an-c-est-fini-une-nouvelle-commune-des-alpes-maritimes-durcit-les-regles-des-locations-airbnb-979432',\n",
       " 'https://www.nicematin.com/justice/consentement-le-texte-modifiant-la-definition-penale-du-viol-debattu-a-l-assemblee-979508',\n",
       " 'https://www.nicematin.com/education/sexisme-mixite-stereotypes-persistants-on-parle-d-egalite-aux-eleves-de-ce-college-de-mouans-sartoux-979375',\n",
       " 'https://www.nicematin.com/education/ces-collegiens-de-menton-sont-en-finale-du-concours-du-court-metrage-prix-philoxenia-979358',\n",
       " 'https://www.nicematin.com/faits-de-societe/rabbin-agresse-retailleau-pointe-l-antisemitisme-de-l-islamisme-et-de-l-extreme-gauche-979261',\n",
       " 'https://www.nicematin.com/faits-divers/le-poisonde-lantisemitisme-mordu-a-l-epaule-marche-silencieuse-ce-que-l-on-sait-apres-l-agression-du-rabbin-d-orleans-ce-week-end-979232',\n",
       " 'https://www.nicematin.com/faits-de-societe/la-circulation-des-trains-interrompue-entre-nice-et-monaco-jusqu-a-au-moins-14h-ce-lundi-979234']"
      ]
     },
     "execution_count": 25,
     "metadata": {},
     "output_type": "execute_result"
    }
   ],
   "source": [
    "allnews_links_list[:10]"
   ]
  },
  {
   "cell_type": "markdown",
   "id": "18023e81-c6c0-4b2a-bf39-9b3108ddc807",
   "metadata": {},
   "source": [
    "Посмотрим на первую ссылку в списке"
   ]
  },
  {
   "cell_type": "code",
   "execution_count": 27,
   "id": "498ce94e-1ef9-486b-a38e-e78faefefd1d",
   "metadata": {},
   "outputs": [
    {
     "data": {
      "text/plain": [
       "'https://www.nicematin.com/education/le-premier-college-catholique-hors-contrat-avec-l-etat-va-ouvrir-a-nice-979533'"
      ]
     },
     "execution_count": 27,
     "metadata": {},
     "output_type": "execute_result"
    }
   ],
   "source": [
    "allnews_links_list[0]"
   ]
  },
  {
   "cell_type": "markdown",
   "id": "0a77d0fc-dd89-4ae1-bb9c-2ea6ead743d7",
   "metadata": {},
   "source": [
    "попробуем получить детальную информацию по новости"
   ]
  },
  {
   "cell_type": "code",
   "execution_count": 29,
   "id": "22d5ac31-5b52-4b7a-9694-6eb3c16bee0d",
   "metadata": {},
   "outputs": [],
   "source": [
    "response = requests.get(allnews_links_list[0], headers={'User-Agent': UserAgent().chrome})"
   ]
  },
  {
   "cell_type": "code",
   "execution_count": 30,
   "id": "b24854ae-bae8-438e-b2ca-f78eb32ec90d",
   "metadata": {},
   "outputs": [
    {
     "data": {
      "text/plain": [
       "<Response [200]>"
      ]
     },
     "execution_count": 30,
     "metadata": {},
     "output_type": "execute_result"
    }
   ],
   "source": [
    "response"
   ]
  },
  {
   "cell_type": "code",
   "execution_count": 31,
   "id": "1642f3fe-e4ad-4984-9ee4-3b3b49c78734",
   "metadata": {},
   "outputs": [],
   "source": [
    "html = response.content"
   ]
  },
  {
   "cell_type": "code",
   "execution_count": 32,
   "id": "e925e07c-37e6-4bb9-a24d-45506aab13fe",
   "metadata": {},
   "outputs": [],
   "source": [
    "soup = BeautifulSoup(html, 'html.parser')"
   ]
  },
  {
   "cell_type": "code",
   "execution_count": 33,
   "id": "7874f226-8d44-4bf0-b653-2e0cc263b253",
   "metadata": {
    "scrolled": true
   },
   "outputs": [
    {
     "data": {
      "text/plain": [
       "'<!DOCTYPE html>\\n<html class=\"nm\" lang=\"fr\">\\n <head>\\n  <meta charset=\"utf-8\"/>\\n  <link href=\"https://cdn.assets03.nicematin.com/build/favicons/freemium/nm_fav.d9370e02.png\" rel=\"icon\" type=\"image/png\"/>\\n  <link href=\"https://cdn.assets03.nicematin.com/build/favicons/freemium/nm_fav.d9370e02.png\" rel=\"shortcut icon\" type=\"image/x-icon\"/>\\n  <link href=\"https://cdn.assets03.nicematin.com/build/favicons/freemium/nm_fav.d9370e02.png\" rel=\"apple-touch-icon\"/>\\n  <link href=\"https://cdn.assets03.nicematin.com/build/favicons/freemium/nm_fav.d9370e02.png\" rel=\"apple-touch-icon\" sizes=\"57x57\">\\n   <link href=\"https://cdn.assets03.nicematin.com/build/favicons/freemium/nm_fav.d9370e02.png\" rel=\"apple-touch-icon\" sizes=\"60x60\">\\n    <link href=\"https://cdn.assets03.nicematin.com/build/favicons/freemium/nm_fav.d9370e02.png\" rel=\"apple-touch-icon\" sizes=\"72x72\"/>\\n    <link href=\"https://cdn.assets03.nicematin.com/build/favicons/freemium/nm_fav.d9370e02.png\" rel=\"apple-touch-icon\" sizes=\"76x76\"/>\\n    <lin'"
      ]
     },
     "execution_count": 33,
     "metadata": {},
     "output_type": "execute_result"
    }
   ],
   "source": [
    "soup.prettify()[:1000]"
   ]
  },
  {
   "cell_type": "code",
   "execution_count": 34,
   "id": "3ffd451a-ab65-44d1-9b87-22b4b3a9061b",
   "metadata": {},
   "outputs": [
    {
     "data": {
      "text/plain": [
       "\"À Nice, le premier collège catholique hors contrat avec l'État va bientôt ouvrir\""
      ]
     },
     "execution_count": 34,
     "metadata": {},
     "output_type": "execute_result"
    }
   ],
   "source": [
    "title = soup.find('h1', attrs = {'class':\"article-title\"}).text\n",
    "title"
   ]
  },
  {
   "cell_type": "code",
   "execution_count": 35,
   "id": "7165d475-6c56-43be-a8f7-a1d902c2d18d",
   "metadata": {},
   "outputs": [
    {
     "data": {
      "text/plain": [
       "'Premier établissement de ce type en ville, le collège Saint-François ouvrira en septembre. Assumant \"une foi enracinée\", la cofondatrice se défend de tout intégrisme.'"
      ]
     },
     "execution_count": 35,
     "metadata": {},
     "output_type": "execute_result"
    }
   ],
   "source": [
    "excerpt = soup.find('h2', attrs = {'class':\"article-excerpt\"}).text.strip('\\r\\n ')\n",
    "excerpt"
   ]
  },
  {
   "cell_type": "code",
   "execution_count": 36,
   "id": "2c6f5175-5475-4726-a8e3-5df89a0cf90a",
   "metadata": {},
   "outputs": [
    {
     "data": {
      "text/plain": [
       "'Alexandre Ori (aori@nicematin.fr)'"
      ]
     },
     "execution_count": 36,
     "metadata": {},
     "output_type": "execute_result"
    }
   ],
   "source": [
    "author = soup.find('span', attrs = {'class':\"author\"})\n",
    "if author: author = author.text\n",
    "author"
   ]
  },
  {
   "cell_type": "code",
   "execution_count": 37,
   "id": "2ab068e0-2769-4397-9eef-d2522b50d17d",
   "metadata": {},
   "outputs": [
    {
     "data": {
      "text/plain": [
       "'Publié le 26/03/2025 à 14:15, mis à jour le 26/03/2025 à 14:31'"
      ]
     },
     "execution_count": 37,
     "metadata": {},
     "output_type": "execute_result"
    }
   ],
   "source": [
    "published = soup.find('span', attrs = {'class':\"published-at\"})\n",
    "if published: published = published.text\n",
    "published"
   ]
  },
  {
   "cell_type": "code",
   "execution_count": 38,
   "id": "4a56b0f0-3056-47f1-a1dd-fa94331a81da",
   "metadata": {},
   "outputs": [
    {
     "data": {
      "text/plain": [
       "'Nice'"
      ]
     },
     "execution_count": 38,
     "metadata": {},
     "output_type": "execute_result"
    }
   ],
   "source": [
    "city = soup.find('a', attrs = {'class':\"blue city\"})\n",
    "if city: city = city.text\n",
    "city"
   ]
  },
  {
   "cell_type": "code",
   "execution_count": 39,
   "id": "18b727be-05bd-44f0-bd78-fed0fcb851ec",
   "metadata": {},
   "outputs": [
    {
     "data": {
      "text/plain": [
       "'Les couloirs de l’aumônerie vivent leurs derniers mois de tranquillité. Bientôt, des dizaines de bambins égaieront les salles paroissiales de l’église Saint-Joseph, à Nice, au 21, rue Smolett. Là où le futur collège catholique Saint-François prendra ses quartiers pour une première rentrée en septembre 2025.\\nL’établissement privé, hors contrat avec l’État, ouvrira une classe de 6e puis une classe par an et par niveau supplémentaire jusqu’à la 3e. Sa cofondatrice Alicia Colson répond aux questions de Nice-Matin.\\nIl existe déjà six collèges catholiques à Nice. Tous sont sous contrat avec l’État. Pourquoi en créer un nouveau, hors contrat?\\nPour plusieurs raisons. Déjà, parce que dans ces autres établissements, les enfants sont plus d’une trentaine par classe. Ici, ils seront vingt-cinq max. Les téléphones seront déposés le matin et rendus le soir. Ensuite, parce que je souhaite aller plus loin dans les programmes: le latin sera obligatoire dès la 6e et il y aura beaucoup plus d’anglais, jusqu’à treize heures par semaine à la manière d’une section internationale. On fera passer la certification linguistique Cambridge assignement, ainsi que des concours de mathématiques, de logique. On imposera aussi une liste d’ouvrages à lire. Nous visons l’excellence académique. Enfin, parce que, s’il y a deux écoles primaires cathos hors contrat à Nice, il n’y a pas de collège avec ce statut. Statut qui permet plus de liberté sur le plan cultuel, notamment, et qui est recherché par de nombreux parents.\\nQu’est-ce que vous appelez \"liberté cultuelle\" qu’un contrat avec l’État ne pourrait pas permettre?\\nJe souhaite rendre la messe et le catéchisme obligatoires. Les journées commenceront ainsi par une prière. L’étude de la Bible sera aussi renforcée. De même que le Diocèse préparera nos enfants à leur cérémonie de Confirmation. J’aimerais enfin monter une comédie musicale sur la vie de Marie-Madeleine. Et puis force est de constater que, dans la plupart des établissements cathos, aujourd’hui, l’enseignement de la foi est survolé. Il n’y a qu’une poignée d’élèves qui assiste à ces cours. Et dès qu’il est question d’organiser des pèlerinages, par exemple, il y a tellement de résistance de la part des parents non croyants… Des gens plus attirés par l’excellence académique que par les valeurs chrétiennes que nous souhaitons transmettre.\\n\\n\\nà lire aussi\\nÀ Nice, l\\'établissement scolaire privé catholique \"Nazareth\" fait un geste pour les familles les plus modestes\\n\\n\\nVotre établissement est pourtant ouvert aux non-chrétiens…\\nTout le monde est le bienvenu. Mais personne ne sera dispensé de messe ou du catéchisme (une heure par semaine). Il faudra se montrer respectueux. Pour le reste, c’est d’abord un collège, la majorité de programme est laïque.\\nL’une des écoles catholiques hors contrat de la ville, Maris Stella, est née d’une scission motivée par des fidèles de la Fraternité Sacerdotale Saint-Pie X. Cette communauté de catholiques intégristes ne risque-t-elle pas d’être séduite par votre programme?\\nC’est une copine qui a monté cette école. Mais on ne s’est pas concertées. On a une foi un peu différente. À Maris Stella, des Sœurs Dominicaines officient. Je ne suis pas de cette veine traditionaliste, conservatrice. Malgré tout, on a aussi besoin de parents très croyants, très engagés pour nous suivre dans ce projet. Le collège sera donc enraciné dans la foi mais aussi ouvert au monde. Je ne veux pas que le résultat puisse paraître obscurantiste.\\nCes locaux vous ont été proposés par l’abbé Bottin, qui donne aussi la messe en latin. Un rite, là encore, très apprécié des traditionalistes mais décrié par le Vatican…\\nCe sont des tensions à l’échelle de l’institution. À hauteur de fidèles, entre l’abbé et moi, nous entretenons de bonnes relations. Son approche plus tradi sera complémentaire de la mienne, plutôt contemporaine.\\nVous avez le soutien de l’évêque de Nice mais pas son appui financier. Comment subventionnerez-vous le collège?\\nJe crois au grand mécène qui fait un gros cadeau. Mais aussi à tous les petits donateurs qui se mobilisent.\\nVous avez choisi Saint-François comme patron, un homme qui prônait l’humilité, la pauvreté, la fraternité universelle. Que prévoyez-vous pour intégrer les élèves les moins aisés?\\nSans aide de l’État, ce n’est pas simple. Il faut rémunérer les importants salaires de nos professeurs. L’année coûte 3.800 euros, plus 350 euros de frais d’inscription. Mais je ne veux pas que ce soit une barrière. Parce que nous sommes agréés par le rectorat, nos élèves dans le besoin pourront bénéficier de la bourse des collèges. Nous cherchons aussi des mécènes pour des parrainages. J’ai envie que le développement des enfants se fasse sans être envahi par les apparences et l’argent.'"
      ]
     },
     "execution_count": 39,
     "metadata": {},
     "output_type": "execute_result"
    }
   ],
   "source": [
    "full_text = soup.find('section', attrs = {'class':\"article-block\", 'id':'full-text'})\n",
    "if full_text: full_text = full_text.text.strip('\\ncommentaires ')\n",
    "full_text"
   ]
  },
  {
   "cell_type": "markdown",
   "id": "d55b9e42-17bd-4b6d-96ad-d5d07f0a364a",
   "metadata": {},
   "source": [
    "Напишем функцию, возвращающую информацию из новости (title, author, published, region, excerpt, full_text) по url"
   ]
  },
  {
   "cell_type": "code",
   "execution_count": 41,
   "id": "a4a309f1-da64-468d-bf60-2242ee55712a",
   "metadata": {},
   "outputs": [],
   "source": [
    "def getNewsData (nlink):\n",
    "    \n",
    "    response = requests.get(nlink, headers={'User-Agent': UserAgent().chrome})\n",
    "    html = response.content\n",
    "    soup = BeautifulSoup(html, 'html.parser')\n",
    "\n",
    "    title = soup.find('h1', attrs = {'class':\"article-title\"})\n",
    "    if title: title = title.text\n",
    "\n",
    "    author = soup.find('span', attrs = {'class':\"author\"})\n",
    "    if author: author = author.text\n",
    "    \n",
    "    published = soup.find('span', attrs = {'class':\"published-at\"})\n",
    "    if published: published = published.text\n",
    "\n",
    "    city = soup.find('a', attrs = {'class':\"blue city\"})\n",
    "    if city: city = city.text\n",
    "    \n",
    "    excerpt = soup.find('h2', attrs = {'class':\"article-excerpt\"})\n",
    "    if excerpt: excerpt = excerpt.text.strip('\\r\\n ')\n",
    "\n",
    "    full_text = soup.find('section', attrs = {'class':\"article-block\", 'id':'full-text'})\n",
    "    if full_text: full_text = full_text.text.strip('\\ncommentaires ')\n",
    "\n",
    "    data_row = {'Title':title, 'Author':author, 'Published':published, 'Region':city,\n",
    "                'Excerpt':excerpt, 'Full_text':full_text}   \n",
    "    \n",
    "    return data_row"
   ]
  },
  {
   "cell_type": "code",
   "execution_count": 42,
   "id": "694a33a4-27c5-4896-8a37-35cd416cde3b",
   "metadata": {},
   "outputs": [
    {
     "data": {
      "text/plain": [
       "'https://www.nicematin.com/education/le-premier-college-catholique-hors-contrat-avec-l-etat-va-ouvrir-a-nice-979533'"
      ]
     },
     "execution_count": 42,
     "metadata": {},
     "output_type": "execute_result"
    }
   ],
   "source": [
    "allnews_links_list[0]"
   ]
  },
  {
   "cell_type": "code",
   "execution_count": 43,
   "id": "be7d6164-3803-4d7c-bf50-8b620036e3d9",
   "metadata": {},
   "outputs": [],
   "source": [
    "data_row = getNewsData(allnews_links_list[0])"
   ]
  },
  {
   "cell_type": "code",
   "execution_count": 44,
   "id": "9ed3c0f7-a3d1-4c6f-9b04-6d6c6ac93bcd",
   "metadata": {},
   "outputs": [
    {
     "data": {
      "text/plain": [
       "{'Title': \"À Nice, le premier collège catholique hors contrat avec l'État va bientôt ouvrir\",\n",
       " 'Author': 'Alexandre Ori (aori@nicematin.fr)',\n",
       " 'Published': 'Publié le 26/03/2025 à 14:15, mis à jour le 26/03/2025 à 14:31',\n",
       " 'Region': 'Nice',\n",
       " 'Excerpt': 'Premier établissement de ce type en ville, le collège Saint-François ouvrira en septembre. Assumant \"une foi enracinée\", la cofondatrice se défend de tout intégrisme.',\n",
       " 'Full_text': 'Les couloirs de l’aumônerie vivent leurs derniers mois de tranquillité. Bientôt, des dizaines de bambins égaieront les salles paroissiales de l’église Saint-Joseph, à Nice, au 21, rue Smolett. Là où le futur collège catholique Saint-François prendra ses quartiers pour une première rentrée en septembre 2025.\\nL’établissement privé, hors contrat avec l’État, ouvrira une classe de 6e puis une classe par an et par niveau supplémentaire jusqu’à la 3e. Sa cofondatrice Alicia Colson répond aux questions de Nice-Matin.\\nIl existe déjà six collèges catholiques à Nice. Tous sont sous contrat avec l’État. Pourquoi en créer un nouveau, hors contrat?\\nPour plusieurs raisons. Déjà, parce que dans ces autres établissements, les enfants sont plus d’une trentaine par classe. Ici, ils seront vingt-cinq max. Les téléphones seront déposés le matin et rendus le soir. Ensuite, parce que je souhaite aller plus loin dans les programmes: le latin sera obligatoire dès la 6e et il y aura beaucoup plus d’anglais, jusqu’à treize heures par semaine à la manière d’une section internationale. On fera passer la certification linguistique Cambridge assignement, ainsi que des concours de mathématiques, de logique. On imposera aussi une liste d’ouvrages à lire. Nous visons l’excellence académique. Enfin, parce que, s’il y a deux écoles primaires cathos hors contrat à Nice, il n’y a pas de collège avec ce statut. Statut qui permet plus de liberté sur le plan cultuel, notamment, et qui est recherché par de nombreux parents.\\nQu’est-ce que vous appelez \"liberté cultuelle\" qu’un contrat avec l’État ne pourrait pas permettre?\\nJe souhaite rendre la messe et le catéchisme obligatoires. Les journées commenceront ainsi par une prière. L’étude de la Bible sera aussi renforcée. De même que le Diocèse préparera nos enfants à leur cérémonie de Confirmation. J’aimerais enfin monter une comédie musicale sur la vie de Marie-Madeleine. Et puis force est de constater que, dans la plupart des établissements cathos, aujourd’hui, l’enseignement de la foi est survolé. Il n’y a qu’une poignée d’élèves qui assiste à ces cours. Et dès qu’il est question d’organiser des pèlerinages, par exemple, il y a tellement de résistance de la part des parents non croyants… Des gens plus attirés par l’excellence académique que par les valeurs chrétiennes que nous souhaitons transmettre.\\n\\n\\nà lire aussi\\nÀ Nice, l\\'établissement scolaire privé catholique \"Nazareth\" fait un geste pour les familles les plus modestes\\n\\n\\nVotre établissement est pourtant ouvert aux non-chrétiens…\\nTout le monde est le bienvenu. Mais personne ne sera dispensé de messe ou du catéchisme (une heure par semaine). Il faudra se montrer respectueux. Pour le reste, c’est d’abord un collège, la majorité de programme est laïque.\\nL’une des écoles catholiques hors contrat de la ville, Maris Stella, est née d’une scission motivée par des fidèles de la Fraternité Sacerdotale Saint-Pie X. Cette communauté de catholiques intégristes ne risque-t-elle pas d’être séduite par votre programme?\\nC’est une copine qui a monté cette école. Mais on ne s’est pas concertées. On a une foi un peu différente. À Maris Stella, des Sœurs Dominicaines officient. Je ne suis pas de cette veine traditionaliste, conservatrice. Malgré tout, on a aussi besoin de parents très croyants, très engagés pour nous suivre dans ce projet. Le collège sera donc enraciné dans la foi mais aussi ouvert au monde. Je ne veux pas que le résultat puisse paraître obscurantiste.\\nCes locaux vous ont été proposés par l’abbé Bottin, qui donne aussi la messe en latin. Un rite, là encore, très apprécié des traditionalistes mais décrié par le Vatican…\\nCe sont des tensions à l’échelle de l’institution. À hauteur de fidèles, entre l’abbé et moi, nous entretenons de bonnes relations. Son approche plus tradi sera complémentaire de la mienne, plutôt contemporaine.\\nVous avez le soutien de l’évêque de Nice mais pas son appui financier. Comment subventionnerez-vous le collège?\\nJe crois au grand mécène qui fait un gros cadeau. Mais aussi à tous les petits donateurs qui se mobilisent.\\nVous avez choisi Saint-François comme patron, un homme qui prônait l’humilité, la pauvreté, la fraternité universelle. Que prévoyez-vous pour intégrer les élèves les moins aisés?\\nSans aide de l’État, ce n’est pas simple. Il faut rémunérer les importants salaires de nos professeurs. L’année coûte 3.800 euros, plus 350 euros de frais d’inscription. Mais je ne veux pas que ce soit une barrière. Parce que nous sommes agréés par le rectorat, nos élèves dans le besoin pourront bénéficier de la bourse des collèges. Nous cherchons aussi des mécènes pour des parrainages. J’ai envie que le développement des enfants se fasse sans être envahi par les apparences et l’argent.'}"
      ]
     },
     "execution_count": 44,
     "metadata": {},
     "output_type": "execute_result"
    }
   ],
   "source": [
    "data_row"
   ]
  },
  {
   "cell_type": "markdown",
   "id": "b47b5117-04ef-4012-a672-ad3993bda2b8",
   "metadata": {},
   "source": [
    "Работает ! Осталось пройти в цикле по всем новостным ссылкам и сохранить полученные данные в pandas dataframe"
   ]
  },
  {
   "cell_type": "code",
   "execution_count": 46,
   "id": "126f6bbd-43ea-41d4-8963-201eec6a6e3e",
   "metadata": {},
   "outputs": [],
   "source": [
    "df_news = pd.DataFrame(columns=['Title', 'Author', 'Published', 'Region','Excerpt', 'Full_text'])"
   ]
  },
  {
   "cell_type": "code",
   "execution_count": 47,
   "id": "98a01e8a-db65-49ac-845a-edc2b7243220",
   "metadata": {},
   "outputs": [
    {
     "name": "stderr",
     "output_type": "stream",
     "text": [
      "100%|█████████████████████████████████████████| 294/294 [04:13<00:00,  1.16it/s]\n"
     ]
    }
   ],
   "source": [
    "for news_link in tqdm(allnews_links_list):\n",
    "    data_row = getNewsData(news_link)\n",
    "    df_news = pd.concat([df_news, pd.DataFrame([data_row])], ignore_index=True)\n",
    "    time.sleep(0.3)"
   ]
  },
  {
   "cell_type": "code",
   "execution_count": 48,
   "id": "c1f61700-371e-4d8e-843b-e7291b993c2c",
   "metadata": {},
   "outputs": [
    {
     "data": {
      "text/plain": [
       "(294, 6)"
      ]
     },
     "execution_count": 48,
     "metadata": {},
     "output_type": "execute_result"
    }
   ],
   "source": [
    "df_news.shape"
   ]
  },
  {
   "cell_type": "code",
   "execution_count": 49,
   "id": "254bf7d9-6c82-4c32-b411-aa0141548b80",
   "metadata": {},
   "outputs": [
    {
     "data": {
      "text/html": [
       "<div>\n",
       "<style scoped>\n",
       "    .dataframe tbody tr th:only-of-type {\n",
       "        vertical-align: middle;\n",
       "    }\n",
       "\n",
       "    .dataframe tbody tr th {\n",
       "        vertical-align: top;\n",
       "    }\n",
       "\n",
       "    .dataframe thead th {\n",
       "        text-align: right;\n",
       "    }\n",
       "</style>\n",
       "<table border=\"1\" class=\"dataframe\">\n",
       "  <thead>\n",
       "    <tr style=\"text-align: right;\">\n",
       "      <th></th>\n",
       "      <th>Title</th>\n",
       "      <th>Author</th>\n",
       "      <th>Published</th>\n",
       "      <th>Region</th>\n",
       "      <th>Excerpt</th>\n",
       "      <th>Full_text</th>\n",
       "    </tr>\n",
       "  </thead>\n",
       "  <tbody>\n",
       "    <tr>\n",
       "      <th>289</th>\n",
       "      <td>Des habitants réveillés en pleine nuit par un ...</td>\n",
       "      <td>A. R.</td>\n",
       "      <td>Publié le 18/03/2025 à 20:20, mis à jour le 18...</td>\n",
       "      <td>Vallées</td>\n",
       "      <td>Un incendie involontaire de voitures est surve...</td>\n",
       "      <td>\"J’ai été réveillée à minuit par des bruits d’...</td>\n",
       "    </tr>\n",
       "    <tr>\n",
       "      <th>290</th>\n",
       "      <td>En cas de séisme, quels sont les bons gestes à...</td>\n",
       "      <td>S.C</td>\n",
       "      <td>Publié le 18/03/2025 à 20:02, mis à jour le 18...</td>\n",
       "      <td>Région</td>\n",
       "      <td>Ce mardi 18 mars, un séisme de magnitude 4.1 a...</td>\n",
       "      <td>Une secousse d'une magnitude de l'orde de 6 à ...</td>\n",
       "    </tr>\n",
       "    <tr>\n",
       "      <th>291</th>\n",
       "      <td>La température la plus basse de l'hiver a été ...</td>\n",
       "      <td>La rédaction</td>\n",
       "      <td>Publié le 18/03/2025 à 16:16, mis à jour le 18...</td>\n",
       "      <td>Nice</td>\n",
       "      <td>La station météorologique d'Isola 2000 a enreg...</td>\n",
       "      <td>Il fait froid... mais pas autant qu'on pourrai...</td>\n",
       "    </tr>\n",
       "    <tr>\n",
       "      <th>292</th>\n",
       "      <td>Les propriétaires de résidences secondaires so...</td>\n",
       "      <td>La rédaction</td>\n",
       "      <td>Publié le 17/03/2025 à 19:58, mis à jour le 17...</td>\n",
       "      <td>Vallées</td>\n",
       "      <td>Sous perfusion d'argent public selon un rappor...</td>\n",
       "      <td>À Isola, entre 650 et 700 âmes vivent à l’anné...</td>\n",
       "    </tr>\n",
       "    <tr>\n",
       "      <th>293</th>\n",
       "      <td>Culture, gestion des services publics, gouvern...</td>\n",
       "      <td>Alexandre Ori</td>\n",
       "      <td>Publié le 17/03/2025 à 19:45, mis à jour le 17...</td>\n",
       "      <td>Vallées</td>\n",
       "      <td>Dans un rapport, la Chambre questionne la gouv...</td>\n",
       "      <td>Peut mieux faire. L’appréciation ne vient pas ...</td>\n",
       "    </tr>\n",
       "  </tbody>\n",
       "</table>\n",
       "</div>"
      ],
      "text/plain": [
       "                                                 Title         Author  \\\n",
       "289  Des habitants réveillés en pleine nuit par un ...          A. R.   \n",
       "290  En cas de séisme, quels sont les bons gestes à...            S.C   \n",
       "291  La température la plus basse de l'hiver a été ...   La rédaction   \n",
       "292  Les propriétaires de résidences secondaires so...   La rédaction   \n",
       "293  Culture, gestion des services publics, gouvern...  Alexandre Ori   \n",
       "\n",
       "                                             Published   Region  \\\n",
       "289  Publié le 18/03/2025 à 20:20, mis à jour le 18...  Vallées   \n",
       "290  Publié le 18/03/2025 à 20:02, mis à jour le 18...   Région   \n",
       "291  Publié le 18/03/2025 à 16:16, mis à jour le 18...     Nice   \n",
       "292  Publié le 17/03/2025 à 19:58, mis à jour le 17...  Vallées   \n",
       "293  Publié le 17/03/2025 à 19:45, mis à jour le 17...  Vallées   \n",
       "\n",
       "                                               Excerpt  \\\n",
       "289  Un incendie involontaire de voitures est surve...   \n",
       "290  Ce mardi 18 mars, un séisme de magnitude 4.1 a...   \n",
       "291  La station météorologique d'Isola 2000 a enreg...   \n",
       "292  Sous perfusion d'argent public selon un rappor...   \n",
       "293  Dans un rapport, la Chambre questionne la gouv...   \n",
       "\n",
       "                                             Full_text  \n",
       "289  \"J’ai été réveillée à minuit par des bruits d’...  \n",
       "290  Une secousse d'une magnitude de l'orde de 6 à ...  \n",
       "291  Il fait froid... mais pas autant qu'on pourrai...  \n",
       "292  À Isola, entre 650 et 700 âmes vivent à l’anné...  \n",
       "293  Peut mieux faire. L’appréciation ne vient pas ...  "
      ]
     },
     "execution_count": 49,
     "metadata": {},
     "output_type": "execute_result"
    }
   ],
   "source": [
    "df_news.tail()"
   ]
  },
  {
   "cell_type": "markdown",
   "id": "d94bd7d1-2501-43d6-9486-4c3117d57ee4",
   "metadata": {},
   "source": [
    "Сохраним полученный датасет для последующего использования"
   ]
  },
  {
   "cell_type": "code",
   "execution_count": 51,
   "id": "4e0793e9-9243-4a69-ac03-4510061dfbf6",
   "metadata": {},
   "outputs": [],
   "source": [
    "today = date.today()\n",
    "filename = './data/Nice-Matin' + '-' + str(today) + '.csv'\n",
    "filepath = Path(filename)  \n",
    "filepath.parent.mkdir(parents=True, exist_ok=True)  "
   ]
  },
  {
   "cell_type": "code",
   "execution_count": 52,
   "id": "1186741e-1414-4ad4-b25b-dc351ef9ef6f",
   "metadata": {},
   "outputs": [],
   "source": [
    "df_news.to_csv(filepath, sep='|', index=False)"
   ]
  },
  {
   "cell_type": "code",
   "execution_count": null,
   "id": "f082aba2-87a7-470b-9e8e-c6813ab6ffe1",
   "metadata": {},
   "outputs": [],
   "source": []
  },
  {
   "cell_type": "markdown",
   "id": "e7ac6a63-cd10-4efc-9683-0058d934818c",
   "metadata": {},
   "source": [
    "## EDA"
   ]
  },
  {
   "cell_type": "markdown",
   "id": "9d850d9f-6498-47ad-8ac3-7f6bcbce106f",
   "metadata": {},
   "source": [
    "Для повторяемости результатов, загрузим сохраненный датасет "
   ]
  },
  {
   "cell_type": "code",
   "execution_count": 316,
   "id": "0d0030cc-718b-42c6-91fb-8b6b1a08627b",
   "metadata": {},
   "outputs": [],
   "source": [
    "df_nm = pd.read_csv('data/Nice-Matin-2025-03-28.csv', sep='|')"
   ]
  },
  {
   "cell_type": "markdown",
   "id": "5363eaaa-698b-4c18-83ce-42d354e2df0e",
   "metadata": {},
   "source": [
    "Посмотрим на общие параметры собранного датасета"
   ]
  },
  {
   "cell_type": "code",
   "execution_count": 318,
   "id": "bb80a493-89df-4bdc-b41e-d49cbb0ca109",
   "metadata": {},
   "outputs": [
    {
     "name": "stdout",
     "output_type": "stream",
     "text": [
      "<class 'pandas.core.frame.DataFrame'>\n",
      "RangeIndex: 294 entries, 0 to 293\n",
      "Data columns (total 6 columns):\n",
      " #   Column     Non-Null Count  Dtype \n",
      "---  ------     --------------  ----- \n",
      " 0   Title      294 non-null    object\n",
      " 1   Author     292 non-null    object\n",
      " 2   Published  292 non-null    object\n",
      " 3   Region     292 non-null    object\n",
      " 4   Excerpt    292 non-null    object\n",
      " 5   Full_text  294 non-null    object\n",
      "dtypes: object(6)\n",
      "memory usage: 13.9+ KB\n"
     ]
    }
   ],
   "source": [
    "df_nm.info()"
   ]
  },
  {
   "cell_type": "markdown",
   "id": "d4563db5-9d4d-437a-bc53-6be7ecfe5ecf",
   "metadata": {},
   "source": [
    "Видим, что есть две записи с пропущенными значениями - посмотрим на них"
   ]
  },
  {
   "cell_type": "code",
   "execution_count": 320,
   "id": "66cb57fd-3f8c-4df2-9c84-0cf84f40a6bd",
   "metadata": {},
   "outputs": [
    {
     "data": {
      "text/html": [
       "<div>\n",
       "<style scoped>\n",
       "    .dataframe tbody tr th:only-of-type {\n",
       "        vertical-align: middle;\n",
       "    }\n",
       "\n",
       "    .dataframe tbody tr th {\n",
       "        vertical-align: top;\n",
       "    }\n",
       "\n",
       "    .dataframe thead th {\n",
       "        text-align: right;\n",
       "    }\n",
       "</style>\n",
       "<table border=\"1\" class=\"dataframe\">\n",
       "  <thead>\n",
       "    <tr style=\"text-align: right;\">\n",
       "      <th></th>\n",
       "      <th>Title</th>\n",
       "      <th>Author</th>\n",
       "      <th>Published</th>\n",
       "      <th>Region</th>\n",
       "      <th>Excerpt</th>\n",
       "      <th>Full_text</th>\n",
       "    </tr>\n",
       "  </thead>\n",
       "  <tbody>\n",
       "    <tr>\n",
       "      <th>203</th>\n",
       "      <td>3 expériences à vivre au Salon International d...</td>\n",
       "      <td>NaN</td>\n",
       "      <td>NaN</td>\n",
       "      <td>NaN</td>\n",
       "      <td>NaN</td>\n",
       "      <td>1.Des démonstrations inédites de grands chefs\\...</td>\n",
       "    </tr>\n",
       "    <tr>\n",
       "      <th>211</th>\n",
       "      <td>3 expériences à vivre au Salon International d...</td>\n",
       "      <td>NaN</td>\n",
       "      <td>NaN</td>\n",
       "      <td>NaN</td>\n",
       "      <td>NaN</td>\n",
       "      <td>1.Des démonstrations inédites de grands chefs\\...</td>\n",
       "    </tr>\n",
       "  </tbody>\n",
       "</table>\n",
       "</div>"
      ],
      "text/plain": [
       "                                                 Title Author Published  \\\n",
       "203  3 expériences à vivre au Salon International d...    NaN       NaN   \n",
       "211  3 expériences à vivre au Salon International d...    NaN       NaN   \n",
       "\n",
       "    Region Excerpt                                          Full_text  \n",
       "203    NaN     NaN  1.Des démonstrations inédites de grands chefs\\...  \n",
       "211    NaN     NaN  1.Des démonstrations inédites de grands chefs\\...  "
      ]
     },
     "execution_count": 320,
     "metadata": {},
     "output_type": "execute_result"
    }
   ],
   "source": [
    "df_nm[df_nm.isna().any(axis=1)]"
   ]
  },
  {
   "cell_type": "markdown",
   "id": "2f16b31b-4e7a-4f26-b089-e68a277e1f47",
   "metadata": {},
   "source": [
    "Записей всего две - удалим их из датасета"
   ]
  },
  {
   "cell_type": "code",
   "execution_count": 322,
   "id": "b6d8a61c-8e01-4222-bf37-3b33eb002537",
   "metadata": {},
   "outputs": [],
   "source": [
    "df_nm.dropna(inplace = True)"
   ]
  },
  {
   "cell_type": "code",
   "execution_count": 323,
   "id": "e2383c06-ca62-41b0-b9a3-d400fc1ee5a7",
   "metadata": {},
   "outputs": [
    {
     "name": "stdout",
     "output_type": "stream",
     "text": [
      "<class 'pandas.core.frame.DataFrame'>\n",
      "Index: 292 entries, 0 to 293\n",
      "Data columns (total 6 columns):\n",
      " #   Column     Non-Null Count  Dtype \n",
      "---  ------     --------------  ----- \n",
      " 0   Title      292 non-null    object\n",
      " 1   Author     292 non-null    object\n",
      " 2   Published  292 non-null    object\n",
      " 3   Region     292 non-null    object\n",
      " 4   Excerpt    292 non-null    object\n",
      " 5   Full_text  292 non-null    object\n",
      "dtypes: object(6)\n",
      "memory usage: 16.0+ KB\n"
     ]
    }
   ],
   "source": [
    "df_nm.info()"
   ]
  },
  {
   "cell_type": "markdown",
   "id": "2c96e3f0-d0a9-47c3-b895-41c697cfb0db",
   "metadata": {},
   "source": [
    "Числовых признаков в наборе данных нет, посмотрим на количество уникальных признаков"
   ]
  },
  {
   "cell_type": "code",
   "execution_count": 325,
   "id": "0f4b31bd-0054-443c-b8ea-b3534d99fe02",
   "metadata": {},
   "outputs": [
    {
     "data": {
      "text/plain": [
       "Title        262\n",
       "Author       120\n",
       "Published    262\n",
       "Region        19\n",
       "Excerpt      259\n",
       "Full_text    262\n",
       "dtype: int64"
      ]
     },
     "execution_count": 325,
     "metadata": {},
     "output_type": "execute_result"
    }
   ],
   "source": [
    "df_nm.nunique()"
   ]
  },
  {
   "cell_type": "markdown",
   "id": "71c46667-db7b-47c3-aec6-12c24b979bc7",
   "metadata": {},
   "source": [
    "В датасете собраны новости из 19 различных регионов:"
   ]
  },
  {
   "cell_type": "code",
   "execution_count": 327,
   "id": "8a8f4187-db96-4bee-840d-d4f324718701",
   "metadata": {},
   "outputs": [
    {
     "data": {
      "text/plain": [
       "array(['Nice', 'France', 'Cagnes', 'Grasse', 'Menton', 'Monde',\n",
       "       \"Côte d'Azur\", 'Cannes', 'Var', 'Antibes', 'Marseille', 'Région',\n",
       "       'Monaco', 'La Seyne', 'Toulon', 'Draguignan',\n",
       "       'Fréjus/Saint-Raphaël', 'Hyères', 'Vallées'], dtype=object)"
      ]
     },
     "execution_count": 327,
     "metadata": {},
     "output_type": "execute_result"
    }
   ],
   "source": [
    "df_nm['Region'].unique()"
   ]
  },
  {
   "cell_type": "markdown",
   "id": "205947e0-c6bc-44c4-99aa-807e4a19f062",
   "metadata": {},
   "source": [
    "В наборе данных собраны новости от 120 авторов, посмотрим на ряд первых из списка"
   ]
  },
  {
   "cell_type": "code",
   "execution_count": 329,
   "id": "3ba11072-27f7-4268-a2c2-cae598e8804e",
   "metadata": {},
   "outputs": [
    {
     "data": {
      "text/plain": [
       "array(['Alexandre Ori (aori@nicematin.fr)', 'AFP',\n",
       "       'Aurélie Selvi (aselvi@nicematin.fr)', 'La rédaction avec AFP',\n",
       "       'Delphine Gouaty', 'Rachel Dordor (rdordor@nicematin.fr)',\n",
       "       'La rédaction', 'Jean Stierlé',\n",
       "       'Eric Galliano (egalliano@nicematin.fr)', 'C. C avec S.L',\n",
       "       'A. Ci.', 'Christophe Cirone', 'C. G.', 'M. D', 'Damien Allemand',\n",
       "       'T.P.', 'G.L. et L.S.', 'Grégory Leclerc', 'K.Wenger', 'S. N.',\n",
       "       'Marie-Cécile Bérenger'], dtype=object)"
      ]
     },
     "execution_count": 329,
     "metadata": {},
     "output_type": "execute_result"
    }
   ],
   "source": [
    "df_nm['Author'].unique()[:21]"
   ]
  },
  {
   "cell_type": "code",
   "execution_count": null,
   "id": "92e60833-ca1d-418a-8dcb-12a0cbc107ac",
   "metadata": {},
   "outputs": [],
   "source": []
  },
  {
   "cell_type": "markdown",
   "id": "e8e79b79-95a6-4a95-8bfd-083de776d75e",
   "metadata": {},
   "source": [
    "## Preprocessing"
   ]
  },
  {
   "cell_type": "code",
   "execution_count": 331,
   "id": "a49b3dac-dddc-4a4e-b0a3-12fd77a1ade9",
   "metadata": {},
   "outputs": [
    {
     "data": {
      "text/plain": [
       "'Après Paris, Marseille ou Beausoleil, au tour de Villeneuve-Loubet de limiter plus drastiquement les locations type Airbnb. Jeudi, en conseil municipal, les élus ont voté à l’unanimité l’abaissement du nombre maximal de jours de mise en location d’une résidence principale en meublé de tourisme. Jusqu’alors fixé à 120 jours par an, ce seuil descend à 90. Un durcissement permis par le vote, le 19 novembre 2024, de la loi Le Meur \"visant à renforcer les outils de régulation des meublés de tourisme à l’échelle locale\". Celle-ci donne, depuis le 1er janvier, les coudées plus franches aux collectivités pour réguler et contrôler.\\n\\xa0\\n\\n\\n\\n\\n\\n\\n\\n\\n\\nLutter contre les nuisances\\nLa commune, qui soumet déjà ces locations – en résidence principale comme secondaire – à une déclaration préalable (1), recense 912 meublés de tourisme. \"Du propriétaire qui loue dix jours par an à celui qui le fait de manière plus systématique, sur une résidence secondaire, en passant par des professionnels\", font savoir ses services.\\nLa nouvelle limite de 90 jours, effective dès à présent, ne vise pour l’heure que les propriétaires de résidences principales. Avec, en creux, un accent mis sur les copropriétés où la pratique serait davantage répandue encore, générant des désagréments. \"On n’a rien contre les propriétaires qui veulent louer, ils sont libres. Encore faut-il qu’ils se déclarent [...] et veillent à ne pas créer de nuisances pour le voisinage, c’est la moindre des choses\", martèle le maire Lionnel Luca.\\nDans les prochains jours, l’édile adressera un courrier en ce sens aux copropriétés villeneuvoises. Objectif: \"Leur rappeler qu’elles peuvent désormais délibérer en AG pour qu’il n’y ait plus d’Airbnb et que, pour cela, l’unanimité n’est plus requise: deux tiers des votants suffisent\", précise-t-il, s’appuyant sur les nouvelles dispositions prévues par la loi Le Meur.\\nLe texte durcit aussi les amendes pouvant être dressées par la commune en cas de non-déclaration préalable des propriétaires. Une douloureuse chiffrant jusqu’à 10.000 euros pour défaut de déclaration, 20.000 euros si celle-ci est fausse. \"Nous avons recruté un agent dédié à ces contrôles\", fait d’ailleurs savoir le cabinet du maire.\\nBientôt une étude plus fine\\nLa municipalité ne compte par s’arrêter là, en décortiquant les autres leviers de la loi Le Meur, qui permet notamment de fixer des quotas de biens à louer par zone. Une option déjà prise par Nice, qui avait identifié en novembre 2024 une trentaine de quartiers en tension, concentrant 70% des locations saisonnières. \"Nous allons lancer une étude territoriale et évaluer toutes les options que ce texte offre, pour rétablir la mixité des usages\", indique la municipalité. Avec, cette fois, pour but de libérer des logements pour les actifs villeneuvois quand des propriétaires de résidences secondaires préfèrent la location saisonnière, plus lucrative.\\n1. Déclaration auprès de l’office de tourisme: 04.92.02.66.16.'"
      ]
     },
     "execution_count": 331,
     "metadata": {},
     "output_type": "execute_result"
    }
   ],
   "source": [
    "df_nm.Full_text[3]"
   ]
  },
  {
   "cell_type": "markdown",
   "id": "3efcc025-097e-4b51-a8b8-fa6d812fa5e5",
   "metadata": {},
   "source": [
    "Видим, что текст содержит множество переносов строк и прочих символов форматирования, поэтому проведем небольшую дополнительную обработку текста и удалим подобные символы."
   ]
  },
  {
   "cell_type": "code",
   "execution_count": 333,
   "id": "ebb33daa-9fff-4585-8c48-05a82f2ab895",
   "metadata": {},
   "outputs": [],
   "source": [
    "# Defining a function to clean text from new lines and other formatting symbols\n",
    "def clean_text(text):\n",
    "    patterns_list = [\"\\n\", \"\\r\", \"\\xa0\", \"\\\\\"]\n",
    "    cleaned_text = text\n",
    "    for pattern in patterns_list: \n",
    "        cleaned_text = cleaned_text.replace(pattern, \"\")\n",
    "    return cleaned_text"
   ]
  },
  {
   "cell_type": "code",
   "execution_count": 334,
   "id": "ca99ac65-a0a2-4a2a-96f4-47fca241281f",
   "metadata": {},
   "outputs": [],
   "source": [
    "## Applying our text-cleaning function to the hole dataset\n",
    "df_nm['Full_text'] = df_nm['Full_text'].apply(clean_text)"
   ]
  },
  {
   "cell_type": "code",
   "execution_count": 335,
   "id": "eedd34c5-846f-4590-a91f-081023e1d25b",
   "metadata": {},
   "outputs": [],
   "source": [
    "df_nm['Excerpt'] = df_nm['Excerpt'].apply(clean_text)"
   ]
  },
  {
   "cell_type": "markdown",
   "id": "58abe43b-e155-40b8-8bd0-dd2ff9a3901b",
   "metadata": {},
   "source": [
    "Посмотрим на результат"
   ]
  },
  {
   "cell_type": "code",
   "execution_count": 337,
   "id": "282a28e9-d8b6-46b8-b09b-db97d45726b6",
   "metadata": {},
   "outputs": [
    {
     "data": {
      "text/plain": [
       "'Après Paris, Marseille ou Beausoleil, au tour de Villeneuve-Loubet de limiter plus drastiquement les locations type Airbnb. Jeudi, en conseil municipal, les élus ont voté à l’unanimité l’abaissement du nombre maximal de jours de mise en location d’une résidence principale en meublé de tourisme. Jusqu’alors fixé à 120 jours par an, ce seuil descend à 90. Un durcissement permis par le vote, le 19 novembre 2024, de la loi Le Meur \"visant à renforcer les outils de régulation des meublés de tourisme à l’échelle locale\". Celle-ci donne, depuis le 1er janvier, les coudées plus franches aux collectivités pour réguler et contrôler.Lutter contre les nuisancesLa commune, qui soumet déjà ces locations – en résidence principale comme secondaire – à une déclaration préalable (1), recense 912 meublés de tourisme. \"Du propriétaire qui loue dix jours par an à celui qui le fait de manière plus systématique, sur une résidence secondaire, en passant par des professionnels\", font savoir ses services.La nouvelle limite de 90 jours, effective dès à présent, ne vise pour l’heure que les propriétaires de résidences principales. Avec, en creux, un accent mis sur les copropriétés où la pratique serait davantage répandue encore, générant des désagréments. \"On n’a rien contre les propriétaires qui veulent louer, ils sont libres. Encore faut-il qu’ils se déclarent [...] et veillent à ne pas créer de nuisances pour le voisinage, c’est la moindre des choses\", martèle le maire Lionnel Luca.Dans les prochains jours, l’édile adressera un courrier en ce sens aux copropriétés villeneuvoises. Objectif: \"Leur rappeler qu’elles peuvent désormais délibérer en AG pour qu’il n’y ait plus d’Airbnb et que, pour cela, l’unanimité n’est plus requise: deux tiers des votants suffisent\", précise-t-il, s’appuyant sur les nouvelles dispositions prévues par la loi Le Meur.Le texte durcit aussi les amendes pouvant être dressées par la commune en cas de non-déclaration préalable des propriétaires. Une douloureuse chiffrant jusqu’à 10.000 euros pour défaut de déclaration, 20.000 euros si celle-ci est fausse. \"Nous avons recruté un agent dédié à ces contrôles\", fait d’ailleurs savoir le cabinet du maire.Bientôt une étude plus fineLa municipalité ne compte par s’arrêter là, en décortiquant les autres leviers de la loi Le Meur, qui permet notamment de fixer des quotas de biens à louer par zone. Une option déjà prise par Nice, qui avait identifié en novembre 2024 une trentaine de quartiers en tension, concentrant 70% des locations saisonnières. \"Nous allons lancer une étude territoriale et évaluer toutes les options que ce texte offre, pour rétablir la mixité des usages\", indique la municipalité. Avec, cette fois, pour but de libérer des logements pour les actifs villeneuvois quand des propriétaires de résidences secondaires préfèrent la location saisonnière, plus lucrative.1. Déclaration auprès de l’office de tourisme: 04.92.02.66.16.'"
      ]
     },
     "execution_count": 337,
     "metadata": {},
     "output_type": "execute_result"
    }
   ],
   "source": [
    "df_nm.Full_text[3]"
   ]
  },
  {
   "cell_type": "markdown",
   "id": "243593b9-7668-4b89-b0f6-18502ee07482",
   "metadata": {},
   "source": [
    "Символы форматирования из текста удалены, можно двигаться дальше"
   ]
  },
  {
   "cell_type": "markdown",
   "id": "ebb2c6e4-e95a-4a71-8a93-22592433747b",
   "metadata": {},
   "source": [
    "## NER с использованием библиотеки spaCy"
   ]
  },
  {
   "cell_type": "markdown",
   "id": "59d251ac-4c37-4532-87bf-20b10565539c",
   "metadata": {},
   "source": [
    "Поскольку у нас датасет на французском, то воспользуемся библиотекой [spaСy](https://spacy.io/models/fr)"
   ]
  },
  {
   "cell_type": "code",
   "execution_count": 341,
   "id": "63a4581c-f8fe-4e2d-9f19-1797a7c1e2e0",
   "metadata": {},
   "outputs": [],
   "source": [
    "nlp = spacy.load(\"fr_core_news_md\")"
   ]
  },
  {
   "cell_type": "code",
   "execution_count": 342,
   "id": "ea3044d6-94fd-4621-b9b0-74b458d6e0bc",
   "metadata": {},
   "outputs": [],
   "source": [
    "text = df_nm.Full_text[3]"
   ]
  },
  {
   "cell_type": "code",
   "execution_count": 343,
   "id": "1808d954-f682-4f77-9d40-1f448f0b1f81",
   "metadata": {},
   "outputs": [
    {
     "data": {
      "text/plain": [
       "Après Paris, Marseille ou Beausoleil, au tour de Villeneuve-Loubet de limiter plus drastiquement les locations type Airbnb. Jeudi, en conseil municipal, les élus ont voté à l’unanimité l’abaissement du nombre maximal de jours de mise en location d’une résidence principale en meublé de tourisme. Jusqu’alors fixé à 120 jours par an, ce seuil descend à 90. Un durcissement permis par le vote, le 19 novembre 2024, de la loi Le Meur \"visant à renforcer les outils de régulation des meublés de tourisme à l’échelle locale\". Celle-ci donne, depuis le 1er janvier, les coudées plus franches aux collectivités pour réguler et contrôler.Lutter contre les nuisancesLa commune, qui soumet déjà ces locations – en résidence principale comme secondaire – à une déclaration préalable (1), recense 912 meublés de tourisme. \"Du propriétaire qui loue dix jours par an à celui qui le fait de manière plus systématique, sur une résidence secondaire, en passant par des professionnels\", font savoir ses services.La nouvelle limite de 90 jours, effective dès à présent, ne vise pour l’heure que les propriétaires de résidences principales. Avec, en creux, un accent mis sur les copropriétés où la pratique serait davantage répandue encore, générant des désagréments. \"On n’a rien contre les propriétaires qui veulent louer, ils sont libres. Encore faut-il qu’ils se déclarent [...] et veillent à ne pas créer de nuisances pour le voisinage, c’est la moindre des choses\", martèle le maire Lionnel Luca.Dans les prochains jours, l’édile adressera un courrier en ce sens aux copropriétés villeneuvoises. Objectif: \"Leur rappeler qu’elles peuvent désormais délibérer en AG pour qu’il n’y ait plus d’Airbnb et que, pour cela, l’unanimité n’est plus requise: deux tiers des votants suffisent\", précise-t-il, s’appuyant sur les nouvelles dispositions prévues par la loi Le Meur.Le texte durcit aussi les amendes pouvant être dressées par la commune en cas de non-déclaration préalable des propriétaires. Une douloureuse chiffrant jusqu’à 10.000 euros pour défaut de déclaration, 20.000 euros si celle-ci est fausse. \"Nous avons recruté un agent dédié à ces contrôles\", fait d’ailleurs savoir le cabinet du maire.Bientôt une étude plus fineLa municipalité ne compte par s’arrêter là, en décortiquant les autres leviers de la loi Le Meur, qui permet notamment de fixer des quotas de biens à louer par zone. Une option déjà prise par Nice, qui avait identifié en novembre 2024 une trentaine de quartiers en tension, concentrant 70% des locations saisonnières. \"Nous allons lancer une étude territoriale et évaluer toutes les options que ce texte offre, pour rétablir la mixité des usages\", indique la municipalité. Avec, cette fois, pour but de libérer des logements pour les actifs villeneuvois quand des propriétaires de résidences secondaires préfèrent la location saisonnière, plus lucrative.1. Déclaration auprès de l’office de tourisme: 04.92.02.66.16."
      ]
     },
     "execution_count": 343,
     "metadata": {},
     "output_type": "execute_result"
    }
   ],
   "source": [
    "doc = nlp(text)\n",
    "doc"
   ]
  },
  {
   "cell_type": "code",
   "execution_count": 344,
   "id": "0409da63-029b-4b8b-8c5f-015422ab49da",
   "metadata": {},
   "outputs": [
    {
     "data": {
      "text/plain": [
       "(Paris,\n",
       " Marseille,\n",
       " Beausoleil,\n",
       " Villeneuve-Loubet,\n",
       " Airbnb,\n",
       " Le Meur,\n",
       " nuisancesLa commune,\n",
       " Lionnel Luca,\n",
       " AG,\n",
       " Airbnb,\n",
       " Le Meur,\n",
       " Le Meur,\n",
       " Nice)"
      ]
     },
     "execution_count": 344,
     "metadata": {},
     "output_type": "execute_result"
    }
   ],
   "source": [
    "doc.ents"
   ]
  },
  {
   "cell_type": "code",
   "execution_count": 345,
   "id": "b607bf59-15fd-4ab3-aa98-487f48457e80",
   "metadata": {},
   "outputs": [
    {
     "data": {
      "text/plain": [
       "13"
      ]
     },
     "execution_count": 345,
     "metadata": {},
     "output_type": "execute_result"
    }
   ],
   "source": [
    "len(doc.ents)"
   ]
  },
  {
   "cell_type": "code",
   "execution_count": 346,
   "id": "1aa92b3b-b9a0-4dc5-89b1-475cc52955ca",
   "metadata": {},
   "outputs": [
    {
     "data": {
      "text/plain": [
       "[('Paris', 'LOC'),\n",
       " ('Marseille', 'LOC'),\n",
       " ('Beausoleil', 'LOC'),\n",
       " ('Villeneuve-Loubet', 'LOC'),\n",
       " ('Airbnb', 'ORG'),\n",
       " ('Le Meur', 'PER'),\n",
       " ('nuisancesLa commune', 'LOC'),\n",
       " ('Lionnel Luca', 'PER'),\n",
       " ('AG', 'ORG'),\n",
       " ('Airbnb', 'ORG'),\n",
       " ('Le Meur', 'PER'),\n",
       " ('Le Meur', 'PER'),\n",
       " ('Nice', 'LOC')]"
      ]
     },
     "execution_count": 346,
     "metadata": {},
     "output_type": "execute_result"
    }
   ],
   "source": [
    "[(X.text, X.label_) for X in doc.ents]"
   ]
  },
  {
   "cell_type": "code",
   "execution_count": 347,
   "id": "4708c6c3-a2e9-4fe5-9545-5cac53f18774",
   "metadata": {},
   "outputs": [
    {
     "data": {
      "text/html": [
       "<span class=\"tex2jax_ignore\"><div class=\"entities\" style=\"line-height: 2.5; direction: ltr\">Après \n",
       "<mark class=\"entity\" style=\"background: #ff9561; padding: 0.45em 0.6em; margin: 0 0.25em; line-height: 1; border-radius: 0.35em;\">\n",
       "    Paris\n",
       "    <span style=\"font-size: 0.8em; font-weight: bold; line-height: 1; border-radius: 0.35em; vertical-align: middle; margin-left: 0.5rem\">LOC</span>\n",
       "</mark>\n",
       ", \n",
       "<mark class=\"entity\" style=\"background: #ff9561; padding: 0.45em 0.6em; margin: 0 0.25em; line-height: 1; border-radius: 0.35em;\">\n",
       "    Marseille\n",
       "    <span style=\"font-size: 0.8em; font-weight: bold; line-height: 1; border-radius: 0.35em; vertical-align: middle; margin-left: 0.5rem\">LOC</span>\n",
       "</mark>\n",
       " ou \n",
       "<mark class=\"entity\" style=\"background: #ff9561; padding: 0.45em 0.6em; margin: 0 0.25em; line-height: 1; border-radius: 0.35em;\">\n",
       "    Beausoleil\n",
       "    <span style=\"font-size: 0.8em; font-weight: bold; line-height: 1; border-radius: 0.35em; vertical-align: middle; margin-left: 0.5rem\">LOC</span>\n",
       "</mark>\n",
       ", au tour de \n",
       "<mark class=\"entity\" style=\"background: #ff9561; padding: 0.45em 0.6em; margin: 0 0.25em; line-height: 1; border-radius: 0.35em;\">\n",
       "    Villeneuve-Loubet\n",
       "    <span style=\"font-size: 0.8em; font-weight: bold; line-height: 1; border-radius: 0.35em; vertical-align: middle; margin-left: 0.5rem\">LOC</span>\n",
       "</mark>\n",
       " de limiter plus drastiquement les locations type \n",
       "<mark class=\"entity\" style=\"background: #7aecec; padding: 0.45em 0.6em; margin: 0 0.25em; line-height: 1; border-radius: 0.35em;\">\n",
       "    Airbnb\n",
       "    <span style=\"font-size: 0.8em; font-weight: bold; line-height: 1; border-radius: 0.35em; vertical-align: middle; margin-left: 0.5rem\">ORG</span>\n",
       "</mark>\n",
       ". Jeudi, en conseil municipal, les élus ont voté à l’unanimité l’abaissement du nombre maximal de jours de mise en location d’une résidence principale en meublé de tourisme. Jusqu’alors fixé à 120 jours par an, ce seuil descend à 90. Un durcissement permis par le vote, le 19 novembre 2024, de la loi \n",
       "<mark class=\"entity\" style=\"background: #ddd; padding: 0.45em 0.6em; margin: 0 0.25em; line-height: 1; border-radius: 0.35em;\">\n",
       "    Le Meur\n",
       "    <span style=\"font-size: 0.8em; font-weight: bold; line-height: 1; border-radius: 0.35em; vertical-align: middle; margin-left: 0.5rem\">PER</span>\n",
       "</mark>\n",
       " &quot;visant à renforcer les outils de régulation des meublés de tourisme à l’échelle locale&quot;. Celle-ci donne, depuis le 1er janvier, les coudées plus franches aux collectivités pour réguler et contrôler.Lutter contre les \n",
       "<mark class=\"entity\" style=\"background: #ff9561; padding: 0.45em 0.6em; margin: 0 0.25em; line-height: 1; border-radius: 0.35em;\">\n",
       "    nuisancesLa commune\n",
       "    <span style=\"font-size: 0.8em; font-weight: bold; line-height: 1; border-radius: 0.35em; vertical-align: middle; margin-left: 0.5rem\">LOC</span>\n",
       "</mark>\n",
       ", qui soumet déjà ces locations – en résidence principale comme secondaire – à une déclaration préalable (1), recense 912 meublés de tourisme. &quot;Du propriétaire qui loue dix jours par an à celui qui le fait de manière plus systématique, sur une résidence secondaire, en passant par des professionnels&quot;, font savoir ses services.La nouvelle limite de 90 jours, effective dès à présent, ne vise pour l’heure que les propriétaires de résidences principales. Avec, en creux, un accent mis sur les copropriétés où la pratique serait davantage répandue encore, générant des désagréments. &quot;On n’a rien contre les propriétaires qui veulent louer, ils sont libres. Encore faut-il qu’ils se déclarent [...] et veillent à ne pas créer de nuisances pour le voisinage, c’est la moindre des choses&quot;, martèle le maire \n",
       "<mark class=\"entity\" style=\"background: #ddd; padding: 0.45em 0.6em; margin: 0 0.25em; line-height: 1; border-radius: 0.35em;\">\n",
       "    Lionnel Luca\n",
       "    <span style=\"font-size: 0.8em; font-weight: bold; line-height: 1; border-radius: 0.35em; vertical-align: middle; margin-left: 0.5rem\">PER</span>\n",
       "</mark>\n",
       ".Dans les prochains jours, l’édile adressera un courrier en ce sens aux copropriétés villeneuvoises. Objectif: &quot;Leur rappeler qu’elles peuvent désormais délibérer en \n",
       "<mark class=\"entity\" style=\"background: #7aecec; padding: 0.45em 0.6em; margin: 0 0.25em; line-height: 1; border-radius: 0.35em;\">\n",
       "    AG\n",
       "    <span style=\"font-size: 0.8em; font-weight: bold; line-height: 1; border-radius: 0.35em; vertical-align: middle; margin-left: 0.5rem\">ORG</span>\n",
       "</mark>\n",
       " pour qu’il n’y ait plus d’\n",
       "<mark class=\"entity\" style=\"background: #7aecec; padding: 0.45em 0.6em; margin: 0 0.25em; line-height: 1; border-radius: 0.35em;\">\n",
       "    Airbnb\n",
       "    <span style=\"font-size: 0.8em; font-weight: bold; line-height: 1; border-radius: 0.35em; vertical-align: middle; margin-left: 0.5rem\">ORG</span>\n",
       "</mark>\n",
       " et que, pour cela, l’unanimité n’est plus requise: deux tiers des votants suffisent&quot;, précise-t-il, s’appuyant sur les nouvelles dispositions prévues par la loi \n",
       "<mark class=\"entity\" style=\"background: #ddd; padding: 0.45em 0.6em; margin: 0 0.25em; line-height: 1; border-radius: 0.35em;\">\n",
       "    Le Meur\n",
       "    <span style=\"font-size: 0.8em; font-weight: bold; line-height: 1; border-radius: 0.35em; vertical-align: middle; margin-left: 0.5rem\">PER</span>\n",
       "</mark>\n",
       ".Le texte durcit aussi les amendes pouvant être dressées par la commune en cas de non-déclaration préalable des propriétaires. Une douloureuse chiffrant jusqu’à 10.000 euros pour défaut de déclaration, 20.000 euros si celle-ci est fausse. &quot;Nous avons recruté un agent dédié à ces contrôles&quot;, fait d’ailleurs savoir le cabinet du maire.Bientôt une étude plus fineLa municipalité ne compte par s’arrêter là, en décortiquant les autres leviers de la loi \n",
       "<mark class=\"entity\" style=\"background: #ddd; padding: 0.45em 0.6em; margin: 0 0.25em; line-height: 1; border-radius: 0.35em;\">\n",
       "    Le Meur\n",
       "    <span style=\"font-size: 0.8em; font-weight: bold; line-height: 1; border-radius: 0.35em; vertical-align: middle; margin-left: 0.5rem\">PER</span>\n",
       "</mark>\n",
       ", qui permet notamment de fixer des quotas de biens à louer par zone. Une option déjà prise par \n",
       "<mark class=\"entity\" style=\"background: #ff9561; padding: 0.45em 0.6em; margin: 0 0.25em; line-height: 1; border-radius: 0.35em;\">\n",
       "    Nice\n",
       "    <span style=\"font-size: 0.8em; font-weight: bold; line-height: 1; border-radius: 0.35em; vertical-align: middle; margin-left: 0.5rem\">LOC</span>\n",
       "</mark>\n",
       ", qui avait identifié en novembre 2024 une trentaine de quartiers en tension, concentrant 70% des locations saisonnières. &quot;Nous allons lancer une étude territoriale et évaluer toutes les options que ce texte offre, pour rétablir la mixité des usages&quot;, indique la municipalité. Avec, cette fois, pour but de libérer des logements pour les actifs villeneuvois quand des propriétaires de résidences secondaires préfèrent la location saisonnière, plus lucrative.1. Déclaration auprès de l’office de tourisme: 04.92.02.66.16.</div></span>"
      ],
      "text/plain": [
       "<IPython.core.display.HTML object>"
      ]
     },
     "metadata": {},
     "output_type": "display_data"
    }
   ],
   "source": [
    "displacy.render(doc, jupyter=True, style='ent')"
   ]
  },
  {
   "cell_type": "code",
   "execution_count": 348,
   "id": "bd92e65c-d2c9-4a49-b8b8-761c03316f23",
   "metadata": {},
   "outputs": [
    {
     "data": {
      "text/plain": [
       "(Paris,\n",
       " Marseille,\n",
       " Beausoleil,\n",
       " Villeneuve-Loubet,\n",
       " Airbnb,\n",
       " Le Meur,\n",
       " nuisancesLa commune,\n",
       " Lionnel Luca,\n",
       " AG,\n",
       " Airbnb,\n",
       " Le Meur,\n",
       " Le Meur,\n",
       " Nice)"
      ]
     },
     "execution_count": 348,
     "metadata": {},
     "output_type": "execute_result"
    }
   ],
   "source": [
    "doc.ents"
   ]
  },
  {
   "cell_type": "code",
   "execution_count": 349,
   "id": "5e3197e4-d82c-4d11-b007-55a59f40fd2f",
   "metadata": {},
   "outputs": [
    {
     "data": {
      "text/plain": [
       "[('Le Meur', 3),\n",
       " ('Airbnb', 2),\n",
       " ('Paris', 1),\n",
       " ('Marseille', 1),\n",
       " ('Beausoleil', 1),\n",
       " ('Villeneuve-Loubet', 1),\n",
       " ('nuisancesLa commune', 1),\n",
       " ('Lionnel Luca', 1),\n",
       " ('AG', 1),\n",
       " ('Nice', 1)]"
      ]
     },
     "execution_count": 349,
     "metadata": {},
     "output_type": "execute_result"
    }
   ],
   "source": [
    "items = [x.text for x in doc.ents]\n",
    "Counter(items).most_common()"
   ]
  },
  {
   "cell_type": "code",
   "execution_count": 350,
   "id": "d06c16d0-1cf1-4b3d-9c86-038683470ff7",
   "metadata": {},
   "outputs": [
    {
     "data": {
      "text/plain": [
       "Counter({'LOC': 6, 'PER': 4, 'ORG': 3})"
      ]
     },
     "execution_count": 350,
     "metadata": {},
     "output_type": "execute_result"
    }
   ],
   "source": [
    "labels = [x.label_ for x in doc.ents]\n",
    "Counter(labels) "
   ]
  },
  {
   "cell_type": "code",
   "execution_count": 351,
   "id": "f59080b3-05a9-4bea-98be-861af429e47c",
   "metadata": {},
   "outputs": [],
   "source": [
    "# Defining a function to get tags list from spaCy's output\n",
    "def get_spacy_tags_list(doc):\n",
    "    return [_.label_ for _ in doc.ents]"
   ]
  },
  {
   "cell_type": "code",
   "execution_count": 352,
   "id": "b11cd2ca-1d06-4c60-a46e-cf9566c98955",
   "metadata": {},
   "outputs": [
    {
     "data": {
      "text/plain": [
       "['LOC',\n",
       " 'LOC',\n",
       " 'LOC',\n",
       " 'LOC',\n",
       " 'ORG',\n",
       " 'PER',\n",
       " 'LOC',\n",
       " 'PER',\n",
       " 'ORG',\n",
       " 'ORG',\n",
       " 'PER',\n",
       " 'PER',\n",
       " 'LOC']"
      ]
     },
     "execution_count": 352,
     "metadata": {},
     "output_type": "execute_result"
    }
   ],
   "source": [
    "get_spacy_tags_list(doc)"
   ]
  },
  {
   "cell_type": "code",
   "execution_count": 353,
   "id": "245077e1-b9e0-416c-976d-bcbd7730c9cc",
   "metadata": {},
   "outputs": [],
   "source": [
    "spacy_labels_total_series = pd.concat(pd.Series(get_spacy_tags_list(nlp(row.Full_text))) for row in df_nm.itertuples())"
   ]
  },
  {
   "cell_type": "code",
   "execution_count": 354,
   "id": "499a95af-3cc6-44e7-b4aa-ea6be3a3bdb0",
   "metadata": {},
   "outputs": [
    {
     "data": {
      "text/plain": [
       "Counter({'LOC': 2784, 'PER': 2638, 'MISC': 1340, 'ORG': 1192})"
      ]
     },
     "execution_count": 354,
     "metadata": {},
     "output_type": "execute_result"
    }
   ],
   "source": [
    "spacy_total_counter = Counter(spacy_labels_total_series)\n",
    "spacy_total_counter"
   ]
  },
  {
   "cell_type": "code",
   "execution_count": 355,
   "id": "5896d981-04f3-4e1c-b005-ab4cc0b59ba6",
   "metadata": {},
   "outputs": [
    {
     "data": {
      "text/plain": [
       "7954"
      ]
     },
     "execution_count": 355,
     "metadata": {},
     "output_type": "execute_result"
    }
   ],
   "source": [
    "spacy_total_counter.total()"
   ]
  },
  {
   "cell_type": "markdown",
   "id": "3e281e66-f299-4b2d-a79e-cef8f1c43c96",
   "metadata": {},
   "source": [
    "Визуализируем полученную статистику"
   ]
  },
  {
   "cell_type": "code",
   "execution_count": 357,
   "id": "beef4400-b105-466f-be4b-aa18ef4b438d",
   "metadata": {},
   "outputs": [],
   "source": [
    "def plot_bar(count):\n",
    "    fig, ax = plt.subplots()\n",
    "\n",
    "    tags = count.keys()\n",
    "    counts = count.values()\n",
    "    \n",
    "    bar_labels = count.keys() \n",
    "    bar_colors = ['tab:orange', 'tab:grey', 'tab:green', 'tab:red', 'tab:blue']\n",
    "    ax.bar(tags, counts, label=bar_labels, color=bar_colors)\n",
    "    \n",
    "    ax.set_ylabel('Total count')\n",
    "    ax.set_title('NER tags diagram')\n",
    "    #ax.legend(title='Tags')\n",
    "    \n",
    "    plt.show()"
   ]
  },
  {
   "cell_type": "code",
   "execution_count": 358,
   "id": "d9786753-fcfa-4bd4-9ce6-8a25d5e092c8",
   "metadata": {},
   "outputs": [
    {
     "data": {
      "image/png": "[encoded data removed]",
      "text/plain": [
       "<Figure size 640x480 with 1 Axes>"
      ]
     },
     "metadata": {},
     "output_type": "display_data"
    }
   ],
   "source": [
    "plot_bar(spacy_total_counter)"
   ]
  },
  {
   "cell_type": "code",
   "execution_count": null,
   "id": "6f1f2c83-ce47-4372-a494-e81d5657f311",
   "metadata": {},
   "outputs": [],
   "source": []
  },
  {
   "cell_type": "code",
   "execution_count": null,
   "id": "382588ae-f15b-4423-8bd5-f671bb270075",
   "metadata": {},
   "outputs": [],
   "source": []
  },
  {
   "cell_type": "code",
   "execution_count": 359,
   "id": "bf70b01b-f87e-496e-ae4b-35a614d262f7",
   "metadata": {},
   "outputs": [
    {
     "data": {
      "text/plain": [
       "13"
      ]
     },
     "execution_count": 359,
     "metadata": {},
     "output_type": "execute_result"
    }
   ],
   "source": [
    "len(nlp(text).ents)"
   ]
  },
  {
   "cell_type": "code",
   "execution_count": 360,
   "id": "884d0836-54fa-4070-9d4f-c76925e0da25",
   "metadata": {},
   "outputs": [
    {
     "data": {
      "text/plain": [
       "292"
      ]
     },
     "execution_count": 360,
     "metadata": {},
     "output_type": "execute_result"
    }
   ],
   "source": [
    "len(df_nm)"
   ]
  },
  {
   "cell_type": "code",
   "execution_count": 361,
   "id": "2711b004-9fbd-4bed-8515-10d1da2a0817",
   "metadata": {},
   "outputs": [],
   "source": [
    "spacy_results = []"
   ]
  },
  {
   "cell_type": "code",
   "execution_count": 362,
   "id": "20fa6d2b-eb7f-470a-88bd-f3514f040be8",
   "metadata": {},
   "outputs": [],
   "source": [
    "def populate_spacy_results(text):\n",
    "    spacy_results.append(len(nlp(text).ents))"
   ]
  },
  {
   "cell_type": "code",
   "execution_count": 363,
   "id": "0b79d810-14b7-4ba1-a6f8-af5e482bfc75",
   "metadata": {},
   "outputs": [
    {
     "data": {
      "text/plain": [
       "0      None\n",
       "1      None\n",
       "2      None\n",
       "3      None\n",
       "4      None\n",
       "       ... \n",
       "289    None\n",
       "290    None\n",
       "291    None\n",
       "292    None\n",
       "293    None\n",
       "Name: Full_text, Length: 292, dtype: object"
      ]
     },
     "execution_count": 363,
     "metadata": {},
     "output_type": "execute_result"
    }
   ],
   "source": [
    "df_nm['Full_text'].apply(populate_spacy_results)"
   ]
  },
  {
   "cell_type": "code",
   "execution_count": 364,
   "id": "88217d42-6f01-4b81-9383-50b46c1675e2",
   "metadata": {},
   "outputs": [
    {
     "data": {
      "image/png": "[encoded data removed]",
      "text/plain": [
       "<Figure size 640x480 with 1 Axes>"
      ]
     },
     "metadata": {},
     "output_type": "display_data"
    }
   ],
   "source": [
    "# Visualizing results\n",
    "x = 0.5 + np.arange(len(df_nm))\n",
    "\n",
    "plt.bar(x, spacy_results, label='spaCy') ## width=1\n",
    "plt.title('Количество найденных именованных сущностей')\n",
    "plt.xlabel('ID новости в датасете')\n",
    "plt.ylabel('Количество именованных сущностей')\n",
    "plt.grid(True)\n",
    "plt.legend()\n",
    "plt.show()"
   ]
  },
  {
   "cell_type": "markdown",
   "id": "8ad79902-fa43-45b9-9fd7-91f82dc2a272",
   "metadata": {},
   "source": [
    "Результаты использования библиотеки spaCy получены и можно переходить к сравнению с BERT-моделью."
   ]
  },
  {
   "cell_type": "markdown",
   "id": "de89d4cb-ffad-42f3-a160-e18c1cf3e12b",
   "metadata": {},
   "source": [
    "## NER с использованием предобученной модели"
   ]
  },
  {
   "cell_type": "markdown",
   "id": "37e89e79-ab9a-4698-afd5-42203b1fcc9f",
   "metadata": {},
   "source": [
    "В качестве альтернативного варианта используем предобученную для французского языка модель [Camembert-ner](https://huggingface.co/Jean-Baptiste/camembert-ner-with-dates) с сайта Hugging Face"
   ]
  },
  {
   "cell_type": "code",
   "execution_count": 368,
   "id": "0c3495c2-c96e-437b-b280-ecb8616c7a9c",
   "metadata": {},
   "outputs": [],
   "source": [
    "# Loading tokenizer and model\n",
    "tokenizer = AutoTokenizer.from_pretrained(\"Jean-Baptiste/camembert-ner-with-dates\")\n",
    "model = AutoModelForTokenClassification.from_pretrained(\"Jean-Baptiste/camembert-ner-with-dates\")"
   ]
  },
  {
   "cell_type": "code",
   "execution_count": 369,
   "id": "7853a3ad-fd45-4d94-8481-e696d10673a0",
   "metadata": {},
   "outputs": [],
   "source": [
    "# defining huggingface pipleine\n",
    "camembert = pipeline('ner', model=model, tokenizer=tokenizer, aggregation_strategy=\"simple\", device='cuda', stride=256)"
   ]
  },
  {
   "cell_type": "code",
   "execution_count": 370,
   "id": "ff34dbd5-df88-4993-af30-0b2d3f763284",
   "metadata": {
    "scrolled": true
   },
   "outputs": [
    {
     "data": {
      "text/plain": [
       "[{'entity_group': 'LOC',\n",
       "  'score': 0.9948874,\n",
       "  'word': 'Paris',\n",
       "  'start': 5,\n",
       "  'end': 11},\n",
       " {'entity_group': 'LOC',\n",
       "  'score': 0.9953046,\n",
       "  'word': 'Marseille',\n",
       "  'start': 12,\n",
       "  'end': 22},\n",
       " {'entity_group': 'LOC',\n",
       "  'score': 0.9953244,\n",
       "  'word': 'Beausoleil',\n",
       "  'start': 25,\n",
       "  'end': 36},\n",
       " {'entity_group': 'LOC',\n",
       "  'score': 0.9955947,\n",
       "  'word': 'Villeneuve-Loubet',\n",
       "  'start': 48,\n",
       "  'end': 66},\n",
       " {'entity_group': 'MISC',\n",
       "  'score': 0.8684096,\n",
       "  'word': 'Airbnb',\n",
       "  'start': 115,\n",
       "  'end': 122},\n",
       " {'entity_group': 'DATE',\n",
       "  'score': 0.84749264,\n",
       "  'word': 'Jeudi, en',\n",
       "  'start': 123,\n",
       "  'end': 133},\n",
       " {'entity_group': 'DATE',\n",
       "  'score': 0.9830068,\n",
       "  'word': 'jours',\n",
       "  'start': 219,\n",
       "  'end': 225},\n",
       " {'entity_group': 'DATE',\n",
       "  'score': 0.8953894,\n",
       "  'word': 'à 120 jours',\n",
       "  'start': 312,\n",
       "  'end': 324},\n",
       " {'entity_group': 'DATE',\n",
       "  'score': 0.6327136,\n",
       "  'word': 'à 90',\n",
       "  'start': 349,\n",
       "  'end': 354},\n",
       " {'entity_group': 'DATE',\n",
       "  'score': 0.99246866,\n",
       "  'word': 'le 19 novembre 2024',\n",
       "  'start': 391,\n",
       "  'end': 411},\n",
       " {'entity_group': 'MISC',\n",
       "  'score': 0.72627395,\n",
       "  'word': 'loi Le Meur',\n",
       "  'start': 418,\n",
       "  'end': 430},\n",
       " {'entity_group': 'DATE',\n",
       "  'score': 0.9653642,\n",
       "  'word': 'le 1er janvier',\n",
       "  'start': 543,\n",
       "  'end': 558},\n",
       " {'entity_group': 'DATE',\n",
       "  'score': 0.9938378,\n",
       "  'word': 'dix jours',\n",
       "  'start': 835,\n",
       "  'end': 845},\n",
       " {'entity_group': 'DATE',\n",
       "  'score': 0.9946633,\n",
       "  'word': '90 jours',\n",
       "  'start': 1015,\n",
       "  'end': 1024},\n",
       " {'entity_group': 'PER',\n",
       "  'score': 0.9960764,\n",
       "  'word': 'Lionnel Luca',\n",
       "  'start': 1468,\n",
       "  'end': 1481},\n",
       " {'entity_group': 'MISC',\n",
       "  'score': 0.5735752,\n",
       "  'word': 'd',\n",
       "  'start': 1673,\n",
       "  'end': 1675},\n",
       " {'entity_group': 'MISC',\n",
       "  'score': 0.7177731,\n",
       "  'word': 'Airbnb',\n",
       "  'start': 1676,\n",
       "  'end': 1682},\n",
       " {'entity_group': 'MISC',\n",
       "  'score': 0.82161015,\n",
       "  'word': 'loi Le Meur',\n",
       "  'start': 1839,\n",
       "  'end': 1851},\n",
       " {'entity_group': 'MISC',\n",
       "  'score': 0.84390914,\n",
       "  'word': 'loi Le Meur',\n",
       "  'start': 2297,\n",
       "  'end': 2309},\n",
       " {'entity_group': 'LOC',\n",
       "  'score': 0.9898319,\n",
       "  'word': 'Nice',\n",
       "  'start': 2404,\n",
       "  'end': 2409},\n",
       " {'entity_group': 'DATE',\n",
       "  'score': 0.8726764,\n",
       "  'word': 'en novembre 2024 une',\n",
       "  'start': 2430,\n",
       "  'end': 2451}]"
      ]
     },
     "execution_count": 370,
     "metadata": {},
     "output_type": "execute_result"
    }
   ],
   "source": [
    "# testing on the same article\n",
    "out = camembert(text)\n",
    "out"
   ]
  },
  {
   "cell_type": "code",
   "execution_count": 371,
   "id": "5f702959-8e2d-4a9b-a60f-6c7acb2117a2",
   "metadata": {},
   "outputs": [
    {
     "data": {
      "text/plain": [
       "[(5, 11, 'LOC'),\n",
       " (12, 22, 'LOC'),\n",
       " (25, 36, 'LOC'),\n",
       " (48, 66, 'LOC'),\n",
       " (115, 122, 'MISC'),\n",
       " (123, 133, 'DATE'),\n",
       " (219, 225, 'DATE'),\n",
       " (312, 324, 'DATE'),\n",
       " (349, 354, 'DATE'),\n",
       " (391, 411, 'DATE'),\n",
       " (418, 430, 'MISC'),\n",
       " (543, 558, 'DATE'),\n",
       " (835, 845, 'DATE'),\n",
       " (1015, 1024, 'DATE'),\n",
       " (1468, 1481, 'PER'),\n",
       " (1673, 1675, 'MISC'),\n",
       " (1676, 1682, 'MISC'),\n",
       " (1839, 1851, 'MISC'),\n",
       " (2297, 2309, 'MISC'),\n",
       " (2404, 2409, 'LOC'),\n",
       " (2430, 2451, 'DATE')]"
      ]
     },
     "execution_count": 371,
     "metadata": {},
     "output_type": "execute_result"
    }
   ],
   "source": [
    "# we need to get spans in particular format for markup visualization\n",
    "spans = [(d['start'], d['end'], d['entity_group']) for d in out]\n",
    "spans"
   ]
  },
  {
   "cell_type": "code",
   "execution_count": 372,
   "id": "0cefa3d3-fea7-4047-90e8-1f7fa6434468",
   "metadata": {},
   "outputs": [
    {
     "data": {
      "text/plain": [
       "(21, 21)"
      ]
     },
     "execution_count": 372,
     "metadata": {},
     "output_type": "execute_result"
    }
   ],
   "source": [
    "len(out), len(spans)"
   ]
  },
  {
   "cell_type": "code",
   "execution_count": 373,
   "id": "a8b6d430-f338-4ba5-8ab7-611052034cbd",
   "metadata": {},
   "outputs": [
    {
     "data": {
      "text/html": [
       "<div class=\"tex2jax_ignore\" style=\"white-space: pre-wrap\"><div><span style=\"display: inline-block; vertical-align: top\">Après</span><span style=\"display: inline-block; vertical-align: top; position: relative; margin-bottom: 11px\"><span style=\"border-bottom: 3px solid #90caf9; padding-bottom: 8px\"> Paris</span><span style=\"font-size: 11px; line-height: 1; white-space: nowrap; text-shadow: 1px 1px 0px white; position: absolute; left: 0; bottom: -8px\">LOC</span></span><span style=\"display: inline-block; vertical-align: top\">,</span><span style=\"display: inline-block; vertical-align: top; position: relative; margin-bottom: 11px\"><span style=\"border-bottom: 3px solid #90caf9; padding-bottom: 8px\"> Marseille</span><span style=\"font-size: 11px; line-height: 1; white-space: nowrap; text-shadow: 1px 1px 0px white; position: absolute; left: 0; bottom: -8px\">LOC</span></span><span style=\"display: inline-block; vertical-align: top\"> ou</span><span style=\"display: inline-block; vertical-align: top; position: relative; margin-bottom: 11px\"><span style=\"border-bottom: 3px solid #90caf9; padding-bottom: 8px\"> Beausoleil</span><span style=\"font-size: 11px; line-height: 1; white-space: nowrap; text-shadow: 1px 1px 0px white; position: absolute; left: 0; bottom: -8px\">LOC</span></span><span style=\"display: inline-block; vertical-align: top\">, au tour de</span><span style=\"display: inline-block; vertical-align: top; position: relative; margin-bottom: 11px\"><span style=\"border-bottom: 3px solid #90caf9; padding-bottom: 8px\"> Villeneuve-Loubet</span><span style=\"font-size: 11px; line-height: 1; white-space: nowrap; text-shadow: 1px 1px 0px white; position: absolute; left: 0; bottom: -8px\">LOC</span></span><span style=\"display: inline-block; vertical-align: top\"> de limiter </span></div><div><span style=\"display: inline-block; vertical-align: top\">plus drastiquement les locations type</span><span style=\"display: inline-block; vertical-align: top; position: relative; margin-bottom: 11px\"><span style=\"border-bottom: 3px solid #a5d6a7; padding-bottom: 8px\"> Airbnb</span><span style=\"font-size: 11px; line-height: 1; white-space: nowrap; text-shadow: 1px 1px 0px white; position: absolute; left: 0; bottom: -8px\">MISC</span></span><span style=\"display: inline-block; vertical-align: top\">.</span><span style=\"display: inline-block; vertical-align: top; position: relative; margin-bottom: 11px\"><span style=\"border-bottom: 3px solid #ef9a9a; padding-bottom: 8px\"> Jeudi, en</span><span style=\"font-size: 11px; line-height: 1; white-space: nowrap; text-shadow: 1px 1px 0px white; position: absolute; left: 0; bottom: -8px\">DATE</span></span><span style=\"display: inline-block; vertical-align: top\"> conseil municipal, les </span></div><div><span style=\"display: inline-block; vertical-align: top\">élus ont voté à l’unanimité l’abaissement du nombre maximal de</span><span style=\"display: inline-block; vertical-align: top; position: relative; margin-bottom: 11px\"><span style=\"border-bottom: 3px solid #ef9a9a; padding-bottom: 8px\"> jours</span><span style=\"font-size: 11px; line-height: 1; white-space: nowrap; text-shadow: 1px 1px 0px white; position: absolute; left: 0; bottom: -8px\">DATE</span></span><span style=\"display: inline-block; vertical-align: top\"> de mise en </span></div><div><span style=\"display: inline-block; vertical-align: top\">location d’une résidence principale en meublé de tourisme. Jusqu’alors fixé</span><span style=\"display: inline-block; vertical-align: top; position: relative; margin-bottom: 11px\"><span style=\"border-bottom: 3px solid #ef9a9a; padding-bottom: 8px\"> à </span><span style=\"font-size: 11px; line-height: 1; white-space: nowrap; text-shadow: 1px 1px 0px white; position: absolute; left: 0; bottom: -8px\">DATE</span></span><span style=\"display: inline-block; vertical-align: top\"></span></div><div><span style=\"display: inline-block; vertical-align: top\"></span><span style=\"display: inline-block; vertical-align: top; position: relative; margin-bottom: 11px\"><span style=\"border-bottom: 3px solid #ef9a9a; padding-bottom: 8px\">120 jours</span></span><span style=\"display: inline-block; vertical-align: top\"> par an, ce seuil descend</span><span style=\"display: inline-block; vertical-align: top; position: relative; margin-bottom: 11px\"><span style=\"border-bottom: 3px solid #ef9a9a; padding-bottom: 8px\"> à 90</span><span style=\"font-size: 11px; line-height: 1; white-space: nowrap; text-shadow: 1px 1px 0px white; position: absolute; left: 0; bottom: -8px\">DATE</span></span><span style=\"display: inline-block; vertical-align: top\">. Un durcissement permis par le vote,</span><span style=\"display: inline-block; vertical-align: top; position: relative; margin-bottom: 11px\"><span style=\"border-bottom: 3px solid #ef9a9a; padding-bottom: 8px\"> le </span><span style=\"font-size: 11px; line-height: 1; white-space: nowrap; text-shadow: 1px 1px 0px white; position: absolute; left: 0; bottom: -8px\">DATE</span></span><span style=\"display: inline-block; vertical-align: top\"></span></div><div><span style=\"display: inline-block; vertical-align: top\"></span><span style=\"display: inline-block; vertical-align: top; position: relative; margin-bottom: 11px\"><span style=\"border-bottom: 3px solid #ef9a9a; padding-bottom: 8px\">19 novembre 2024</span></span><span style=\"display: inline-block; vertical-align: top\">, de la</span><span style=\"display: inline-block; vertical-align: top; position: relative; margin-bottom: 11px\"><span style=\"border-bottom: 3px solid #a5d6a7; padding-bottom: 8px\"> loi Le Meur</span><span style=\"font-size: 11px; line-height: 1; white-space: nowrap; text-shadow: 1px 1px 0px white; position: absolute; left: 0; bottom: -8px\">MISC</span></span><span style=\"display: inline-block; vertical-align: top\"> &quot;visant à renforcer les outils de régulation</span></div><div><span style=\"display: inline-block; vertical-align: top\"> des meublés de tourisme à l’échelle locale&quot;. Celle-ci donne, depuis</span><span style=\"display: inline-block; vertical-align: top; position: relative; margin-bottom: 11px\"><span style=\"border-bottom: 3px solid #ef9a9a; padding-bottom: 8px\"> le 1er </span><span style=\"font-size: 11px; line-height: 1; white-space: nowrap; text-shadow: 1px 1px 0px white; position: absolute; left: 0; bottom: -8px\">DATE</span></span><span style=\"display: inline-block; vertical-align: top\"></span></div><div><span style=\"display: inline-block; vertical-align: top\"></span><span style=\"display: inline-block; vertical-align: top; position: relative; margin-bottom: 11px\"><span style=\"border-bottom: 3px solid #ef9a9a; padding-bottom: 8px\">janvier</span></span><span style=\"display: inline-block; vertical-align: top\">, les coudées plus franches aux collectivités pour réguler et </span></div><div><span style=\"display: inline-block; vertical-align: top\">contrôler.Lutter contre les nuisancesLa commune, qui soumet déjà ces locations –</span></div><div><span style=\"display: inline-block; vertical-align: top\"> en résidence principale comme secondaire – à une déclaration préalable (1), </span></div><div><span style=\"display: inline-block; vertical-align: top\">recense 912 meublés de tourisme. &quot;Du propriétaire qui loue</span><span style=\"display: inline-block; vertical-align: top; position: relative; margin-bottom: 11px\"><span style=\"border-bottom: 3px solid #ef9a9a; padding-bottom: 8px\"> dix jours</span><span style=\"font-size: 11px; line-height: 1; white-space: nowrap; text-shadow: 1px 1px 0px white; position: absolute; left: 0; bottom: -8px\">DATE</span></span><span style=\"display: inline-block; vertical-align: top\"> par an à </span></div><div><span style=\"display: inline-block; vertical-align: top\">celui qui le fait de manière plus systématique, sur une résidence secondaire, en</span></div><div><span style=\"display: inline-block; vertical-align: top\"> passant par des professionnels&quot;, font savoir ses services.La nouvelle limite de</span></div><div><span style=\"display: inline-block; vertical-align: top\"></span><span style=\"display: inline-block; vertical-align: top; position: relative; margin-bottom: 11px\"><span style=\"border-bottom: 3px solid #ef9a9a; padding-bottom: 8px\"> 90 jours</span><span style=\"font-size: 11px; line-height: 1; white-space: nowrap; text-shadow: 1px 1px 0px white; position: absolute; left: 0; bottom: -8px\">DATE</span></span><span style=\"display: inline-block; vertical-align: top\">, effective dès à présent, ne vise pour l’heure que les propriétaires </span></div><div><span style=\"display: inline-block; vertical-align: top\">de résidences principales. Avec, en creux, un accent mis sur les copropriétés où</span></div><div><span style=\"display: inline-block; vertical-align: top\"> la pratique serait davantage répandue encore, générant des désagréments. &quot;On </span></div><div><span style=\"display: inline-block; vertical-align: top\">n’a rien contre les propriétaires qui veulent louer, ils sont libres. Encore </span></div><div><span style=\"display: inline-block; vertical-align: top\">faut-il qu’ils se déclarent [...] et veillent à ne pas créer de nuisances pour </span></div><div><span style=\"display: inline-block; vertical-align: top\">le voisinage, c’est la moindre des choses&quot;, martèle le maire</span><span style=\"display: inline-block; vertical-align: top; position: relative; margin-bottom: 11px\"><span style=\"border-bottom: 3px solid #ffcc80; padding-bottom: 8px\"> Lionnel Luca</span><span style=\"font-size: 11px; line-height: 1; white-space: nowrap; text-shadow: 1px 1px 0px white; position: absolute; left: 0; bottom: -8px\">PER</span></span><span style=\"display: inline-block; vertical-align: top\">.Dans </span></div><div><span style=\"display: inline-block; vertical-align: top\">les prochains jours, l’édile adressera un courrier en ce sens aux copropriétés </span></div><div><span style=\"display: inline-block; vertical-align: top\">villeneuvoises. Objectif: &quot;Leur rappeler qu’elles peuvent désormais délibérer en</span></div><div><span style=\"display: inline-block; vertical-align: top\"> AG pour qu’il n’y ait plus</span><span style=\"display: inline-block; vertical-align: top; position: relative; margin-bottom: 11px\"><span style=\"border-bottom: 3px solid #a5d6a7; padding-bottom: 8px\"> d</span><span style=\"font-size: 11px; line-height: 1; white-space: nowrap; text-shadow: 1px 1px 0px white; position: absolute; left: 0; bottom: -8px\">MISC</span></span><span style=\"display: inline-block; vertical-align: top\">’</span><span style=\"display: inline-block; vertical-align: top; position: relative; margin-bottom: 11px\"><span style=\"border-bottom: 3px solid #a5d6a7; padding-bottom: 8px\">Airbnb</span><span style=\"font-size: 11px; line-height: 1; white-space: nowrap; text-shadow: 1px 1px 0px white; position: absolute; left: 0; bottom: -8px\">MISC</span></span><span style=\"display: inline-block; vertical-align: top\"> et que, pour cela, l’unanimité n’est plus </span></div><div><span style=\"display: inline-block; vertical-align: top\">requise: deux tiers des votants suffisent&quot;, précise-t-il, s’appuyant sur les </span></div><div><span style=\"display: inline-block; vertical-align: top\">nouvelles dispositions prévues par la</span><span style=\"display: inline-block; vertical-align: top; position: relative; margin-bottom: 11px\"><span style=\"border-bottom: 3px solid #a5d6a7; padding-bottom: 8px\"> loi Le Meur</span><span style=\"font-size: 11px; line-height: 1; white-space: nowrap; text-shadow: 1px 1px 0px white; position: absolute; left: 0; bottom: -8px\">MISC</span></span><span style=\"display: inline-block; vertical-align: top\">.Le texte durcit aussi les </span></div><div><span style=\"display: inline-block; vertical-align: top\">amendes pouvant être dressées par la commune en cas de non-déclaration préalable</span></div><div><span style=\"display: inline-block; vertical-align: top\"> des propriétaires. Une douloureuse chiffrant jusqu’à 10.000 euros pour défaut </span></div><div><span style=\"display: inline-block; vertical-align: top\">de déclaration, 20.000 euros si celle-ci est fausse. &quot;Nous avons recruté un </span></div><div><span style=\"display: inline-block; vertical-align: top\">agent dédié à ces contrôles&quot;, fait d’ailleurs savoir le cabinet du maire.Bientôt</span></div><div><span style=\"display: inline-block; vertical-align: top\"> une étude plus fineLa municipalité ne compte par s’arrêter là, en décortiquant </span></div><div><span style=\"display: inline-block; vertical-align: top\">les autres leviers de la</span><span style=\"display: inline-block; vertical-align: top; position: relative; margin-bottom: 11px\"><span style=\"border-bottom: 3px solid #a5d6a7; padding-bottom: 8px\"> loi Le Meur</span><span style=\"font-size: 11px; line-height: 1; white-space: nowrap; text-shadow: 1px 1px 0px white; position: absolute; left: 0; bottom: -8px\">MISC</span></span><span style=\"display: inline-block; vertical-align: top\">, qui permet notamment de fixer des quotas </span></div><div><span style=\"display: inline-block; vertical-align: top\">de biens à louer par zone. Une option déjà prise par</span><span style=\"display: inline-block; vertical-align: top; position: relative; margin-bottom: 11px\"><span style=\"border-bottom: 3px solid #90caf9; padding-bottom: 8px\"> Nice</span><span style=\"font-size: 11px; line-height: 1; white-space: nowrap; text-shadow: 1px 1px 0px white; position: absolute; left: 0; bottom: -8px\">LOC</span></span><span style=\"display: inline-block; vertical-align: top\">, qui avait identifié</span><span style=\"display: inline-block; vertical-align: top; position: relative; margin-bottom: 11px\"><span style=\"border-bottom: 3px solid #ef9a9a; padding-bottom: 8px\"> </span><span style=\"font-size: 11px; line-height: 1; white-space: nowrap; text-shadow: 1px 1px 0px white; position: absolute; left: 0; bottom: -8px\">DATE</span></span><span style=\"display: inline-block; vertical-align: top\"></span></div><div><span style=\"display: inline-block; vertical-align: top\"></span><span style=\"display: inline-block; vertical-align: top; position: relative; margin-bottom: 11px\"><span style=\"border-bottom: 3px solid #ef9a9a; padding-bottom: 8px\">en novembre 2024 une</span></span><span style=\"display: inline-block; vertical-align: top\"> trentaine de quartiers en tension, concentrant 70% des </span></div><div><span style=\"display: inline-block; vertical-align: top\">locations saisonnières. &quot;Nous allons lancer une étude territoriale et évaluer </span></div><div><span style=\"display: inline-block; vertical-align: top\">toutes les options que ce texte offre, pour rétablir la mixité des usages&quot;, </span></div><div><span style=\"display: inline-block; vertical-align: top\">indique la municipalité. Avec, cette fois, pour but de libérer des logements </span></div><div><span style=\"display: inline-block; vertical-align: top\">pour les actifs villeneuvois quand des propriétaires de résidences secondaires </span></div><div><span style=\"display: inline-block; vertical-align: top\">préfèrent la location saisonnière, plus lucrative.1. Déclaration auprès de </span></div><div><span style=\"display: inline-block; vertical-align: top\">l’office de tourisme: 04.92.02.66.16.</span></div></div>"
      ],
      "text/plain": [
       "<IPython.core.display.HTML object>"
      ]
     },
     "metadata": {},
     "output_type": "display_data"
    }
   ],
   "source": [
    "show_span_line_markup(text, spans)"
   ]
  },
  {
   "cell_type": "markdown",
   "id": "2e447f76-38ca-45bd-a922-83a7a6eff3ab",
   "metadata": {},
   "source": [
    "## Визуализируем результаты\n",
    "или одна картинка стоит тысячи слов"
   ]
  },
  {
   "cell_type": "code",
   "execution_count": 375,
   "id": "9f4580e9-7078-4621-8223-f8cc173bfd96",
   "metadata": {},
   "outputs": [],
   "source": [
    "# Defining a function to get tags list from pretrained BERT model output\n",
    "def get_bert_tags_list(out):\n",
    "    return [ d['entity_group'] for d in out]"
   ]
  },
  {
   "cell_type": "code",
   "execution_count": 376,
   "id": "204e5ac3-b323-43b9-9a4a-313c38e3072f",
   "metadata": {},
   "outputs": [
    {
     "data": {
      "text/plain": [
       "0      LOC\n",
       "1      LOC\n",
       "2      LOC\n",
       "3      PER\n",
       "4     DATE\n",
       "      ... \n",
       "31     PER\n",
       "32     LOC\n",
       "33     LOC\n",
       "34     ORG\n",
       "35    DATE\n",
       "Length: 10075, dtype: object"
      ]
     },
     "execution_count": 376,
     "metadata": {},
     "output_type": "execute_result"
    }
   ],
   "source": [
    "bert_labels_total_series = pd.concat(pd.Series(get_bert_tags_list(camembert(row.Full_text))) for row in df_nm.itertuples())\n",
    "bert_labels_total_series"
   ]
  },
  {
   "cell_type": "code",
   "execution_count": 377,
   "id": "182162f5-eb0b-462a-8e0c-b34b2b1782da",
   "metadata": {},
   "outputs": [
    {
     "data": {
      "text/plain": [
       "Counter({'PER': 2708, 'LOC': 2471, 'DATE': 2213, 'ORG': 1624, 'MISC': 1059})"
      ]
     },
     "execution_count": 377,
     "metadata": {},
     "output_type": "execute_result"
    }
   ],
   "source": [
    "bert_total_counter = Counter(bert_labels_total_series)\n",
    "bert_total_counter"
   ]
  },
  {
   "cell_type": "code",
   "execution_count": 378,
   "id": "3298fb94-e7a6-4b68-9e48-9b17964652aa",
   "metadata": {},
   "outputs": [
    {
     "data": {
      "text/plain": [
       "(10075, 7954)"
      ]
     },
     "execution_count": 378,
     "metadata": {},
     "output_type": "execute_result"
    }
   ],
   "source": [
    "bert_total_counter.total(), spacy_total_counter.total()"
   ]
  },
  {
   "cell_type": "code",
   "execution_count": 448,
   "id": "91542172-1bdc-4ffa-80b3-f15a9aa05a59",
   "metadata": {},
   "outputs": [
    {
     "data": {
      "image/png": "[encoded data removed]",
      "text/plain": [
       "<Figure size 640x480 with 1 Axes>"
      ]
     },
     "metadata": {},
     "output_type": "display_data"
    }
   ],
   "source": [
    "plot_bar(bert_total_counter)"
   ]
  },
  {
   "cell_type": "markdown",
   "id": "402900b5-9dfc-4904-9537-babc4709a570",
   "metadata": {},
   "source": [
    "Для удобства сравнения, отобразим полученную статистику на одной диаграмме"
   ]
  },
  {
   "cell_type": "code",
   "execution_count": 500,
   "id": "385e23cf-5b90-4095-9b9a-d986c1c7c01b",
   "metadata": {},
   "outputs": [
    {
     "data": {
      "image/png": "[encoded data removed]",
      "text/plain": [
       "<Figure size 1200x500 with 1 Axes>"
      ]
     },
     "metadata": {},
     "output_type": "display_data"
    }
   ],
   "source": [
    "# Visualizing two counters side-by-side\n",
    "\n",
    "width = 0.4 # Width of a bar\n",
    "tag_list = ['LOC', 'PER', 'ORG', 'MISC', 'DATE']\n",
    "ind = np.arange(len(tag_list))\n",
    "\n",
    "plt.figure(figsize=(12,5))\n",
    "plt.bar(ind, [spacy_total_counter[tag] for tag in tag_list], width=width, label='spaCy')\n",
    "plt.bar(ind + width, [bert_total_counter[tag] for tag in tag_list], width=width, label='Camembert')\n",
    "plt.xticks(ind + width / 2, tag_list)\n",
    "plt.title('NE total count by tags')\n",
    "plt.xlabel('NER tags')\n",
    "plt.ylabel('Total count')\n",
    "plt.grid(True)\n",
    "plt.legend()\n",
    "plt.show()"
   ]
  },
  {
   "cell_type": "code",
   "execution_count": null,
   "id": "938fdd2f-9485-4212-bbcb-be57256e6bf1",
   "metadata": {},
   "outputs": [],
   "source": []
  },
  {
   "cell_type": "markdown",
   "id": "2ee99804-bb54-4bc0-a531-b87404d1566c",
   "metadata": {},
   "source": [
    "### Сравним общее количество найденных моделью именованных сущностей для каждой статьи"
   ]
  },
  {
   "cell_type": "code",
   "execution_count": 381,
   "id": "592be476-606c-4d8a-b258-819743f2b35c",
   "metadata": {},
   "outputs": [],
   "source": [
    "bert_results = []"
   ]
  },
  {
   "cell_type": "code",
   "execution_count": 382,
   "id": "f8ee5d5b-3406-4771-91f6-e19e9c12cb3e",
   "metadata": {},
   "outputs": [],
   "source": [
    "def populate_bert_results(text):\n",
    "    bert_results.append(len(camembert(text)))"
   ]
  },
  {
   "cell_type": "code",
   "execution_count": 383,
   "id": "13a94296-0580-4239-a9ee-ca18aee3eab2",
   "metadata": {},
   "outputs": [
    {
     "data": {
      "text/plain": [
       "0      None\n",
       "1      None\n",
       "2      None\n",
       "3      None\n",
       "4      None\n",
       "       ... \n",
       "289    None\n",
       "290    None\n",
       "291    None\n",
       "292    None\n",
       "293    None\n",
       "Name: Full_text, Length: 292, dtype: object"
      ]
     },
     "execution_count": 383,
     "metadata": {},
     "output_type": "execute_result"
    }
   ],
   "source": [
    "df_nm['Full_text'].apply(populate_bert_results)"
   ]
  },
  {
   "cell_type": "code",
   "execution_count": 384,
   "id": "dd50224f-760a-4771-a99a-5ed447799df5",
   "metadata": {},
   "outputs": [
    {
     "data": {
      "text/plain": [
       "(292, 292)"
      ]
     },
     "execution_count": 384,
     "metadata": {},
     "output_type": "execute_result"
    }
   ],
   "source": [
    "len(bert_results), len(spacy_results)"
   ]
  },
  {
   "cell_type": "markdown",
   "id": "954dc736-2c68-4f8d-bace-864349897942",
   "metadata": {},
   "source": [
    "и отобразим результаты на диаграмме"
   ]
  },
  {
   "cell_type": "code",
   "execution_count": 506,
   "id": "16c877d1-972b-4a3c-b6df-171f16eb37dc",
   "metadata": {},
   "outputs": [
    {
     "data": {
      "image/png": "[encoded data removed]",
      "text/plain": [
       "<Figure size 1400x500 with 1 Axes>"
      ]
     },
     "metadata": {},
     "output_type": "display_data"
    }
   ],
   "source": [
    "# Visualizing the results\n",
    "\n",
    "width = 0.5 # Width of a bar\n",
    "x = np.arange(len(df_nm))\n",
    "\n",
    "plt.figure(figsize=(14,5))\n",
    "plt.bar(x, spacy_results, width=width, label='spaCy')\n",
    "plt.bar(x + width, bert_results, width=width, label='Camembert')\n",
    "plt.title('NE total count by article')\n",
    "plt.xlabel('Article ID')\n",
    "plt.ylabel('Total count')\n",
    "plt.grid(True)\n",
    "plt.legend()\n",
    "plt.show()"
   ]
  },
  {
   "cell_type": "markdown",
   "id": "40e055dd-2547-4bbe-8b25-e384c4ffef84",
   "metadata": {},
   "source": [
    "## Итоги"
   ]
  },
  {
   "cell_type": "markdown",
   "id": "fb603216-6222-4ad5-b063-13d87ee36f7d",
   "metadata": {},
   "source": [
    "1. Оба использованных подхода достаточно хорошо справляются с задачей NER на тексте новостей без дополнительного обучения;\n",
    "2. BERT-модель демонстрирует лучшие результаты, в основном за счет определения дат, но результаты не идеальны и в ряде случаев модель ошибается;\n",
    "3. Дообучение модели могло бы повысить качество распознавания, но это потребовало бы совсем других временных и финансовых затрат, в первую очередь, на подготовку и **разметку** набора данных, а также на последующее дообучение;"
   ]
  },
  {
   "cell_type": "code",
   "execution_count": null,
   "id": "420cc60f-9005-4709-b285-b099451872c6",
   "metadata": {},
   "outputs": [],
   "source": []
  }
 ],
 "metadata": {
  "kernelspec": {
   "display_name": "Python 3 (ipykernel)",
   "language": "python",
   "name": "python3"
  },
  "language_info": {
   "codemirror_mode": {
    "name": "ipython",
    "version": 3
   },
   "file_extension": ".py",
   "mimetype": "text/x-python",
   "name": "python",
   "nbconvert_exporter": "python",
   "pygments_lexer": "ipython3",
   "version": "3.12.2"
  }
 },
 "nbformat": 4,
 "nbformat_minor": 5
}
