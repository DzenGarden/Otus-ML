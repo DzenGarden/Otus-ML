{
 "cells": [
  {
   "cell_type": "markdown",
   "metadata": {},
   "source": [
    "## Basic ML Homework\n",
    "### Модуль 4: Теоретический минимум для ML: линейная алгебра, начала мат.анализа"
   ]
  },
  {
   "cell_type": "markdown",
   "metadata": {},
   "source": [
    "## 1. Линейная алгебра"
   ]
  },
  {
   "cell_type": "markdown",
   "metadata": {},
   "source": [
    "1. Даны матрицы $A = \\begin{pmatrix}\n",
    "2 & −4 \\\\\n",
    "3 & 5 \\\\\n",
    "−1 & 0 \n",
    "\\end{pmatrix},\n",
    "$\n",
    "$B = \\begin{pmatrix}1 & 2 & 7 \\\\ −3 & −4 & 0 \\\\ 5 & 2 & 1 \\end{pmatrix}$, $C = \\begin{pmatrix}\n",
    "6 & −3 & 9 \\\\\n",
    "4 & −5 & 2 \\\\\n",
    "8 & 1 & 5\n",
    "\\end{pmatrix}.$\n",
    "\n",
    "Посчитайте матрицу $D = A^{\\top}C - 2A^{\\top}B^{\\top}$. Приведите полную последовательность вычислений."
   ]
  },
  {
   "cell_type": "markdown",
   "metadata": {},
   "source": [
    "$A^{\\top} = \\begin{pmatrix}\n",
    "2 & 3 & -1 \\\\ \n",
    "-4 & 5 & 0 \n",
    "\\end{pmatrix}$"
   ]
  },
  {
   "cell_type": "markdown",
   "metadata": {},
   "source": [
    "$A^{\\top}C$ = $\\begin{pmatrix} 2 & 3 & -1 \\\\ -4 & 5 & 0 \\end{pmatrix}\n",
    "\\cdot \n",
    "\\begin{pmatrix} 6 & −3 & 9 \\\\ 4 & −5 & 2 \\\\ 8 & 1 & 5 \\end{pmatrix}\n",
    "=\n",
    "\\begin{pmatrix} 16 & -22 & 19 \\\\ -4 & -13 & -26 \\end{pmatrix}$"
   ]
  },
  {
   "cell_type": "markdown",
   "metadata": {},
   "source": [
    "$2A^{\\top}B^{\\top} = \\begin{pmatrix} 4 & 6 & -2 \\\\ -8 & 10 & 0 \\end{pmatrix}\n",
    "\\cdot \n",
    "\\begin{pmatrix} 1 & -3 & 5 \\\\ 2 & −4 & 2 \\\\ 7 & 0 & 1 \\end{pmatrix}\n",
    "=\n",
    "\\begin{pmatrix} 2 & -36 & 30 \\\\ 12 & -16 & -20 \\end{pmatrix}\n",
    "$"
   ]
  },
  {
   "cell_type": "markdown",
   "metadata": {},
   "source": [
    "$D = A^{\\top}C - 2A^{\\top}B^{\\top} = \n",
    "\\begin{pmatrix} 16 & -22 & 19 \\\\ -4 & -13 & -26 \\end{pmatrix} - \n",
    "\\begin{pmatrix} 2 & -36 & 30 \\\\ 12 & -16 & -20 \\end{pmatrix} = \n",
    "\\begin{pmatrix} 14 & 14 & -11 \\\\ -16 & 3 & -6 \\end{pmatrix}\n",
    "$\n",
    "\n",
    "Проверяем:"
   ]
  },
  {
   "cell_type": "code",
   "execution_count": 26,
   "metadata": {},
   "outputs": [],
   "source": [
    "import numpy as np\n",
    "import matplotlib.pyplot as plt"
   ]
  },
  {
   "cell_type": "code",
   "execution_count": 27,
   "metadata": {},
   "outputs": [],
   "source": [
    "A = np.array([[2,-4],\n",
    "              [3,5],\n",
    "              [-1,0]])\n",
    "B = np.array([[1,2,7],\n",
    "              [-3,-4,0],\n",
    "              [5,2,1]])\n",
    "C = np.array([[6,-3,9],\n",
    "              [4,-5,2],\n",
    "              [8,1,5]])"
   ]
  },
  {
   "cell_type": "code",
   "execution_count": 28,
   "metadata": {},
   "outputs": [
    {
     "data": {
      "text/plain": [
       "array([[ 14,  14, -11],\n",
       "       [-16,   3,  -6]])"
      ]
     },
     "execution_count": 28,
     "metadata": {},
     "output_type": "execute_result"
    }
   ],
   "source": [
    "A.T@C - 2*A.T@B.T"
   ]
  },
  {
   "cell_type": "markdown",
   "metadata": {},
   "source": [
    "2. Дано выражение:\n",
    "\n",
    "$ 3 \\cdot \\begin{pmatrix} x & 2 & 3 \\\\ −1 & y & 4 \\end{pmatrix} +\n",
    "2 \\cdot \\begin{pmatrix} 1 & 2 & −5 \\\\ 2 & −6 & z \\end{pmatrix} =\n",
    "\\begin{pmatrix}\n",
    "8 & v & −1 \\\\\n",
    "1 & 6 & 4 \\end{pmatrix}. $\n",
    "\n",
    "Найдите значения $x$, $y$, $z$, и $v$, при которых выражение верно."
   ]
  },
  {
   "cell_type": "markdown",
   "metadata": {},
   "source": [
    "Составим систему из четырех уравнений с четырьмя неизвестными:"
   ]
  },
  {
   "cell_type": "markdown",
   "metadata": {},
   "source": [
    "3$x$ + 2 = 8 => $x$ = 2 \n",
    "\n",
    "3$y$ - 12 = 6 => $y$ = 6\n",
    "\n",
    "12 + 2$z$ = 4 => $z$ = -4\n",
    "\n",
    "6 + 4 = $v$ => $v$ = 10\n",
    "\n",
    "Проверяем:"
   ]
  },
  {
   "cell_type": "code",
   "execution_count": 29,
   "metadata": {},
   "outputs": [],
   "source": [
    "x, y, z = 2, 6, -4\n",
    "A = np.array([[x,2,3],\n",
    "              [-1,y,4]])\n",
    "B = np.array([[1,2,-5],\n",
    "              [2,-6,z]])"
   ]
  },
  {
   "cell_type": "code",
   "execution_count": 30,
   "metadata": {},
   "outputs": [
    {
     "data": {
      "text/plain": [
       "array([[ 8, 10, -1],\n",
       "       [ 1,  6,  4]])"
      ]
     },
     "execution_count": 30,
     "metadata": {},
     "output_type": "execute_result"
    }
   ],
   "source": [
    "3*A + 2*B"
   ]
  },
  {
   "cell_type": "markdown",
   "metadata": {},
   "source": [
    "3. Укажите те значения параметров $p$ и $q$, при которых\n",
    "ранг матрицы $A = \\begin{pmatrix} 1 & 2 & 3 \\\\ 3 & 6 & p \\\\ 5 & 10 & q \\end{pmatrix}$ равен единице."
   ]
  },
  {
   "cell_type": "markdown",
   "metadata": {},
   "source": [
    "Выполним элементарное преобразование, не меняющее ранг матрицы, а именно:\n",
    "сложение строк или столбцов с предварительным умножением одной из них на число, не равное нулю.\n",
    "\n",
    "Для того, чтобы ранг матрицы был равен единице, нам надо получить все нулевые элементы во второй и третьей строке.\n",
    "\n",
    "Первую строку оставляем неизменной. Вторую складываем с первой, умноженной на (-3). Третью складываем с первой, умноженной на (-5). Получим:\n",
    "\n",
    "$A $~$ \\begin{pmatrix} 1 & 2 & 3 \\\\ 0 & 0 & p-9 \\\\ 0 & 0 & q-15 \\end{pmatrix}\n",
    "=>\n",
    "p = 9, q = 15\n",
    "$\n",
    "\n"
   ]
  },
  {
   "cell_type": "markdown",
   "metadata": {},
   "source": [
    "4. Относительно канонического (стандартного) базиса в $\\mathbb{R}^2$ даны три вектора $a_1 = (2, −5)^\\top$, $a_2 = (−1, 3)^\\top$, $x = (1, −4)^\\top$. Примите векторы a1 , a2 за новый базис B, предварительно проверив, что они линейно независимы.\n",
    "\n",
    "\n",
    "$\\hspace{1cm}$(a) Найдите координаты $[x]_B$ вектора $x$ в новом базисе.$\\\\$\n",
    "$\\hspace{1cm}$(b) Предположим, что координаты вектора $y$ в базисе B заданы $[y]_B = (1, 1)^\\top.$ Найдите координаты\n",
    "вектора $y$ в стандартном базисе. "
   ]
  },
  {
   "cell_type": "markdown",
   "metadata": {},
   "source": [
    "Покажем, что векторы $a_1$ и $a_2$ линейно независимы, для чего запишем их в виде матрицы $\\begin{pmatrix} 2 & -1 \\\\ -5 & 3 \\end{pmatrix}$ и выполним эквивалентые преобразования, не меняющие ранга матрицы. На первом шаге умножим первую строку матрицы на 5, вторую на 2, дальнейшие преобразования очевидны:\n",
    "\n",
    "$\\begin{pmatrix} 10 & -5 \\\\ -10 & 6 \\end{pmatrix}$ ~\n",
    "$\\begin{pmatrix} 10 & -5 \\\\ 0 & 1 \\end{pmatrix}$ ~\n",
    "$\\begin{pmatrix} 2 & -1 \\\\ 0 & 1 \\end{pmatrix}$ ~\n",
    "$\\begin{pmatrix} 2 & 0 \\\\ 0 & 1 \\end{pmatrix}$ ~\n",
    "$\\begin{pmatrix} 1 & 0 \\\\ 0 & 1 \\end{pmatrix}$\n",
    "=> векторы $a_1$ и $a_2$ линейно независимы\n",
    "\n",
    "$\\hspace{1cm}$(a) Найдем координаты $[x]_B$ вектора $x$ в новом базисе B, для чего запишем их в виде матрицы и выполним эквивалентные преобразования:\n",
    "\n",
    "$\\begin{pmatrix} 2 & -1 & 1 \\\\ -5 & 3 & -4 \\end{pmatrix}$ ~\n",
    "$\\begin{pmatrix} 10 & -5 & 5 \\\\ -10 & 6 & -8 \\end{pmatrix}$ ~\n",
    "$\\begin{pmatrix} 10 & -5 & 5 \\\\ 0 & 1 & -3 \\end{pmatrix}$ ~\n",
    "$\\begin{pmatrix} 2 & -1 & 1 \\\\ 0 & 1 & -3 \\end{pmatrix}$ ~\n",
    "$\\begin{pmatrix} 2 & 0 & -2 \\\\ 0 & 1 & -3 \\end{pmatrix}$ ~\n",
    "$\\begin{pmatrix} 1 & 0 & -1 \\\\ 0 & 1 & -3 \\end{pmatrix}$\n",
    "\n",
    "=> $[x]_B$ = -1$a_1$ -3$a_2$ => $[x]_B = (-1,-3)^\\top$\n",
    "\n",
    "Проверяем: $\\\\$\n",
    "$[x]_A$ = -1$\\begin{pmatrix} 2 \\\\ -5 \\end{pmatrix}$ - 3$\\begin{pmatrix} -1 \\\\ 3 \\end{pmatrix}$ = \n",
    "$\\begin{pmatrix} -2 \\\\ 5 \\end{pmatrix} + \\begin{pmatrix} 3 \\\\ -9 \\end{pmatrix}$ =\n",
    "$\\begin{pmatrix} 1 \\\\ -4 \\end{pmatrix}$\n",
    "\n",
    "что в точности соответствует координатам вектора $[x]$ в каноническом базисе.\n",
    "\n",
    "$\\hspace{1cm}$(b) $[y]_B = (1, 1)^\\top = 1[a_1] + 1[a_2]$ = \n",
    "$\\begin{pmatrix} 2 \\\\ -5 \\end{pmatrix} + \\begin{pmatrix} -1 \\\\ 3 \\end{pmatrix}$ =\n",
    "$\\begin{pmatrix} 1 \\\\ -2 \\end{pmatrix}_A$\n",
    "\n",
    "Проверяем:\n",
    "\n",
    "$\\begin{pmatrix} 2 & -1 & 1 \\\\ -5 & 3 & -2 \\end{pmatrix}$ ~\n",
    "$\\begin{pmatrix} 10 & -5 & 5 \\\\ -10 & 6 & -4 \\end{pmatrix}$ ~\n",
    "$\\begin{pmatrix} 2 & -1 & 1 \\\\ 0 & 1 & 1 \\end{pmatrix}$ ~\n",
    "$\\begin{pmatrix} 2 & 0 & 2 \\\\ 0 & 1 & 1 \\end{pmatrix}$ ~\n",
    "$\\begin{pmatrix} 1 & 0 & 1 \\\\ 0 & 1 & 1 \\end{pmatrix}$\n",
    "\n",
    "Проведем в numpy аналогичные расчеты с использованием формулы перехода к новому базису:\n",
    "\n",
    "$$\n",
    "[x]_A = B \\cdot [x]_B\\\\\n",
    "[x]_B = B^{-1}[x]_A\n",
    "$$"
   ]
  },
  {
   "cell_type": "code",
   "execution_count": 31,
   "metadata": {},
   "outputs": [],
   "source": [
    "B = np.array([[2,-1],\n",
    "              [-5,3]])  # Матрица перехода\n",
    "xa = np.array([1,-4])\n",
    "yb = np.array([1,1])"
   ]
  },
  {
   "cell_type": "code",
   "execution_count": 32,
   "metadata": {},
   "outputs": [
    {
     "data": {
      "text/plain": [
       "array([-1., -3.])"
      ]
     },
     "execution_count": 32,
     "metadata": {},
     "output_type": "execute_result"
    }
   ],
   "source": [
    "xb = np.linalg.inv(B)@xa\n",
    "xb"
   ]
  },
  {
   "cell_type": "code",
   "execution_count": 33,
   "metadata": {},
   "outputs": [
    {
     "data": {
      "text/plain": [
       "array([ 1, -2])"
      ]
     },
     "execution_count": 33,
     "metadata": {},
     "output_type": "execute_result"
    }
   ],
   "source": [
    "ya = B@yb\n",
    "ya"
   ]
  },
  {
   "cell_type": "markdown",
   "metadata": {},
   "source": [
    "5. Исследовательское задание: малоранговая аппроксимация матрицы. Сгенерируйте случайную квадратную матрицу $A \\in \\mathbb{R}^{nxn}, n \\geq 100.$ Выполните сингулярное разложение этой матрицы, и получите три матрицы: $U, S, V^\\top.$ Выполняйте аппроксимацию матрицы $A$ с рангом $r$, меняя его значение, например,\n",
    "от 2 до $n$:\n",
    "\n",
    "$$\\tilde{A}= U [:, : r]S[: r, : r]V^\\top [: r, :],$$\n",
    "\n",
    "и каждый раз считайте ошибку апроксимации (как восстановленная матрица отличается от исходной):\n",
    "\n",
    "$$ E(r) = ||A - \\tilde{A}||_F = \\sqrt{\\sum_{i=1}^{n}\\sum_{j=1}^{n} (a_{ij} - \\tilde{a_{ij}})^2} $$\n",
    "\n",
    "Используя библиотеку matplotlib, постройте график зависимости ошибки аппроксимации матрицы от\n",
    "ранга r."
   ]
  },
  {
   "cell_type": "code",
   "execution_count": 34,
   "metadata": {},
   "outputs": [],
   "source": [
    "n = 200\n",
    "r_min = 2"
   ]
  },
  {
   "cell_type": "code",
   "execution_count": 35,
   "metadata": {},
   "outputs": [],
   "source": [
    "A = np.random.randint(5, 200, size=(n,n))"
   ]
  },
  {
   "cell_type": "code",
   "execution_count": 36,
   "metadata": {},
   "outputs": [
    {
     "data": {
      "text/plain": [
       "array([[ 72,  72, 158, ...,   9,  82,  85],\n",
       "       [134, 150, 176, ...,   7,  14, 153],\n",
       "       [ 29,  89,  33, ..., 167, 138, 117],\n",
       "       ...,\n",
       "       [170,  97, 185, ..., 106,  36,   9],\n",
       "       [139,  67,  23, ...,  15,  85, 103],\n",
       "       [ 67, 161, 133, ..., 195, 152, 175]])"
      ]
     },
     "execution_count": 36,
     "metadata": {},
     "output_type": "execute_result"
    }
   ],
   "source": [
    "A"
   ]
  },
  {
   "cell_type": "code",
   "execution_count": 37,
   "metadata": {},
   "outputs": [],
   "source": [
    "U, S, V = np.linalg.svd(A, full_matrices=True)"
   ]
  },
  {
   "cell_type": "code",
   "execution_count": 38,
   "metadata": {},
   "outputs": [
    {
     "data": {
      "text/plain": [
       "((200, 200), (200,), (200, 200))"
      ]
     },
     "execution_count": 38,
     "metadata": {},
     "output_type": "execute_result"
    }
   ],
   "source": [
    "U.shape, S.shape, V.shape"
   ]
  },
  {
   "cell_type": "code",
   "execution_count": 39,
   "metadata": {},
   "outputs": [
    {
     "data": {
      "text/plain": [
       "array([[ 72.,  72., 158., ...,   9.,  82.,  85.],\n",
       "       [134., 150., 176., ...,   7.,  14., 153.],\n",
       "       [ 29.,  89.,  33., ..., 167., 138., 117.],\n",
       "       ...,\n",
       "       [170.,  97., 185., ..., 106.,  36.,   9.],\n",
       "       [139.,  67.,  23., ...,  15.,  85., 103.],\n",
       "       [ 67., 161., 133., ..., 195., 152., 175.]])"
      ]
     },
     "execution_count": 39,
     "metadata": {},
     "output_type": "execute_result"
    }
   ],
   "source": [
    "U@np.diag(S)@V"
   ]
  },
  {
   "cell_type": "code",
   "execution_count": 40,
   "metadata": {
    "scrolled": true
   },
   "outputs": [],
   "source": [
    "x = np.empty(n-r_min+1)\n",
    "y = np.empty(n-r_min+1)\n",
    "for r in range(r_min,n+1):\n",
    "    Ar = U[:,:r]@np.diag(S)[:r,:r]@V[:r,:]\n",
    "    Adiff = A - Ar\n",
    "    Er = np.linalg.norm(Adiff)\n",
    "#    print(f\"ind = {r-r_min} r = {r}: E(r) = {Er:.2f}\") ## debugging\n",
    "    x[r-r_min] = r\n",
    "    y[r-r_min] = round(Er,2)"
   ]
  },
  {
   "cell_type": "code",
   "execution_count": 41,
   "metadata": {},
   "outputs": [
    {
     "data": {
      "text/plain": [
       "((199,), (199,))"
      ]
     },
     "execution_count": 41,
     "metadata": {},
     "output_type": "execute_result"
    }
   ],
   "source": [
    "x.shape, y.shape"
   ]
  },
  {
   "cell_type": "code",
   "execution_count": 42,
   "metadata": {
    "scrolled": false
   },
   "outputs": [
    {
     "data": {
      "image/png": "[encoded data removed]",
      "text/plain": [
       "<Figure size 640x480 with 1 Axes>"
      ]
     },
     "metadata": {},
     "output_type": "display_data"
    }
   ],
   "source": [
    "fig, ax = plt.subplots()\n",
    "ax.plot(x, y, label='E(r)')\n",
    "ax.set_title(\"График зависимости ошибки аппроксимации матрицы от ранга r\")\n",
    "ax.set_xlabel(\"r - ранг матрицы\")\n",
    "ax.set_ylabel(\"Ошибка аппроксимации E(r)\")\n",
    "handles, labels = ax.get_legend_handles_labels()\n",
    "ax.legend(handles, labels)\n",
    "plt.show()"
   ]
  },
  {
   "cell_type": "markdown",
   "metadata": {},
   "source": [
    "## 2. Начала математического анализа"
   ]
  },
  {
   "cell_type": "markdown",
   "metadata": {},
   "source": [
    "1. Посчитайте матрицу Гессе следующей функции:\n",
    "$$\n",
    "    f(x) = x_1^3 - 2x_1x_2 + x_2^2 - 3x_1 - 2x_2, x \\in \\mathbb{R}^2\n",
    "$$\n",
    "\n",
    "Найдите критические точки $x_c$, такие что: $\\nabla f(x_c)=0$."
   ]
  },
  {
   "cell_type": "markdown",
   "metadata": {},
   "source": [
    "Найдем градиент $f(x):$\n",
    "\n",
    "$$\n",
    "\\nabla f(x) = \\left( \\frac{\\partial f(x)}{\\partial x_1},\\frac{\\partial f(x)}{\\partial x_2} \\right) = \n",
    "\\left( 3x_1^2-2x_2-3, -2x_1+2x_2-2 \\right)\n",
    "$$\n",
    "\n",
    "Для нахождения критических точек, составим систему из двух уравнений с двумя неизвестными:\n",
    "\n",
    "$$\n",
    "3x_1^2-2x_2-3 = 0\\\\\n",
    "-2x_1+2x_2-2 = 0\n",
    "$$\n",
    "\n",
    "Из второго уравнения находим\n",
    "$\\\\2x_2 = 2x_1 + 2 => x_2 = x_1 + 1$\n",
    "\n",
    "Подставим $x_2$ в первое уравнение и получим:\n",
    "$\\\\ 3x_1^2 - 2x_1 - 5 = 0$\n",
    "\n",
    "Уравнение имеет два корня\n",
    "$\\\\ x_1 = -1, x_1 = 1 \\frac{2}{3}$\n",
    "\n",
    "Отсюда находим $x_2 = x_1 + 1$\n",
    "$\\\\ x_2 = 0, x_2 = 2\\frac{2}{3}$\n",
    "\n",
    "Таким образом, функция имеет две критические точки\n",
    "$\\\\ x_{c1} = (-1,0)$\n",
    "$\\\\ x_{c2} = (1 \\frac{2}{3},2\\frac{2}{3})$\n",
    "\n",
    "Проверим, что значение $\\nabla f(x_c)=0$ в найденных критических точках:"
   ]
  },
  {
   "cell_type": "code",
   "execution_count": 43,
   "metadata": {},
   "outputs": [
    {
     "name": "stdout",
     "output_type": "stream",
     "text": [
      "в точке Xc1 = (-1.00,0.00)\n",
      "dfdx1 = 0.00\n",
      "dfdx2 = 0.00\n",
      "\n",
      "в точке Xc2 = (1.67,2.67)\n",
      "dfdx1 = 0.00\n",
      "dfdx2 = -0.00\n",
      "\n"
     ]
    }
   ],
   "source": [
    "xc = np.array([[-1,0],[5/3, 8/3]])\n",
    "for index, p in enumerate(xc):\n",
    "    print(f\"в точке Xc{index+1} = ({p[0]:.2f},{p[1]:.2f})\")\n",
    "    print(f\"dfdx1 = {3*(p[0]**2) - 2*p[1] -3:.2f}\")\n",
    "    print(f\"dfdx2 = {-2*p[0] + 2*p[1] - 2:.2f}\\n\")"
   ]
  },
  {
   "cell_type": "markdown",
   "metadata": {},
   "source": [
    "Для нахождения матрицы Гессе, возьмем ранее рассчитанные первые частные производные\n",
    "$$\n",
    "\\frac{\\partial f(x)}{\\partial x_1} = 3x_1^2 - 2x_2-3, \\frac{\\partial f(x)}{\\partial x_2} = -2x_1+2x_2-2\n",
    "$$\n",
    "\n",
    "и найдем все элементы матрицы вторых частных производных, в нашем случае, размерности $2x2$\n",
    "\n",
    "$$\n",
    "\\nabla^2 f(x) = \\begin{bmatrix} \n",
    "\\frac{\\partial^2 f(x)}{\\partial x_1^2} & \\frac{\\partial^2 f(x)}{\\partial x_1 \\partial x_2}\\\\\n",
    "\\frac{\\partial^2 f(x)}{\\partial x_2 \\partial x_1} & \\frac{\\partial^2 f(x)}{\\partial x_2^2}\n",
    "\\end{bmatrix}\n",
    "=\n",
    "\\begin{bmatrix} \n",
    "6x_1 & -2\\\\\n",
    "-2 & 2\n",
    "\\end{bmatrix}\n",
    "$$"
   ]
  },
  {
   "cell_type": "markdown",
   "metadata": {},
   "source": [
    "2. Проверьте, что функция $f = \\ln(\\sqrt{x_1} + \\sqrt{x_2})$ удовлетворяет уравнению:\n",
    "\n",
    "$$\n",
    "x_1 \\frac{\\partial f}{\\partial x_1} + x_2 \\frac{\\partial f}{\\partial x_2} = \\frac{1}{2}.\n",
    "$$"
   ]
  },
  {
   "cell_type": "markdown",
   "metadata": {},
   "source": [
    "Найдем частные производные функции $f$, как производные сложной функции $f = ln(u(x_1,x_2))$, где $u = \\sqrt x_1 + \\sqrt x_2$ \n",
    "\n",
    "$$\n",
    "\\frac{\\partial f}{\\partial x_1} = \\frac {1}{u} \\cdot \\frac {\\partial u}{\\partial x_1} = \\frac {1}{(\\sqrt x_1 + \\sqrt x_2)} \\cdot \\frac {1}{2 \\sqrt x_1} = \\frac {1}{2(\\sqrt x_1 + \\sqrt x_2) \\sqrt x_1}\n",
    "$$\n",
    "\n",
    "$$\n",
    "\\frac{\\partial f}{\\partial x_2} = \\frac {1}{u} \\cdot \\frac {\\partial u}{\\partial x_2} = \\frac {1}{(\\sqrt x_1 + \\sqrt x_2)} \\cdot \\frac {1}{2 \\sqrt x_2} = \\frac {1}{2(\\sqrt x_1 + \\sqrt x_2) \\sqrt x_2}\n",
    "$$\n",
    "\n",
    "Подставим найденные частные производные в исходное выражение и приведем к общему знаменателю:\n",
    "$$\n",
    "\\frac {x_1}{2(\\sqrt x_1 + \\sqrt x_2) \\sqrt x_1} + \\frac {x_2}{2(\\sqrt x_1 + \\sqrt x_2) \\sqrt x_2} = \\frac {1}{2} \\cdot \\left( \\frac {x_1 \\sqrt x_2}{(\\sqrt x_1 + \\sqrt x_2 ) \\sqrt x_1 \\sqrt x_2} + \\frac {x_2 \\sqrt x_1}{(\\sqrt x_1 + \\sqrt x_2)\\sqrt x_2 \\sqrt x_1} \\right) = \\frac {1}{2} \\cdot \\frac {x_1 \\sqrt x_2 + x_2 \\sqrt x_1}{(\\sqrt x_1 + \\sqrt x_2)\\sqrt x_1 \\sqrt x_2} = \\frac {1}{2} \\cdot \\frac {x_1 \\sqrt x_2 + x_2 \\sqrt x_1}{x_1 \\sqrt x_2 + x_2 \\sqrt x_1} = \\frac {1}{2}\n",
    "$$"
   ]
  },
  {
   "cell_type": "markdown",
   "metadata": {},
   "source": [
    "3. Предположим, задана функция $f: \\mathbb{R}^3 \\rightarrow \\mathbb{R}^2$\n",
    "\n",
    "$$\n",
    "    f(x,y,z) = (x+y+z, xyz)^\\top\n",
    "$$\n",
    "\n",
    "   Найдите матрицу Якоби функции $f$, и её численное значение в точке $v = (1, 2, 3)$."
   ]
  },
  {
   "cell_type": "markdown",
   "metadata": {},
   "source": [
    "$$\n",
    "\\mathbb{J}_f=\\left[\\begin{array}{ccc}\n",
    "\\dfrac{\\partial \\mathbf{f}(\\mathbf{x})}{\\partial x_{1}} & \\cdots & \\dfrac{\\partial \\mathbf{f}(\\mathbf{x})}{\\partial x_{n}}\n",
    "\\end{array}\\right]=\\left[\\begin{array}{c}\n",
    "\\nabla^{T} f_{1}(\\mathbf{x}) \\\\\n",
    "\\vdots \\\\\n",
    "\\nabla^{T} f_{m}(\\mathbf{x})\n",
    "\\end{array}\\right]=\\left[\\begin{array}{ccc}\n",
    "\\dfrac{\\partial f_{1}(\\mathbf{x})}{\\partial x_{1}} & \\cdots & \\dfrac{\\partial f_{1}(\\mathbf{x})}{\\partial x_{n}} \\\\\n",
    "\\vdots & \\ddots & \\vdots \\\\\n",
    "\\dfrac{\\partial f_{m}(\\mathbf{x})}{\\partial x_{1}} & \\cdots & \\dfrac{\\partial f_{m}(\\mathbf{x})}{\\partial x_{n}}\n",
    "\\end{array}\\right]\n",
    "$$\n",
    "\n",
    "В нашем случае $f_1 = x+y+z; f_2 = xyz$\n",
    "\n",
    "$$\n",
    "\\mathbb{J}_f = \\begin{bmatrix} \n",
    "\\frac {\\partial f_1}{\\partial x} & \\frac{\\partial f_1}{\\partial y} & \\frac{\\partial f_1}{\\partial z}\\\\\n",
    "\\frac{\\partial f_2}{\\partial x} & \\frac{\\partial f_2}{\\partial y} & \\frac{\\partial f_2}{\\partial z}\\\\\n",
    "\\end{bmatrix}\n",
    "=\n",
    "\\begin{bmatrix} \n",
    "1 & 1 & 1\\\\\n",
    "yz & xz & xy\n",
    "\\end{bmatrix}\n",
    "$$\n",
    "\n",
    "Соответственно, значение якобиана в точке $v = (1, 2, 3)$\n",
    "\n",
    "$$\n",
    "\\mathbb{J}_{(1,2,3)} = \\begin{bmatrix} \n",
    "1 & 1 & 1\\\\\n",
    "6 & 3 & 2\n",
    "\\end{bmatrix}\n",
    "$$"
   ]
  },
  {
   "cell_type": "markdown",
   "metadata": {},
   "source": [
    "4. (Куб евклидовой нормы). Найти первый и второй дифференциалы $df(x)$ и $d^2f(x)$, а также градиент $\\nabla f(x)$ и гессиан $\\nabla^2 f(x)$ функции:\n",
    "\n",
    "$$\n",
    "f(x) = \\frac{1}{3}||x||_2^3, x \\in \\mathbb{R}^n\n",
    "$$"
   ]
  },
  {
   "cell_type": "markdown",
   "metadata": {},
   "source": [
    "Представим норму в виде скалярного произведения $f(x) = \\frac {1}{3} <x,x>^{3/2}$ и найдем $df(x)$, как диффренциал сложной функции $\\frac {1}{3}u^{3/2}$\n",
    "\n",
    "$$\n",
    "df(x) = \\frac {1}{3} \\frac {3}{2} u^{1/2} du = \\frac {u^{1/2}du}{2} = \\frac {||x||_2}{2} d<x,x> = \\frac {||x||_2}{2} (<dx,x>+<x,dx>) = \\frac {||x||_2}{2} 2<x,dx> = <||x||_2x,dx>\n",
    "$$\n",
    "\n",
    "$$\n",
    "\\nabla f(x) = ||x||_2x\n",
    "$$\n",
    "\n",
    "Найдем второй дифференциал, как дифференциал от произведения двух функций (нахождение $d(||x||_2)$ приведено в следующем задании)\n",
    "\n",
    "$$\n",
    "d^2f(x) = d<||x||_2, x> = <||x||_2, dx> + <d(||x||_2), x> = <||x||_2, dx> + <x, d(||x||_2)> = <||x||_2, dx> + <x, \\frac {x}{||x||_2}dx> = <||x||_2, dx> + <(\\frac {x}{||x||_2})^{-1}x, dx> = <||x||_2, dx> + <||x||_2, dx> = <2||x||_2,dx>\n",
    "$$\n",
    "\n",
    "\n",
    "$$\n",
    "\\nabla^2 f(x)= 2||x||_2\n",
    "$$\n",
    "\n",
    "В этом месте я завис, поскольку пробовал считать различными способами и в иной нотации (без угловых скобок), получил следующий результат:\n",
    "\n",
    "$$\n",
    "d(||x||_2 \\cdot x) = d(||x||_2)x + ||x||_2dx = \\frac {x}{||x||_2}x + ||x||_2dx = \\frac {x^2}{||x||_2} + ||x||_2 \\hspace{1cm} (dx ->1)\n",
    "$$\n",
    "\n",
    "пока не понял, что второй результат сводится к первому следующими преобразованиями:\n",
    "\n",
    "$$\n",
    "\\frac {x^2}{||x||_2} + ||x||_2 = \\frac {x^2 + ||x||^2_2}{||x||_2} = \\frac {||x||^2_2+||x||^2_2}{||x||_2} = \\frac {2||x||^2_2}{||x||_2} = 2||x||_2\n",
    "$$\n",
    "\n",
    "и тут все сошлось )"
   ]
  },
  {
   "cell_type": "markdown",
   "metadata": {},
   "source": [
    "5. (Евклидова норма). Найдите первый дифференциал $df(x)$ и градиент $\\nabla f(x)$ функции\n",
    "\n",
    "$$\n",
    "f(x) = ||x||_2, x \\in \\mathbb{R}^n\n",
    "$$"
   ]
  },
  {
   "cell_type": "markdown",
   "metadata": {},
   "source": [
    "Представим Евклидову норму в виде скалярного произведения $f(x) = <x,x>^{1/2}$ и найдем $df(x)$, как диффренциал сложной функции $u^{1/2}$\n",
    "\n",
    "$$\n",
    "df(x) = du^{1/2} = \\frac {du}{2u^{1/2}} = \\frac {d<x,x>}{2||x||_2} = \\frac {<dx,x>+<x,dx>}{2||x||_2} = \n",
    "\\frac {2<x,dx>}{2||x||_2} = \\frac {<x,dx>}{||x||_2} = < \\frac {x}{||x||_2}, dx>\n",
    "$$\n",
    "\n",
    "$$\n",
    "\\nabla f(x) = \\frac {x}{||x||_2}\n",
    "$$"
   ]
  },
  {
   "cell_type": "markdown",
   "metadata": {},
   "source": [
    "6. Найдите первый дифференциал $df(x)$ и градиент $\\nabla f(x)$ функции\n",
    "\n",
    "$$\n",
    "f(x) = ||Ax||_2, x \\in \\mathbb{R}^n, A \\in \\mathbb{R}^{mxn}\n",
    "$$"
   ]
  },
  {
   "cell_type": "markdown",
   "metadata": {},
   "source": [
    "Аналогично предыдущей задаче, представим Евклидову норму в виде скалярного произведения $f(x) = <Ax,Ax>^{1/2}$ и найдем $df(x)$, как диффренциал сложной функции\n",
    "\n",
    "$$\n",
    "df(x) = \\frac {d<Ax,Ax>}{2||Ax||_2}\n",
    "$$\n",
    "\n",
    "$$\n",
    "d<Ax,Ax> = <dAx,Ax> + <Ax, dAx> = 2<Ax, Adx> = 2<A^\\top Ax,dx>\n",
    "$$\n",
    "\n",
    "Подставим в предыдущую формулу и получим:\n",
    "\n",
    "$$\n",
    "df(x) = \\frac {2<A^\\top Ax,dx>}{2||Ax||_2} = \\frac {<A^\\top Ax,dx>}{||Ax||_2}\n",
    "$$\n",
    "\n",
    "$$\n",
    "\\nabla f(x) = \\frac {A^\\top Ax}{||Ax||_2}\n",
    "$$"
   ]
  },
  {
   "cell_type": "markdown",
   "metadata": {},
   "source": [
    "7. Найдите первый дифференциал $df(x)$ и градиент $\\nabla f(x)$ функции\n",
    "\n",
    "$$\n",
    "f(x) = -e^{-x^\\top x}, x \\in \\mathbb{R}^n\n",
    "$$"
   ]
  },
  {
   "cell_type": "markdown",
   "metadata": {},
   "source": [
    "Сделаем подстановку $u = -x^\\top x$ => $f(x) = -e^u$\n",
    "\n",
    "Тогда $df(x) = -d(e^u) \\cdot du$  (1)\n",
    "\n",
    "$d(e^u) = e^u = e^{-x^\\top x}$\n",
    "\n",
    "$du = d(-x^\\top x) = (-1)\\cdot d(x^\\top x) = (-1)\\cdot d <x,x> = (-1)\\cdot (<dx,x> + <x,dx>) = (-1)\\cdot (<x,dx> + <x,dx>) = <-2x,dx>$\n",
    "\n",
    "Подставим в исходную формулу дифференциала (1) и получим:\n",
    "\n",
    "$$\n",
    "df(x) = -d(e^u) \\cdot du = \\frac {<2x,dx>}{e^{x^\\top x}}\n",
    "$$\n",
    "\n",
    "$$\n",
    "\\nabla f(x) = \\frac {2x}{e^{x^\\top x}}\n",
    "$$\n"
   ]
  }
 ],
 "metadata": {
  "kernelspec": {
   "display_name": "Python 3 (ipykernel)",
   "language": "python",
   "name": "python3"
  },
  "language_info": {
   "codemirror_mode": {
    "name": "ipython",
    "version": 3
   },
   "file_extension": ".py",
   "mimetype": "text/x-python",
   "name": "python",
   "nbconvert_exporter": "python",
   "pygments_lexer": "ipython3",
   "version": "3.11.4"
  }
 },
 "nbformat": 4,
 "nbformat_minor": 2
}
